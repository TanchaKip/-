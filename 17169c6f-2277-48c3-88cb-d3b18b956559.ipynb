{
 "cells": [
  {
   "cell_type": "markdown",
   "metadata": {},
   "source": [
    "<div style=\"padding: 30px 25px; border: 2px #6495ed solid\">\n",
    "    \n",
    "<b>Привет, Татьяна!</b>\n",
    "\n",
    "Меня зовут Алексей Косенко, и я буду проверять твой проект. Прошу прощения за долгое ожидание\n",
    "    \n",
    "Предлагаю общаться на «<b>ты</b>», но если это неудобно — обязательно сообщи об этом.\n",
    "    \n",
    "Ниже ты увидишь мои комментарии, выделенные разным цветом:\n",
    "    \n",
    "<div class=\"alert alert-success\">\n",
    "<h2>Комментарий ревьюера<a class=\"tocSkip\"></a></h2>\n",
    "\n",
    "<b>Отлично!</b> ✔️: все ок, продолжай в том же духе :)\n",
    "\n",
    "</div>\n",
    "<div class=\"alert alert-warning\">\n",
    "<h2>Комментарий ревьюера<a class=\"tocSkip\"></a></h2>\n",
    "    \n",
    "<b>Есть совет</b> ⚠️: так выделены некритичные замечания или советы, которые смогут улучшить твой проект.\n",
    "\n",
    "</div>\n",
    "<div class=\"alert alert-danger\">\n",
    "<h2>Комментарий ревьюера<a class=\"tocSkip\"></a></h2>\n",
    "\n",
    "<b>Нужно доработать</b> ❌: так выделены важные замечания — без их исправления проект не может быть принят.\n",
    "    \n",
    "</div>\n",
    "\n",
    "Будет здорово, если ты будешь участвовать в диалоге, а свои вопросы, комментарии и изменения в проекте тоже будешь выделять, например, вот так:\n",
    "    \n",
    "<div class=\"alert alert-info\">\n",
    "    <b>Комментарий студента:</b> твой комментарий\n",
    "</div>\n",
    "    \n",
    "Пожалуйста, не перемещай и не удаляй мои комментарии, это усложнит повторную проверку.\n",
    "    \n",
    "</div>"
   ]
  },
  {
   "cell_type": "markdown",
   "metadata": {},
   "source": [
    "<div class=\"alert alert-info\">\n",
    "    <b>Комментарий студента:</b> Алексей спасибо за проделанную работу! Постаралась учесть все замечания. Это самый сложный для меня проект из всех, что были.<br>\n",
    "    И есть вопросик. Нигде в интернете не нашла на него ответ. Может ты подскажешь. Суть такая: как можно в ячейку Makrdown внести какую-то часть кода, чтобы она автоматом обновлялась. Это очень удобно при бесконечных правках. Чтобы быть уверенным, что в текстовом описании авотматически обновятся нужные переменные.<br>\n",
    "   Например:\n",
    "   ячейка Makrdown: \"Прибыль стала: и тут идет переменная - часть кода \"\n",
    "    \n",
    "</div>"
   ]
  },
  {
   "cell_type": "markdown",
   "metadata": {},
   "source": [
    "<div style=\"padding: 30px 25px; border: 2px #6495ed solid\">\n",
    "    \n",
    "<b>Еще раз привет!</b>\n",
    "\n",
    "Спасибо, что доделала работу, оформление комментариев остается тем же, только обозначим номер итерации: v2\n",
    "    \n",
    "По поводу переменных в Markdown: я не встречал способа, как можно использовать переменные именно в ячейке Markdown, но для некоторых выводов можно попробовать использовать метод Markdown из модуля IPython, как в примере ниже\n",
    "    \n",
    "</div>"
   ]
  },
  {
   "cell_type": "code",
   "execution_count": 1,
   "metadata": {},
   "outputs": [
    {
     "data": {
      "text/markdown": [
       "Прибыль стала 0 р."
      ],
      "text/plain": [
       "<IPython.core.display.Markdown object>"
      ]
     },
     "execution_count": 1,
     "metadata": {},
     "output_type": "execute_result"
    }
   ],
   "source": [
    "#код ревьюера\n",
    "\n",
    "from IPython.display import Markdown as md\n",
    "\n",
    "profit = 0\n",
    "\n",
    "md(\"Прибыль стала {} р.\".format(profit))"
   ]
  },
  {
   "cell_type": "markdown",
   "metadata": {},
   "source": [
    "<div class=\"alert alert-info\">\n",
    "    <b>Комментарий студента:</b> Алексей привет! Просмотрела твои комментарии второй версии. Постараюсь все исправить.<br>\n",
    "    Но, если честно, я уже запуталась напрочь!  <br>\n",
    "    Помоги и подскажи в этих моментах: <br>\n",
    "    \"выбор основной метрики обязательно нужно аргументировать, исходя из бизнес-задачи, это очень важная часть проекта. Если ты считаешь, что именно F1 позволит минимизировать убытки, то нужно это пояснить.\" Возможно, я что-то очевидное упустила. Но везде, где я смотрела или читала смотрять f-меру, полноту, точность и пр. Какой параметр надо учитывать в этой задаче? <br>\n",
    "    и еще: <br>\n",
    "    \"окей, взвешивание классов нам действительно может помочь, так как в датасете есть небольшой дисбаланс, но, к сожалению, не увидел подбора хотя бы 2 разных гиперпараметров для каждой модели, нужно поправить\" <br>\n",
    "    Тут я вообще заглохла. Даже не представляю в каком направлении идти. У нас в слаке все только и обсуждают только результаты метрик :) А в самой теории (может просмотрела) особых комментариев про дополнительные гиперпараметры нет. <br>\n",
    "    Подскажи, пожалуйста!!!   \n",
    "    \n",
    "</div>"
   ]
  },
  {
   "cell_type": "markdown",
   "metadata": {},
   "source": [
    "<div style=\"padding: 30px 25px; border: 2px #6495ed solid\">\n",
    "    \n",
    "<b>И снова здравствуй!</b>\n",
    "\n",
    "Все правила оформления те же, обозначим номер итерации: v3\n",
    "    \n",
    "Ничего страшного, сейчас попробуем разобраться :) На вопросы ответил в проекте ниже\n",
    "    \n",
    "</div>"
   ]
  },
  {
   "cell_type": "markdown",
   "metadata": {},
   "source": [
    "<div style=\"padding: 30px 25px; border: 2px #6495ed solid\">\n",
    "    \n",
    "<b>Давно не виделись :)</b>\n",
    "\n",
    "Давай посмотрим, как прогресс, номер итерации: v4\n",
    "    \n",
    "</div>"
   ]
  },
  {
   "cell_type": "markdown",
   "metadata": {},
   "source": [
    "<div class=\"alert alert-info\">\n",
    "    <b>Комментарий студента V4:</b> Алексей и снова привет :)   \n",
    "</div>"
   ]
  },
  {
   "cell_type": "markdown",
   "metadata": {
    "cell_style": "center"
   },
   "source": [
    "# Прогнозирование оттока клиентов в сети отелей «Как в гостях»"
   ]
  },
  {
   "cell_type": "markdown",
   "metadata": {},
   "source": [
    "# Описание проекта"
   ]
  },
  {
   "cell_type": "markdown",
   "metadata": {},
   "source": [
    "Заказчик этого исследования — сеть отелей «Как в гостях».<br>\n",
    "Чтобы привлечь клиентов, эта сеть отелей добавила на свой сайт возможность забронировать номер без предоплаты.<br> \n",
    "Основная бизнес-метрика: прибыль отеля. Это разница между стоимостью номера за все ночи и затраты на обслуживание: как при подготовке номера, так и при проживании постояльца.<br>"
   ]
  },
  {
   "cell_type": "markdown",
   "metadata": {
    "cell_style": "center"
   },
   "source": [
    "В отеле есть несколько типов номеров. В зависимости от типа номера назначается стоимость за одну ночь. Есть также затраты на уборку. Если клиент снял номер надолго, то убираются каждые два дня.<br>\n",
    "Стоимость номеров отеля:<br>\n",
    "- категория A: за ночь — 1 000, разовое обслуживание — 400;<br>\n",
    "- категория B: за ночь — 800, разовое обслуживание — 350;<br>\n",
    "- категория C: за ночь — 600, разовое обслуживание — 350;<br>\n",
    "- категория D: за ночь — 550, разовое обслуживание — 150;<br>\n",
    "- категория E: за ночь — 500, разовое обслуживание — 150;<br>\n",
    "- категория F: за ночь — 450, разовое обслуживание — 150;<br>\n",
    "- категория G: за ночь — 350, разовое обслуживание — 150.<br>"
   ]
  },
  {
   "cell_type": "markdown",
   "metadata": {},
   "source": [
    "В ценовой политике отеля используются сезонные коэффициенты: весной и осенью цены повышаются на 20%, летом — на 40%.<br>\n",
    "Убытки отеля в случае отмены брони номера — это стоимость одной уборки и одной ночи с учётом сезонного коэффициента.<br>\n",
    "На разработку системы прогнозирования заложен бюджет — 400 000. <br>\n",
    "При этом необходимо учесть, что внедрение модели должно окупиться за тестовый период.<br>\n",
    "Затраты на разработку должны быть меньше той выручки, которую система принесёт компании.<br>"
   ]
  },
  {
   "cell_type": "markdown",
   "metadata": {},
   "source": [
    "# Описание данных"
   ]
  },
  {
   "cell_type": "markdown",
   "metadata": {},
   "source": [
    "В таблицах hotel_train и hotel_test содержатся одинаковые столбцы:<br>\n",
    "* id — номер записи;<br>\n",
    "* adults — количество взрослых постояльцев;<br>\n",
    "* arrival_date_year — год заезда;<br>\n",
    "* arrival_date_month — месяц заезда;<br>\n",
    "* arrival_date_week_number — неделя заезда;<br>\n",
    "* arrival_date_day_of_month — день заезда;<br>\n",
    "* babies — количество младенцев;<br>\n",
    "* booking_changes — количество изменений параметров заказа;<br>\n",
    "* children — количество детей от 3 до 14 лет;<br>\n",
    "* country — гражданство постояльца;<br>\n",
    "* customer_type — тип заказчика:<br>\n",
    "    *\tContract — договор с юридическим лицом;<br>\n",
    "    *\tGroup — групповой заезд;<br>\n",
    "    *\tTransient — не связано с договором или групповым заездом;<br>\n",
    "    *\tTransient-party — не связано с договором или групповым заездом, но связано с бронированием типа Transient.<br>\n",
    "* days_in_waiting_list — сколько дней заказ ожидал подтверждения;<br>\n",
    "* distribution_channel — канал дистрибуции заказа;<br>\n",
    "* is_canceled — отмена заказа;<br>\n",
    "* is_repeated_guest — признак того, что гость бронирует номер второй раз;<br>\n",
    "* lead_time — количество дней между датой бронирования и датой прибытия;<br>\n",
    "* meal — опции заказа:<br>\n",
    "    * SC — нет дополнительных опций;<br>\n",
    "    * BB — включён завтрак;<br>\n",
    "    * HB — включён завтрак и обед;<br>\n",
    "    * FB — включён завтрак, обед и ужин.<br>\n",
    "* previous_bookings_not_canceled — количество подтверждённых заказов у клиента;<br>\n",
    "* previous_cancellations — количество отменённых заказов у клиента;<br>\n",
    "* required_car_parking_spaces — необходимость места для автомобиля;<br>\n",
    "* reserved_room_type — тип забронированной комнаты;<br>\n",
    "* stays_in_weekend_nights — количество ночей в выходные дни;<br>\n",
    "* stays_in_week_nights — количество ночей в будние дни;<br>\n",
    "* total_nights — общее количество ночей;<br>\n",
    "* total_of_special_requests — количество специальных отметок.<br>"
   ]
  },
  {
   "cell_type": "markdown",
   "metadata": {},
   "source": [
    "### Шаг 1. Откройте файлы с данными"
   ]
  },
  {
   "cell_type": "code",
   "execution_count": 2,
   "metadata": {
    "code_folding": []
   },
   "outputs": [],
   "source": [
    "# импорт библиотек \n",
    "import pandas as pd\n",
    "import numpy as np\n",
    "import math\n",
    "\n",
    "import matplotlib.pyplot as plt # графики\n",
    "import seaborn as sns\n",
    "from pandas.plotting import scatter_matrix\n",
    "\n",
    "from sklearn.model_selection import train_test_split # деление выборки\n",
    "\n",
    "from sklearn.preprocessing import OneHotEncoder # преобразование категориальных признаков в численные\n",
    "from sklearn.preprocessing import OrdinalEncoder # кодирование цифрами выраженные в тексте категории \n",
    "\n",
    "from sklearn.linear_model import LogisticRegression # модель логистической регрессии\n",
    "from sklearn.tree import DecisionTreeClassifier # модель дерева решений\n",
    "from sklearn.ensemble import RandomForestClassifier # модель случайный лес\n",
    "\n",
    "from sklearn.metrics import f1_score # F-1 мера\n",
    "from sklearn.metrics import roc_auc_score, roc_curve # AUC-ROC, ROC-кривая\n",
    "from sklearn.metrics import accuracy_score # метика accuracy\n",
    "from sklearn.metrics import recall_score # полнота\n",
    "from sklearn.metrics import precision_score # точность\n",
    "\n",
    "from sklearn.utils import shuffle # перемешиваем\n",
    "from sklearn.dummy import DummyClassifier #дамми-ловушка\n",
    "\n",
    "#from sklearn.metrics import mean_squared_error #среднеквадратичная ошибка (RSME)\n",
    "#from sklearn.metrics import mean_absolute_error # средняя абсолютная ошибка (MAE)\n",
    "\n",
    "from sklearn.model_selection import cross_val_score # кроссвалидация\n",
    "\n",
    "\n",
    "from numpy.random import RandomState\n",
    "import os\n",
    "  "
   ]
  },
  {
   "cell_type": "code",
   "execution_count": 3,
   "metadata": {
    "code_folding": []
   },
   "outputs": [
    {
     "name": "stdout",
     "output_type": "stream",
     "text": [
      "Number of CPUs in the system: 4\n"
     ]
    }
   ],
   "source": [
    "n_cpu = os.cpu_count()\n",
    "print(\"Number of CPUs in the system:\", n_cpu)"
   ]
  },
  {
   "cell_type": "markdown",
   "metadata": {},
   "source": [
    "Считываем данные:"
   ]
  },
  {
   "cell_type": "code",
   "execution_count": 4,
   "metadata": {
    "code_folding": []
   },
   "outputs": [],
   "source": [
    "try:\n",
    "    df_train = pd.read_csv(r'C:\\Users\\tanch\\Desktop\\data science\\проекты\\Сборный проект 2\\hotel_train.csv', sep=',')\n",
    "    df_test = pd.read_csv(r'C:\\\\Users\\tanch\\Desktop\\data science\\проекты\\Сборный проект 2\\hotel_test.csv', sep=',')\n",
    "except:\n",
    "    df_train = pd.read_csv('/datasets/hotel_train.csv', sep=',') \n",
    "    df_test = pd.read_csv('/datasets/hotel_test.csv', sep=',')"
   ]
  },
  {
   "cell_type": "markdown",
   "metadata": {},
   "source": [
    "Проверим первые пять строк:"
   ]
  },
  {
   "cell_type": "code",
   "execution_count": 5,
   "metadata": {},
   "outputs": [
    {
     "data": {
      "text/html": [
       "<div>\n",
       "<style scoped>\n",
       "    .dataframe tbody tr th:only-of-type {\n",
       "        vertical-align: middle;\n",
       "    }\n",
       "\n",
       "    .dataframe tbody tr th {\n",
       "        vertical-align: top;\n",
       "    }\n",
       "\n",
       "    .dataframe thead th {\n",
       "        text-align: right;\n",
       "    }\n",
       "</style>\n",
       "<table border=\"1\" class=\"dataframe\">\n",
       "  <thead>\n",
       "    <tr style=\"text-align: right;\">\n",
       "      <th></th>\n",
       "      <th>id</th>\n",
       "      <th>is_canceled</th>\n",
       "      <th>lead_time</th>\n",
       "      <th>arrival_date_year</th>\n",
       "      <th>arrival_date_month</th>\n",
       "      <th>arrival_date_week_number</th>\n",
       "      <th>arrival_date_day_of_month</th>\n",
       "      <th>stays_in_weekend_nights</th>\n",
       "      <th>stays_in_week_nights</th>\n",
       "      <th>adults</th>\n",
       "      <th>...</th>\n",
       "      <th>is_repeated_guest</th>\n",
       "      <th>previous_cancellations</th>\n",
       "      <th>previous_bookings_not_canceled</th>\n",
       "      <th>reserved_room_type</th>\n",
       "      <th>booking_changes</th>\n",
       "      <th>days_in_waiting_list</th>\n",
       "      <th>customer_type</th>\n",
       "      <th>required_car_parking_spaces</th>\n",
       "      <th>total_of_special_requests</th>\n",
       "      <th>total_nights</th>\n",
       "    </tr>\n",
       "  </thead>\n",
       "  <tbody>\n",
       "    <tr>\n",
       "      <th>0</th>\n",
       "      <td>0</td>\n",
       "      <td>0</td>\n",
       "      <td>7.0</td>\n",
       "      <td>2015</td>\n",
       "      <td>July</td>\n",
       "      <td>27</td>\n",
       "      <td>1</td>\n",
       "      <td>0</td>\n",
       "      <td>1</td>\n",
       "      <td>1.0</td>\n",
       "      <td>...</td>\n",
       "      <td>0</td>\n",
       "      <td>0</td>\n",
       "      <td>0</td>\n",
       "      <td>A</td>\n",
       "      <td>0</td>\n",
       "      <td>0</td>\n",
       "      <td>Transient</td>\n",
       "      <td>0</td>\n",
       "      <td>0</td>\n",
       "      <td>1</td>\n",
       "    </tr>\n",
       "    <tr>\n",
       "      <th>1</th>\n",
       "      <td>1</td>\n",
       "      <td>0</td>\n",
       "      <td>14.0</td>\n",
       "      <td>2015</td>\n",
       "      <td>July</td>\n",
       "      <td>27</td>\n",
       "      <td>1</td>\n",
       "      <td>0</td>\n",
       "      <td>2</td>\n",
       "      <td>2.0</td>\n",
       "      <td>...</td>\n",
       "      <td>0</td>\n",
       "      <td>0</td>\n",
       "      <td>0</td>\n",
       "      <td>A</td>\n",
       "      <td>0</td>\n",
       "      <td>0</td>\n",
       "      <td>Transient</td>\n",
       "      <td>0</td>\n",
       "      <td>1</td>\n",
       "      <td>2</td>\n",
       "    </tr>\n",
       "    <tr>\n",
       "      <th>2</th>\n",
       "      <td>2</td>\n",
       "      <td>0</td>\n",
       "      <td>0.0</td>\n",
       "      <td>2015</td>\n",
       "      <td>July</td>\n",
       "      <td>27</td>\n",
       "      <td>1</td>\n",
       "      <td>0</td>\n",
       "      <td>2</td>\n",
       "      <td>2.0</td>\n",
       "      <td>...</td>\n",
       "      <td>0</td>\n",
       "      <td>0</td>\n",
       "      <td>0</td>\n",
       "      <td>C</td>\n",
       "      <td>0</td>\n",
       "      <td>0</td>\n",
       "      <td>Transient</td>\n",
       "      <td>0</td>\n",
       "      <td>0</td>\n",
       "      <td>2</td>\n",
       "    </tr>\n",
       "    <tr>\n",
       "      <th>3</th>\n",
       "      <td>3</td>\n",
       "      <td>0</td>\n",
       "      <td>9.0</td>\n",
       "      <td>2015</td>\n",
       "      <td>July</td>\n",
       "      <td>27</td>\n",
       "      <td>1</td>\n",
       "      <td>0</td>\n",
       "      <td>2</td>\n",
       "      <td>2.0</td>\n",
       "      <td>...</td>\n",
       "      <td>0</td>\n",
       "      <td>0</td>\n",
       "      <td>0</td>\n",
       "      <td>C</td>\n",
       "      <td>0</td>\n",
       "      <td>0</td>\n",
       "      <td>Transient</td>\n",
       "      <td>0</td>\n",
       "      <td>1</td>\n",
       "      <td>2</td>\n",
       "    </tr>\n",
       "    <tr>\n",
       "      <th>4</th>\n",
       "      <td>4</td>\n",
       "      <td>1</td>\n",
       "      <td>85.0</td>\n",
       "      <td>2015</td>\n",
       "      <td>July</td>\n",
       "      <td>27</td>\n",
       "      <td>1</td>\n",
       "      <td>0</td>\n",
       "      <td>3</td>\n",
       "      <td>2.0</td>\n",
       "      <td>...</td>\n",
       "      <td>0</td>\n",
       "      <td>0</td>\n",
       "      <td>0</td>\n",
       "      <td>A</td>\n",
       "      <td>0</td>\n",
       "      <td>0</td>\n",
       "      <td>Transient</td>\n",
       "      <td>0</td>\n",
       "      <td>1</td>\n",
       "      <td>3</td>\n",
       "    </tr>\n",
       "  </tbody>\n",
       "</table>\n",
       "<p>5 rows × 25 columns</p>\n",
       "</div>"
      ],
      "text/plain": [
       "   id  is_canceled  lead_time  arrival_date_year arrival_date_month  \\\n",
       "0   0            0        7.0               2015               July   \n",
       "1   1            0       14.0               2015               July   \n",
       "2   2            0        0.0               2015               July   \n",
       "3   3            0        9.0               2015               July   \n",
       "4   4            1       85.0               2015               July   \n",
       "\n",
       "   arrival_date_week_number  arrival_date_day_of_month  \\\n",
       "0                        27                          1   \n",
       "1                        27                          1   \n",
       "2                        27                          1   \n",
       "3                        27                          1   \n",
       "4                        27                          1   \n",
       "\n",
       "   stays_in_weekend_nights  stays_in_week_nights  adults  ...  \\\n",
       "0                        0                     1     1.0  ...   \n",
       "1                        0                     2     2.0  ...   \n",
       "2                        0                     2     2.0  ...   \n",
       "3                        0                     2     2.0  ...   \n",
       "4                        0                     3     2.0  ...   \n",
       "\n",
       "   is_repeated_guest  previous_cancellations previous_bookings_not_canceled  \\\n",
       "0                  0                       0                              0   \n",
       "1                  0                       0                              0   \n",
       "2                  0                       0                              0   \n",
       "3                  0                       0                              0   \n",
       "4                  0                       0                              0   \n",
       "\n",
       "  reserved_room_type booking_changes  days_in_waiting_list  customer_type  \\\n",
       "0   A                              0                     0      Transient   \n",
       "1   A                              0                     0      Transient   \n",
       "2   C                              0                     0      Transient   \n",
       "3   C                              0                     0      Transient   \n",
       "4   A                              0                     0      Transient   \n",
       "\n",
       "   required_car_parking_spaces total_of_special_requests  total_nights  \n",
       "0                            0                         0             1  \n",
       "1                            0                         1             2  \n",
       "2                            0                         0             2  \n",
       "3                            0                         1             2  \n",
       "4                            0                         1             3  \n",
       "\n",
       "[5 rows x 25 columns]"
      ]
     },
     "metadata": {},
     "output_type": "display_data"
    }
   ],
   "source": [
    "display(df_train.head())"
   ]
  },
  {
   "cell_type": "code",
   "execution_count": 6,
   "metadata": {
    "cell_style": "center"
   },
   "outputs": [
    {
     "data": {
      "text/html": [
       "<div>\n",
       "<style scoped>\n",
       "    .dataframe tbody tr th:only-of-type {\n",
       "        vertical-align: middle;\n",
       "    }\n",
       "\n",
       "    .dataframe tbody tr th {\n",
       "        vertical-align: top;\n",
       "    }\n",
       "\n",
       "    .dataframe thead th {\n",
       "        text-align: right;\n",
       "    }\n",
       "</style>\n",
       "<table border=\"1\" class=\"dataframe\">\n",
       "  <thead>\n",
       "    <tr style=\"text-align: right;\">\n",
       "      <th></th>\n",
       "      <th>id</th>\n",
       "      <th>is_canceled</th>\n",
       "      <th>lead_time</th>\n",
       "      <th>arrival_date_year</th>\n",
       "      <th>arrival_date_month</th>\n",
       "      <th>arrival_date_week_number</th>\n",
       "      <th>arrival_date_day_of_month</th>\n",
       "      <th>stays_in_weekend_nights</th>\n",
       "      <th>stays_in_week_nights</th>\n",
       "      <th>adults</th>\n",
       "      <th>...</th>\n",
       "      <th>is_repeated_guest</th>\n",
       "      <th>previous_cancellations</th>\n",
       "      <th>previous_bookings_not_canceled</th>\n",
       "      <th>reserved_room_type</th>\n",
       "      <th>booking_changes</th>\n",
       "      <th>days_in_waiting_list</th>\n",
       "      <th>customer_type</th>\n",
       "      <th>required_car_parking_spaces</th>\n",
       "      <th>total_of_special_requests</th>\n",
       "      <th>total_nights</th>\n",
       "    </tr>\n",
       "  </thead>\n",
       "  <tbody>\n",
       "    <tr>\n",
       "      <th>0</th>\n",
       "      <td>6086</td>\n",
       "      <td>1</td>\n",
       "      <td>74.0</td>\n",
       "      <td>2017</td>\n",
       "      <td>January</td>\n",
       "      <td>1</td>\n",
       "      <td>1</td>\n",
       "      <td>1</td>\n",
       "      <td>0</td>\n",
       "      <td>2.0</td>\n",
       "      <td>...</td>\n",
       "      <td>0</td>\n",
       "      <td>0</td>\n",
       "      <td>0</td>\n",
       "      <td>A</td>\n",
       "      <td>0</td>\n",
       "      <td>0</td>\n",
       "      <td>Transient</td>\n",
       "      <td>0</td>\n",
       "      <td>0</td>\n",
       "      <td>1</td>\n",
       "    </tr>\n",
       "    <tr>\n",
       "      <th>1</th>\n",
       "      <td>6087</td>\n",
       "      <td>1</td>\n",
       "      <td>62.0</td>\n",
       "      <td>2017</td>\n",
       "      <td>January</td>\n",
       "      <td>1</td>\n",
       "      <td>1</td>\n",
       "      <td>2</td>\n",
       "      <td>2</td>\n",
       "      <td>2.0</td>\n",
       "      <td>...</td>\n",
       "      <td>0</td>\n",
       "      <td>0</td>\n",
       "      <td>0</td>\n",
       "      <td>A</td>\n",
       "      <td>0</td>\n",
       "      <td>0</td>\n",
       "      <td>Transient</td>\n",
       "      <td>0</td>\n",
       "      <td>1</td>\n",
       "      <td>4</td>\n",
       "    </tr>\n",
       "    <tr>\n",
       "      <th>2</th>\n",
       "      <td>6088</td>\n",
       "      <td>1</td>\n",
       "      <td>62.0</td>\n",
       "      <td>2017</td>\n",
       "      <td>January</td>\n",
       "      <td>1</td>\n",
       "      <td>1</td>\n",
       "      <td>2</td>\n",
       "      <td>2</td>\n",
       "      <td>2.0</td>\n",
       "      <td>...</td>\n",
       "      <td>0</td>\n",
       "      <td>0</td>\n",
       "      <td>0</td>\n",
       "      <td>A</td>\n",
       "      <td>0</td>\n",
       "      <td>0</td>\n",
       "      <td>Transient</td>\n",
       "      <td>0</td>\n",
       "      <td>1</td>\n",
       "      <td>4</td>\n",
       "    </tr>\n",
       "    <tr>\n",
       "      <th>3</th>\n",
       "      <td>6089</td>\n",
       "      <td>1</td>\n",
       "      <td>71.0</td>\n",
       "      <td>2017</td>\n",
       "      <td>January</td>\n",
       "      <td>1</td>\n",
       "      <td>1</td>\n",
       "      <td>2</td>\n",
       "      <td>2</td>\n",
       "      <td>1.0</td>\n",
       "      <td>...</td>\n",
       "      <td>0</td>\n",
       "      <td>0</td>\n",
       "      <td>0</td>\n",
       "      <td>A</td>\n",
       "      <td>0</td>\n",
       "      <td>0</td>\n",
       "      <td>Transient</td>\n",
       "      <td>0</td>\n",
       "      <td>1</td>\n",
       "      <td>4</td>\n",
       "    </tr>\n",
       "    <tr>\n",
       "      <th>4</th>\n",
       "      <td>6090</td>\n",
       "      <td>1</td>\n",
       "      <td>172.0</td>\n",
       "      <td>2017</td>\n",
       "      <td>January</td>\n",
       "      <td>1</td>\n",
       "      <td>1</td>\n",
       "      <td>2</td>\n",
       "      <td>5</td>\n",
       "      <td>2.0</td>\n",
       "      <td>...</td>\n",
       "      <td>0</td>\n",
       "      <td>0</td>\n",
       "      <td>0</td>\n",
       "      <td>A</td>\n",
       "      <td>0</td>\n",
       "      <td>0</td>\n",
       "      <td>Transient</td>\n",
       "      <td>0</td>\n",
       "      <td>0</td>\n",
       "      <td>7</td>\n",
       "    </tr>\n",
       "  </tbody>\n",
       "</table>\n",
       "<p>5 rows × 25 columns</p>\n",
       "</div>"
      ],
      "text/plain": [
       "     id  is_canceled  lead_time  arrival_date_year arrival_date_month  \\\n",
       "0  6086            1       74.0               2017            January   \n",
       "1  6087            1       62.0               2017            January   \n",
       "2  6088            1       62.0               2017            January   \n",
       "3  6089            1       71.0               2017            January   \n",
       "4  6090            1      172.0               2017            January   \n",
       "\n",
       "   arrival_date_week_number  arrival_date_day_of_month  \\\n",
       "0                         1                          1   \n",
       "1                         1                          1   \n",
       "2                         1                          1   \n",
       "3                         1                          1   \n",
       "4                         1                          1   \n",
       "\n",
       "   stays_in_weekend_nights  stays_in_week_nights  adults  ...  \\\n",
       "0                        1                     0     2.0  ...   \n",
       "1                        2                     2     2.0  ...   \n",
       "2                        2                     2     2.0  ...   \n",
       "3                        2                     2     1.0  ...   \n",
       "4                        2                     5     2.0  ...   \n",
       "\n",
       "   is_repeated_guest  previous_cancellations previous_bookings_not_canceled  \\\n",
       "0                  0                       0                              0   \n",
       "1                  0                       0                              0   \n",
       "2                  0                       0                              0   \n",
       "3                  0                       0                              0   \n",
       "4                  0                       0                              0   \n",
       "\n",
       "  reserved_room_type booking_changes  days_in_waiting_list  customer_type  \\\n",
       "0   A                              0                     0      Transient   \n",
       "1   A                              0                     0      Transient   \n",
       "2   A                              0                     0      Transient   \n",
       "3   A                              0                     0      Transient   \n",
       "4   A                              0                     0      Transient   \n",
       "\n",
       "   required_car_parking_spaces total_of_special_requests  total_nights  \n",
       "0                            0                         0             1  \n",
       "1                            0                         1             4  \n",
       "2                            0                         1             4  \n",
       "3                            0                         1             4  \n",
       "4                            0                         0             7  \n",
       "\n",
       "[5 rows x 25 columns]"
      ]
     },
     "metadata": {},
     "output_type": "display_data"
    }
   ],
   "source": [
    "display(df_test.head())"
   ]
  },
  {
   "cell_type": "markdown",
   "metadata": {},
   "source": [
    "Общая информация о данных:"
   ]
  },
  {
   "cell_type": "code",
   "execution_count": 7,
   "metadata": {
    "cell_style": "center"
   },
   "outputs": [
    {
     "name": "stdout",
     "output_type": "stream",
     "text": [
      "<class 'pandas.core.frame.DataFrame'>\n",
      "RangeIndex: 65229 entries, 0 to 65228\n",
      "Data columns (total 25 columns):\n",
      " #   Column                          Non-Null Count  Dtype  \n",
      "---  ------                          --------------  -----  \n",
      " 0   id                              65229 non-null  int64  \n",
      " 1   is_canceled                     65229 non-null  int64  \n",
      " 2   lead_time                       65229 non-null  float64\n",
      " 3   arrival_date_year               65229 non-null  int64  \n",
      " 4   arrival_date_month              65229 non-null  object \n",
      " 5   arrival_date_week_number        65229 non-null  int64  \n",
      " 6   arrival_date_day_of_month       65229 non-null  int64  \n",
      " 7   stays_in_weekend_nights         65229 non-null  int64  \n",
      " 8   stays_in_week_nights            65229 non-null  int64  \n",
      " 9   adults                          65229 non-null  float64\n",
      " 10  children                        65229 non-null  float64\n",
      " 11  babies                          65229 non-null  float64\n",
      " 12  meal                            65229 non-null  object \n",
      " 13  country                         65229 non-null  object \n",
      " 14  distribution_channel            65229 non-null  object \n",
      " 15  is_repeated_guest               65229 non-null  int64  \n",
      " 16  previous_cancellations          65229 non-null  int64  \n",
      " 17  previous_bookings_not_canceled  65229 non-null  int64  \n",
      " 18  reserved_room_type              65229 non-null  object \n",
      " 19  booking_changes                 65229 non-null  int64  \n",
      " 20  days_in_waiting_list            65229 non-null  int64  \n",
      " 21  customer_type                   65229 non-null  object \n",
      " 22  required_car_parking_spaces     65229 non-null  int64  \n",
      " 23  total_of_special_requests       65229 non-null  int64  \n",
      " 24  total_nights                    65229 non-null  int64  \n",
      "dtypes: float64(4), int64(15), object(6)\n",
      "memory usage: 12.4+ MB\n"
     ]
    }
   ],
   "source": [
    "df_train.info()"
   ]
  },
  {
   "cell_type": "code",
   "execution_count": 8,
   "metadata": {
    "cell_style": "center"
   },
   "outputs": [
    {
     "name": "stdout",
     "output_type": "stream",
     "text": [
      "<class 'pandas.core.frame.DataFrame'>\n",
      "RangeIndex: 32412 entries, 0 to 32411\n",
      "Data columns (total 25 columns):\n",
      " #   Column                          Non-Null Count  Dtype  \n",
      "---  ------                          --------------  -----  \n",
      " 0   id                              32412 non-null  int64  \n",
      " 1   is_canceled                     32412 non-null  int64  \n",
      " 2   lead_time                       32412 non-null  float64\n",
      " 3   arrival_date_year               32412 non-null  int64  \n",
      " 4   arrival_date_month              32412 non-null  object \n",
      " 5   arrival_date_week_number        32412 non-null  int64  \n",
      " 6   arrival_date_day_of_month       32412 non-null  int64  \n",
      " 7   stays_in_weekend_nights         32412 non-null  int64  \n",
      " 8   stays_in_week_nights            32412 non-null  int64  \n",
      " 9   adults                          32412 non-null  float64\n",
      " 10  children                        32412 non-null  float64\n",
      " 11  babies                          32412 non-null  float64\n",
      " 12  meal                            32412 non-null  object \n",
      " 13  country                         32412 non-null  object \n",
      " 14  distribution_channel            32412 non-null  object \n",
      " 15  is_repeated_guest               32412 non-null  int64  \n",
      " 16  previous_cancellations          32412 non-null  int64  \n",
      " 17  previous_bookings_not_canceled  32412 non-null  int64  \n",
      " 18  reserved_room_type              32412 non-null  object \n",
      " 19  booking_changes                 32412 non-null  int64  \n",
      " 20  days_in_waiting_list            32412 non-null  int64  \n",
      " 21  customer_type                   32412 non-null  object \n",
      " 22  required_car_parking_spaces     32412 non-null  int64  \n",
      " 23  total_of_special_requests       32412 non-null  int64  \n",
      " 24  total_nights                    32412 non-null  int64  \n",
      "dtypes: float64(4), int64(15), object(6)\n",
      "memory usage: 6.2+ MB\n"
     ]
    }
   ],
   "source": [
    "df_test.info()"
   ]
  },
  {
   "cell_type": "markdown",
   "metadata": {},
   "source": [
    "Определим размер обоих таблиц:"
   ]
  },
  {
   "cell_type": "code",
   "execution_count": 9,
   "metadata": {},
   "outputs": [
    {
     "name": "stdout",
     "output_type": "stream",
     "text": [
      "65229\n",
      "32412\n"
     ]
    }
   ],
   "source": [
    "df_train_before = df_train.shape[0]\n",
    "df_test_before = df_test.shape[0]\n",
    "print(df_train_before)\n",
    "print(df_test_before)"
   ]
  },
  {
   "cell_type": "markdown",
   "metadata": {},
   "source": [
    "В обоих дата датасетах одинаковое количество столбцов. Пропусков в записях нет. В \"df_train\" содержится 65229 записей. В \"df_test\" содержится 32412 записей. Таким образом тестовый датасет практически в два раза меньше тренировочного. "
   ]
  },
  {
   "cell_type": "markdown",
   "metadata": {},
   "source": [
    "<div class=\"alert alert-success\">\n",
    "<h2>Комментарий ревьюера<a class=\"tocSkip\"></a></h2>\n",
    "    \n",
    "**Отлично!** ✔️: данные на месте!</div>"
   ]
  },
  {
   "cell_type": "markdown",
   "metadata": {},
   "source": [
    "### Шаг 2. Предобработка и исследовательский анализ данных"
   ]
  },
  {
   "cell_type": "markdown",
   "metadata": {},
   "source": [
    "Проверим на наличие явных дубликатов:"
   ]
  },
  {
   "cell_type": "code",
   "execution_count": 10,
   "metadata": {
    "cell_style": "center"
   },
   "outputs": [
    {
     "data": {
      "text/plain": [
       "0"
      ]
     },
     "execution_count": 10,
     "metadata": {},
     "output_type": "execute_result"
    }
   ],
   "source": [
    "df_train.duplicated().sum()"
   ]
  },
  {
   "cell_type": "code",
   "execution_count": 11,
   "metadata": {
    "cell_style": "center"
   },
   "outputs": [
    {
     "data": {
      "text/plain": [
       "0"
      ]
     },
     "execution_count": 11,
     "metadata": {},
     "output_type": "execute_result"
    }
   ],
   "source": [
    "df_test.duplicated().sum()"
   ]
  },
  {
   "cell_type": "markdown",
   "metadata": {},
   "source": [
    "<div class=\"alert alert-warning\">\n",
    "<h2>Комментарий ревьюера<a class=\"tocSkip\"></a></h2>\n",
    "    \n",
    "**Есть совет** ⚠️: еще стоит проверить наличие дубликатов после удаления id</div>"
   ]
  },
  {
   "cell_type": "markdown",
   "metadata": {},
   "source": [
    "<div class=\"alert alert-info\">\n",
    "    <b>Комментарий студента:</b> Не уверена, что стоит удалять столбец id. Решила оставить.\n",
    "</div>"
   ]
  },
  {
   "cell_type": "markdown",
   "metadata": {},
   "source": [
    "<div class=\"alert alert-warning\">\n",
    "<h2>Комментарий ревьюера v2<a class=\"tocSkip\"></a></h2>\n",
    "    \n",
    "**Есть совет** ⚠️: но перед обучением моделей ты ведь уже и так удаляешь id, ведь никакой полезной информации ни для моделей, ни при расчете прибыли он не несет</div>"
   ]
  },
  {
   "cell_type": "markdown",
   "metadata": {},
   "source": [
    "Так же удалим столбец \"id\", он не нужен для обучения модели:"
   ]
  },
  {
   "cell_type": "code",
   "execution_count": 12,
   "metadata": {},
   "outputs": [],
   "source": [
    "df_train = df_train.drop(columns = ['id'],axis = 1)"
   ]
  },
  {
   "cell_type": "code",
   "execution_count": 13,
   "metadata": {},
   "outputs": [],
   "source": [
    "df_test = df_test.drop(columns = ['id'],axis = 1)"
   ]
  },
  {
   "cell_type": "markdown",
   "metadata": {},
   "source": [
    "После удаления проверим еще раз на явные дубликаты:"
   ]
  },
  {
   "cell_type": "code",
   "execution_count": 14,
   "metadata": {},
   "outputs": [
    {
     "data": {
      "text/plain": [
       "21377"
      ]
     },
     "execution_count": 14,
     "metadata": {},
     "output_type": "execute_result"
    }
   ],
   "source": [
    "df_train.duplicated().sum()"
   ]
  },
  {
   "cell_type": "code",
   "execution_count": 15,
   "metadata": {
    "scrolled": true
   },
   "outputs": [
    {
     "data": {
      "text/plain": [
       "7717"
      ]
     },
     "execution_count": 15,
     "metadata": {},
     "output_type": "execute_result"
    }
   ],
   "source": [
    "df_test.duplicated().sum()"
   ]
  },
  {
   "cell_type": "markdown",
   "metadata": {},
   "source": [
    "Появилось много явных дубликатов. Возможно, что при заполнении формы регистрации на сайте пользователи что-то вводили во нескольку раз. Удалять не будем, так как они появились не случайно и не по ошибке. Например несколько человек приехали из одной компании в командировку (корпоратив) и сняли 5 одинаковых номеров на один срок. Таким образом появляются дубликаты, но это разные люди."
   ]
  },
  {
   "cell_type": "markdown",
   "metadata": {},
   "source": [
    "<div class=\"alert alert-info\">\n",
    "    <b>Комментарий студента V2-3:</b> Удалила столбец \"id\", появились явные дубликаты. Трогать не стала, т.к. очень большой процент от общего количества. \n",
    "</div>"
   ]
  },
  {
   "cell_type": "markdown",
   "metadata": {},
   "source": [
    "<div class=\"alert alert-warning\">\n",
    "<h2>Комментарий ревьюера v4<a class=\"tocSkip\"></a></h2>\n",
    "    \n",
    "**Есть совет** ⚠️: дубликатов действительно довольно много, и в реальных проектах, конечно, нужно было бы поизучать подробнее их природу и проконсультироваться с коллегами по этому поводу, но так как такой возможности у нас нет, то придется разбираться самим. Вообще в данных довольно много признаков, позволяющих довольно точно идентифицировать бронирование(день приезда, гражданство, количество забронированных ночей, дата бронирования, дополнительные параметры заказа и т.д.). Твоя гипотеза о групповом заезде логична, но тогда ее обязательно нужно проверить: для этого можно изучить тип заказчика(`customer_type`) в дублированных строках. Ну а так как дубликаты могут привести к переобучению модели(особенно при использовании кросс-валидации), так что их можно спокойно удалить. Но в общем случае, конечно, нужно разбираться подробнее </div>"
   ]
  },
  {
   "cell_type": "markdown",
   "metadata": {},
   "source": [
    "<div class=\"alert alert-info\">\n",
    "    <b>Комментарий студента V4:</b> Умение видеть и понимать такие тонкости появляются с опытом. Его я сейчас нарабатываю, благодаря таким проектам. Правда моя основная сфера деятельности очень далека от моего обучения :)\n",
    "</div>"
   ]
  },
  {
   "cell_type": "markdown",
   "metadata": {},
   "source": [
    "Проверим на наличие неявных дубликатов. Далее проверим все столбцы, в которых возможна \"опечатка\" при вводе данных: "
   ]
  },
  {
   "cell_type": "code",
   "execution_count": 16,
   "metadata": {
    "cell_style": "split"
   },
   "outputs": [
    {
     "data": {
      "text/plain": [
       "is_canceled                         2\n",
       "lead_time                         369\n",
       "arrival_date_year                   2\n",
       "arrival_date_month                 12\n",
       "arrival_date_week_number           53\n",
       "arrival_date_day_of_month          31\n",
       "stays_in_weekend_nights             5\n",
       "stays_in_week_nights                7\n",
       "adults                              5\n",
       "children                            4\n",
       "babies                              5\n",
       "meal                                5\n",
       "country                           155\n",
       "distribution_channel                4\n",
       "is_repeated_guest                   2\n",
       "previous_cancellations             15\n",
       "previous_bookings_not_canceled     58\n",
       "reserved_room_type                  7\n",
       "booking_changes                    16\n",
       "days_in_waiting_list               97\n",
       "customer_type                       4\n",
       "required_car_parking_spaces         4\n",
       "total_of_special_requests           6\n",
       "total_nights                       10\n",
       "dtype: int64"
      ]
     },
     "execution_count": 16,
     "metadata": {},
     "output_type": "execute_result"
    }
   ],
   "source": [
    "df_train.nunique()"
   ]
  },
  {
   "cell_type": "code",
   "execution_count": 17,
   "metadata": {
    "cell_style": "split"
   },
   "outputs": [
    {
     "data": {
      "text/plain": [
       "is_canceled                         2\n",
       "lead_time                         368\n",
       "arrival_date_year                   1\n",
       "arrival_date_month                  8\n",
       "arrival_date_week_number           35\n",
       "arrival_date_day_of_month          31\n",
       "stays_in_weekend_nights             5\n",
       "stays_in_week_nights                7\n",
       "adults                              5\n",
       "children                            4\n",
       "babies                              3\n",
       "meal                                5\n",
       "country                           143\n",
       "distribution_channel                4\n",
       "is_repeated_guest                   2\n",
       "previous_cancellations              7\n",
       "previous_bookings_not_canceled     46\n",
       "reserved_room_type                  7\n",
       "booking_changes                    15\n",
       "days_in_waiting_list               75\n",
       "customer_type                       4\n",
       "required_car_parking_spaces         5\n",
       "total_of_special_requests           6\n",
       "total_nights                       10\n",
       "dtype: int64"
      ]
     },
     "execution_count": 17,
     "metadata": {},
     "output_type": "execute_result"
    }
   ],
   "source": [
    "df_test.nunique()"
   ]
  },
  {
   "cell_type": "markdown",
   "metadata": {},
   "source": [
    "Из всех перечисленных столбцов проверим категориальные:<br> \n",
    "\"country\" (гражданство постояльца),<br>\n",
    "\"customer_type\" (тип заказчика),<br>\n",
    "\"meal\" (опции заказа), <br>\n",
    "\"reserved_room_type\" (тип забронированной комнаты). <br>\n",
    "Остальные столбцы относятся к количественным переменным. "
   ]
  },
  {
   "cell_type": "markdown",
   "metadata": {},
   "source": [
    "Изучим столбец \"country\". Уникальных записей много. Т.к. столбец не критичен для обучения модели, проверим только на наличие пробелов:"
   ]
  },
  {
   "cell_type": "code",
   "execution_count": 18,
   "metadata": {},
   "outputs": [
    {
     "name": "stdout",
     "output_type": "stream",
     "text": [
      "['GBR' 'PRT' 'ESP' 'IRL' 'FRA' 'ROU' 'NOR' 'USA' 'DEU' 'BEL' 'CHE' 'CN'\n",
      " 'GRC' 'NLD' 'ARG' 'RUS' 'SWE' 'POL' 'EST' 'CZE' 'ITA' 'FIN' 'DNK' 'MOZ'\n",
      " 'BWA' 'LUX' 'BRA' 'SVN' 'ALB' 'CHN' 'MEX' 'MAR' 'SMR' 'LVA' 'CHL' 'AUT'\n",
      " 'LTU' 'TUR' 'ISR' 'IND' 'CYM' 'AUS' 'CPV' 'ZWE' 'DZA' 'KOR' 'CRI' 'HUN'\n",
      " 'TUN' 'ARE' 'HRV' 'HKG' 'IRN' 'GIB' 'JEY' 'URY' 'ZAF' 'COL' 'GGY' 'KWT'\n",
      " 'CYP' 'KAZ' 'THA' 'DOM' 'NGA' 'BLR' 'VEN' 'UKR' 'ARM' 'JPN' 'LKA' 'MYS'\n",
      " 'BIH' 'MUS' 'OMN' 'SUR' 'JAM' 'BGR' 'CIV' 'SRB' 'JOR' 'SYR' 'PHL' 'PRI'\n",
      " 'SGP' 'BDI' 'LBN' 'AGO' 'VNM' 'AZE' 'PLW' 'NZL' 'EGY' 'MDV' 'CMR' 'MLT'\n",
      " 'SVK' 'MWI' 'STP' 'TWN' 'IDN' 'SEN' 'PER' 'SAU' 'KNA' 'ETH' 'ECU' 'IRQ'\n",
      " 'AND' 'HND' 'PAK' 'GEO' 'ZMB' 'QAT' 'KHM' 'MCO' 'BGD' 'ISL' 'UZB' 'IMN'\n",
      " 'TJK' 'NIC' 'BEN' 'MAC' 'VGB' 'TZA' 'GAB' 'MKD' 'TMP' 'GLP' 'KEN' 'LIE'\n",
      " 'MMR' 'PAN' 'BFA' 'LBY' 'GNB' 'MLI' 'BHR' 'NAM' 'BOL' 'SYC' 'PRY' 'BRB'\n",
      " 'ABW' 'SLV' 'DMA' 'CUB' 'PYF' 'UGA' 'GUY' 'LCA' 'ATA' 'RWA' 'MNE']\n"
     ]
    }
   ],
   "source": [
    "print(df_train['country'].unique())"
   ]
  },
  {
   "cell_type": "code",
   "execution_count": 19,
   "metadata": {},
   "outputs": [
    {
     "name": "stdout",
     "output_type": "stream",
     "text": [
      "['PRT' 'AUT' 'BEL' 'DEU' 'BRA' 'GBR' 'ESP' 'FRA' 'ITA' 'LUX' 'CHE' 'EST'\n",
      " 'NGA' 'IRL' 'CN' 'POL' 'AUS' 'NLD' 'KOR' 'ROU' 'USA' 'CHL' 'DNK' 'FIN'\n",
      " 'RUS' 'SWE' 'HUN' 'HRV' 'MDV' 'ZAF' 'ISR' 'NOR' 'CHN' 'ARE' 'MAR' 'COL'\n",
      " 'FJI' 'LVA' 'LBN' 'PHL' 'HKG' 'SYC' 'GIB' 'AGO' 'MYS' 'MDG' 'IDN' 'LTU'\n",
      " 'ISL' 'TUR' 'ARG' 'JPN' 'SVN' 'SVK' 'BGR' 'CAF' 'JAM' 'UZB' 'UKR' 'IND'\n",
      " 'CZE' 'URY' 'NZL' 'NPL' 'SRB' 'CPV' 'IRN' 'KAZ' 'BHS' 'SUR' 'CUB' 'PAK'\n",
      " 'MAC' 'CYP' 'JOR' 'GRC' 'KWT' 'TWN' 'VNM' 'SGP' 'DOM' 'VEN' 'SEN' 'BLR'\n",
      " 'TZA' 'LIE' 'GNB' 'SAU' 'DZA' 'PER' 'AZE' 'EGY' 'ETH' 'KEN' 'THA' 'MLT'\n",
      " 'ECU' 'AND' 'IMN' 'BHR' 'TUN' 'MNE' 'MEX' 'BEN' 'MOZ' 'UMI' 'JEY' 'MYT'\n",
      " 'QAT' 'BGD' 'GAB' 'CIV' 'ZWE' 'GTM' 'ALB' 'GHA' 'ATA' 'ASM' 'PAN' 'CRI'\n",
      " 'MCO' 'MUS' 'SYR' 'TGO' 'IRQ' 'LKA' 'BIH' 'PRY' 'MRT' 'ABW' 'NCL' 'STP'\n",
      " 'KIR' 'SDN' 'PRI' 'ATF' 'CMR' 'TJK' 'LBY' 'SLE' 'SLV' 'LAO' 'FRO']\n"
     ]
    }
   ],
   "source": [
    "print(df_test['country'].unique())"
   ]
  },
  {
   "cell_type": "markdown",
   "metadata": {},
   "source": [
    "Пробелов нет. Неявных дубликатов нет."
   ]
  },
  {
   "cell_type": "markdown",
   "metadata": {},
   "source": [
    "Следующий столбец \"customer_type\". Здесь всего должно быть 4 уникальных значения. В обоих датасетах прописаны 4 уникальных значения. Проверим на пробелы."
   ]
  },
  {
   "cell_type": "code",
   "execution_count": 20,
   "metadata": {},
   "outputs": [
    {
     "name": "stdout",
     "output_type": "stream",
     "text": [
      "['Transient' 'Contract' 'Transient-Party' 'Group']\n"
     ]
    }
   ],
   "source": [
    "print(df_train['customer_type'].unique())"
   ]
  },
  {
   "cell_type": "code",
   "execution_count": 21,
   "metadata": {},
   "outputs": [
    {
     "name": "stdout",
     "output_type": "stream",
     "text": [
      "['Transient' 'Transient-Party' 'Contract' 'Group']\n"
     ]
    }
   ],
   "source": [
    "print(df_test['customer_type'].unique())"
   ]
  },
  {
   "cell_type": "markdown",
   "metadata": {},
   "source": [
    "Пробелов нет. Неявных дубликатов нет."
   ]
  },
  {
   "cell_type": "markdown",
   "metadata": {},
   "source": [
    "В столбце \"meal\" должно быть 4 уникальных записи. Однако в обоих датасетах по 5 уникальных записей. Проверям:"
   ]
  },
  {
   "cell_type": "code",
   "execution_count": 22,
   "metadata": {
    "cell_style": "center"
   },
   "outputs": [
    {
     "name": "stdout",
     "output_type": "stream",
     "text": [
      "['BB       ' 'FB       ' 'HB       ' 'SC       ' 'SC']\n"
     ]
    }
   ],
   "source": [
    "print(df_train['meal'].unique())"
   ]
  },
  {
   "cell_type": "code",
   "execution_count": 23,
   "metadata": {
    "cell_style": "center"
   },
   "outputs": [
    {
     "name": "stdout",
     "output_type": "stream",
     "text": [
      "['BB       ' 'HB       ' 'SC' 'FB       ' 'SC       ']\n"
     ]
    }
   ],
   "source": [
    "print(df_test['meal'].unique())"
   ]
  },
  {
   "cell_type": "markdown",
   "metadata": {},
   "source": [
    "Явные дубликаты возникли из-за лишних пробелов. Исправим с помощью метода strip:"
   ]
  },
  {
   "cell_type": "code",
   "execution_count": 24,
   "metadata": {},
   "outputs": [],
   "source": [
    "df_test['meal'] = df_test['meal'].str.strip()\n",
    "df_train['meal'] = df_train['meal'].str.strip()"
   ]
  },
  {
   "cell_type": "markdown",
   "metadata": {},
   "source": [
    "Проверим:"
   ]
  },
  {
   "cell_type": "code",
   "execution_count": 25,
   "metadata": {},
   "outputs": [
    {
     "name": "stdout",
     "output_type": "stream",
     "text": [
      "['BB' 'FB' 'HB' 'SC']\n"
     ]
    }
   ],
   "source": [
    "print(df_train['meal'].unique())"
   ]
  },
  {
   "cell_type": "code",
   "execution_count": 26,
   "metadata": {},
   "outputs": [
    {
     "name": "stdout",
     "output_type": "stream",
     "text": [
      "['BB' 'HB' 'SC' 'FB']\n"
     ]
    }
   ],
   "source": [
    "print(df_test['meal'].unique())"
   ]
  },
  {
   "cell_type": "markdown",
   "metadata": {},
   "source": [
    "Исправлено. Переходим к последнему столбцу \"reserved_room_type\". Здесь должно быть 7 уникальных значений. В обоих датасетах проверим на пробелы:"
   ]
  },
  {
   "cell_type": "code",
   "execution_count": 27,
   "metadata": {},
   "outputs": [
    {
     "name": "stdout",
     "output_type": "stream",
     "text": [
      "['A               ' 'C               ' 'D               '\n",
      " 'E               ' 'G               ' 'F               '\n",
      " 'B               ']\n"
     ]
    }
   ],
   "source": [
    "print(df_train['reserved_room_type'].unique())"
   ]
  },
  {
   "cell_type": "code",
   "execution_count": 28,
   "metadata": {},
   "outputs": [
    {
     "name": "stdout",
     "output_type": "stream",
     "text": [
      "['A               ' 'E               ' 'G               '\n",
      " 'D               ' 'F               ' 'C               '\n",
      " 'B               ']\n"
     ]
    }
   ],
   "source": [
    "print(df_test['reserved_room_type'].unique())"
   ]
  },
  {
   "cell_type": "markdown",
   "metadata": {},
   "source": [
    "Пробелы есть. Исправим также как и столбец \"meal\":"
   ]
  },
  {
   "cell_type": "code",
   "execution_count": 29,
   "metadata": {},
   "outputs": [],
   "source": [
    "df_test['reserved_room_type'] = df_test['reserved_room_type'].str.strip()\n",
    "df_train['reserved_room_type'] = df_train['reserved_room_type'].str.strip()"
   ]
  },
  {
   "cell_type": "markdown",
   "metadata": {},
   "source": [
    "Проверим:"
   ]
  },
  {
   "cell_type": "code",
   "execution_count": 30,
   "metadata": {},
   "outputs": [
    {
     "name": "stdout",
     "output_type": "stream",
     "text": [
      "['A' 'C' 'D' 'E' 'G' 'F' 'B']\n"
     ]
    }
   ],
   "source": [
    "print(df_train['reserved_room_type'].unique())"
   ]
  },
  {
   "cell_type": "code",
   "execution_count": 31,
   "metadata": {},
   "outputs": [
    {
     "name": "stdout",
     "output_type": "stream",
     "text": [
      "['A' 'E' 'G' 'D' 'F' 'C' 'B']\n"
     ]
    }
   ],
   "source": [
    "print(df_test['reserved_room_type'].unique())"
   ]
  },
  {
   "cell_type": "markdown",
   "metadata": {},
   "source": [
    "Исправлено."
   ]
  },
  {
   "cell_type": "markdown",
   "metadata": {},
   "source": [
    "<div class=\"alert alert-success\">\n",
    "<h2>Комментарий ревьюера<a class=\"tocSkip\"></a></h2>\n",
    "    \n",
    "**Отлично!** ✔️: хорошо, что заметила лишние пробелы!</div>"
   ]
  },
  {
   "cell_type": "markdown",
   "metadata": {},
   "source": [
    "Необходимо привести некоторые данные к корректному формату данных. В таблицах есть столбцы в формате float64: \"lead_time\", \"adults\", \"children\", \"babies\". Это количественные переменные в целых числах. Поэтому приведем их к целочисленному типу:"
   ]
  },
  {
   "cell_type": "code",
   "execution_count": 32,
   "metadata": {
    "code_folding": []
   },
   "outputs": [],
   "source": [
    "columns = ['lead_time', 'adults', 'children', 'babies']\n",
    "tables = [df_test, df_train]\n",
    "for table in tables:\n",
    "    for col in columns:\n",
    "        table[col] = table[col].astype('int64')"
   ]
  },
  {
   "cell_type": "markdown",
   "metadata": {},
   "source": [
    "Изучим статистическое описание данных с помощью метода describe:"
   ]
  },
  {
   "cell_type": "code",
   "execution_count": 33,
   "metadata": {},
   "outputs": [
    {
     "data": {
      "text/html": [
       "<div>\n",
       "<style scoped>\n",
       "    .dataframe tbody tr th:only-of-type {\n",
       "        vertical-align: middle;\n",
       "    }\n",
       "\n",
       "    .dataframe tbody tr th {\n",
       "        vertical-align: top;\n",
       "    }\n",
       "\n",
       "    .dataframe thead th {\n",
       "        text-align: right;\n",
       "    }\n",
       "</style>\n",
       "<table border=\"1\" class=\"dataframe\">\n",
       "  <thead>\n",
       "    <tr style=\"text-align: right;\">\n",
       "      <th></th>\n",
       "      <th>count</th>\n",
       "      <th>mean</th>\n",
       "      <th>std</th>\n",
       "      <th>min</th>\n",
       "      <th>25%</th>\n",
       "      <th>50%</th>\n",
       "      <th>75%</th>\n",
       "      <th>max</th>\n",
       "    </tr>\n",
       "  </thead>\n",
       "  <tbody>\n",
       "    <tr>\n",
       "      <th>is_canceled</th>\n",
       "      <td>65229.0</td>\n",
       "      <td>0.368609</td>\n",
       "      <td>0.482431</td>\n",
       "      <td>0.0</td>\n",
       "      <td>0.0</td>\n",
       "      <td>0.0</td>\n",
       "      <td>1.0</td>\n",
       "      <td>1.0</td>\n",
       "    </tr>\n",
       "    <tr>\n",
       "      <th>lead_time</th>\n",
       "      <td>65229.0</td>\n",
       "      <td>96.337917</td>\n",
       "      <td>96.127545</td>\n",
       "      <td>0.0</td>\n",
       "      <td>17.0</td>\n",
       "      <td>64.0</td>\n",
       "      <td>151.0</td>\n",
       "      <td>374.0</td>\n",
       "    </tr>\n",
       "    <tr>\n",
       "      <th>arrival_date_year</th>\n",
       "      <td>65229.0</td>\n",
       "      <td>2015.719021</td>\n",
       "      <td>0.449481</td>\n",
       "      <td>2015.0</td>\n",
       "      <td>2015.0</td>\n",
       "      <td>2016.0</td>\n",
       "      <td>2016.0</td>\n",
       "      <td>2016.0</td>\n",
       "    </tr>\n",
       "    <tr>\n",
       "      <th>arrival_date_week_number</th>\n",
       "      <td>65229.0</td>\n",
       "      <td>31.339772</td>\n",
       "      <td>13.464024</td>\n",
       "      <td>1.0</td>\n",
       "      <td>21.0</td>\n",
       "      <td>34.0</td>\n",
       "      <td>42.0</td>\n",
       "      <td>53.0</td>\n",
       "    </tr>\n",
       "    <tr>\n",
       "      <th>arrival_date_day_of_month</th>\n",
       "      <td>65229.0</td>\n",
       "      <td>15.847813</td>\n",
       "      <td>8.748182</td>\n",
       "      <td>1.0</td>\n",
       "      <td>8.0</td>\n",
       "      <td>16.0</td>\n",
       "      <td>23.0</td>\n",
       "      <td>31.0</td>\n",
       "    </tr>\n",
       "    <tr>\n",
       "      <th>stays_in_weekend_nights</th>\n",
       "      <td>65229.0</td>\n",
       "      <td>0.825185</td>\n",
       "      <td>0.853477</td>\n",
       "      <td>0.0</td>\n",
       "      <td>0.0</td>\n",
       "      <td>1.0</td>\n",
       "      <td>2.0</td>\n",
       "      <td>4.0</td>\n",
       "    </tr>\n",
       "    <tr>\n",
       "      <th>stays_in_week_nights</th>\n",
       "      <td>65229.0</td>\n",
       "      <td>2.224793</td>\n",
       "      <td>1.354992</td>\n",
       "      <td>0.0</td>\n",
       "      <td>1.0</td>\n",
       "      <td>2.0</td>\n",
       "      <td>3.0</td>\n",
       "      <td>6.0</td>\n",
       "    </tr>\n",
       "    <tr>\n",
       "      <th>adults</th>\n",
       "      <td>65229.0</td>\n",
       "      <td>1.836576</td>\n",
       "      <td>0.480245</td>\n",
       "      <td>0.0</td>\n",
       "      <td>2.0</td>\n",
       "      <td>2.0</td>\n",
       "      <td>2.0</td>\n",
       "      <td>4.0</td>\n",
       "    </tr>\n",
       "    <tr>\n",
       "      <th>children</th>\n",
       "      <td>65229.0</td>\n",
       "      <td>0.074890</td>\n",
       "      <td>0.334243</td>\n",
       "      <td>0.0</td>\n",
       "      <td>0.0</td>\n",
       "      <td>0.0</td>\n",
       "      <td>0.0</td>\n",
       "      <td>3.0</td>\n",
       "    </tr>\n",
       "    <tr>\n",
       "      <th>babies</th>\n",
       "      <td>65229.0</td>\n",
       "      <td>0.007236</td>\n",
       "      <td>0.098790</td>\n",
       "      <td>0.0</td>\n",
       "      <td>0.0</td>\n",
       "      <td>0.0</td>\n",
       "      <td>0.0</td>\n",
       "      <td>10.0</td>\n",
       "    </tr>\n",
       "    <tr>\n",
       "      <th>is_repeated_guest</th>\n",
       "      <td>65229.0</td>\n",
       "      <td>0.027151</td>\n",
       "      <td>0.162523</td>\n",
       "      <td>0.0</td>\n",
       "      <td>0.0</td>\n",
       "      <td>0.0</td>\n",
       "      <td>0.0</td>\n",
       "      <td>1.0</td>\n",
       "    </tr>\n",
       "    <tr>\n",
       "      <th>previous_cancellations</th>\n",
       "      <td>65229.0</td>\n",
       "      <td>0.128915</td>\n",
       "      <td>0.965326</td>\n",
       "      <td>0.0</td>\n",
       "      <td>0.0</td>\n",
       "      <td>0.0</td>\n",
       "      <td>0.0</td>\n",
       "      <td>26.0</td>\n",
       "    </tr>\n",
       "    <tr>\n",
       "      <th>previous_bookings_not_canceled</th>\n",
       "      <td>65229.0</td>\n",
       "      <td>0.107713</td>\n",
       "      <td>1.326638</td>\n",
       "      <td>0.0</td>\n",
       "      <td>0.0</td>\n",
       "      <td>0.0</td>\n",
       "      <td>0.0</td>\n",
       "      <td>58.0</td>\n",
       "    </tr>\n",
       "    <tr>\n",
       "      <th>booking_changes</th>\n",
       "      <td>65229.0</td>\n",
       "      <td>0.194269</td>\n",
       "      <td>0.593838</td>\n",
       "      <td>0.0</td>\n",
       "      <td>0.0</td>\n",
       "      <td>0.0</td>\n",
       "      <td>0.0</td>\n",
       "      <td>17.0</td>\n",
       "    </tr>\n",
       "    <tr>\n",
       "      <th>days_in_waiting_list</th>\n",
       "      <td>65229.0</td>\n",
       "      <td>3.334422</td>\n",
       "      <td>18.239606</td>\n",
       "      <td>0.0</td>\n",
       "      <td>0.0</td>\n",
       "      <td>0.0</td>\n",
       "      <td>0.0</td>\n",
       "      <td>259.0</td>\n",
       "    </tr>\n",
       "    <tr>\n",
       "      <th>required_car_parking_spaces</th>\n",
       "      <td>65229.0</td>\n",
       "      <td>0.056647</td>\n",
       "      <td>0.232094</td>\n",
       "      <td>0.0</td>\n",
       "      <td>0.0</td>\n",
       "      <td>0.0</td>\n",
       "      <td>0.0</td>\n",
       "      <td>3.0</td>\n",
       "    </tr>\n",
       "    <tr>\n",
       "      <th>total_of_special_requests</th>\n",
       "      <td>65229.0</td>\n",
       "      <td>0.512763</td>\n",
       "      <td>0.752590</td>\n",
       "      <td>0.0</td>\n",
       "      <td>0.0</td>\n",
       "      <td>0.0</td>\n",
       "      <td>1.0</td>\n",
       "      <td>5.0</td>\n",
       "    </tr>\n",
       "    <tr>\n",
       "      <th>total_nights</th>\n",
       "      <td>65229.0</td>\n",
       "      <td>3.049978</td>\n",
       "      <td>1.738108</td>\n",
       "      <td>1.0</td>\n",
       "      <td>2.0</td>\n",
       "      <td>3.0</td>\n",
       "      <td>4.0</td>\n",
       "      <td>10.0</td>\n",
       "    </tr>\n",
       "  </tbody>\n",
       "</table>\n",
       "</div>"
      ],
      "text/plain": [
       "                                  count         mean        std     min  \\\n",
       "is_canceled                     65229.0     0.368609   0.482431     0.0   \n",
       "lead_time                       65229.0    96.337917  96.127545     0.0   \n",
       "arrival_date_year               65229.0  2015.719021   0.449481  2015.0   \n",
       "arrival_date_week_number        65229.0    31.339772  13.464024     1.0   \n",
       "arrival_date_day_of_month       65229.0    15.847813   8.748182     1.0   \n",
       "stays_in_weekend_nights         65229.0     0.825185   0.853477     0.0   \n",
       "stays_in_week_nights            65229.0     2.224793   1.354992     0.0   \n",
       "adults                          65229.0     1.836576   0.480245     0.0   \n",
       "children                        65229.0     0.074890   0.334243     0.0   \n",
       "babies                          65229.0     0.007236   0.098790     0.0   \n",
       "is_repeated_guest               65229.0     0.027151   0.162523     0.0   \n",
       "previous_cancellations          65229.0     0.128915   0.965326     0.0   \n",
       "previous_bookings_not_canceled  65229.0     0.107713   1.326638     0.0   \n",
       "booking_changes                 65229.0     0.194269   0.593838     0.0   \n",
       "days_in_waiting_list            65229.0     3.334422  18.239606     0.0   \n",
       "required_car_parking_spaces     65229.0     0.056647   0.232094     0.0   \n",
       "total_of_special_requests       65229.0     0.512763   0.752590     0.0   \n",
       "total_nights                    65229.0     3.049978   1.738108     1.0   \n",
       "\n",
       "                                   25%     50%     75%     max  \n",
       "is_canceled                        0.0     0.0     1.0     1.0  \n",
       "lead_time                         17.0    64.0   151.0   374.0  \n",
       "arrival_date_year               2015.0  2016.0  2016.0  2016.0  \n",
       "arrival_date_week_number          21.0    34.0    42.0    53.0  \n",
       "arrival_date_day_of_month          8.0    16.0    23.0    31.0  \n",
       "stays_in_weekend_nights            0.0     1.0     2.0     4.0  \n",
       "stays_in_week_nights               1.0     2.0     3.0     6.0  \n",
       "adults                             2.0     2.0     2.0     4.0  \n",
       "children                           0.0     0.0     0.0     3.0  \n",
       "babies                             0.0     0.0     0.0    10.0  \n",
       "is_repeated_guest                  0.0     0.0     0.0     1.0  \n",
       "previous_cancellations             0.0     0.0     0.0    26.0  \n",
       "previous_bookings_not_canceled     0.0     0.0     0.0    58.0  \n",
       "booking_changes                    0.0     0.0     0.0    17.0  \n",
       "days_in_waiting_list               0.0     0.0     0.0   259.0  \n",
       "required_car_parking_spaces        0.0     0.0     0.0     3.0  \n",
       "total_of_special_requests          0.0     0.0     1.0     5.0  \n",
       "total_nights                       2.0     3.0     4.0    10.0  "
      ]
     },
     "execution_count": 33,
     "metadata": {},
     "output_type": "execute_result"
    }
   ],
   "source": [
    "df_train.describe().T"
   ]
  },
  {
   "cell_type": "code",
   "execution_count": 34,
   "metadata": {},
   "outputs": [
    {
     "data": {
      "text/html": [
       "<div>\n",
       "<style scoped>\n",
       "    .dataframe tbody tr th:only-of-type {\n",
       "        vertical-align: middle;\n",
       "    }\n",
       "\n",
       "    .dataframe tbody tr th {\n",
       "        vertical-align: top;\n",
       "    }\n",
       "\n",
       "    .dataframe thead th {\n",
       "        text-align: right;\n",
       "    }\n",
       "</style>\n",
       "<table border=\"1\" class=\"dataframe\">\n",
       "  <thead>\n",
       "    <tr style=\"text-align: right;\">\n",
       "      <th></th>\n",
       "      <th>count</th>\n",
       "      <th>mean</th>\n",
       "      <th>std</th>\n",
       "      <th>min</th>\n",
       "      <th>25%</th>\n",
       "      <th>50%</th>\n",
       "      <th>75%</th>\n",
       "      <th>max</th>\n",
       "    </tr>\n",
       "  </thead>\n",
       "  <tbody>\n",
       "    <tr>\n",
       "      <th>is_canceled</th>\n",
       "      <td>32412.0</td>\n",
       "      <td>0.388467</td>\n",
       "      <td>0.487409</td>\n",
       "      <td>0.0</td>\n",
       "      <td>0.0</td>\n",
       "      <td>0.0</td>\n",
       "      <td>1.0</td>\n",
       "      <td>1.0</td>\n",
       "    </tr>\n",
       "    <tr>\n",
       "      <th>lead_time</th>\n",
       "      <td>32412.0</td>\n",
       "      <td>97.587869</td>\n",
       "      <td>86.507146</td>\n",
       "      <td>0.0</td>\n",
       "      <td>23.0</td>\n",
       "      <td>76.0</td>\n",
       "      <td>155.0</td>\n",
       "      <td>373.0</td>\n",
       "    </tr>\n",
       "    <tr>\n",
       "      <th>arrival_date_year</th>\n",
       "      <td>32412.0</td>\n",
       "      <td>2017.000000</td>\n",
       "      <td>0.000000</td>\n",
       "      <td>2017.0</td>\n",
       "      <td>2017.0</td>\n",
       "      <td>2017.0</td>\n",
       "      <td>2017.0</td>\n",
       "      <td>2017.0</td>\n",
       "    </tr>\n",
       "    <tr>\n",
       "      <th>arrival_date_week_number</th>\n",
       "      <td>32412.0</td>\n",
       "      <td>17.804054</td>\n",
       "      <td>9.177384</td>\n",
       "      <td>1.0</td>\n",
       "      <td>10.0</td>\n",
       "      <td>18.0</td>\n",
       "      <td>25.0</td>\n",
       "      <td>35.0</td>\n",
       "    </tr>\n",
       "    <tr>\n",
       "      <th>arrival_date_day_of_month</th>\n",
       "      <td>32412.0</td>\n",
       "      <td>15.656948</td>\n",
       "      <td>8.766429</td>\n",
       "      <td>1.0</td>\n",
       "      <td>8.0</td>\n",
       "      <td>15.5</td>\n",
       "      <td>23.0</td>\n",
       "      <td>31.0</td>\n",
       "    </tr>\n",
       "    <tr>\n",
       "      <th>stays_in_weekend_nights</th>\n",
       "      <td>32412.0</td>\n",
       "      <td>0.867888</td>\n",
       "      <td>0.853394</td>\n",
       "      <td>0.0</td>\n",
       "      <td>0.0</td>\n",
       "      <td>1.0</td>\n",
       "      <td>2.0</td>\n",
       "      <td>4.0</td>\n",
       "    </tr>\n",
       "    <tr>\n",
       "      <th>stays_in_week_nights</th>\n",
       "      <td>32412.0</td>\n",
       "      <td>2.340090</td>\n",
       "      <td>1.375170</td>\n",
       "      <td>0.0</td>\n",
       "      <td>1.0</td>\n",
       "      <td>2.0</td>\n",
       "      <td>3.0</td>\n",
       "      <td>6.0</td>\n",
       "    </tr>\n",
       "    <tr>\n",
       "      <th>adults</th>\n",
       "      <td>32412.0</td>\n",
       "      <td>1.858602</td>\n",
       "      <td>0.489341</td>\n",
       "      <td>0.0</td>\n",
       "      <td>2.0</td>\n",
       "      <td>2.0</td>\n",
       "      <td>2.0</td>\n",
       "      <td>4.0</td>\n",
       "    </tr>\n",
       "    <tr>\n",
       "      <th>children</th>\n",
       "      <td>32412.0</td>\n",
       "      <td>0.083765</td>\n",
       "      <td>0.343470</td>\n",
       "      <td>0.0</td>\n",
       "      <td>0.0</td>\n",
       "      <td>0.0</td>\n",
       "      <td>0.0</td>\n",
       "      <td>3.0</td>\n",
       "    </tr>\n",
       "    <tr>\n",
       "      <th>babies</th>\n",
       "      <td>32412.0</td>\n",
       "      <td>0.005523</td>\n",
       "      <td>0.075757</td>\n",
       "      <td>0.0</td>\n",
       "      <td>0.0</td>\n",
       "      <td>0.0</td>\n",
       "      <td>0.0</td>\n",
       "      <td>2.0</td>\n",
       "    </tr>\n",
       "    <tr>\n",
       "      <th>is_repeated_guest</th>\n",
       "      <td>32412.0</td>\n",
       "      <td>0.031377</td>\n",
       "      <td>0.174338</td>\n",
       "      <td>0.0</td>\n",
       "      <td>0.0</td>\n",
       "      <td>0.0</td>\n",
       "      <td>0.0</td>\n",
       "      <td>1.0</td>\n",
       "    </tr>\n",
       "    <tr>\n",
       "      <th>previous_cancellations</th>\n",
       "      <td>32412.0</td>\n",
       "      <td>0.011601</td>\n",
       "      <td>0.180473</td>\n",
       "      <td>0.0</td>\n",
       "      <td>0.0</td>\n",
       "      <td>0.0</td>\n",
       "      <td>0.0</td>\n",
       "      <td>6.0</td>\n",
       "    </tr>\n",
       "    <tr>\n",
       "      <th>previous_bookings_not_canceled</th>\n",
       "      <td>32412.0</td>\n",
       "      <td>0.171418</td>\n",
       "      <td>1.875170</td>\n",
       "      <td>0.0</td>\n",
       "      <td>0.0</td>\n",
       "      <td>0.0</td>\n",
       "      <td>0.0</td>\n",
       "      <td>72.0</td>\n",
       "    </tr>\n",
       "    <tr>\n",
       "      <th>booking_changes</th>\n",
       "      <td>32412.0</td>\n",
       "      <td>0.216741</td>\n",
       "      <td>0.640551</td>\n",
       "      <td>0.0</td>\n",
       "      <td>0.0</td>\n",
       "      <td>0.0</td>\n",
       "      <td>0.0</td>\n",
       "      <td>18.0</td>\n",
       "    </tr>\n",
       "    <tr>\n",
       "      <th>days_in_waiting_list</th>\n",
       "      <td>32412.0</td>\n",
       "      <td>0.262341</td>\n",
       "      <td>4.733027</td>\n",
       "      <td>0.0</td>\n",
       "      <td>0.0</td>\n",
       "      <td>0.0</td>\n",
       "      <td>0.0</td>\n",
       "      <td>223.0</td>\n",
       "    </tr>\n",
       "    <tr>\n",
       "      <th>required_car_parking_spaces</th>\n",
       "      <td>32412.0</td>\n",
       "      <td>0.046248</td>\n",
       "      <td>0.219367</td>\n",
       "      <td>0.0</td>\n",
       "      <td>0.0</td>\n",
       "      <td>0.0</td>\n",
       "      <td>0.0</td>\n",
       "      <td>8.0</td>\n",
       "    </tr>\n",
       "    <tr>\n",
       "      <th>total_of_special_requests</th>\n",
       "      <td>32412.0</td>\n",
       "      <td>0.657781</td>\n",
       "      <td>0.834341</td>\n",
       "      <td>0.0</td>\n",
       "      <td>0.0</td>\n",
       "      <td>0.0</td>\n",
       "      <td>1.0</td>\n",
       "      <td>5.0</td>\n",
       "    </tr>\n",
       "    <tr>\n",
       "      <th>total_nights</th>\n",
       "      <td>32412.0</td>\n",
       "      <td>3.207979</td>\n",
       "      <td>1.738683</td>\n",
       "      <td>1.0</td>\n",
       "      <td>2.0</td>\n",
       "      <td>3.0</td>\n",
       "      <td>4.0</td>\n",
       "      <td>10.0</td>\n",
       "    </tr>\n",
       "  </tbody>\n",
       "</table>\n",
       "</div>"
      ],
      "text/plain": [
       "                                  count         mean        std     min  \\\n",
       "is_canceled                     32412.0     0.388467   0.487409     0.0   \n",
       "lead_time                       32412.0    97.587869  86.507146     0.0   \n",
       "arrival_date_year               32412.0  2017.000000   0.000000  2017.0   \n",
       "arrival_date_week_number        32412.0    17.804054   9.177384     1.0   \n",
       "arrival_date_day_of_month       32412.0    15.656948   8.766429     1.0   \n",
       "stays_in_weekend_nights         32412.0     0.867888   0.853394     0.0   \n",
       "stays_in_week_nights            32412.0     2.340090   1.375170     0.0   \n",
       "adults                          32412.0     1.858602   0.489341     0.0   \n",
       "children                        32412.0     0.083765   0.343470     0.0   \n",
       "babies                          32412.0     0.005523   0.075757     0.0   \n",
       "is_repeated_guest               32412.0     0.031377   0.174338     0.0   \n",
       "previous_cancellations          32412.0     0.011601   0.180473     0.0   \n",
       "previous_bookings_not_canceled  32412.0     0.171418   1.875170     0.0   \n",
       "booking_changes                 32412.0     0.216741   0.640551     0.0   \n",
       "days_in_waiting_list            32412.0     0.262341   4.733027     0.0   \n",
       "required_car_parking_spaces     32412.0     0.046248   0.219367     0.0   \n",
       "total_of_special_requests       32412.0     0.657781   0.834341     0.0   \n",
       "total_nights                    32412.0     3.207979   1.738683     1.0   \n",
       "\n",
       "                                   25%     50%     75%     max  \n",
       "is_canceled                        0.0     0.0     1.0     1.0  \n",
       "lead_time                         23.0    76.0   155.0   373.0  \n",
       "arrival_date_year               2017.0  2017.0  2017.0  2017.0  \n",
       "arrival_date_week_number          10.0    18.0    25.0    35.0  \n",
       "arrival_date_day_of_month          8.0    15.5    23.0    31.0  \n",
       "stays_in_weekend_nights            0.0     1.0     2.0     4.0  \n",
       "stays_in_week_nights               1.0     2.0     3.0     6.0  \n",
       "adults                             2.0     2.0     2.0     4.0  \n",
       "children                           0.0     0.0     0.0     3.0  \n",
       "babies                             0.0     0.0     0.0     2.0  \n",
       "is_repeated_guest                  0.0     0.0     0.0     1.0  \n",
       "previous_cancellations             0.0     0.0     0.0     6.0  \n",
       "previous_bookings_not_canceled     0.0     0.0     0.0    72.0  \n",
       "booking_changes                    0.0     0.0     0.0    18.0  \n",
       "days_in_waiting_list               0.0     0.0     0.0   223.0  \n",
       "required_car_parking_spaces        0.0     0.0     0.0     8.0  \n",
       "total_of_special_requests          0.0     0.0     1.0     5.0  \n",
       "total_nights                       2.0     3.0     4.0    10.0  "
      ]
     },
     "execution_count": 34,
     "metadata": {},
     "output_type": "execute_result"
    }
   ],
   "source": [
    "df_test.describe().T"
   ]
  },
  {
   "cell_type": "markdown",
   "metadata": {},
   "source": [
    "Проверим оба датасета на наличие выбросов. Начнем со столбца \"lead_time\" (количество дней между датой бронирования и датой прибытия). В обоих датасетах максимальное значение более 365. Т.е. заезд в отель планируется более чем за год. Это маловероятно. Построим диаграмму размаха:"
   ]
  },
  {
   "cell_type": "code",
   "execution_count": 35,
   "metadata": {},
   "outputs": [
    {
     "data": {
      "image/png": "[encoded data removed]",
      "text/plain": [
       "<Figure size 360x720 with 1 Axes>"
      ]
     },
     "metadata": {
      "needs_background": "light"
     },
     "output_type": "display_data"
    }
   ],
   "source": [
    "df_train['lead_time'].plot(kind='box',\n",
    "                           figsize=(5,10), \n",
    "                           grid=True, \n",
    "                           legend=True, \n",
    "                           title='Диаграмма размаха количество дней между датами бронирования и прибытия (тренировочный датасет)')\n",
    "plt.show()# просмотр"
   ]
  },
  {
   "cell_type": "markdown",
   "metadata": {},
   "source": [
    "Определим количество записей с выбросами:"
   ]
  },
  {
   "cell_type": "code",
   "execution_count": 36,
   "metadata": {},
   "outputs": [
    {
     "data": {
      "text/plain": [
       "567"
      ]
     },
     "execution_count": 36,
     "metadata": {},
     "output_type": "execute_result"
    }
   ],
   "source": [
    "df_train.query('lead_time>350')['lead_time'].count()"
   ]
  },
  {
   "cell_type": "markdown",
   "metadata": {},
   "source": [
    "А также процент от всего датасета:"
   ]
  },
  {
   "cell_type": "code",
   "execution_count": 37,
   "metadata": {},
   "outputs": [
    {
     "name": "stdout",
     "output_type": "stream",
     "text": [
      "Процент выбросов: 0.87%\n"
     ]
    }
   ],
   "source": [
    "percent = df_train.query('lead_time>350')['lead_time'].count() / df_train['lead_time'].count()\n",
    "print(f'Процент выбросов: {percent:.2%}')"
   ]
  },
  {
   "cell_type": "markdown",
   "metadata": {},
   "source": [
    "Процент выбросов меньше одного. Поэтому удалим записи с выбросами:"
   ]
  },
  {
   "cell_type": "code",
   "execution_count": 38,
   "metadata": {},
   "outputs": [],
   "source": [
    "df_train = df_train.query('lead_time<350')"
   ]
  },
  {
   "cell_type": "markdown",
   "metadata": {},
   "source": [
    "Проверим выбросы в тестовом датасете:"
   ]
  },
  {
   "cell_type": "code",
   "execution_count": 39,
   "metadata": {},
   "outputs": [
    {
     "data": {
      "image/png": "[encoded data removed]",
      "text/plain": [
       "<Figure size 360x720 with 1 Axes>"
      ]
     },
     "metadata": {
      "needs_background": "light"
     },
     "output_type": "display_data"
    }
   ],
   "source": [
    "df_test['lead_time'].plot(kind='box',\n",
    "                          figsize=(5,10),\n",
    "                          grid=True,\n",
    "                          legend=True,\n",
    "                          title='Диаграмма размаха количество дней между датами бронирования и прибытия (тестовый датасет)')\n",
    "\n",
    "plt.show()# просмотр"
   ]
  },
  {
   "cell_type": "markdown",
   "metadata": {},
   "source": [
    "Наблюдаем подобную картину, что и в тренировочном датасете. "
   ]
  },
  {
   "cell_type": "markdown",
   "metadata": {},
   "source": [
    "Повторим шаги, что и для тренировочного датасета:"
   ]
  },
  {
   "cell_type": "code",
   "execution_count": 40,
   "metadata": {},
   "outputs": [
    {
     "data": {
      "text/plain": [
       "187"
      ]
     },
     "execution_count": 40,
     "metadata": {},
     "output_type": "execute_result"
    }
   ],
   "source": [
    "df_test.query('lead_time>350')['lead_time'].count()"
   ]
  },
  {
   "cell_type": "code",
   "execution_count": 41,
   "metadata": {},
   "outputs": [
    {
     "name": "stdout",
     "output_type": "stream",
     "text": [
      "Процент выбросов: 0.58%\n"
     ]
    }
   ],
   "source": [
    "percent = df_test.query('lead_time>350')['lead_time'].count() / df_test['lead_time'].count()\n",
    "print(f'Процент выбросов: {percent:.2%}')"
   ]
  },
  {
   "cell_type": "markdown",
   "metadata": {},
   "source": [
    "Процент выбросов меньше одного. Также удалим записи с выбросами:"
   ]
  },
  {
   "cell_type": "code",
   "execution_count": 42,
   "metadata": {},
   "outputs": [],
   "source": [
    "df_test = df_test.query('lead_time<350')"
   ]
  },
  {
   "cell_type": "markdown",
   "metadata": {},
   "source": [
    "<div class=\"alert alert-success\">\n",
    "<h2>Комментарий ревьюера<a class=\"tocSkip\"></a></h2>\n",
    "    \n",
    "**Отлично!** ✔️: окей, такой порог вполне подходит</div>"
   ]
  },
  {
   "cell_type": "markdown",
   "metadata": {},
   "source": [
    "Дальше сомнения вызывает столбец \"adults\". Здесь минимальное значение равно нулю, что в принципе невозможно. Ошибка может быть случайной: пропустили, перепутали с количеством детей. Проверим на процент:"
   ]
  },
  {
   "cell_type": "code",
   "execution_count": 43,
   "metadata": {
    "cell_style": "center"
   },
   "outputs": [
    {
     "name": "stdout",
     "output_type": "stream",
     "text": [
      "Процент выбросов: 0.26%\n"
     ]
    }
   ],
   "source": [
    "percent = df_train.query('adults==0')['adults'].count() / df_train['adults'].count()\n",
    "print(f'Процент выбросов: {percent:.2%}')"
   ]
  },
  {
   "cell_type": "code",
   "execution_count": 44,
   "metadata": {},
   "outputs": [
    {
     "name": "stdout",
     "output_type": "stream",
     "text": [
      "Процент выбросов: 0.21%\n"
     ]
    }
   ],
   "source": [
    "percent = df_test.query('adults==0')['adults'].count() / df_test['adults'].count()\n",
    "print(f'Процент выбросов: {percent:.2%}')"
   ]
  },
  {
   "cell_type": "markdown",
   "metadata": {},
   "source": [
    "В обоих датасетах процент выбросов меньше 1%. Удалим эти записи:"
   ]
  },
  {
   "cell_type": "code",
   "execution_count": 45,
   "metadata": {},
   "outputs": [],
   "source": [
    "df_train = df_train.query('adults!=0')"
   ]
  },
  {
   "cell_type": "code",
   "execution_count": 46,
   "metadata": {},
   "outputs": [],
   "source": [
    "df_test = df_test.query('adults!=0')"
   ]
  },
  {
   "cell_type": "markdown",
   "metadata": {},
   "source": [
    "<div class=\"alert alert-success\">\n",
    "<h2>Комментарий ревьюера<a class=\"tocSkip\"></a></h2>\n",
    "    \n",
    "**Отлично!** ✔️: согласен, так как детям без взрослых номер сдать не могут, тогда такие записи явные аномалии</div>"
   ]
  },
  {
   "cell_type": "markdown",
   "metadata": {},
   "source": [
    "Изучим данные в столбце \"babies\"(количество младенцев). В тренировочном датасет указано максимальное количество 10. В тестовом этот же показатель 2. Поэтому исправим только тренировочный. Используя метод value_counts подсчитаем количество каждого значения:"
   ]
  },
  {
   "cell_type": "code",
   "execution_count": 47,
   "metadata": {},
   "outputs": [
    {
     "data": {
      "text/plain": [
       "0     63975\n",
       "1       443\n",
       "2         3\n",
       "9         1\n",
       "10        1\n",
       "Name: babies, dtype: int64"
      ]
     },
     "execution_count": 47,
     "metadata": {},
     "output_type": "execute_result"
    }
   ],
   "source": [
    "df_train[\"babies\"].value_counts()"
   ]
  },
  {
   "cell_type": "markdown",
   "metadata": {},
   "source": [
    "<div class=\"alert alert-warning\">\n",
    "<h2>Комментарий ревьюера<a class=\"tocSkip\"></a></h2>\n",
    "    \n",
    "**Есть совет** ⚠️: окей, но так как бронирований с 2 младенцами тоже слишком мало, чтобы делать по ним прогноз, его можно обработать аналогично количеству парковочных мест: сделать бинарным и переименовать, например, в `has_babies`</div>"
   ]
  },
  {
   "cell_type": "markdown",
   "metadata": {},
   "source": [
    "Преобразуем столбец \"babies\" в логический формат, так как на вопрос о наличие детей можно ответить: ДА/НЕТ. Записей в обоих датасетах о наличие детей больше одного мало по сравнению с общим количеством. Поэтому удалим записи где более одного ребенка и переведем в boolean:"
   ]
  },
  {
   "cell_type": "code",
   "execution_count": 48,
   "metadata": {},
   "outputs": [],
   "source": [
    "df_train = df_train.query('babies < 2')\n",
    "df_test = df_test.query('babies < 2')"
   ]
  },
  {
   "cell_type": "code",
   "execution_count": 49,
   "metadata": {},
   "outputs": [],
   "source": [
    "df_train['babies'] = df_train['babies'].astype('boolean')\n",
    "df_test['babies'] = df_test['babies'].astype('boolean')"
   ]
  },
  {
   "cell_type": "markdown",
   "metadata": {},
   "source": [
    "<div class=\"alert alert-info\">\n",
    "    <b>Комментарий студента:</b> Обработала столбец с младенцами. Удалила записи и перевела в логический формат\n",
    "</div>"
   ]
  },
  {
   "cell_type": "markdown",
   "metadata": {},
   "source": [
    "<div class=\"alert alert-success\">\n",
    "<h2>Комментарий ревьюера v2<a class=\"tocSkip\"></a></h2>\n",
    "    \n",
    "**Отлично!** ✔️: 👍</div>"
   ]
  },
  {
   "cell_type": "markdown",
   "metadata": {},
   "source": [
    "Столбец \"required_car_parking_spaces\" (необходимость места для автомобиля) должен предоставлять всего один вариант ответа из двух возможных - ДА/НЕТ. Однако такого нет. Также формат типов данных является числовым, хотя по логике должен быть boolean. Подсчитаем количество вариантов ответа:"
   ]
  },
  {
   "cell_type": "code",
   "execution_count": 50,
   "metadata": {},
   "outputs": [
    {
     "data": {
      "text/plain": [
       "0    60752\n",
       "1     3654\n",
       "2       11\n",
       "3        1\n",
       "Name: required_car_parking_spaces, dtype: int64"
      ]
     },
     "execution_count": 50,
     "metadata": {},
     "output_type": "execute_result"
    }
   ],
   "source": [
    "df_train[\"required_car_parking_spaces\"].value_counts()"
   ]
  },
  {
   "cell_type": "code",
   "execution_count": 51,
   "metadata": {},
   "outputs": [
    {
     "data": {
      "text/plain": [
       "0    30662\n",
       "1     1463\n",
       "2        6\n",
       "8        2\n",
       "3        1\n",
       "Name: required_car_parking_spaces, dtype: int64"
      ]
     },
     "execution_count": 51,
     "metadata": {},
     "output_type": "execute_result"
    }
   ],
   "source": [
    "df_test[\"required_car_parking_spaces\"].value_counts()"
   ]
  },
  {
   "cell_type": "markdown",
   "metadata": {},
   "source": [
    "Значения больше единицы очень мало, поэтому обределим как выбросы. Удалим эти записи в обоих датасетах. А также поменяем формат на логический:"
   ]
  },
  {
   "cell_type": "code",
   "execution_count": 52,
   "metadata": {},
   "outputs": [],
   "source": [
    "df_train = df_train.query('required_car_parking_spaces < 2')\n",
    "df_train['required_car_parking_spaces'] = df_train['required_car_parking_spaces'].astype('boolean')"
   ]
  },
  {
   "cell_type": "code",
   "execution_count": 53,
   "metadata": {},
   "outputs": [],
   "source": [
    "df_test = df_test.query('required_car_parking_spaces < 2')\n",
    "df_test['required_car_parking_spaces'] = df_test['required_car_parking_spaces'].astype('boolean')"
   ]
  },
  {
   "cell_type": "markdown",
   "metadata": {},
   "source": [
    "<div class=\"alert alert-success\">\n",
    "<h2>Комментарий ревьюера<a class=\"tocSkip\"></a></h2>\n",
    "    \n",
    "**Отлично!** ✔️: 👍</div>"
   ]
  },
  {
   "cell_type": "markdown",
   "metadata": {},
   "source": [
    "Изучим столбец \"booking_changes\" (количество изменений параметров заказа). Из таблиц, выведенных методом describe мы видим, что в таблицах df_train и df_test максимальное количество изменений - 17 и 18 соответственно. При этом, медианное значение равно нулю в обеих таблицах, ровно как и граница третьего квартиля находится на уровне 0. Здесь есть выбросы. Посмотрим на значение методом value_counts():"
   ]
  },
  {
   "cell_type": "code",
   "execution_count": 54,
   "metadata": {
    "cell_style": "split"
   },
   "outputs": [
    {
     "data": {
      "text/plain": [
       "count    64406.000000\n",
       "mean         0.193289\n",
       "std          0.591726\n",
       "min          0.000000\n",
       "25%          0.000000\n",
       "50%          0.000000\n",
       "75%          0.000000\n",
       "max         17.000000\n",
       "Name: booking_changes, dtype: float64"
      ]
     },
     "execution_count": 54,
     "metadata": {},
     "output_type": "execute_result"
    }
   ],
   "source": [
    "df_train['booking_changes'].describe()"
   ]
  },
  {
   "cell_type": "code",
   "execution_count": 55,
   "metadata": {
    "cell_style": "split"
   },
   "outputs": [
    {
     "data": {
      "text/plain": [
       "count    32125.000000\n",
       "mean         0.216062\n",
       "std          0.639302\n",
       "min          0.000000\n",
       "25%          0.000000\n",
       "50%          0.000000\n",
       "75%          0.000000\n",
       "max         18.000000\n",
       "Name: booking_changes, dtype: float64"
      ]
     },
     "execution_count": 55,
     "metadata": {},
     "output_type": "execute_result"
    }
   ],
   "source": [
    "df_test['booking_changes'].describe()"
   ]
  },
  {
   "cell_type": "code",
   "execution_count": 56,
   "metadata": {
    "cell_style": "split"
   },
   "outputs": [
    {
     "data": {
      "text/plain": [
       "0     55509\n",
       "1      6529\n",
       "2      1727\n",
       "3       394\n",
       "4       147\n",
       "5        41\n",
       "6        18\n",
       "7        17\n",
       "8         7\n",
       "9         5\n",
       "13        4\n",
       "10        2\n",
       "14        2\n",
       "15        2\n",
       "16        1\n",
       "17        1\n",
       "Name: booking_changes, dtype: int64"
      ]
     },
     "execution_count": 56,
     "metadata": {},
     "output_type": "execute_result"
    }
   ],
   "source": [
    "df_train['booking_changes'].value_counts()"
   ]
  },
  {
   "cell_type": "code",
   "execution_count": 57,
   "metadata": {
    "cell_style": "split"
   },
   "outputs": [
    {
     "data": {
      "text/plain": [
       "0     27511\n",
       "1      3030\n",
       "2      1149\n",
       "3       264\n",
       "4       116\n",
       "5        28\n",
       "6        15\n",
       "7         5\n",
       "16        1\n",
       "18        1\n",
       "8         1\n",
       "10        1\n",
       "11        1\n",
       "14        1\n",
       "15        1\n",
       "Name: booking_changes, dtype: int64"
      ]
     },
     "execution_count": 57,
     "metadata": {},
     "output_type": "execute_result"
    }
   ],
   "source": [
    "df_test['booking_changes'].value_counts()"
   ]
  },
  {
   "cell_type": "markdown",
   "metadata": {},
   "source": [
    "Значения после 5 можно посчитать за выбросы. Определим количество таких записей:  "
   ]
  },
  {
   "cell_type": "code",
   "execution_count": 58,
   "metadata": {},
   "outputs": [
    {
     "name": "stdout",
     "output_type": "stream",
     "text": [
      "Процент выбросов: 0.09%\n"
     ]
    }
   ],
   "source": [
    "percent = df_train.query('booking_changes > 5')['booking_changes'].count() / df_train['booking_changes'].count()\n",
    "print(f'Процент выбросов: {percent:.2%}')"
   ]
  },
  {
   "cell_type": "code",
   "execution_count": 59,
   "metadata": {},
   "outputs": [
    {
     "name": "stdout",
     "output_type": "stream",
     "text": [
      "Процент выбросов: 0.08%\n"
     ]
    }
   ],
   "source": [
    "percent = df_test.query('booking_changes > 5')['booking_changes'].count() / df_test['booking_changes'].count()\n",
    "print(f'Процент выбросов: {percent:.2%}')"
   ]
  },
  {
   "cell_type": "markdown",
   "metadata": {},
   "source": [
    "Вывод по столбцу \"booking_changes\" следующий: значения более 5 будем считать выбросами. Процент очень мал.Удалим."
   ]
  },
  {
   "cell_type": "code",
   "execution_count": 60,
   "metadata": {},
   "outputs": [],
   "source": [
    "df_train = df_train.query('booking_changes < 6')"
   ]
  },
  {
   "cell_type": "code",
   "execution_count": 61,
   "metadata": {},
   "outputs": [],
   "source": [
    "df_test = df_test.query('booking_changes < 6')"
   ]
  },
  {
   "cell_type": "markdown",
   "metadata": {
    "cell_style": "center"
   },
   "source": [
    "Таким же способом рассмотрим столбец \"days_in_waiting_list\" (сколько дней заказ ожидал подтверждения):"
   ]
  },
  {
   "cell_type": "code",
   "execution_count": 62,
   "metadata": {
    "cell_style": "split"
   },
   "outputs": [
    {
     "data": {
      "text/plain": [
       "count    64347.000000\n",
       "mean         3.377034\n",
       "std         18.357891\n",
       "min          0.000000\n",
       "25%          0.000000\n",
       "50%          0.000000\n",
       "75%          0.000000\n",
       "max        259.000000\n",
       "Name: days_in_waiting_list, dtype: float64"
      ]
     },
     "execution_count": 62,
     "metadata": {},
     "output_type": "execute_result"
    }
   ],
   "source": [
    "df_train['days_in_waiting_list'].describe()"
   ]
  },
  {
   "cell_type": "code",
   "execution_count": 63,
   "metadata": {
    "cell_style": "split"
   },
   "outputs": [
    {
     "data": {
      "text/plain": [
       "count    32098.000000\n",
       "mean         0.260857\n",
       "std          4.707061\n",
       "min          0.000000\n",
       "25%          0.000000\n",
       "50%          0.000000\n",
       "75%          0.000000\n",
       "max        223.000000\n",
       "Name: days_in_waiting_list, dtype: float64"
      ]
     },
     "execution_count": 63,
     "metadata": {},
     "output_type": "execute_result"
    }
   ],
   "source": [
    "df_test['days_in_waiting_list'].describe()"
   ]
  },
  {
   "cell_type": "code",
   "execution_count": 64,
   "metadata": {
    "cell_style": "split"
   },
   "outputs": [
    {
     "data": {
      "text/plain": [
       "0      61132\n",
       "39       185\n",
       "58       164\n",
       "44       137\n",
       "31       126\n",
       "       ...  \n",
       "89         1\n",
       "76         1\n",
       "13         1\n",
       "142        1\n",
       "14         1\n",
       "Name: days_in_waiting_list, Length: 97, dtype: int64"
      ]
     },
     "execution_count": 64,
     "metadata": {},
     "output_type": "execute_result"
    }
   ],
   "source": [
    "df_train['days_in_waiting_list'].value_counts()"
   ]
  },
  {
   "cell_type": "code",
   "execution_count": 65,
   "metadata": {
    "cell_style": "split"
   },
   "outputs": [
    {
     "data": {
      "text/plain": [
       "0      31923\n",
       "25         6\n",
       "60         6\n",
       "59         6\n",
       "71         6\n",
       "       ...  \n",
       "121        1\n",
       "10         1\n",
       "165        1\n",
       "35         1\n",
       "223        1\n",
       "Name: days_in_waiting_list, Length: 73, dtype: int64"
      ]
     },
     "execution_count": 65,
     "metadata": {},
     "output_type": "execute_result"
    }
   ],
   "source": [
    "df_test['days_in_waiting_list'].value_counts()"
   ]
  },
  {
   "cell_type": "markdown",
   "metadata": {},
   "source": [
    "Так как количество значений довольно велико (97 и 73) построим гистограммы частот, чтобы визуализировать данные:"
   ]
  },
  {
   "cell_type": "code",
   "execution_count": 66,
   "metadata": {
    "cell_style": "center"
   },
   "outputs": [
    {
     "data": {
      "image/png": "[encoded data removed]",
      "text/plain": [
       "<Figure size 360x576 with 1 Axes>"
      ]
     },
     "metadata": {
      "needs_background": "light"
     },
     "output_type": "display_data"
    }
   ],
   "source": [
    "df_train['days_in_waiting_list'].plot(kind='hist', \n",
    "                                      bins=5, \n",
    "                                      figsize=(5,8), \n",
    "                                      grid=True, \n",
    "                                      legend=True, \n",
    "                                      title='Гистограмма частот: Количество дней ожидания подтверждения заказа (тренировочная выборка)')\n",
    "plt.show()"
   ]
  },
  {
   "cell_type": "code",
   "execution_count": 67,
   "metadata": {
    "cell_style": "center"
   },
   "outputs": [
    {
     "data": {
      "image/png": "[encoded data removed]",
      "text/plain": [
       "<Figure size 360x576 with 1 Axes>"
      ]
     },
     "metadata": {
      "needs_background": "light"
     },
     "output_type": "display_data"
    }
   ],
   "source": [
    "df_test['days_in_waiting_list'].plot(kind='hist', \n",
    "                                     bins=5, \n",
    "                                     figsize=(5,8), \n",
    "                                     grid=True, \n",
    "                                     legend=True, \n",
    "                                     title='Гистограмма частот: Количество дней ожидания подтверждения заказа (тестовая выборка)')\n",
    "plt.show()"
   ]
  },
  {
   "cell_type": "markdown",
   "metadata": {},
   "source": [
    "На графиках хорошо видно, что значения более 50 дней встречаются очень редко, поэтому посчитаем их за выбросы. Проверим процент выбросов:"
   ]
  },
  {
   "cell_type": "code",
   "execution_count": 68,
   "metadata": {},
   "outputs": [
    {
     "name": "stdout",
     "output_type": "stream",
     "text": [
      "Процент выбросов: 2.53%\n"
     ]
    }
   ],
   "source": [
    "percent = df_train.query('days_in_waiting_list > 50')['days_in_waiting_list'].count() / df_train['days_in_waiting_list'].count()\n",
    "print(f'Процент выбросов: {percent:.2%}')"
   ]
  },
  {
   "cell_type": "code",
   "execution_count": 69,
   "metadata": {},
   "outputs": [
    {
     "name": "stdout",
     "output_type": "stream",
     "text": [
      "Процент выбросов: 0.21%\n"
     ]
    }
   ],
   "source": [
    "percent = df_test.query('days_in_waiting_list > 50')['days_in_waiting_list'].count() / df_test['days_in_waiting_list'].count()\n",
    "print(f'Процент выбросов: {percent:.2%}')"
   ]
  },
  {
   "cell_type": "markdown",
   "metadata": {},
   "source": [
    "Процент выбросов в обоих выборках мал в переделах допустимого, поэтому удалим эти записи из таблиц:"
   ]
  },
  {
   "cell_type": "code",
   "execution_count": 70,
   "metadata": {},
   "outputs": [],
   "source": [
    "df_train = df_train.query('days_in_waiting_list < 51')"
   ]
  },
  {
   "cell_type": "code",
   "execution_count": 71,
   "metadata": {},
   "outputs": [],
   "source": [
    "df_test = df_test.query('days_in_waiting_list < 51')"
   ]
  },
  {
   "cell_type": "markdown",
   "metadata": {},
   "source": [
    "Сравним размер таблиц до и после предобработки:"
   ]
  },
  {
   "cell_type": "code",
   "execution_count": 72,
   "metadata": {},
   "outputs": [
    {
     "name": "stdout",
     "output_type": "stream",
     "text": [
      "Размер тренировочной выборки до: 65229, после 62720. Разница: 2509 записей\n",
      "Размер тестовой выборки до: 32412, после 32032. Разница: 380 записей\n",
      "Сохранили: 96.15% тренировочной выборки\n",
      "Сохранили: 98.83% тестовой выборки\n"
     ]
    }
   ],
   "source": [
    "df_train_after = df_train.shape[0]\n",
    "df_test_after = df_test.shape[0]\n",
    "percent_train = df_train_after / df_train_before\n",
    "percent_test = df_test_after / df_test_before\n",
    "\n",
    "print(f'Размер тренировочной выборки до: {df_train_before}, после {df_train_after}. Разница: {df_train_before - df_train_after} записей')\n",
    "print(f'Размер тестовой выборки до: {df_test_before}, после {df_test_after}. Разница: {df_test_before - df_test_after} записей')\n",
    "print(f'Сохранили: {percent_train:.2%} тренировочной выборки')\n",
    "print(f'Сохранили: {percent_test:.2%} тестовой выборки')"
   ]
  },
  {
   "cell_type": "markdown",
   "metadata": {},
   "source": [
    "Таким образом, после предобработки данных обе выборки были сокращены. Процент сохраненных данных более 96% для каждой выборки. Определим взаимосвязь между признаками. Построим матрицу корреляции и визиуализируем ее:"
   ]
  },
  {
   "cell_type": "code",
   "execution_count": 73,
   "metadata": {},
   "outputs": [
    {
     "data": {
      "image/png": "[encoded data removed]",
      "text/plain": [
       "<Figure size 2160x2160 with 2 Axes>"
      ]
     },
     "metadata": {
      "needs_background": "light"
     },
     "output_type": "display_data"
    }
   ],
   "source": [
    "#matrix = np.triu(df_train.corr())\n",
    "plt.figure(figsize=(30, 30))\n",
    "sns.set(font_scale=2)\n",
    "sns.heatmap(df_train.corr(), \n",
    "            annot = True, \n",
    "            fmt='.2g', \n",
    "            vmin=-1, \n",
    "            vmax=1, \n",
    "            center= 0, \n",
    "            cmap='viridis',\n",
    "            #mask=matrix,\n",
    "            annot_kws={\"fontsize\":16})\n",
    "plt.show()"
   ]
  },
  {
   "cell_type": "markdown",
   "metadata": {},
   "source": [
    "<div class=\"alert alert-success\">\n",
    "<h2>Комментарий ревьюера<a class=\"tocSkip\"></a></h2>\n",
    "    \n",
    "**Отлично!** ✔️: молодец, что изучаешь матрицу корреляций!</div>"
   ]
  },
  {
   "cell_type": "markdown",
   "metadata": {},
   "source": [
    "На тепловой карте видно, что есть сильная взаимосвзязь между столбцами \"stays_in_weekend_nights\" (количество ночей в выходные дни) и \"total_nights\" (общее количество ночей) - 0.65. И между \"stays_in_week_nights\" (количество ночей в будние дни) и \"total_nights\" - 0.88. При этом нет особой значимой корреляции между целевым признаком (столбец \"is_canseled\") и остальными переменными. Т.к. столбец \"total_nights\" сильно коррелирует со столбцами \"stays_in_weekend_nights\" и \"stays_in_week_nights\", то не будем включать в обучение для модели все три. Оставим только один. Это будет столбец \"total_nights\" как результирующий оставшиеся два столбца."
   ]
  },
  {
   "cell_type": "markdown",
   "metadata": {},
   "source": [
    "<div class=\"alert alert-warning\">\n",
    "<h2>Комментарий ревьюера<a class=\"tocSkip\"></a></h2>\n",
    "    \n",
    "**Есть совет** ⚠️: все так, но стоит проверить, что это действительно результирующий столбец: для этого можно проверить наличие записей, где сумма `stays_in_weekend_nights` и `stays_in_week_nights` не равна `total_nights`</div>"
   ]
  },
  {
   "cell_type": "code",
   "execution_count": 74,
   "metadata": {},
   "outputs": [
    {
     "name": "stdout",
     "output_type": "stream",
     "text": [
      "191398\n",
      "191398\n"
     ]
    }
   ],
   "source": [
    "print(df_train['stays_in_weekend_nights'].sum() + df_train['stays_in_week_nights'].sum())\n",
    "print(df_train['total_nights'].sum())"
   ]
  },
  {
   "cell_type": "code",
   "execution_count": 75,
   "metadata": {},
   "outputs": [
    {
     "name": "stdout",
     "output_type": "stream",
     "text": [
      "102587\n",
      "102587\n"
     ]
    }
   ],
   "source": [
    "print(df_test['stays_in_weekend_nights'].sum() + df_test['stays_in_week_nights'].sum())\n",
    "print(df_test['total_nights'].sum())"
   ]
  },
  {
   "cell_type": "markdown",
   "metadata": {},
   "source": [
    "<div class=\"alert alert-info\">\n",
    "    <b>Комментарий студента:</b> Такой способ проверки подойдет?\n",
    "</div>"
   ]
  },
  {
   "cell_type": "markdown",
   "metadata": {},
   "source": [
    "<div class=\"alert alert-warning\">\n",
    "<h2>Комментарий ревьюера v2<a class=\"tocSkip\"></a></h2>\n",
    "    \n",
    "**Есть совет** ⚠️: не совсем, ведь такое сравнение не гарантирует, что во всех строках в датасете сумма будних и ночей равна общему количеству ночей. Вариантов реализовать такую проверку можно придумать много, например, можно сделать так:\n",
    "\n",
    "    (df['total_nights'] == df['stays_in_weekend_nights'] + df['stays_in_week_nights']).value_counts()\n",
    "</div>"
   ]
  },
  {
   "cell_type": "code",
   "execution_count": 76,
   "metadata": {},
   "outputs": [
    {
     "data": {
      "text/plain": [
       "True    62720\n",
       "dtype: int64"
      ]
     },
     "execution_count": 76,
     "metadata": {},
     "output_type": "execute_result"
    }
   ],
   "source": [
    "(df_train['total_nights'] == df_train['stays_in_weekend_nights'] + df_train['stays_in_week_nights']).value_counts()"
   ]
  },
  {
   "cell_type": "code",
   "execution_count": 77,
   "metadata": {},
   "outputs": [
    {
     "name": "stdout",
     "output_type": "stream",
     "text": [
      "62720\n"
     ]
    }
   ],
   "source": [
    "print(df_train.shape[0])"
   ]
  },
  {
   "cell_type": "code",
   "execution_count": 78,
   "metadata": {},
   "outputs": [
    {
     "data": {
      "text/plain": [
       "True    32032\n",
       "dtype: int64"
      ]
     },
     "execution_count": 78,
     "metadata": {},
     "output_type": "execute_result"
    }
   ],
   "source": [
    "(df_test['total_nights'] == df_test['stays_in_weekend_nights'] + df_test['stays_in_week_nights']).value_counts()"
   ]
  },
  {
   "cell_type": "code",
   "execution_count": 79,
   "metadata": {},
   "outputs": [
    {
     "name": "stdout",
     "output_type": "stream",
     "text": [
      "32032\n"
     ]
    }
   ],
   "source": [
    "print(df_test.shape[0])"
   ]
  },
  {
   "cell_type": "markdown",
   "metadata": {},
   "source": [
    "<div class=\"alert alert-info\">\n",
    "    <b>Комментарий студента V2-3:</b> Проверила результирующий столбец \"total_nights\"\n",
    "</div>"
   ]
  },
  {
   "cell_type": "markdown",
   "metadata": {},
   "source": [
    "<div class=\"alert alert-success\">\n",
    "<h2>Комментарий ревьюера v4<a class=\"tocSkip\"></a></h2>\n",
    "    \n",
    "**Отлично!** ✔️: верно, тогда можно спокойно удалить, например, `total_nights`</div>"
   ]
  },
  {
   "cell_type": "markdown",
   "metadata": {},
   "source": [
    "#### Промежуточные выводы"
   ]
  },
  {
   "cell_type": "markdown",
   "metadata": {},
   "source": [
    "* была выполнена предобработка данных, с последующим исследовательским анализом данных:<br>\n",
    "* в обоих таблицах не было пропусков и явных дубликатов.<br>\n",
    "* были выявлены неявные дубликаты в столбце \"meal\". Причина - лишние пропуски.<br>\n",
    "* проверили на лишние пропуски столбцы с категориальными переменными. В итоге исправлен  столбец \"reserved_room_type\"<br>\n",
    "* скорректировали формат данных для следубщих столбцов: \"lead_time\", \"adults\", \"children\", \"babies\". Из float64 к формату int64.<br>\n",
    "* удалили выбросы и аномальные значения из столбцов: \"lead_time\" (значения от 350 и выше), \"adults\" (равные 0), \"babies\" (равные 9 и 10), \"required_car_parking_spaces\" (от 2 и выше), \"booking_changes\" (от 6 и выше), \"days_in_waiting_list\" ( от 51 и выше).<br>\n",
    "* с помощью матрицы корреляции обнаружили взаимосвязь столбцов \"total_nights\" с \"stays_in_weekend_nights\" и \"stays_in_week_nights\".<br>"
   ]
  },
  {
   "cell_type": "markdown",
   "metadata": {},
   "source": [
    "<div class=\"alert alert-success\">\n",
    "<h2>Комментарий ревьюера<a class=\"tocSkip\"></a></h2>\n",
    "    \n",
    "**Отлично!** ✔️: с предобработкой все верно, можно переходить к расчету прибыли :)</div>"
   ]
  },
  {
   "cell_type": "markdown",
   "metadata": {},
   "source": [
    "### Шаг 3. Формулировка ML-задачи на основе бизнес-задачи"
   ]
  },
  {
   "cell_type": "markdown",
   "metadata": {},
   "source": [
    "Согласно заданию: \"Прибыль отеля — это разница между стоимостью номера за все ночи и затраты на обслуживание: как при подготовке номера, так и при проживании постояльца\"."
   ]
  },
  {
   "cell_type": "markdown",
   "metadata": {},
   "source": [
    "Следовательно есть два параметра, которые необходимо учесть:<br>\n",
    "1. затраты на обслуживание в случае, когда клиент заселился, нужно вычитать из суммарной стоимости за номер и есть еще одна обязательная уборка перед заселением клиента. «Если клиент снял номер надолго, то убираются каждые два дня». Отсюда вытекает, что уборка проводится не каждый день. Следовательно для того, чтобы рассчитать количество уборок для любого количества ночей можно использовать формулу:<br>(количество ночей + уборка перед заселением)/2.<br>\n",
    "2. «Убытки отеля в случае отмены брони номера — это стоимость одной уборки и одной ночи с учётом сезонного коэффициента». Т.е. есть в случае отмены брони отель уходит в минус."
   ]
  },
  {
   "cell_type": "markdown",
   "metadata": {},
   "source": [
    "Необходимо посчитать общую прибыль и вывести ее на экран."
   ]
  },
  {
   "cell_type": "markdown",
   "metadata": {},
   "source": [
    "На основании данных, указанных в задании, составим таблицу, которая будет содержать тип комнаты, стоимость одной ночи и стоимость развого обслуживания:"
   ]
  },
  {
   "cell_type": "code",
   "execution_count": 80,
   "metadata": {},
   "outputs": [
    {
     "data": {
      "text/html": [
       "<div>\n",
       "<style scoped>\n",
       "    .dataframe tbody tr th:only-of-type {\n",
       "        vertical-align: middle;\n",
       "    }\n",
       "\n",
       "    .dataframe tbody tr th {\n",
       "        vertical-align: top;\n",
       "    }\n",
       "\n",
       "    .dataframe thead th {\n",
       "        text-align: right;\n",
       "    }\n",
       "</style>\n",
       "<table border=\"1\" class=\"dataframe\">\n",
       "  <thead>\n",
       "    <tr style=\"text-align: right;\">\n",
       "      <th></th>\n",
       "      <th>reserved_room_type</th>\n",
       "      <th>room_price</th>\n",
       "      <th>room_prepare</th>\n",
       "    </tr>\n",
       "  </thead>\n",
       "  <tbody>\n",
       "    <tr>\n",
       "      <th>0</th>\n",
       "      <td>A</td>\n",
       "      <td>1000</td>\n",
       "      <td>400</td>\n",
       "    </tr>\n",
       "    <tr>\n",
       "      <th>1</th>\n",
       "      <td>B</td>\n",
       "      <td>800</td>\n",
       "      <td>350</td>\n",
       "    </tr>\n",
       "    <tr>\n",
       "      <th>2</th>\n",
       "      <td>C</td>\n",
       "      <td>600</td>\n",
       "      <td>350</td>\n",
       "    </tr>\n",
       "    <tr>\n",
       "      <th>3</th>\n",
       "      <td>D</td>\n",
       "      <td>550</td>\n",
       "      <td>150</td>\n",
       "    </tr>\n",
       "    <tr>\n",
       "      <th>4</th>\n",
       "      <td>E</td>\n",
       "      <td>500</td>\n",
       "      <td>150</td>\n",
       "    </tr>\n",
       "    <tr>\n",
       "      <th>5</th>\n",
       "      <td>F</td>\n",
       "      <td>450</td>\n",
       "      <td>150</td>\n",
       "    </tr>\n",
       "    <tr>\n",
       "      <th>6</th>\n",
       "      <td>G</td>\n",
       "      <td>350</td>\n",
       "      <td>150</td>\n",
       "    </tr>\n",
       "  </tbody>\n",
       "</table>\n",
       "</div>"
      ],
      "text/plain": [
       "  reserved_room_type  room_price  room_prepare\n",
       "0                  A        1000           400\n",
       "1                  B         800           350\n",
       "2                  C         600           350\n",
       "3                  D         550           150\n",
       "4                  E         500           150\n",
       "5                  F         450           150\n",
       "6                  G         350           150"
      ]
     },
     "metadata": {},
     "output_type": "display_data"
    }
   ],
   "source": [
    "columns = ['reserved_room_type' , 'room_price', 'room_prepare']\n",
    "data = [['A', 1000, 400],['B', 800, 350], ['C', 600, 350], ['D', 550, 150], \n",
    "        ['E', 500, 150], ['F', 450, 150], ['G', 350, 150]]\n",
    "room_data = pd.DataFrame(data = data, columns = columns)\n",
    "display(room_data)"
   ]
  },
  {
   "cell_type": "markdown",
   "metadata": {},
   "source": [
    "<div class=\"alert alert-success\">\n",
    "<h2>Комментарий ревьюера<a class=\"tocSkip\"></a></h2>\n",
    "    \n",
    "**Отлично!** ✔️: здорово, что выносишь параметры бронирования в отдельный датафрейм!</div>"
   ]
  },
  {
   "cell_type": "markdown",
   "metadata": {},
   "source": [
    "Создадим функцию, которая будет подсчитывать прибыль отеля без внедрения депозитов:<br>\n",
    "все летние месяцы - повышающий коэффициент равен 1,4<br>\n",
    "все зимные месяцы - повышающий коэффициент равен 1<br>\n",
    "остальные времена года - повышающий коэффициент равен 1,2"
   ]
  },
  {
   "cell_type": "code",
   "execution_count": 81,
   "metadata": {},
   "outputs": [],
   "source": [
    "summer = ['June', 'July', 'August'] # лето\n",
    "winter = ['December', 'January', 'February'] # зима\n",
    "\n",
    "def count_revenue(row):\n",
    "    room_type = row['reserved_room_type'] # категория комнаты\n",
    "    month = row['arrival_date_month'] # месяц заезда\n",
    "    week_nights = row['stays_in_week_nights'] # ночи в будни\n",
    "    weekend_nights = row['stays_in_weekend_nights'] # ночи в выходные\n",
    "    price = room_data[room_data['reserved_room_type'] == room_type]['room_price'].median() # стоимость номера\n",
    "   \n",
    "    prepare_cost = room_data[room_data['reserved_room_type'] == room_type]['room_prepare'].median() # стоимость обслуживание\n",
    "    total_nights = week_nights + weekend_nights # общее количество ночей\n",
    "    \n",
    "    season_coefficient = 1.2 # сезонный коэффициент\n",
    "    if month in summer:\n",
    "        season_coefficient = 1.4\n",
    "    if month in winter:\n",
    "        season_coefficient = 1\n",
    "    \n",
    "    if (row['is_canceled'] == 0): # условие отмены заказа\n",
    "        \n",
    "        prepare_nights = 1 + math.floor(total_nights/2) # количество уборок\n",
    "        # расчет прибыли по формуле: \n",
    "        # повышающий коэфциент*стоимость номера*количество ночей - уборка до заезда - обслуживание номеров за весь период \n",
    "        revenue = season_coefficient*price*total_nights - prepare_nights*prepare_cost\n",
    "\n",
    "    else: # убыток за отмену заказа\n",
    "        revenue = - prepare_cost - season_coefficient * price    \n",
    "    \n",
    "    return revenue # прибыль"
   ]
  },
  {
   "cell_type": "markdown",
   "metadata": {},
   "source": [
    "<div class=\"alert alert-danger\">\n",
    "<h2>Комментарий ревьюера<a class=\"tocSkip\"></a></h2>\n",
    "\n",
    "**Нужно доработать** ❌: почти все так, но есть пару важных моментов:\n",
    "    \n",
    "1. Согласно заданию, помимо основных уборок каждые два дня есть одна дополнительная уборка перед заселением клиента, это у тебя реализовано верно. Но тогда для любого количества ночей формула для расчета количества уборок будет выглядеть как `1 + math.floor(nights / 2)`. Получается следующее:\n",
    "    \n",
    "    1 ночь, дополнительная уборка не требуется, 1 + math.floor(1 / 2) = 1\n",
    "\n",
    "    2 ночи, убираться будут днем после первой ночи, 1 + math.floor(2 / 2) = 2\n",
    "\n",
    "    3 ночи, убираться будут днем после первой ночи, 1 + math.floor(3 / 2) = 2\n",
    "\n",
    "    4 ночи, убираться будут днем после первой ночи, днём после третьей ночи, 1 + math.floor(4 / 2) = 3 и т.д.\n",
    "\n",
    "    А по твоей формуле за 2 ночи проведут только одну уборку, нужно поправить\n",
    "\n",
    "    P.S. при изменении количества уборок в `prepare_nights` не забудь учесть, что дополнительная уборка у тебя уже вычитается при расчете прибыли\n",
    "    \n",
    "    \n",
    "2. Согласно заданию, «Убытки отеля в случае отмены брони номера — это стоимость одной уборки и одной ночи с учётом сезонного коэффициента» А по твоей формуле убытки — это только стоимость одной уборки, нужно поправить;\n",
    "\n",
    "</div>"
   ]
  },
  {
   "cell_type": "markdown",
   "metadata": {},
   "source": [
    "<div class=\"alert alert-info\">\n",
    "    <b>Комментарий студента:</b> Подправила функцию, надеюсь не напутала.\n",
    "</div>"
   ]
  },
  {
   "cell_type": "markdown",
   "metadata": {},
   "source": [
    "<div class=\"alert alert-danger\">\n",
    "<h2>Комментарий ревьюера v2<a class=\"tocSkip\"></a></h2>\n",
    "\n",
    "**Нужно доработать** ❌: не совсем так, теперь раз ты учитываешь дополнительную уборку при расчете `prepare_nights`, то, как я писал выше, дополнительно вычитать `prepare_cost` уже не нужно, общая стоимость уборок в случае успешного заселения теперь у тебя рассчитывается по формуле `prepare_nights*prepare_cost`</div>"
   ]
  },
  {
   "cell_type": "markdown",
   "metadata": {},
   "source": [
    "<div class=\"alert alert-danger\">\n",
    "<h2>Комментарий ревьюера v3<a class=\"tocSkip\"></a></h2>\n",
    "\n",
    "**Нужно доработать** ❌: не забудь поправить расчет количества уборок</div>"
   ]
  },
  {
   "cell_type": "markdown",
   "metadata": {},
   "source": [
    "<div class=\"alert alert-info\">\n",
    "    <b>Комментарий студента V2-3:</b> Функцию исправила. Надеюсь теперь правильно :) \n",
    "</div>"
   ]
  },
  {
   "cell_type": "markdown",
   "metadata": {},
   "source": [
    "<div class=\"alert alert-warning\">\n",
    "<h2>Комментарий ревьюера v4<a class=\"tocSkip\"></a></h2>\n",
    "    \n",
    "**Есть совет** ⚠️: теперь с формулой все окей, но остался еще один момент: в твоей реализации сезонный коэффициент переприсваивается только в случае успешного заселения(is_canceled=0), тогда в случае отмены бронирования коэффициент всегда будет равен `1.2`\n",
    "\n",
    "Чтобы не запутаться, можно немного отредактировать код и убрать лишние условия, так его будет проще читать, например:\n",
    "    \n",
    "    def count_revenue(row):\n",
    "        ...\n",
    "        \n",
    "        season_coefficient = 1.2\n",
    "        if month in summer:\n",
    "            season_coefficient = 1.4\n",
    "        if month in winter:\n",
    "            season_coefficient = 1\n",
    "    \n",
    "        if (row['is_canceled'] == 0):\n",
    "            prepare_nights = 1 + math.floor(total_nights / 2)\n",
    "            # так как сезонный коэффициент теперь определяется выше, дополнительно проверять время года уже не нужно\n",
    "            revenue = season_coefficient * price * total_nights - prepare_nights * prepare_cost\n",
    "    \n",
    "        else:\n",
    "            revenue = - prepare_cost - season_coefficient * price    \n",
    "    \n",
    "        return revenue\n",
    "</div>"
   ]
  },
  {
   "cell_type": "markdown",
   "metadata": {},
   "source": [
    "<div class=\"alert alert-info\">\n",
    "    <b>Комментарий студента V4:</b> Функцию исправила. ОПЯТЬ :) \n",
    "</div>"
   ]
  },
  {
   "cell_type": "markdown",
   "metadata": {},
   "source": [
    "Подсчитаем прибыль отеля без внедрения депозитов на тестовой выборке:"
   ]
  },
  {
   "cell_type": "code",
   "execution_count": 82,
   "metadata": {},
   "outputs": [
    {
     "name": "stdout",
     "output_type": "stream",
     "text": [
      "Прибыль отеля до внедрения депозитов: 32374820.0 рублей\n"
     ]
    }
   ],
   "source": [
    "total_revenue = df_test.apply(count_revenue, axis=1).sum()\n",
    "print(f'Прибыль отеля до внедрения депозитов: {total_revenue} рублей')"
   ]
  },
  {
   "cell_type": "markdown",
   "metadata": {},
   "source": [
    "### Шаг 4. Разработка модели ML"
   ]
  },
  {
   "cell_type": "markdown",
   "metadata": {},
   "source": [
    "Для обучаник модели выделим признаки и целевой признак. Формулировка задачи для модели: определить будет ли отменена бронь. В таблице практически все столбцы, кроме \"customer_type\" и \"meal\" - количественные. Значит это задача классификации. Поэтому целевой признак - это колонка \"is_canceled\"."
   ]
  },
  {
   "cell_type": "markdown",
   "metadata": {},
   "source": [
    "В качестве признаков будем использовать следующие столбцы, которые так или иначе могут повлиять на принятие решения об отмене брони: \"adults\", \"arrival_date_week_number\", babies\", \"booking_changes\", \"country\", \"children\", \"customer_type\", \"days_in_waiting_list\", \"is_repeated_guest\", \"lead_time\", \"meal\", \"previous_bookings_not_canceled\", \"previous_cancellations\", \"required_car_parking_spaces\", \"reserved_room_type\", \"stays_in_weekend_nights\", \"stays_in_week_nights\", \"total_of_special_requests\"."
   ]
  },
  {
   "cell_type": "markdown",
   "metadata": {},
   "source": [
    "Остальные признаки не будем включать: \n",
    "- \"arrival_date_year\" (год заезда) - не понадобится, так как в выборке прошедшие года, а модель предсказывает отмену в текущем<br>\n",
    "- \"arrival_date_month\" (месяц заезда). Есть номер недели, что уже включает информацию о месяце<br>\n",
    "- \"arrival_date_day_of_month\" (день заезда). Сам по себе не информативен.<br>\n",
    "- \"distribution_channel\" (канал дистрибуции заказа) не повлияет на желание клиента отменить заказ<br>\n",
    "- \"total_nights\" (общее количество ночей). Определили корреляцию со столбцами \"stays_in_weekend_nights\", \"stays_in_week_nights\", поэтому исключаем.<br>"
   ]
  },
  {
   "cell_type": "markdown",
   "metadata": {},
   "source": [
    "<div class=\"alert alert-warning\">\n",
    "<h2>Комментарий ревьюера<a class=\"tocSkip\"></a></h2>\n",
    "    \n",
    "**Есть совет** ⚠️: со всем согласен, но вот чтобы утверждать, что канал дистрибуции не влияет на факт оттока, нужно это проверить на этапе исследовательского анализа. Также не очень понятно, почему ты не используешь признак `booking_changes`</div>"
   ]
  },
  {
   "cell_type": "markdown",
   "metadata": {},
   "source": [
    "<div class=\"alert alert-info\">\n",
    "    <b>Комментарий студента:</b>  я пропустила столбец \"booking_changes\". Внесла в обучение. Спасибо!\n",
    "</div>"
   ]
  },
  {
   "cell_type": "markdown",
   "metadata": {},
   "source": [
    "<div class=\"alert alert-success\">\n",
    "<h2>Комментарий ревьюера v4<a class=\"tocSkip\"></a></h2>\n",
    "    \n",
    "**Отлично!** ✔️: 👍</div>"
   ]
  },
  {
   "cell_type": "markdown",
   "metadata": {},
   "source": [
    "Чтобы не прописывать каждый раз параметр \"random_state\", зафиксируем его:"
   ]
  },
  {
   "cell_type": "code",
   "execution_count": 83,
   "metadata": {},
   "outputs": [],
   "source": [
    "rnd = np.random.RandomState(12345)"
   ]
  },
  {
   "cell_type": "markdown",
   "metadata": {},
   "source": [
    "<div class=\"alert alert-success\">\n",
    "<h2>Комментарий ревьюера<a class=\"tocSkip\"></a></h2>\n",
    "    \n",
    "**Отлично!** ✔️: 👍</div>"
   ]
  },
  {
   "cell_type": "markdown",
   "metadata": {},
   "source": [
    "Для того, чтобы обучать модели нам надо выделить признаки и целевой признак. Создадим переменные df_train_ohe, df_test_ohe и преобразум категориальные признаки в количественные при помощи OneHotEncoder:"
   ]
  },
  {
   "cell_type": "markdown",
   "metadata": {},
   "source": [
    "<div class=\"alert alert-danger\">\n",
    "<h2>Комментарий ревьюера<a class=\"tocSkip\"></a></h2>\n",
    "\n",
    "**Нужно доработать** ❌: в этом проекте не нужно разбивать выборки на подвыборки: обучающая и тестовая выборки у тебя уже есть, а валидационная выборка нам не нужна, потому что все метрики нужно рассчитывать на кросс-валидации</div>"
   ]
  },
  {
   "cell_type": "markdown",
   "metadata": {},
   "source": [
    "<div class=\"alert alert-info\">\n",
    "    <b>Комментарий студента:</b> Удалила разбиение выборок. Использую изначальные.\n",
    "</div>"
   ]
  },
  {
   "cell_type": "markdown",
   "metadata": {},
   "source": [
    "<div class=\"alert alert-success\">\n",
    "<h2>Комментарий ревьюера v2<a class=\"tocSkip\"></a></h2>\n",
    "    \n",
    "**Отлично!** ✔️: 👍</div>"
   ]
  },
  {
   "cell_type": "code",
   "execution_count": 84,
   "metadata": {},
   "outputs": [],
   "source": [
    "columns_features = ['adults', 'arrival_date_week_number', 'babies', 'children', 'customer_type', 'country', 'booking_changes',\n",
    "                    'days_in_waiting_list', 'is_repeated_guest', 'lead_time', 'meal', 'previous_bookings_not_canceled',\n",
    "                   'previous_cancellations', 'required_car_parking_spaces', 'reserved_room_type', 'stays_in_weekend_nights',\n",
    "                   'stays_in_week_nights', 'total_of_special_requests', 'is_canceled']\n",
    "df_train_ohe = df_train[columns_features]\n",
    "df_test_ohe = df_test[columns_features]"
   ]
  },
  {
   "cell_type": "markdown",
   "metadata": {},
   "source": [
    "Выделяем признаки и целевой признак:"
   ]
  },
  {
   "cell_type": "code",
   "execution_count": 85,
   "metadata": {},
   "outputs": [],
   "source": [
    "target_train = df_train_ohe['is_canceled'] # целевой признак\n",
    "target_test = df_test_ohe['is_canceled']\n",
    "\n",
    "features_train = df_train_ohe.drop('is_canceled', axis=1) # признаки\n",
    "features_test = df_test_ohe.drop('is_canceled', axis=1)"
   ]
  },
  {
   "cell_type": "markdown",
   "metadata": {},
   "source": [
    "Создадим объект OneHotEncoder:"
   ]
  },
  {
   "cell_type": "code",
   "execution_count": 86,
   "metadata": {},
   "outputs": [],
   "source": [
    "ohe = OneHotEncoder(handle_unknown='ignore')"
   ]
  },
  {
   "cell_type": "markdown",
   "metadata": {},
   "source": [
    "Преобразуем все выборки функцией transform():"
   ]
  },
  {
   "cell_type": "code",
   "execution_count": 87,
   "metadata": {},
   "outputs": [],
   "source": [
    "ohe.fit(features_train)\n",
    "features_train = ohe.transform(features_train)\n",
    "features_test = ohe.transform(features_test)"
   ]
  },
  {
   "cell_type": "markdown",
   "metadata": {},
   "source": [
    "<div class=\"alert alert-warning\">\n",
    "<h2>Комментарий ревьюера<a class=\"tocSkip\"></a></h2>\n",
    "    \n",
    "**Есть совет** ⚠️: для «деревянных» моделей лучше использовать порядковое кодирование, так как они заметно быстрее обучаются на меньшем количестве признаков и не теряют в качестве, есть <a href=\"https://medium.com/data-design/visiting-categorical-features-and-encoding-in-decision-trees-53400fa65931\" target=\"blank_\">шикарная статья</a> на эту тему. Но для линейных моделей(в том числе логистической регрессии) порядковое кодирование не подходит, потому что задает приоритет признакам, которого в природе данных нет. Тогда, например, значение «10» в признаке `country` для них будет важнее, чем значение «0», а для наших данных это неверное утверждение. Поэтому для них лучше использовать OHE. Тогда у тебя получится разная предобработка для разных моделей, это вполне нормально, тогда тут могут помочь пайплайны, они особенно полезны как раз в подобных случаях\n",
    "    \n",
    "Подробнее про пайплайны:\n",
    "* https://scikit-learn.org/stable/modules/generated/sklearn.pipeline.Pipeline.html\n",
    "* https://scikit-learn.org/stable/modules/compose.html\n",
    "* https://towardsdatascience.com/how-to-use-sklearn-pipelines-for-ridiculously-neat-code-a61ab66ca90d</div>"
   ]
  },
  {
   "cell_type": "markdown",
   "metadata": {},
   "source": [
    "<div class=\"alert alert-info\">\n",
    "    <b>Комментарий студента V2-3:</b> Здесь надо изучать\n",
    "</div>"
   ]
  },
  {
   "cell_type": "markdown",
   "metadata": {},
   "source": [
    "<div class=\"alert alert-success\">\n",
    "<h2>Комментарий ревьюера v4<a class=\"tocSkip\"></a></h2>\n",
    "    \n",
    "**Отлично!** ✔️: в этом проекте это не обязательно, скорее совет на будущее :)</div>"
   ]
  },
  {
   "cell_type": "markdown",
   "metadata": {},
   "source": [
    "<div class=\"alert alert-info\">\n",
    "    <b>Комментарий студента V4:</b> Копилочка ЗУН (знаний, умений, навыков) пополняется!\n",
    "</div>"
   ]
  },
  {
   "cell_type": "markdown",
   "metadata": {},
   "source": [
    "Далее обучим модели и оценим их качество кросс-валидацией. Для решения задачи классификации подойдут 3 модели: логистическая регрессия, решающее дерево и случайный лес. Начнем с логистической регрессии."
   ]
  },
  {
   "cell_type": "markdown",
   "metadata": {},
   "source": [
    "<div class=\"alert alert-danger\">\n",
    "<h2>Комментарий ревьюера<a class=\"tocSkip\"></a></h2>\n",
    "\n",
    "**Нужно доработать** ❌: выбор основной метрики обязательно нужно аргументировать, исходя из бизнес-задачи, это очень важная часть проекта. Если ты считаешь, что именно F1 позволит минимизировать убытки, то нужно это пояснить</div>"
   ]
  },
  {
   "cell_type": "markdown",
   "metadata": {},
   "source": [
    "<div class=\"alert alert-danger\">\n",
    "<h2>Комментарий ревьюера v2<a class=\"tocSkip\"></a></h2>\n",
    "\n",
    "**Нужно доработать** ❌: не увидел исправлений :(</div>"
   ]
  },
  {
   "cell_type": "markdown",
   "metadata": {},
   "source": [
    "<div class=\"alert alert-warning\">\n",
    "<h2>Комментарий ревьюера v3<a class=\"tocSkip\"></a></h2>\n",
    "    \n",
    "**Есть совет** ⚠️: давай попробуем разобраться со всеми основными метриками:\n",
    "- основная проблема accuracy — это несбалансированные выборки. При дисбалансе классов(особенно, если дисбаланс существенный), accuracy не показательна, так как результат может быть завышен из-за того, что модель лучше предсказывает бОльший класс. Так как на практике редко бывают сбалансированные классы, то и accuracy используется не так часто;\n",
    "- метрика precision показывает, какая доля объектов, которую модель определила как положительные, действительно положительные. То есть, максимизируя метрику **precision**, мы пытаемся минимизировать количество **ложноположительных** ответов: клиентов, которые не собирались отменять бронирование, а модель решила, что они все-таки отменят.\n",
    "- метрика **recall** — это доля положительных объектов, которую нашла модель, из всех положительных объектов. Максимизируя recall мы хотим минимизировать количество **ложноотрицательных** ответов модели: клиентов, которые отменят бронирование, но модель решила, что они заселятся.\n",
    "    \n",
    "- F1-мера — это среднее гармоническое precision и recall, она обычно используется в тех случаях, когда нам одинаково важны и precision, и recall\n",
    "    \n",
    "- AUC-ROC показывает общее качество бинарного классификатора, в качестве основной метрики для бизнес-задачи она не всегда подходит, так как ее довольно сложно интерпретировать\n",
    "    \n",
    "Выбор основной метрики всегда зависит от нашей задачи. В этом проекте цель внедрения модели — это максимизация прибыли, путем минимизации убытков. Как мы знаем, отель несет убытки только в случае отмены бронирования(то есть положительных объектов), значит, нам важно найти максимальное количество таких объектов. Тогда для нас важнее всего минимизировать количество **ложноотрицательных** ответов, чтобы отель мог взять депозит с наибольшего количества «отменяльщиков»\n",
    "    \n",
    "Ложноположительные ответы не так критичны, так как депозит просто пойдет в стоимость оплаты. Но тут может возникнуть другая проблема: депозит для «надежных» клиентов может их отпугнуть, тогда стоит попробовать компенсировать это не метрикой, а экспериментом. Для этого можно попробовать проверить такой сценарий, назовем его худшим: пусть половина случайных клиентов из тех, с кого модель предложит взять депозит, откажутся от услуг. Если сможешь расчитать выручку в таком случае, будет очень наглядно, стоит ли внедрять модель</div>"
   ]
  },
  {
   "cell_type": "markdown",
   "metadata": {},
   "source": [
    "<div class=\"alert alert-info\">\n",
    "    <b>Комментарий студента V2-3:</b> Если я правильно поняла, то на метрику accuracy, в нашем случае, будем меньше уделять внимания, т.к. у нас дисбаланс. Хотя обучение модели приисходит с помощью взвешивания весов. Из всех метрик надо максимизировать recall, т.к. она характеризует долю положительных объектов. А F1-мера, что-то типа \"золотой середины\"\n",
    "</div>"
   ]
  },
  {
   "cell_type": "markdown",
   "metadata": {},
   "source": [
    "<div class=\"alert alert-success\">\n",
    "<h2>Комментарий ревьюера v4<a class=\"tocSkip\"></a></h2>\n",
    "    \n",
    "**Отлично!** ✔️: верно, взвешивание классов помогает модели научиться лучше распознавать оба класса с учетом их соотношения в целевом признаке, но так как выборка остается несбалансированной, то accuracy нам все еще не подходит</div>"
   ]
  },
  {
   "cell_type": "code",
   "execution_count": 88,
   "metadata": {},
   "outputs": [
    {
     "data": {
      "text/plain": [
       "0    0.639605\n",
       "1    0.360395\n",
       "Name: is_canceled, dtype: float64"
      ]
     },
     "execution_count": 88,
     "metadata": {},
     "output_type": "execute_result"
    }
   ],
   "source": [
    "target_train.value_counts(normalize=True)"
   ]
  },
  {
   "cell_type": "markdown",
   "metadata": {},
   "source": [
    "Соотношение классов в целевом признаке примерно 64/36. Мы имеем дисбаланс классов. Поэтому в обучении модели используем веса."
   ]
  },
  {
   "cell_type": "markdown",
   "metadata": {},
   "source": [
    "<div class=\"alert alert-info\">\n",
    "    <b>Комментарий студента:</b> Проверяю качество моделей с помощью кросс-валидации.\n",
    "</div>"
   ]
  },
  {
   "cell_type": "markdown",
   "metadata": {},
   "source": [
    "<div class=\"alert alert-success\">\n",
    "<h2>Комментарий ревьюера v2<a class=\"tocSkip\"></a></h2>\n",
    "    \n",
    "**Отлично!** ✔️: 👍</div>"
   ]
  },
  {
   "cell_type": "code",
   "execution_count": 89,
   "metadata": {},
   "outputs": [
    {
     "name": "stdout",
     "output_type": "stream",
     "text": [
      "Средняя оценка качества модели: 0.5361\n"
     ]
    }
   ],
   "source": [
    "model_lr =  LogisticRegression(random_state=rnd, solver='liblinear', class_weight='balanced')\n",
    "scores = cross_val_score(model_lr, features_train, target_train, cv=5, scoring='f1')\n",
    "final_score_lr = pd.Series(scores).mean()\n",
    "best_score_lr = round(final_score_lr, 4)\n",
    "print('Средняя оценка качества модели:', best_score_lr)"
   ]
  },
  {
   "cell_type": "markdown",
   "metadata": {},
   "source": [
    "Обучаем модель дерево решений:"
   ]
  },
  {
   "cell_type": "code",
   "execution_count": 90,
   "metadata": {},
   "outputs": [
    {
     "data": {
      "text/html": [
       "<div>\n",
       "<style scoped>\n",
       "    .dataframe tbody tr th:only-of-type {\n",
       "        vertical-align: middle;\n",
       "    }\n",
       "\n",
       "    .dataframe tbody tr th {\n",
       "        vertical-align: top;\n",
       "    }\n",
       "\n",
       "    .dataframe thead th {\n",
       "        text-align: right;\n",
       "    }\n",
       "</style>\n",
       "<table border=\"1\" class=\"dataframe\">\n",
       "  <thead>\n",
       "    <tr style=\"text-align: right;\">\n",
       "      <th></th>\n",
       "      <th>max_depth</th>\n",
       "      <th>final_score</th>\n",
       "    </tr>\n",
       "  </thead>\n",
       "  <tbody>\n",
       "    <tr>\n",
       "      <th>4</th>\n",
       "      <td>5</td>\n",
       "      <td>0.651599</td>\n",
       "    </tr>\n",
       "  </tbody>\n",
       "</table>\n",
       "</div>"
      ],
      "text/plain": [
       "   max_depth  final_score\n",
       "4          5     0.651599"
      ]
     },
     "metadata": {},
     "output_type": "display_data"
    }
   ],
   "source": [
    "col = ['max_depth', 'final_score']\n",
    "data = []\n",
    "\n",
    "for depth in range(1, 15):\n",
    "    model_tree = DecisionTreeClassifier(random_state=rnd, \n",
    "                                        max_depth=depth,\n",
    "                                        min_samples_split=2,\n",
    "                                        min_samples_leaf=2,\n",
    "                                        criterion='gini',\n",
    "                                        splitter='best',\n",
    "                                        class_weight='balanced')\n",
    "    scores = cross_val_score(model_tree, features_train, target_train, cv=5 , scoring='f1')\n",
    "    final_score_tree = sum(scores)/len(scores)\n",
    "    data.append([depth, final_score_tree])\n",
    "table = pd.DataFrame(data = data, columns=col)\n",
    "best_score_tree = round(table['final_score'].max(), 4)\n",
    "\n",
    "display(table[table['final_score']==table['final_score'].max()]) "
   ]
  },
  {
   "cell_type": "code",
   "execution_count": 91,
   "metadata": {},
   "outputs": [
    {
     "name": "stdout",
     "output_type": "stream",
     "text": [
      "Максимальная оценка качества модели: 0.6516\n"
     ]
    }
   ],
   "source": [
    "print('Максимальная оценка качества модели:', best_score_tree)"
   ]
  },
  {
   "cell_type": "markdown",
   "metadata": {},
   "source": [
    "В результате при max_depth=5 оценка качества модели кросс-валидацией достигает максимума в 0.65. Это выше, чем в модели логистической регрессии."
   ]
  },
  {
   "cell_type": "markdown",
   "metadata": {},
   "source": [
    "Обучаем модель случайный лес:"
   ]
  },
  {
   "cell_type": "code",
   "execution_count": 92,
   "metadata": {},
   "outputs": [
    {
     "data": {
      "text/html": [
       "<div>\n",
       "<style scoped>\n",
       "    .dataframe tbody tr th:only-of-type {\n",
       "        vertical-align: middle;\n",
       "    }\n",
       "\n",
       "    .dataframe tbody tr th {\n",
       "        vertical-align: top;\n",
       "    }\n",
       "\n",
       "    .dataframe thead th {\n",
       "        text-align: right;\n",
       "    }\n",
       "</style>\n",
       "<table border=\"1\" class=\"dataframe\">\n",
       "  <thead>\n",
       "    <tr style=\"text-align: right;\">\n",
       "      <th></th>\n",
       "      <th>n_estimators</th>\n",
       "      <th>depth</th>\n",
       "      <th>final_score</th>\n",
       "    </tr>\n",
       "  </thead>\n",
       "  <tbody>\n",
       "    <tr>\n",
       "      <th>12</th>\n",
       "      <td>13</td>\n",
       "      <td>14</td>\n",
       "      <td>0.60654</td>\n",
       "    </tr>\n",
       "  </tbody>\n",
       "</table>\n",
       "</div>"
      ],
      "text/plain": [
       "    n_estimators  depth  final_score\n",
       "12            13     14      0.60654"
      ]
     },
     "metadata": {},
     "output_type": "display_data"
    }
   ],
   "source": [
    "col = ['n_estimators', 'depth', 'final_score']\n",
    "data = []\n",
    "\n",
    "for est in range(1, 15):\n",
    "    model_forest = RandomForestClassifier(random_state=rnd, \n",
    "                                          n_estimators=est,\n",
    "                                          max_depth=5,\n",
    "                                          min_samples_split=2,\n",
    "                                          min_samples_leaf=2,\n",
    "                                          criterion='gini',\n",
    "                                          class_weight='balanced',\n",
    "                                          n_jobs=-1) \n",
    "    scores = cross_val_score(model_forest, features_train, target_train, cv=5, scoring='f1')\n",
    "    final_score = sum(scores)/len(scores)\n",
    "    data.append([est, depth, final_score])\n",
    "table = pd.DataFrame(data = data, columns=col)\n",
    "best_score_forest = round(table['final_score'].max(), 4)\n",
    "display(table[table['final_score']==table['final_score'].max()]) "
   ]
  },
  {
   "cell_type": "code",
   "execution_count": 93,
   "metadata": {},
   "outputs": [
    {
     "name": "stdout",
     "output_type": "stream",
     "text": [
      "Максимальная оценка качества модели: 0.6065\n"
     ]
    }
   ],
   "source": [
    "print('Максимальная оценка качества модели:', best_score_forest)"
   ]
  },
  {
   "cell_type": "markdown",
   "metadata": {},
   "source": [
    "<div class=\"alert alert-danger\">\n",
    "<h2>Комментарий ревьюера<a class=\"tocSkip\"></a></h2>\n",
    "\n",
    "**Нужно доработать** ❌: с подбором глубины все верно, но стоит подобрать еще и другие гиперпараметры. Убедись, что подбираешь хотя бы по 2 разных гиперпараметра для **каждой** модели, выбранной тобой для исследования</div>"
   ]
  },
  {
   "cell_type": "markdown",
   "metadata": {},
   "source": [
    "<div class=\"alert alert-info\">\n",
    "    <b>Комментарий студента:</b> Обучение моделей исправила на такой вариант.\n",
    "</div>"
   ]
  },
  {
   "cell_type": "markdown",
   "metadata": {},
   "source": [
    "<div class=\"alert alert-danger\">\n",
    "<h2>Комментарий ревьюера v2<a class=\"tocSkip\"></a></h2>\n",
    "\n",
    "**Нужно доработать** ❌: окей, взвешивание классов нам действительно может помочь, так как в датасете есть небольшой дисбаланс, но, к сожалению, не увидел подбора хотя бы 2 разных гиперпараметров для каждой модели, нужно поправить</div>"
   ]
  },
  {
   "cell_type": "markdown",
   "metadata": {},
   "source": [
    "<div class=\"alert alert-warning\">\n",
    "<h2>Комментарий ревьюера v3<a class=\"tocSkip\"></a></h2>\n",
    "    \n",
    "**Есть совет** ⚠️: можно попробовать разобраться, какие гиперпараметры обычно подбираются для этих моделей. Для дерева решений в первую очередь стоит обратить внимание на следующее:\n",
    "* **max_depth** — максимальная глубина дерева;\n",
    "* **criterion** — критерий разделения(gini, entropy);\n",
    "* **min_samples_split** — минимальное число объектов в узле дерева, достаточное для дальнейшего разделения;\n",
    "* **min_samples_leaf** — минимальное число объектов в листьях дерева — нижних узлах с ответами\n",
    "    \n",
    "Параметры **max_depth** и **criterion** — это те гиперпараметры, которые обычно перебирают в первую очередь, так как они заметнее всего влияют на результат обучения. Про глубину дерева ты уже знаешь, а про сравнение gini и entropy есть классная статья <a href=\"https://towardsdatascience.com/gini-index-vs-information-entropy-7a7e4fed3fcb\" target=\"blank_\">здесь</a>.\n",
    "    \n",
    "Случайный лес — это ансамбль деревьев решений, то есть все гиперпараметры дерева решений применимы и для случайного леса, но дополнительно мы можем настравить еще и количество деревьев параметром **n_estimators** Про случайный лес есть неплохие статьи <a href=\"https://proglib.io/p/mashinnoe-obuchenie-dlya-nachinayushchih-algoritm-sluchaynogo-lesa-random-forest-2021-08-12\" target=\"blank_\">здесь</a> и у <a href=\"https://dyakonov.org/2016/11/14/%D1%81%D0%BB%D1%83%D1%87%D0%B0%D0%B9%D0%BD%D1%8B%D0%B9-%D0%BB%D0%B5%D1%81-random-forest\" target=\"blank_\">Дьяконова</a>(этот блог — просто кладезь полезной информации, советую)\n",
    "    \n",
    "Про линейную(и логистическую) регрессию довольно подробно расскажут в спринтах «Линейная алгебра» и «Численные методы». На самом деле, это довольно сложная модель, поэтому полного понимания пока может не быть, это абсолютно нормально, но будет здорово, если получится подобрать гиперпараметры для нее тоже. А если очень хочется узнать уже сейчас, то вот <a href=\"https://habr.com/ru/post/307004/\" target=\"blank_\">тут</a> есть неплохая серия постов для ознакомления с линейной регрессией и градиентным спуском(там довольно много математики, но без нее объяснить никак не получится). А гиперпараметры, которые чаще всего настраиваются в логистической регрессии следующие:\n",
    "* **solver**: алгоритм решения, ознакомиться можно в <a href=\"https://scikit-learn.org/dev/modules/linear_model.html#solvers\" target=\"blank_\">документации</a>\n",
    "* **penalty**: регуляризация модели(L1, L2)\n",
    "* **С**: «сила» регуляризации\n",
    "    \n",
    "Регуляризация не дает модели переобучиться, но из-за этого она становится более чувствительна к масштабу данных, поэтому мы и проводим масштабирование, подробнее про регуляризацию можно почитать здесь:\n",
    "* https://towardsdatascience.com/intuitions-on-l1-and-l2-regularisation-235f2db4c261\n",
    "* https://craftappmobile.com/l1-%D0%B8-l2-%D1%80%D0%B5%D0%B3%D1%83%D0%BB%D1%8F%D1%80%D0%B8%D0%B7%D0%B0%D1%86%D0%B8%D1%8F-%D0%B4%D0%BB%D1%8F-%D0%BB%D0%BE%D0%B3%D0%B8%D1%81%D1%82%D0%B8%D1%87%D0%B5%D1%81%D0%BA%D0%BE%D0%B9-%D1%80/</div>"
   ]
  },
  {
   "cell_type": "markdown",
   "metadata": {},
   "source": [
    "<div class=\"alert alert-info\">\n",
    "    <b>Комментарий студента V2-3:</b> Честно перелопатив интернет в поисках понятного для меня метода обучения моделей, решила остановиться на этих вариантах. Плохо, что всЁ доступное приходится переводить с английского языка, которым я владею на уровне переводчика Google. Паралелльно нашла параметр, который вроде ускоряет обучение модели случайного леса. Добавила и его :), так сказать для....<br>\n",
    "    Про линейную(и логистическую) регрессию - честно не разобралась... \n",
    "</div>"
   ]
  },
  {
   "cell_type": "markdown",
   "metadata": {},
   "source": [
    "<div class=\"alert alert-success\">\n",
    "<h2>Комментарий ревьюера v4<a class=\"tocSkip\"></a></h2>\n",
    "    \n",
    "**Отлично!** ✔️: окей, принимается :) Английский в IT действительно основной язык, поэтому большинство качественных материалов выходит на нем, от этого, к сожалению, никуда не деться. А по поводу логистической регрессии — не страшно, дальше по курсу будет понятнее</div>"
   ]
  },
  {
   "cell_type": "markdown",
   "metadata": {},
   "source": [
    "Сведем результаты в одну таблицу:"
   ]
  },
  {
   "cell_type": "code",
   "execution_count": 94,
   "metadata": {
    "cell_style": "center"
   },
   "outputs": [
    {
     "data": {
      "text/html": [
       "<div>\n",
       "<style scoped>\n",
       "    .dataframe tbody tr th:only-of-type {\n",
       "        vertical-align: middle;\n",
       "    }\n",
       "\n",
       "    .dataframe tbody tr th {\n",
       "        vertical-align: top;\n",
       "    }\n",
       "\n",
       "    .dataframe thead th {\n",
       "        text-align: right;\n",
       "    }\n",
       "</style>\n",
       "<table border=\"1\" class=\"dataframe\">\n",
       "  <thead>\n",
       "    <tr style=\"text-align: right;\">\n",
       "      <th></th>\n",
       "      <th>LR</th>\n",
       "      <th>Tree</th>\n",
       "      <th>Forest</th>\n",
       "    </tr>\n",
       "  </thead>\n",
       "  <tbody>\n",
       "    <tr>\n",
       "      <th>Качество модели</th>\n",
       "      <td>0.5361</td>\n",
       "      <td>0.6516</td>\n",
       "      <td>0.6065</td>\n",
       "    </tr>\n",
       "  </tbody>\n",
       "</table>\n",
       "</div>"
      ],
      "text/plain": [
       "                     LR    Tree  Forest\n",
       "Качество модели  0.5361  0.6516  0.6065"
      ]
     },
     "metadata": {},
     "output_type": "display_data"
    }
   ],
   "source": [
    "data_result= {'LR':best_score_lr,\n",
    "              'Tree':best_score_tree,\n",
    "              'Forest':best_score_forest}\n",
    "data_result=pd.DataFrame(data_result,index=['Качество модели'])\n",
    "display(data_result)"
   ]
  },
  {
   "cell_type": "markdown",
   "metadata": {},
   "source": [
    "По результатам обучения видно, что лучший результат показала модель дерево решений. Проверим эту модель на тестовой выборке:"
   ]
  },
  {
   "cell_type": "code",
   "execution_count": 95,
   "metadata": {},
   "outputs": [],
   "source": [
    "model_tree =  DecisionTreeClassifier(random_state=rnd, max_depth=5, class_weight='balanced')\n",
    "model_tree.fit(features_train, target_train)\n",
    "\n",
    "predicted_test = model_tree.predict(features_test)\n",
    "probabilities_test = model_tree.predict_proba(features_test)\n",
    "probabilities_one_test = probabilities_test[:, 1]\n",
    "test_f1_score = round(f1_score(target_test, predicted_test), 4)\n",
    "auc_roc = round(roc_auc_score(target_test, probabilities_one_test), 4)"
   ]
  },
  {
   "cell_type": "code",
   "execution_count": 96,
   "metadata": {},
   "outputs": [
    {
     "data": {
      "text/plain": [
       "<Figure size 432x288 with 0 Axes>"
      ]
     },
     "metadata": {},
     "output_type": "display_data"
    },
    {
     "data": {
      "image/png": "[encoded data removed]",
      "text/plain": [
       "<Figure size 720x504 with 1 Axes>"
      ]
     },
     "metadata": {},
     "output_type": "display_data"
    },
    {
     "name": "stdout",
     "output_type": "stream",
     "text": [
      "Значение F1-меры на тестовой выборке: 0.6339\n",
      "Качество: 0.6997\n",
      "Точность: 0.599\n",
      "Полнота: 0.6731\n",
      "Значение метрики AUC-ROC: 0.7748\n"
     ]
    }
   ],
   "source": [
    "sns.set(font_scale=1)\n",
    "fpr, tpr, thresholds = roc_curve(target_test, probabilities_one_test)\n",
    "\n",
    "plt.figure()\n",
    "plt.figure(figsize=(10, 7))\n",
    "plt.plot(fpr, tpr)\n",
    "plt.plot([0, 1], [0, 1], linestyle='--')\n",
    "plt.xlim([0.0, 1.0])\n",
    "plt.ylim([0.0, 1.0])\n",
    "plt.xlabel('False Positive Rate')\n",
    "plt.ylabel('True Positive Rate')\n",
    "plt.title('ROC-кривая')\n",
    "plt.legend(('Дерево решения', 'Случайная модель'),\n",
    "           loc= 'upper left') \n",
    "plt.grid()\n",
    "plt.show()\n",
    "\n",
    "print('Значение F1-меры на тестовой выборке:', test_f1_score) \n",
    "print('Качество:', round(accuracy_score(target_test, predicted_test),4))\n",
    "print('Точность:', round(precision_score(target_test, predicted_test), 4))\n",
    "print('Полнота:', round(recall_score(target_test, predicted_test), 4))\n",
    "print('Значение метрики AUC-ROC:', auc_roc)"
   ]
  },
  {
   "cell_type": "markdown",
   "metadata": {},
   "source": [
    "Проверим выбранную модель на адекватность. Создаем константную модель:"
   ]
  },
  {
   "cell_type": "code",
   "execution_count": 97,
   "metadata": {},
   "outputs": [
    {
     "data": {
      "text/plain": [
       "(32032,)"
      ]
     },
     "execution_count": 97,
     "metadata": {},
     "output_type": "execute_result"
    }
   ],
   "source": [
    "target_constant = pd.Series([0]*len(target_test))\n",
    "target_constant.shape"
   ]
  },
  {
   "cell_type": "code",
   "execution_count": 98,
   "metadata": {},
   "outputs": [
    {
     "name": "stdout",
     "output_type": "stream",
     "text": [
      "Качество константной модели 0.6138\n",
      "Качество тестовой модели: 0.6997\n"
     ]
    }
   ],
   "source": [
    "print('Качество константной модели', round(accuracy_score(target_test, target_constant), 4))\n",
    "print('Качество тестовой модели:', round(accuracy_score(target_test, predicted_test), 4))"
   ]
  },
  {
   "cell_type": "code",
   "execution_count": 99,
   "metadata": {},
   "outputs": [
    {
     "name": "stdout",
     "output_type": "stream",
     "text": [
      "AUC-ROC константой модели: 0.5\n",
      "AUC-ROC тестовой модели: 0.7748\n"
     ]
    }
   ],
   "source": [
    "print('AUC-ROC константой модели:', roc_auc_score(target_test, target_constant))\n",
    "print('AUC-ROC тестовой модели:', auc_roc)"
   ]
  },
  {
   "cell_type": "markdown",
   "metadata": {},
   "source": [
    "Метрики тестовой модели лучше, чем константной, соответственно, модель является адекватной."
   ]
  },
  {
   "cell_type": "markdown",
   "metadata": {},
   "source": [
    "<div class=\"alert alert-success\">\n",
    "<h2>Комментарий ревьюера<a class=\"tocSkip\"></a></h2>\n",
    "    \n",
    "**Отлично!** ✔️: лайк за проверку на адекватность!</div>"
   ]
  },
  {
   "cell_type": "markdown",
   "metadata": {},
   "source": [
    "Теперь оценим прибыль, которую модель принесет за год. Сохраним предсказания модели в таблице hotel_test:"
   ]
  },
  {
   "cell_type": "code",
   "execution_count": 100,
   "metadata": {},
   "outputs": [
    {
     "data": {
      "text/html": [
       "<div>\n",
       "<style scoped>\n",
       "    .dataframe tbody tr th:only-of-type {\n",
       "        vertical-align: middle;\n",
       "    }\n",
       "\n",
       "    .dataframe tbody tr th {\n",
       "        vertical-align: top;\n",
       "    }\n",
       "\n",
       "    .dataframe thead th {\n",
       "        text-align: right;\n",
       "    }\n",
       "</style>\n",
       "<table border=\"1\" class=\"dataframe\">\n",
       "  <thead>\n",
       "    <tr style=\"text-align: right;\">\n",
       "      <th></th>\n",
       "      <th>is_canceled</th>\n",
       "      <th>lead_time</th>\n",
       "      <th>arrival_date_year</th>\n",
       "      <th>arrival_date_month</th>\n",
       "      <th>arrival_date_week_number</th>\n",
       "      <th>arrival_date_day_of_month</th>\n",
       "      <th>stays_in_weekend_nights</th>\n",
       "      <th>stays_in_week_nights</th>\n",
       "      <th>adults</th>\n",
       "      <th>children</th>\n",
       "      <th>...</th>\n",
       "      <th>previous_cancellations</th>\n",
       "      <th>previous_bookings_not_canceled</th>\n",
       "      <th>reserved_room_type</th>\n",
       "      <th>booking_changes</th>\n",
       "      <th>days_in_waiting_list</th>\n",
       "      <th>customer_type</th>\n",
       "      <th>required_car_parking_spaces</th>\n",
       "      <th>total_of_special_requests</th>\n",
       "      <th>total_nights</th>\n",
       "      <th>predictions</th>\n",
       "    </tr>\n",
       "  </thead>\n",
       "  <tbody>\n",
       "    <tr>\n",
       "      <th>0</th>\n",
       "      <td>1</td>\n",
       "      <td>74</td>\n",
       "      <td>2017</td>\n",
       "      <td>January</td>\n",
       "      <td>1</td>\n",
       "      <td>1</td>\n",
       "      <td>1</td>\n",
       "      <td>0</td>\n",
       "      <td>2</td>\n",
       "      <td>0</td>\n",
       "      <td>...</td>\n",
       "      <td>0</td>\n",
       "      <td>0</td>\n",
       "      <td>A</td>\n",
       "      <td>0</td>\n",
       "      <td>0</td>\n",
       "      <td>Transient</td>\n",
       "      <td>False</td>\n",
       "      <td>0</td>\n",
       "      <td>1</td>\n",
       "      <td>1</td>\n",
       "    </tr>\n",
       "    <tr>\n",
       "      <th>1</th>\n",
       "      <td>1</td>\n",
       "      <td>62</td>\n",
       "      <td>2017</td>\n",
       "      <td>January</td>\n",
       "      <td>1</td>\n",
       "      <td>1</td>\n",
       "      <td>2</td>\n",
       "      <td>2</td>\n",
       "      <td>2</td>\n",
       "      <td>0</td>\n",
       "      <td>...</td>\n",
       "      <td>0</td>\n",
       "      <td>0</td>\n",
       "      <td>A</td>\n",
       "      <td>0</td>\n",
       "      <td>0</td>\n",
       "      <td>Transient</td>\n",
       "      <td>False</td>\n",
       "      <td>1</td>\n",
       "      <td>4</td>\n",
       "      <td>0</td>\n",
       "    </tr>\n",
       "    <tr>\n",
       "      <th>2</th>\n",
       "      <td>1</td>\n",
       "      <td>62</td>\n",
       "      <td>2017</td>\n",
       "      <td>January</td>\n",
       "      <td>1</td>\n",
       "      <td>1</td>\n",
       "      <td>2</td>\n",
       "      <td>2</td>\n",
       "      <td>2</td>\n",
       "      <td>0</td>\n",
       "      <td>...</td>\n",
       "      <td>0</td>\n",
       "      <td>0</td>\n",
       "      <td>A</td>\n",
       "      <td>0</td>\n",
       "      <td>0</td>\n",
       "      <td>Transient</td>\n",
       "      <td>False</td>\n",
       "      <td>1</td>\n",
       "      <td>4</td>\n",
       "      <td>0</td>\n",
       "    </tr>\n",
       "    <tr>\n",
       "      <th>3</th>\n",
       "      <td>1</td>\n",
       "      <td>71</td>\n",
       "      <td>2017</td>\n",
       "      <td>January</td>\n",
       "      <td>1</td>\n",
       "      <td>1</td>\n",
       "      <td>2</td>\n",
       "      <td>2</td>\n",
       "      <td>1</td>\n",
       "      <td>0</td>\n",
       "      <td>...</td>\n",
       "      <td>0</td>\n",
       "      <td>0</td>\n",
       "      <td>A</td>\n",
       "      <td>0</td>\n",
       "      <td>0</td>\n",
       "      <td>Transient</td>\n",
       "      <td>False</td>\n",
       "      <td>1</td>\n",
       "      <td>4</td>\n",
       "      <td>0</td>\n",
       "    </tr>\n",
       "    <tr>\n",
       "      <th>4</th>\n",
       "      <td>1</td>\n",
       "      <td>172</td>\n",
       "      <td>2017</td>\n",
       "      <td>January</td>\n",
       "      <td>1</td>\n",
       "      <td>1</td>\n",
       "      <td>2</td>\n",
       "      <td>5</td>\n",
       "      <td>2</td>\n",
       "      <td>0</td>\n",
       "      <td>...</td>\n",
       "      <td>0</td>\n",
       "      <td>0</td>\n",
       "      <td>A</td>\n",
       "      <td>0</td>\n",
       "      <td>0</td>\n",
       "      <td>Transient</td>\n",
       "      <td>False</td>\n",
       "      <td>0</td>\n",
       "      <td>7</td>\n",
       "      <td>1</td>\n",
       "    </tr>\n",
       "  </tbody>\n",
       "</table>\n",
       "<p>5 rows × 25 columns</p>\n",
       "</div>"
      ],
      "text/plain": [
       "   is_canceled  lead_time  arrival_date_year arrival_date_month  \\\n",
       "0            1         74               2017            January   \n",
       "1            1         62               2017            January   \n",
       "2            1         62               2017            January   \n",
       "3            1         71               2017            January   \n",
       "4            1        172               2017            January   \n",
       "\n",
       "   arrival_date_week_number  arrival_date_day_of_month  \\\n",
       "0                         1                          1   \n",
       "1                         1                          1   \n",
       "2                         1                          1   \n",
       "3                         1                          1   \n",
       "4                         1                          1   \n",
       "\n",
       "   stays_in_weekend_nights  stays_in_week_nights  adults  children  ...  \\\n",
       "0                        1                     0       2         0  ...   \n",
       "1                        2                     2       2         0  ...   \n",
       "2                        2                     2       2         0  ...   \n",
       "3                        2                     2       1         0  ...   \n",
       "4                        2                     5       2         0  ...   \n",
       "\n",
       "   previous_cancellations previous_bookings_not_canceled reserved_room_type  \\\n",
       "0                       0                              0                  A   \n",
       "1                       0                              0                  A   \n",
       "2                       0                              0                  A   \n",
       "3                       0                              0                  A   \n",
       "4                       0                              0                  A   \n",
       "\n",
       "  booking_changes  days_in_waiting_list  customer_type  \\\n",
       "0               0                     0      Transient   \n",
       "1               0                     0      Transient   \n",
       "2               0                     0      Transient   \n",
       "3               0                     0      Transient   \n",
       "4               0                     0      Transient   \n",
       "\n",
       "   required_car_parking_spaces total_of_special_requests  total_nights  \\\n",
       "0                        False                         0             1   \n",
       "1                        False                         1             4   \n",
       "2                        False                         1             4   \n",
       "3                        False                         1             4   \n",
       "4                        False                         0             7   \n",
       "\n",
       "   predictions  \n",
       "0            1  \n",
       "1            0  \n",
       "2            0  \n",
       "3            0  \n",
       "4            1  \n",
       "\n",
       "[5 rows x 25 columns]"
      ]
     },
     "metadata": {},
     "output_type": "display_data"
    }
   ],
   "source": [
    "df_test['predictions'] = predicted_test\n",
    "display(df_test.head())"
   ]
  },
  {
   "cell_type": "markdown",
   "metadata": {},
   "source": [
    "Теперь на основе функции count_revenue создадим функцию, которая подсчитает прибыль отеля с учетом введения депозитов:"
   ]
  },
  {
   "cell_type": "code",
   "execution_count": 101,
   "metadata": {},
   "outputs": [],
   "source": [
    "summer = ['June', 'July', 'August'] # лето\n",
    "winter = ['December', 'January', 'February'] # зима\n",
    "\n",
    "def count_revenue_with_deposit(row):\n",
    "    room_type = row['reserved_room_type'] # категория комнаты\n",
    "    month = row['arrival_date_month'] # месяц заезда\n",
    "    week_nights = row['stays_in_week_nights'] # ночи в будни\n",
    "    weekend_nights = row['stays_in_weekend_nights'] # ночи в выходные\n",
    "    price = room_data[room_data['reserved_room_type'] == room_type]['room_price'].median() # стоимость номера\n",
    "    prepare_cost = room_data[room_data['reserved_room_type'] == room_type]['room_prepare'].median() # стоимость обслуживание\n",
    "    total_nights = week_nights + weekend_nights # общее количество ночей\n",
    "    \n",
    "    season_coefficient = 1.2\n",
    "    prepare_nights = 1 + math.floor(total_nights/2)\n",
    "    \n",
    "    #постоялец отменил бронь и модель предсказала, что он отменит\n",
    "    if (row['is_canceled'] == 1 and row['predictions']==1):\n",
    "        \n",
    "        if month in summer:\n",
    "            season_coefficient = 1.4\n",
    "        if month in winter:\n",
    "            season_coefficient = 1\n",
    "        \n",
    "        deposit = 0.8 * (season_coefficient*price + prepare_cost)\n",
    "        revenue_with_deposit = deposit - season_coefficient*price - prepare_cost\n",
    "        \n",
    "    #постоялец отменил бронь, а модель предсказала, что он заселится \n",
    "    elif (row['is_canceled'] == 1 and row['predictions']==0): \n",
    "        deposit = 0\n",
    "        revenue_with_deposit = - deposit - prepare_cost - season_coefficient * price\n",
    "        \n",
    "       \n",
    "    #постоялец не отменил бронь, а модель предсказала, что он отменит     \n",
    "    # row['is_canceled'] == 0 and row['predictions']==1 \n",
    "    #или         \n",
    "    #постоялец не отменил бронь и модель предсказала, что он заселится\n",
    "    # row['is_canceled'] == 0 and row['predictions']==0\n",
    "    else:\n",
    "        revenue_with_deposit = season_coefficient*price*total_nights - prepare_nights*prepare_cost\n",
    "    \n",
    "    return revenue_with_deposit # прибыль"
   ]
  },
  {
   "cell_type": "markdown",
   "metadata": {},
   "source": [
    "<div class=\"alert alert-danger\">\n",
    "<h2>Комментарий ревьюера<a class=\"tocSkip\"></a></h2>\n",
    "\n",
    "**Нужно доработать** ❌: тут тоже нужно разобраться подробнее:\n",
    "    \n",
    "1. Размер депозита — это 80% от стоимости номера за одни сутки с учетом сезонного коэффициента и затрат на разовую уборку, а по твоей формуле учитывается только 80% от стоимости номера, нужно поправить.\n",
    "\n",
    "2. Также для корректного расчета прибыли нужно учитывать предсказания модели и факт отмены вместе, поэтому, чтобы не запутаться, можно попробовать рассмотреть все возможные комбинации:\n",
    "    \n",
    "    is_canceled = 0, predictions = 0 — постоялец заселился (profit > 0), модель предсказала, что он заселится. В этом случае прибыль отеля никак не меняется.\n",
    "\n",
    "    is_canceled = 0, predictions = 1 — постоялец заселился (profit > 0), модель предсказала, что он отменит. В этом случае постоялец внесёт депозит, который пойдёт в счёт оплаты, то есть в этом случае прибыль отеля тоже никак не меняется.\n",
    "\n",
    "    is_canceled = 1, predictions = 0 — постоялец отменил бронь (profit < 0), модель предсказала, что он заселится, то есть депозит с такого клиента не брали. Тогда прибыль отеля тоже никак не меняется, отель просто потерял деньги, как и до внедрения модели.\n",
    "\n",
    "    is_canceled = 1, predictions = 1 — постоялец отменил бронь (profit < 0), модель предсказала, что он отменит, с постояльца взяли депозит в 80% от стоимости номера за одни сутки с учетом сезонного коэффициента и затрат на разовую уборку, отель потеряет только 20% от той суммы, которую терял без модели, так как остальное покроет депозит\n",
    "\n",
    "    Получается, при отмене брони отель в любом случае уходит в минус, ведь депозит покрывает только 80% убытков, а по твоей формуле он уходит в плюс</div>"
   ]
  },
  {
   "cell_type": "markdown",
   "metadata": {},
   "source": [
    "<div class=\"alert alert-danger\">\n",
    "<h2>Комментарий ревьюера v2<a class=\"tocSkip\"></a></h2>\n",
    "\n",
    "**Нужно доработать** ❌: уже ближе, но еще осталось пару важных моментов:\n",
    "1. Здесь, как и до внедрения модели, также нужно доразобраться с количеством уборок;\n",
    "2. Согласно заданию, размер депозита составляет 80% от стоимости номера за одни сутки с учетом сезонного коэффициента **И** затрат на разовую уборку, тогда коэффициент 0.8 нужно применить и к стоимости уборки тоже;\n",
    "3. При отмене бронирования отель несет убытки вне зависимости от факта взятия депозита, ведь в этом случае он покрывает только 80% убытков, а 20% остается, а по твоей формуле он только уходит в плюс на сумму депозита</div>"
   ]
  },
  {
   "cell_type": "markdown",
   "metadata": {},
   "source": [
    "<div class=\"alert alert-warning\">\n",
    "<h2>Комментарий ревьюера v2<a class=\"tocSkip\"></a></h2>\n",
    "    \n",
    "**Есть совет** ⚠️: если внимательно изучить все комбинации, которые я описывал выше, то можно увидеть, что прибыль до и после внедрения модели отличается только в одном случае — когда клиент отменил бронирование и модель успешно это определила(is_canceled = 1, predictions = 1). Тогда можно использовать ту же формулу, что и до внедрения модели, только учесть этот случай. Так как депозит покрывает 80% убытков, то 20% убытков остается, тогда, чтобы не проводить долгих расчетов, можно просто умножить убытки на 0.2, тогда код будет выглядеть примерно так:\n",
    "    \n",
    "    def count_revenue_with_deposit(row):\n",
    "        ...\n",
    "        # расчет сезонного коэффициента можно вынести выше, чтобы меньше дублировать код\n",
    "        season_coefficient = 1.2\n",
    "        if month in summer:\n",
    "            season_coefficient = 1.4\n",
    "        if month in winter:\n",
    "            season_coefficient = 1\n",
    "        ...\n",
    "    \n",
    "        if row['is_canceled'] == 0:\n",
    "            # прибыль в случае успешного заселения никак не меняется\n",
    "            revenue = season_coefficient * price * total_nights - prepare_nights * prepare_cost\n",
    "        else:\n",
    "            revenue = ...\n",
    "        if row['predictions'] == 1:\n",
    "            revenue = revenue * 0.2\n",
    "    \n",
    "        return revenue\n",
    "</div>"
   ]
  },
  {
   "cell_type": "markdown",
   "metadata": {},
   "source": [
    "<div class=\"alert alert-danger\">\n",
    "<h2>Комментарий ревьюера v3<a class=\"tocSkip\"></a></h2>\n",
    "\n",
    "**Нужно доработать** ❌: тут тоже обязательно нужно поправить расчет прибыли</div>"
   ]
  },
  {
   "cell_type": "markdown",
   "metadata": {},
   "source": [
    "<div class=\"alert alert-info\">\n",
    "    <b>Комментарий студента V2-3:</b> подправила расчет прибыли. Надеюсь, что сейчас верно :)\n",
    "</div>"
   ]
  },
  {
   "cell_type": "markdown",
   "metadata": {},
   "source": [
    "<div class=\"alert alert-danger\">\n",
    "<h2>Комментарий ревьюера v4<a class=\"tocSkip\"></a></h2>\n",
    "\n",
    "**Нужно доработать** ❌: с расчетом уборок теперь все шикарно, но еще нужно доразобраться со случаем успешного предсказания модели отмены бронирования(is_canceled=1, predictions=1). Резюмируя мои комментарии выше и текст задания можно определить, что:\n",
    "    \n",
    "    депозит = 0.8 * (стоимость номера * сезонный коэффициент + стоимость уборки)\n",
    "    \n",
    "    убытки = стоимость номера * сезонный коэффициент + стоимость уборки\n",
    "    \n",
    "    прибыль = депозит - убытки\n",
    "    \n",
    "То есть в этом случае отель будет уходить не в плюс на размер депозита, а всегда в минус, но на разницу между депозитом и убытками\n",
    "</div>"
   ]
  },
  {
   "cell_type": "markdown",
   "metadata": {},
   "source": [
    "<div class=\"alert alert-info\">\n",
    "    <b>Комментарий студента V4:</b> И снова исправление функции :)\n",
    "</div>"
   ]
  },
  {
   "cell_type": "code",
   "execution_count": 102,
   "metadata": {},
   "outputs": [
    {
     "name": "stdout",
     "output_type": "stream",
     "text": [
      "Прибыль отеля после внедрения депозитов: 40664284.0 рублей\n"
     ]
    }
   ],
   "source": [
    "total_revenue_deposit = df_test.apply(count_revenue_with_deposit, axis=1).sum()\n",
    "print(f'Прибыль отеля после внедрения депозитов: {total_revenue_deposit} рублей')"
   ]
  },
  {
   "cell_type": "markdown",
   "metadata": {},
   "source": [
    "Подсчитаем чистую прибыль отеля после введения системы депозитов с учетом стоимости разработки системы прогнозирования:"
   ]
  },
  {
   "cell_type": "code",
   "execution_count": 103,
   "metadata": {},
   "outputs": [
    {
     "name": "stdout",
     "output_type": "stream",
     "text": [
      "Чистая прибыль отеля после внедрения депозитов: 7889464.0 рублей\n"
     ]
    }
   ],
   "source": [
    "IMPLEMENTATION_COST = 400000\n",
    "net_profit = total_revenue_deposit  - total_revenue - IMPLEMENTATION_COST\n",
    "print(f'Чистая прибыль отеля после внедрения депозитов: {net_profit} рублей')"
   ]
  },
  {
   "cell_type": "markdown",
   "metadata": {},
   "source": [
    "#### Промежуточные выводы"
   ]
  },
  {
   "cell_type": "markdown",
   "metadata": {},
   "source": [
    "- Отель до внедрения системы депозитов за 2017 год получил прибыль 32,37 млн.руб<br>\n",
    "- Лучшая модель: дерево решений при величине гиперпараметра max_depth=5<br>\n",
    "- Метрики качества на тестовой выборке: F1-мера - 0.6339, метрика AUC-ROC - 0.7748, качество 0.6967, точность 0.599, полнота 0.6731<br>\n",
    "- Прибыль после введения депозитов в 2017 году могла стать почти 40,7 млн.руб.<br>\n",
    "- C учетом стоимости введения системы депозитов, отель за год может получить дополнительно почти 7,9 млн. чистой прибыли<br>"
   ]
  },
  {
   "cell_type": "markdown",
   "metadata": {},
   "source": [
    "### Шаг 5. Опишите портрет «ненадёжного» клиента"
   ]
  },
  {
   "cell_type": "markdown",
   "metadata": {},
   "source": [
    "Проанализируем результаты предсказания модели с действительно отмененными заказами. Для этого сделаем срез по предсказаниям модели и фактически отмененным заказом. Для анализа будем использовать метод describe, т.к. он показывает медианное значение и квартили:"
   ]
  },
  {
   "cell_type": "code",
   "execution_count": 104,
   "metadata": {},
   "outputs": [
    {
     "data": {
      "text/html": [
       "<div>\n",
       "<style scoped>\n",
       "    .dataframe tbody tr th:only-of-type {\n",
       "        vertical-align: middle;\n",
       "    }\n",
       "\n",
       "    .dataframe tbody tr th {\n",
       "        vertical-align: top;\n",
       "    }\n",
       "\n",
       "    .dataframe thead th {\n",
       "        text-align: right;\n",
       "    }\n",
       "</style>\n",
       "<table border=\"1\" class=\"dataframe\">\n",
       "  <thead>\n",
       "    <tr style=\"text-align: right;\">\n",
       "      <th></th>\n",
       "      <th>count</th>\n",
       "      <th>mean</th>\n",
       "      <th>std</th>\n",
       "      <th>min</th>\n",
       "      <th>25%</th>\n",
       "      <th>50%</th>\n",
       "      <th>75%</th>\n",
       "      <th>max</th>\n",
       "    </tr>\n",
       "  </thead>\n",
       "  <tbody>\n",
       "    <tr>\n",
       "      <th>is_canceled</th>\n",
       "      <td>8328.0</td>\n",
       "      <td>1.000000</td>\n",
       "      <td>0.000000</td>\n",
       "      <td>1.0</td>\n",
       "      <td>1.0</td>\n",
       "      <td>1.0</td>\n",
       "      <td>1.0</td>\n",
       "      <td>1.0</td>\n",
       "    </tr>\n",
       "    <tr>\n",
       "      <th>lead_time</th>\n",
       "      <td>8328.0</td>\n",
       "      <td>118.785543</td>\n",
       "      <td>78.165201</td>\n",
       "      <td>0.0</td>\n",
       "      <td>56.0</td>\n",
       "      <td>109.0</td>\n",
       "      <td>169.0</td>\n",
       "      <td>349.0</td>\n",
       "    </tr>\n",
       "    <tr>\n",
       "      <th>arrival_date_year</th>\n",
       "      <td>8328.0</td>\n",
       "      <td>2017.000000</td>\n",
       "      <td>0.000000</td>\n",
       "      <td>2017.0</td>\n",
       "      <td>2017.0</td>\n",
       "      <td>2017.0</td>\n",
       "      <td>2017.0</td>\n",
       "      <td>2017.0</td>\n",
       "    </tr>\n",
       "    <tr>\n",
       "      <th>arrival_date_week_number</th>\n",
       "      <td>8328.0</td>\n",
       "      <td>17.613473</td>\n",
       "      <td>8.405157</td>\n",
       "      <td>1.0</td>\n",
       "      <td>11.0</td>\n",
       "      <td>18.0</td>\n",
       "      <td>24.0</td>\n",
       "      <td>35.0</td>\n",
       "    </tr>\n",
       "    <tr>\n",
       "      <th>arrival_date_day_of_month</th>\n",
       "      <td>8328.0</td>\n",
       "      <td>15.656460</td>\n",
       "      <td>8.671792</td>\n",
       "      <td>1.0</td>\n",
       "      <td>8.0</td>\n",
       "      <td>15.0</td>\n",
       "      <td>23.0</td>\n",
       "      <td>31.0</td>\n",
       "    </tr>\n",
       "    <tr>\n",
       "      <th>stays_in_weekend_nights</th>\n",
       "      <td>8328.0</td>\n",
       "      <td>0.837536</td>\n",
       "      <td>0.854012</td>\n",
       "      <td>0.0</td>\n",
       "      <td>0.0</td>\n",
       "      <td>1.0</td>\n",
       "      <td>2.0</td>\n",
       "      <td>4.0</td>\n",
       "    </tr>\n",
       "    <tr>\n",
       "      <th>stays_in_week_nights</th>\n",
       "      <td>8328.0</td>\n",
       "      <td>2.350024</td>\n",
       "      <td>1.272082</td>\n",
       "      <td>0.0</td>\n",
       "      <td>1.0</td>\n",
       "      <td>2.0</td>\n",
       "      <td>3.0</td>\n",
       "      <td>6.0</td>\n",
       "    </tr>\n",
       "    <tr>\n",
       "      <th>adults</th>\n",
       "      <td>8328.0</td>\n",
       "      <td>1.878602</td>\n",
       "      <td>0.467545</td>\n",
       "      <td>1.0</td>\n",
       "      <td>2.0</td>\n",
       "      <td>2.0</td>\n",
       "      <td>2.0</td>\n",
       "      <td>4.0</td>\n",
       "    </tr>\n",
       "    <tr>\n",
       "      <th>children</th>\n",
       "      <td>8328.0</td>\n",
       "      <td>0.074087</td>\n",
       "      <td>0.334065</td>\n",
       "      <td>0.0</td>\n",
       "      <td>0.0</td>\n",
       "      <td>0.0</td>\n",
       "      <td>0.0</td>\n",
       "      <td>3.0</td>\n",
       "    </tr>\n",
       "    <tr>\n",
       "      <th>is_repeated_guest</th>\n",
       "      <td>8328.0</td>\n",
       "      <td>0.001921</td>\n",
       "      <td>0.043792</td>\n",
       "      <td>0.0</td>\n",
       "      <td>0.0</td>\n",
       "      <td>0.0</td>\n",
       "      <td>0.0</td>\n",
       "      <td>1.0</td>\n",
       "    </tr>\n",
       "    <tr>\n",
       "      <th>previous_cancellations</th>\n",
       "      <td>8328.0</td>\n",
       "      <td>0.002161</td>\n",
       "      <td>0.069275</td>\n",
       "      <td>0.0</td>\n",
       "      <td>0.0</td>\n",
       "      <td>0.0</td>\n",
       "      <td>0.0</td>\n",
       "      <td>4.0</td>\n",
       "    </tr>\n",
       "    <tr>\n",
       "      <th>previous_bookings_not_canceled</th>\n",
       "      <td>8328.0</td>\n",
       "      <td>0.006484</td>\n",
       "      <td>0.302833</td>\n",
       "      <td>0.0</td>\n",
       "      <td>0.0</td>\n",
       "      <td>0.0</td>\n",
       "      <td>0.0</td>\n",
       "      <td>26.0</td>\n",
       "    </tr>\n",
       "    <tr>\n",
       "      <th>booking_changes</th>\n",
       "      <td>8328.0</td>\n",
       "      <td>0.073967</td>\n",
       "      <td>0.364847</td>\n",
       "      <td>0.0</td>\n",
       "      <td>0.0</td>\n",
       "      <td>0.0</td>\n",
       "      <td>0.0</td>\n",
       "      <td>5.0</td>\n",
       "    </tr>\n",
       "    <tr>\n",
       "      <th>days_in_waiting_list</th>\n",
       "      <td>8328.0</td>\n",
       "      <td>0.202209</td>\n",
       "      <td>2.513169</td>\n",
       "      <td>0.0</td>\n",
       "      <td>0.0</td>\n",
       "      <td>0.0</td>\n",
       "      <td>0.0</td>\n",
       "      <td>50.0</td>\n",
       "    </tr>\n",
       "    <tr>\n",
       "      <th>total_of_special_requests</th>\n",
       "      <td>8328.0</td>\n",
       "      <td>0.000000</td>\n",
       "      <td>0.000000</td>\n",
       "      <td>0.0</td>\n",
       "      <td>0.0</td>\n",
       "      <td>0.0</td>\n",
       "      <td>0.0</td>\n",
       "      <td>0.0</td>\n",
       "    </tr>\n",
       "    <tr>\n",
       "      <th>total_nights</th>\n",
       "      <td>8328.0</td>\n",
       "      <td>3.187560</td>\n",
       "      <td>1.557552</td>\n",
       "      <td>1.0</td>\n",
       "      <td>2.0</td>\n",
       "      <td>3.0</td>\n",
       "      <td>4.0</td>\n",
       "      <td>10.0</td>\n",
       "    </tr>\n",
       "    <tr>\n",
       "      <th>predictions</th>\n",
       "      <td>8328.0</td>\n",
       "      <td>1.000000</td>\n",
       "      <td>0.000000</td>\n",
       "      <td>1.0</td>\n",
       "      <td>1.0</td>\n",
       "      <td>1.0</td>\n",
       "      <td>1.0</td>\n",
       "      <td>1.0</td>\n",
       "    </tr>\n",
       "  </tbody>\n",
       "</table>\n",
       "</div>"
      ],
      "text/plain": [
       "                                 count         mean        std     min  \\\n",
       "is_canceled                     8328.0     1.000000   0.000000     1.0   \n",
       "lead_time                       8328.0   118.785543  78.165201     0.0   \n",
       "arrival_date_year               8328.0  2017.000000   0.000000  2017.0   \n",
       "arrival_date_week_number        8328.0    17.613473   8.405157     1.0   \n",
       "arrival_date_day_of_month       8328.0    15.656460   8.671792     1.0   \n",
       "stays_in_weekend_nights         8328.0     0.837536   0.854012     0.0   \n",
       "stays_in_week_nights            8328.0     2.350024   1.272082     0.0   \n",
       "adults                          8328.0     1.878602   0.467545     1.0   \n",
       "children                        8328.0     0.074087   0.334065     0.0   \n",
       "is_repeated_guest               8328.0     0.001921   0.043792     0.0   \n",
       "previous_cancellations          8328.0     0.002161   0.069275     0.0   \n",
       "previous_bookings_not_canceled  8328.0     0.006484   0.302833     0.0   \n",
       "booking_changes                 8328.0     0.073967   0.364847     0.0   \n",
       "days_in_waiting_list            8328.0     0.202209   2.513169     0.0   \n",
       "total_of_special_requests       8328.0     0.000000   0.000000     0.0   \n",
       "total_nights                    8328.0     3.187560   1.557552     1.0   \n",
       "predictions                     8328.0     1.000000   0.000000     1.0   \n",
       "\n",
       "                                   25%     50%     75%     max  \n",
       "is_canceled                        1.0     1.0     1.0     1.0  \n",
       "lead_time                         56.0   109.0   169.0   349.0  \n",
       "arrival_date_year               2017.0  2017.0  2017.0  2017.0  \n",
       "arrival_date_week_number          11.0    18.0    24.0    35.0  \n",
       "arrival_date_day_of_month          8.0    15.0    23.0    31.0  \n",
       "stays_in_weekend_nights            0.0     1.0     2.0     4.0  \n",
       "stays_in_week_nights               1.0     2.0     3.0     6.0  \n",
       "adults                             2.0     2.0     2.0     4.0  \n",
       "children                           0.0     0.0     0.0     3.0  \n",
       "is_repeated_guest                  0.0     0.0     0.0     1.0  \n",
       "previous_cancellations             0.0     0.0     0.0     4.0  \n",
       "previous_bookings_not_canceled     0.0     0.0     0.0    26.0  \n",
       "booking_changes                    0.0     0.0     0.0     5.0  \n",
       "days_in_waiting_list               0.0     0.0     0.0    50.0  \n",
       "total_of_special_requests          0.0     0.0     0.0     0.0  \n",
       "total_nights                       2.0     3.0     4.0    10.0  \n",
       "predictions                        1.0     1.0     1.0     1.0  "
      ]
     },
     "execution_count": 104,
     "metadata": {},
     "output_type": "execute_result"
    }
   ],
   "source": [
    "df_test.query('is_canceled==1 and predictions==True').describe().T"
   ]
  },
  {
   "cell_type": "markdown",
   "metadata": {},
   "source": [
    "Сначала проанализируем количественные переменные. Исходя из данных, можно предположить что \"ненадежный\" клиент:"
   ]
  },
  {
   "cell_type": "markdown",
   "metadata": {},
   "source": [
    "- бронирует номер более чем заранее: в среднем не менее чем за 115 дней до заезда<br>\n",
    "- предпочитает оставаться на одну ночь в выходные и на две ночи в будние дни<br>\n",
    "- это двое взрослых, у которых нет детей и младенцев<br>\n",
    "- бронирует первый раз, без подтвержденных и без отменных заказов, при этом заказ не меняет<br>\n",
    "- в заказе нет ни одной дополнительной отметки<br>\n",
    "- не подтверждает заказ<br>"
   ]
  },
  {
   "cell_type": "markdown",
   "metadata": {},
   "source": [
    "Теперь проананализируем категориальные переменные:"
   ]
  },
  {
   "cell_type": "code",
   "execution_count": 105,
   "metadata": {},
   "outputs": [
    {
     "data": {
      "text/plain": [
       "Transient          0.916427\n",
       "Transient-Party    0.078770\n",
       "Contract           0.004083\n",
       "Group              0.000720\n",
       "Name: customer_type, dtype: float64"
      ]
     },
     "execution_count": 105,
     "metadata": {},
     "output_type": "execute_result"
    }
   ],
   "source": [
    "df_test.query('is_canceled==1 and predictions==True')['customer_type'].value_counts(normalize=True)"
   ]
  },
  {
   "cell_type": "code",
   "execution_count": 106,
   "metadata": {},
   "outputs": [
    {
     "data": {
      "text/plain": [
       "BB    0.826369\n",
       "SC    0.120917\n",
       "HB    0.051153\n",
       "FB    0.001561\n",
       "Name: meal, dtype: float64"
      ]
     },
     "execution_count": 106,
     "metadata": {},
     "output_type": "execute_result"
    }
   ],
   "source": [
    "df_test.query('is_canceled==1 and predictions==True')['meal'].value_counts(normalize=True)"
   ]
  },
  {
   "cell_type": "code",
   "execution_count": 107,
   "metadata": {},
   "outputs": [
    {
     "data": {
      "text/plain": [
       "A    0.786383\n",
       "D    0.148775\n",
       "E    0.036143\n",
       "F    0.012488\n",
       "G    0.008886\n",
       "C    0.005163\n",
       "B    0.002161\n",
       "Name: reserved_room_type, dtype: float64"
      ]
     },
     "execution_count": 107,
     "metadata": {},
     "output_type": "execute_result"
    }
   ],
   "source": [
    "df_test.query('is_canceled==1 and predictions==True')['reserved_room_type'].value_counts(normalize=True)"
   ]
  },
  {
   "cell_type": "code",
   "execution_count": 108,
   "metadata": {},
   "outputs": [
    {
     "data": {
      "text/plain": [
       "TA/TO        0.903338\n",
       "Direct       0.051153\n",
       "Corporate    0.044188\n",
       "GDS          0.001321\n",
       "Name: distribution_channel, dtype: float64"
      ]
     },
     "execution_count": 108,
     "metadata": {},
     "output_type": "execute_result"
    }
   ],
   "source": [
    "df_test.query('is_canceled==1 and predictions==True')['distribution_channel'].value_counts(normalize=True)"
   ]
  },
  {
   "cell_type": "markdown",
   "metadata": {},
   "source": [
    "Портрет \"ненадежного\" клиента можно дополнить следующими признаками:<br>\n",
    "- клиент не связан договором или групповым заездом (93%)<br>\n",
    "- предпочитает самую дорогую категорию комнат (категория А - 81%) и только с завтраками (79%)<br>\n",
    "- канал дистрибуции TA/TO (93%)<br>"
   ]
  },
  {
   "cell_type": "markdown",
   "metadata": {},
   "source": [
    "<div class=\"alert alert-success\">\n",
    "<h2>Комментарий ревьюера<a class=\"tocSkip\"></a></h2>\n",
    "    \n",
    "**Отлично!** ✔️: вполне наглядный получился портрет :)</div>"
   ]
  },
  {
   "cell_type": "markdown",
   "metadata": {},
   "source": [
    "### Шаг 6. Напишите общий вывод"
   ]
  },
  {
   "cell_type": "markdown",
   "metadata": {},
   "source": [
    "В работе был использованы датасеты с данными клиентов сети отелей «Как в гостях».<br>\n",
    "Была выполнена предобработка данных, с последующим исследовательским анализом данных:<br>\n",
    "•\tв обоих таблицах не было пропусков и явных дубликатов.<br>\n",
    "•\tбыли выявлены неявные дубликаты в столбце \"meal\". Причина - лишние пропуски.<br>\n",
    "•\tпроверили на лишние пропуски столбцы с категориальными переменными. В итоге исправлен столбец \"reserved_room_type\"<br>\n",
    "•\tскорректировали формат данных для следубщих столбцов: \"lead_time\", \"adults\", \"children\", \"babies\". Из float64 к формату int64.<br>\n",
    "•\tудалили выбросы и аномальные значения из столбцов: \"lead_time\" (значения от 350 и выше), \"adults\" (равные 0), \"babies\" (равные 9 и 10), \"required_car_parking_spaces\" (от 2 и выше), \"booking_changes\" (от 6 и выше), \"days_in_waiting_list\" ( от 51 и выше).<br>\n",
    "•\tс помощью матрицы корреляции обнаружили взаимосвязь столбцов \"total_nights\" с \"stays_in_weekend_nights\" и \"stays_in_week_nights\".<br>"
   ]
  },
  {
   "cell_type": "markdown",
   "metadata": {},
   "source": [
    "Была определена и сформулирована ML-задача на основе бизнес-задачи: задача классификации. Определены признаки и целевой признак для обучения модели. Согласно определению задачи, для обучения были выбраны следующие модели: логистическая регрессия, дерево решений и случайный лес.<br>\n",
    "Для преобразования категориальных признаков был использован метод OneHotEncoder. Все выборки были преобразованы функцией transform.<br>\n",
    "По итогам обучения моделей была выбрана лучшая модель по результам кросс-валидации.<br>Это оказалась модель дерево решений с глубиной дерева 5. На этой модели была проведено тестирование.<br>\n",
    "Результаты модели Дерево решений на тестовой выборке:<br>\n",
    "Значение F1-меры на тестовой выборке: 0.6339<br>\n",
    "Качество: 0.6997<br>\n",
    "Точность: 0.599<br>\n",
    "Полнота: 0.6731<br>\n",
    "Значение метрики AUC-ROC: 0.7748<br>\n",
    "Финальная модель прошла проверку на адекватность в сравнении с константной моделью:<br>\n",
    "Качество константной модели 0.6138<br>\n",
    "Качество тестовой модели: 0.6997<br>\n",
    "AUC-ROC константой модели: 0.5<br>\n",
    "AUC-ROC тестовой модели: 0.7748<br>\n",
    "Модель характеризуется средним показателем точности 0.599, поэтому она верно предсказывает около половины «ненадежных» клиентов."
   ]
  },
  {
   "cell_type": "markdown",
   "metadata": {},
   "source": [
    "Была определена прибыль отеля до и после внедрения депозита:<br>\n",
    "• Отель до внедрения системы депозитов за 2017 год получил прибыль 32,37 млн.руб.<br>\n",
    "• Прибыль после введения депозитов в 2017 году могла стать почти 40,7 млн.руб.<br>\n",
    "• C учетом стоимости введения системы депозитов, отель за год может получить дополнительно почти 7,9 млн. чистой прибыли.<br>"
   ]
  },
  {
   "cell_type": "markdown",
   "metadata": {},
   "source": [
    "Согласно предсказаниям модели был определен портрет «ненадежного» клиента:<br>\n",
    "• бронирует номер более чем заранее: в среднем не менее чем за 115 дней до заезда<br>\n",
    "• предпочитает оставаться на одну ночь в выходные и на две ночи в будние дни<br>\n",
    "• это двое взрослых, у которых нет детей и младенцев<br>\n",
    "• бронирует первый раз, без подтвержденных и без отменных заказов, при этом заказ не меняет<br>\n",
    "• в заказе нет ни одной дополнительной отметки<br>\n",
    "• не подтверждает заказ<br>\n",
    "• клиент не связан договором или групповым заездом (91,6%)<br>\n",
    "• предпочитает самую дорогую категорию комнат (категория А - 78,6%) и только с завтраками (82,6%)<br>\n",
    "• канал дистрибуции TA/TO (90%)<br>"
   ]
  },
  {
   "cell_type": "markdown",
   "metadata": {},
   "source": [
    "Исходя из всех выводов можно рекомендовать для сети отелей:\n",
    "\n",
    "ввести систему депозитов\n",
    "использовать модель для предсказания отказа от брони\n",
    "вне зависимости от работы модели, ввести обязательный депозит для клиентов, которые попадают под портрет «ненадежного» клиента."
   ]
  },
  {
   "cell_type": "markdown",
   "metadata": {},
   "source": [
    "<div style=\"padding: 20px 25px; border: 2px #6495ed solid\">\n",
    "    \n",
    "<h2 style=\"color: #87187D\">Итоговый комментарий ревьюера<a class=\"tocSkip\"></a></h2>\n",
    "\n",
    "Видно, что ты приложила много усилий, спасибо за проект!\n",
    "\n",
    "Но тебе обязательно нужно обратить внимание на следующее:\n",
    "* поправь расчет прибыли до и после внедрения модели;\n",
    "* разбивать обучающую выборку на подвыборки не нужно, для оценки моделей и подбора гиперпараметров нам нужна кросс-валидация;\n",
    "* подбери хотя бы по 2-3 гиперпараметра для каждой модели;\n",
    "* аргументируй свой выбор метрики: подходящих метрик тут может быть несколько, но по сути основная задача с точки зрения ML — это минимизировать количество ложноотрицательных ответов. Но если разобраться, то и бизнес-метрика вполне может быть основной метрикой для оценки моделей, здорово, если у тебя получится это реализовать;\n",
    "\n",
    "Остальные комментарии можно найти в проекте. Готов ответить на любые вопросы :)\n",
    "\n",
    "<b>Жду доработанный проект на повторное ревью! Удачи!</b>\n",
    "        \n",
    "</div>"
   ]
  },
  {
   "cell_type": "markdown",
   "metadata": {},
   "source": [
    "<div class=\"alert alert-info\">\n",
    "    <b>Комментарий студента:</b> Алексей еще раз спасибо за проделанную работу!\n",
    "</div>"
   ]
  },
  {
   "cell_type": "markdown",
   "metadata": {},
   "source": [
    "<div style=\"padding: 20px 25px; border: 2px #6495ed solid\">\n",
    "    \n",
    "<h2 style=\"color: #87187D\">Итоговый комментарий ревьюера v2<a class=\"tocSkip\"></a></h2>\n",
    "\n",
    "Здорово, что получилось исправить некоторые замечания!\n",
    "    \n",
    "Но еще осталось доразобраться с прибылью до и после внедрения модели, а также аргументировать свой выбор метрики для оценки качества моделей и добавить подбор хотя бы 2 гиперпараметров для каждой модели\n",
    "\n",
    "Не стесняйся задавать вопросы, если что-то непонятно. Постараюсь проверить твой проект побыстрее :)\n",
    "\n",
    "<b>Жду доработанный проект на повторное ревью! Удачи!</b>\n",
    "        \n",
    "</div>"
   ]
  },
  {
   "cell_type": "markdown",
   "metadata": {},
   "source": [
    "<div style=\"padding: 20px 25px; border: 2px #6495ed solid\">\n",
    "    \n",
    "<h2 style=\"color: #87187D\">Итоговый комментарий ревьюера v3<a class=\"tocSkip\"></a></h2>\n",
    "\n",
    "Постарался подробнее описать про метрики и гиперпараметры, но если остались сложности, то задавай вопросы у меня, наставников или одногруппников, мы с удовольствием тебе поможем :)\n",
    "\n",
    "<b>Жду доработанный проект на повторное ревью! Удачи!</b>\n",
    "        \n",
    "</div>"
   ]
  },
  {
   "cell_type": "markdown",
   "metadata": {},
   "source": [
    "<div class=\"alert alert-info\">\n",
    "    <b>Комментарий студента V2-3:</b> Алексей, еще раз благодарю! Очень много советов. Буду изучать, это не дело двух недель сборного проекта. Надеюсь, что в последующих спринтах у меня дополнится и сложится полная картина машинного обучения.\n",
    "</div>"
   ]
  },
  {
   "cell_type": "markdown",
   "metadata": {},
   "source": [
    "<div style=\"padding: 20px 25px; border: 2px #6495ed solid\">\n",
    "    \n",
    "<h2 style=\"color: #87187D\">Итоговый комментарий ревьюера v4<a class=\"tocSkip\"></a></h2>\n",
    "\n",
    "Уже почти то, что нужно, молодец!\n",
    "    \n",
    "Осталось поправить расчет прибыли после внедрения модели и я смогу принять твою работу\n",
    "    \n",
    "А советы действительно можно оставить на потом, это не так критично\n",
    "\n",
    "<b>Жду доработанный проект на повторное ревью! Удачи!</b>\n",
    "        \n",
    "</div>"
   ]
  },
  {
   "cell_type": "markdown",
   "metadata": {},
   "source": [
    "\n",
    "<div class=\"alert alert-info\">\n",
    "    <b>Комментарий студента V4:</b> Алексей, спасибо за внимание и терпение к моему уровню знаний :)<br> Уфффф....\n",
    "</div>"
   ]
  },
  {
   "cell_type": "code",
   "execution_count": null,
   "metadata": {},
   "outputs": [],
   "source": []
  }
 ],
 "metadata": {
  "ExecuteTimeLog": [
   {
    "duration": 1639,
    "start_time": "2022-11-05T15:28:16.907Z"
   },
   {
    "duration": 1410,
    "start_time": "2022-11-05T15:28:18.548Z"
   },
   {
    "duration": 26,
    "start_time": "2022-11-05T15:28:19.960Z"
   },
   {
    "duration": 19,
    "start_time": "2022-11-05T15:28:19.989Z"
   },
   {
    "duration": 34,
    "start_time": "2022-11-05T15:28:20.010Z"
   },
   {
    "duration": 19,
    "start_time": "2022-11-05T15:28:20.045Z"
   },
   {
    "duration": 28,
    "start_time": "2022-11-05T15:28:20.065Z"
   },
   {
    "duration": 64,
    "start_time": "2022-11-05T15:28:20.095Z"
   },
   {
    "duration": 63,
    "start_time": "2022-11-05T15:28:20.162Z"
   },
   {
    "duration": 55,
    "start_time": "2022-11-05T15:28:20.227Z"
   },
   {
    "duration": 35,
    "start_time": "2022-11-05T15:28:20.291Z"
   },
   {
    "duration": 9,
    "start_time": "2022-11-05T15:28:20.328Z"
   },
   {
    "duration": 6,
    "start_time": "2022-11-05T15:28:20.339Z"
   },
   {
    "duration": 45,
    "start_time": "2022-11-05T15:28:20.347Z"
   },
   {
    "duration": 5,
    "start_time": "2022-11-05T15:28:20.395Z"
   },
   {
    "duration": 8,
    "start_time": "2022-11-05T15:28:20.402Z"
   },
   {
    "duration": 9,
    "start_time": "2022-11-05T15:28:20.411Z"
   },
   {
    "duration": 80,
    "start_time": "2022-11-05T15:28:20.422Z"
   },
   {
    "duration": 6,
    "start_time": "2022-11-05T15:28:20.504Z"
   },
   {
    "duration": 7,
    "start_time": "2022-11-05T15:28:20.511Z"
   },
   {
    "duration": 13,
    "start_time": "2022-11-05T15:28:20.519Z"
   },
   {
    "duration": 4,
    "start_time": "2022-11-05T15:28:20.534Z"
   },
   {
    "duration": 63,
    "start_time": "2022-11-05T15:28:20.540Z"
   },
   {
    "duration": 6,
    "start_time": "2022-11-05T15:28:20.605Z"
   },
   {
    "duration": 6,
    "start_time": "2022-11-05T15:28:20.612Z"
   },
   {
    "duration": 12,
    "start_time": "2022-11-05T15:28:20.619Z"
   },
   {
    "duration": 117,
    "start_time": "2022-11-05T15:28:20.633Z"
   },
   {
    "duration": 77,
    "start_time": "2022-11-05T15:28:20.754Z"
   },
   {
    "duration": 171,
    "start_time": "2022-11-05T15:28:20.833Z"
   },
   {
    "duration": 9,
    "start_time": "2022-11-05T15:28:21.006Z"
   },
   {
    "duration": 6,
    "start_time": "2022-11-05T15:28:21.016Z"
   },
   {
    "duration": 13,
    "start_time": "2022-11-05T15:28:21.024Z"
   },
   {
    "duration": 172,
    "start_time": "2022-11-05T15:28:21.039Z"
   },
   {
    "duration": 8,
    "start_time": "2022-11-05T15:28:21.212Z"
   },
   {
    "duration": 9,
    "start_time": "2022-11-05T15:28:21.222Z"
   },
   {
    "duration": 15,
    "start_time": "2022-11-05T15:28:21.232Z"
   },
   {
    "duration": 7,
    "start_time": "2022-11-05T15:28:21.249Z"
   },
   {
    "duration": 37,
    "start_time": "2022-11-05T15:28:21.257Z"
   },
   {
    "duration": 15,
    "start_time": "2022-11-05T15:28:21.296Z"
   },
   {
    "duration": 8,
    "start_time": "2022-11-05T15:28:21.313Z"
   },
   {
    "duration": 5,
    "start_time": "2022-11-05T15:28:21.323Z"
   },
   {
    "duration": 13,
    "start_time": "2022-11-05T15:28:21.329Z"
   },
   {
    "duration": 48,
    "start_time": "2022-11-05T15:28:21.344Z"
   },
   {
    "duration": 5,
    "start_time": "2022-11-05T15:28:21.394Z"
   },
   {
    "duration": 16,
    "start_time": "2022-11-05T15:28:21.401Z"
   },
   {
    "duration": 12,
    "start_time": "2022-11-05T15:28:21.418Z"
   },
   {
    "duration": 10,
    "start_time": "2022-11-05T15:28:21.431Z"
   },
   {
    "duration": 9,
    "start_time": "2022-11-05T15:28:21.442Z"
   },
   {
    "duration": 6,
    "start_time": "2022-11-05T15:28:21.491Z"
   },
   {
    "duration": 7,
    "start_time": "2022-11-05T15:28:21.499Z"
   },
   {
    "duration": 9,
    "start_time": "2022-11-05T15:28:21.508Z"
   },
   {
    "duration": 9,
    "start_time": "2022-11-05T15:28:21.519Z"
   },
   {
    "duration": 15,
    "start_time": "2022-11-05T15:28:21.530Z"
   },
   {
    "duration": 9,
    "start_time": "2022-11-05T15:28:21.590Z"
   },
   {
    "duration": 9,
    "start_time": "2022-11-05T15:28:21.600Z"
   },
   {
    "duration": 7,
    "start_time": "2022-11-05T15:28:21.611Z"
   },
   {
    "duration": 5,
    "start_time": "2022-11-05T15:28:21.620Z"
   },
   {
    "duration": 6,
    "start_time": "2022-11-05T15:28:21.626Z"
   },
   {
    "duration": 227,
    "start_time": "2022-11-05T15:28:21.635Z"
   },
   {
    "duration": 236,
    "start_time": "2022-11-05T15:28:21.863Z"
   },
   {
    "duration": 8,
    "start_time": "2022-11-05T15:28:22.101Z"
   },
   {
    "duration": 8,
    "start_time": "2022-11-05T15:28:22.110Z"
   },
   {
    "duration": 14,
    "start_time": "2022-11-05T15:28:22.119Z"
   },
   {
    "duration": 9,
    "start_time": "2022-11-05T15:28:22.135Z"
   },
   {
    "duration": 4,
    "start_time": "2022-11-05T15:28:22.145Z"
   },
   {
    "duration": 3366,
    "start_time": "2022-11-05T15:28:22.150Z"
   },
   {
    "duration": 8,
    "start_time": "2022-11-05T15:28:25.518Z"
   },
   {
    "duration": 8,
    "start_time": "2022-11-05T15:28:25.527Z"
   },
   {
    "duration": 39617,
    "start_time": "2022-11-05T15:28:25.590Z"
   },
   {
    "duration": 3,
    "start_time": "2022-11-05T15:29:05.208Z"
   },
   {
    "duration": 26,
    "start_time": "2022-11-05T15:29:05.213Z"
   },
   {
    "duration": 11,
    "start_time": "2022-11-05T15:29:05.241Z"
   },
   {
    "duration": 43,
    "start_time": "2022-11-05T15:29:05.254Z"
   },
   {
    "duration": 3,
    "start_time": "2022-11-05T15:29:05.299Z"
   },
   {
    "duration": 203,
    "start_time": "2022-11-05T15:29:05.303Z"
   },
   {
    "duration": 531,
    "start_time": "2022-11-05T15:29:05.508Z"
   },
   {
    "duration": 3782,
    "start_time": "2022-11-05T15:29:06.040Z"
   },
   {
    "duration": 75448,
    "start_time": "2022-11-05T15:29:09.824Z"
   },
   {
    "duration": 8,
    "start_time": "2022-11-05T15:30:25.274Z"
   },
   {
    "duration": 25,
    "start_time": "2022-11-05T15:30:25.290Z"
   },
   {
    "duration": 213,
    "start_time": "2022-11-05T15:30:25.317Z"
   },
   {
    "duration": 6,
    "start_time": "2022-11-05T15:30:25.535Z"
   },
   {
    "duration": 8,
    "start_time": "2022-11-05T15:30:25.543Z"
   },
   {
    "duration": 6,
    "start_time": "2022-11-05T15:30:25.552Z"
   },
   {
    "duration": 48,
    "start_time": "2022-11-05T15:30:25.560Z"
   },
   {
    "duration": 6,
    "start_time": "2022-11-05T15:30:25.609Z"
   },
   {
    "duration": 40514,
    "start_time": "2022-11-05T15:30:25.616Z"
   },
   {
    "duration": 3,
    "start_time": "2022-11-05T15:31:06.131Z"
   },
   {
    "duration": 70,
    "start_time": "2022-11-05T15:31:06.136Z"
   },
   {
    "duration": 9,
    "start_time": "2022-11-05T15:31:06.208Z"
   },
   {
    "duration": 10,
    "start_time": "2022-11-05T15:31:06.219Z"
   },
   {
    "duration": 9,
    "start_time": "2022-11-05T15:31:06.230Z"
   },
   {
    "duration": 9,
    "start_time": "2022-11-05T15:31:06.241Z"
   },
   {
    "duration": 1520,
    "start_time": "2022-11-06T14:34:08.577Z"
   },
   {
    "duration": 896,
    "start_time": "2022-11-06T14:34:10.098Z"
   },
   {
    "duration": 20,
    "start_time": "2022-11-06T14:34:10.996Z"
   },
   {
    "duration": 16,
    "start_time": "2022-11-06T14:34:11.018Z"
   },
   {
    "duration": 25,
    "start_time": "2022-11-06T14:34:11.036Z"
   },
   {
    "duration": 17,
    "start_time": "2022-11-06T14:34:11.063Z"
   },
   {
    "duration": 25,
    "start_time": "2022-11-06T14:34:11.081Z"
   },
   {
    "duration": 59,
    "start_time": "2022-11-06T14:34:11.107Z"
   },
   {
    "duration": 38,
    "start_time": "2022-11-06T14:34:11.167Z"
   },
   {
    "duration": 60,
    "start_time": "2022-11-06T14:34:11.207Z"
   },
   {
    "duration": 46,
    "start_time": "2022-11-06T14:34:11.269Z"
   },
   {
    "duration": 5,
    "start_time": "2022-11-06T14:34:11.317Z"
   },
   {
    "duration": 12,
    "start_time": "2022-11-06T14:34:11.323Z"
   },
   {
    "duration": 8,
    "start_time": "2022-11-06T14:34:11.336Z"
   },
   {
    "duration": 5,
    "start_time": "2022-11-06T14:34:11.345Z"
   },
   {
    "duration": 7,
    "start_time": "2022-11-06T14:34:11.351Z"
   },
   {
    "duration": 12,
    "start_time": "2022-11-06T14:34:11.360Z"
   },
   {
    "duration": 62,
    "start_time": "2022-11-06T14:34:11.373Z"
   },
   {
    "duration": 5,
    "start_time": "2022-11-06T14:34:11.437Z"
   },
   {
    "duration": 8,
    "start_time": "2022-11-06T14:34:11.444Z"
   },
   {
    "duration": 8,
    "start_time": "2022-11-06T14:34:11.454Z"
   },
   {
    "duration": 7,
    "start_time": "2022-11-06T14:34:11.463Z"
   },
   {
    "duration": 47,
    "start_time": "2022-11-06T14:34:11.472Z"
   },
   {
    "duration": 6,
    "start_time": "2022-11-06T14:34:11.521Z"
   },
   {
    "duration": 17,
    "start_time": "2022-11-06T14:34:11.528Z"
   },
   {
    "duration": 12,
    "start_time": "2022-11-06T14:34:11.546Z"
   },
   {
    "duration": 106,
    "start_time": "2022-11-06T14:34:11.559Z"
   },
   {
    "duration": 68,
    "start_time": "2022-11-06T14:34:11.670Z"
   },
   {
    "duration": 186,
    "start_time": "2022-11-06T14:34:11.739Z"
   },
   {
    "duration": 8,
    "start_time": "2022-11-06T14:34:11.926Z"
   },
   {
    "duration": 5,
    "start_time": "2022-11-06T14:34:11.936Z"
   },
   {
    "duration": 13,
    "start_time": "2022-11-06T14:34:11.943Z"
   },
   {
    "duration": 151,
    "start_time": "2022-11-06T14:34:11.957Z"
   },
   {
    "duration": 8,
    "start_time": "2022-11-06T14:34:12.109Z"
   },
   {
    "duration": 7,
    "start_time": "2022-11-06T14:34:12.118Z"
   },
   {
    "duration": 9,
    "start_time": "2022-11-06T14:34:12.127Z"
   },
   {
    "duration": 8,
    "start_time": "2022-11-06T14:34:12.138Z"
   },
   {
    "duration": 9,
    "start_time": "2022-11-06T14:34:12.148Z"
   },
   {
    "duration": 53,
    "start_time": "2022-11-06T14:34:12.159Z"
   },
   {
    "duration": 7,
    "start_time": "2022-11-06T14:34:12.213Z"
   },
   {
    "duration": 6,
    "start_time": "2022-11-06T14:34:12.222Z"
   },
   {
    "duration": 15,
    "start_time": "2022-11-06T14:34:12.229Z"
   },
   {
    "duration": 6,
    "start_time": "2022-11-06T14:34:12.246Z"
   },
   {
    "duration": 5,
    "start_time": "2022-11-06T14:34:12.254Z"
   },
   {
    "duration": 42,
    "start_time": "2022-11-06T14:34:12.261Z"
   },
   {
    "duration": 11,
    "start_time": "2022-11-06T14:34:12.304Z"
   },
   {
    "duration": 9,
    "start_time": "2022-11-06T14:34:12.317Z"
   },
   {
    "duration": 7,
    "start_time": "2022-11-06T14:34:12.327Z"
   },
   {
    "duration": 4,
    "start_time": "2022-11-06T14:34:12.336Z"
   },
   {
    "duration": 5,
    "start_time": "2022-11-06T14:34:12.341Z"
   },
   {
    "duration": 6,
    "start_time": "2022-11-06T14:34:12.347Z"
   },
   {
    "duration": 6,
    "start_time": "2022-11-06T14:34:12.354Z"
   },
   {
    "duration": 48,
    "start_time": "2022-11-06T14:34:12.361Z"
   },
   {
    "duration": 8,
    "start_time": "2022-11-06T14:34:12.411Z"
   },
   {
    "duration": 12,
    "start_time": "2022-11-06T14:34:12.420Z"
   },
   {
    "duration": 15,
    "start_time": "2022-11-06T14:34:12.433Z"
   },
   {
    "duration": 5,
    "start_time": "2022-11-06T14:34:12.449Z"
   },
   {
    "duration": 6,
    "start_time": "2022-11-06T14:34:12.455Z"
   },
   {
    "duration": 174,
    "start_time": "2022-11-06T14:34:12.462Z"
   },
   {
    "duration": 224,
    "start_time": "2022-11-06T14:34:12.637Z"
   },
   {
    "duration": 8,
    "start_time": "2022-11-06T14:34:12.862Z"
   },
   {
    "duration": 8,
    "start_time": "2022-11-06T14:34:12.871Z"
   },
   {
    "duration": 32,
    "start_time": "2022-11-06T14:34:12.880Z"
   },
   {
    "duration": 9,
    "start_time": "2022-11-06T14:34:12.913Z"
   },
   {
    "duration": 4,
    "start_time": "2022-11-06T14:34:12.923Z"
   },
   {
    "duration": 2506,
    "start_time": "2022-11-06T14:34:12.929Z"
   },
   {
    "duration": 8,
    "start_time": "2022-11-06T14:34:15.437Z"
   },
   {
    "duration": 9,
    "start_time": "2022-11-06T14:34:15.446Z"
   },
   {
    "duration": 36794,
    "start_time": "2022-11-06T14:34:15.456Z"
   },
   {
    "duration": 3,
    "start_time": "2022-11-06T14:34:52.251Z"
   },
   {
    "duration": 26,
    "start_time": "2022-11-06T14:34:52.255Z"
   },
   {
    "duration": 20,
    "start_time": "2022-11-06T14:34:52.283Z"
   },
   {
    "duration": 17,
    "start_time": "2022-11-06T14:34:52.304Z"
   },
   {
    "duration": 9,
    "start_time": "2022-11-06T14:34:52.323Z"
   },
   {
    "duration": 187,
    "start_time": "2022-11-06T14:34:52.334Z"
   },
   {
    "duration": 433,
    "start_time": "2022-11-06T14:34:52.523Z"
   },
   {
    "duration": 3477,
    "start_time": "2022-11-06T14:34:52.957Z"
   },
   {
    "duration": 70318,
    "start_time": "2022-11-06T14:34:56.436Z"
   },
   {
    "duration": 7,
    "start_time": "2022-11-06T14:36:06.755Z"
   },
   {
    "duration": 33,
    "start_time": "2022-11-06T14:36:06.763Z"
   },
   {
    "duration": 217,
    "start_time": "2022-11-06T14:36:06.797Z"
   },
   {
    "duration": 8,
    "start_time": "2022-11-06T14:36:07.019Z"
   },
   {
    "duration": 23,
    "start_time": "2022-11-06T14:36:07.029Z"
   },
   {
    "duration": 17,
    "start_time": "2022-11-06T14:36:07.054Z"
   },
   {
    "duration": 29,
    "start_time": "2022-11-06T14:36:07.073Z"
   },
   {
    "duration": 7,
    "start_time": "2022-11-06T14:36:07.104Z"
   },
   {
    "duration": 34539,
    "start_time": "2022-11-06T14:36:07.113Z"
   },
   {
    "duration": 4,
    "start_time": "2022-11-06T14:36:41.653Z"
   },
   {
    "duration": 63,
    "start_time": "2022-11-06T14:36:41.658Z"
   },
   {
    "duration": 8,
    "start_time": "2022-11-06T14:36:41.723Z"
   },
   {
    "duration": 8,
    "start_time": "2022-11-06T14:36:41.732Z"
   },
   {
    "duration": 7,
    "start_time": "2022-11-06T14:36:41.742Z"
   },
   {
    "duration": 7,
    "start_time": "2022-11-06T14:36:41.751Z"
   },
   {
    "duration": 1512,
    "start_time": "2022-11-08T05:32:23.088Z"
   },
   {
    "duration": 488,
    "start_time": "2022-11-08T05:32:24.602Z"
   },
   {
    "duration": 20,
    "start_time": "2022-11-08T05:32:25.092Z"
   },
   {
    "duration": 17,
    "start_time": "2022-11-08T05:32:25.114Z"
   },
   {
    "duration": 45,
    "start_time": "2022-11-08T05:32:25.132Z"
   },
   {
    "duration": 17,
    "start_time": "2022-11-08T05:32:25.179Z"
   },
   {
    "duration": 5,
    "start_time": "2022-11-08T05:32:25.197Z"
   },
   {
    "duration": 78,
    "start_time": "2022-11-08T05:32:25.203Z"
   },
   {
    "duration": 28,
    "start_time": "2022-11-08T05:32:25.282Z"
   },
   {
    "duration": 53,
    "start_time": "2022-11-08T05:32:25.313Z"
   },
   {
    "duration": 44,
    "start_time": "2022-11-08T05:32:25.368Z"
   },
   {
    "duration": 6,
    "start_time": "2022-11-08T05:32:25.413Z"
   },
   {
    "duration": 28,
    "start_time": "2022-11-08T05:32:25.420Z"
   },
   {
    "duration": 17,
    "start_time": "2022-11-08T05:32:25.449Z"
   },
   {
    "duration": 25,
    "start_time": "2022-11-08T05:32:25.468Z"
   },
   {
    "duration": 33,
    "start_time": "2022-11-08T05:32:25.494Z"
   },
   {
    "duration": 11,
    "start_time": "2022-11-08T05:32:25.529Z"
   },
   {
    "duration": 54,
    "start_time": "2022-11-08T05:32:25.542Z"
   },
   {
    "duration": 15,
    "start_time": "2022-11-08T05:32:25.598Z"
   },
   {
    "duration": 20,
    "start_time": "2022-11-08T05:32:25.614Z"
   },
   {
    "duration": 22,
    "start_time": "2022-11-08T05:32:25.636Z"
   },
   {
    "duration": 20,
    "start_time": "2022-11-08T05:32:25.660Z"
   },
   {
    "duration": 47,
    "start_time": "2022-11-08T05:32:25.682Z"
   },
   {
    "duration": 8,
    "start_time": "2022-11-08T05:32:25.730Z"
   },
   {
    "duration": 28,
    "start_time": "2022-11-08T05:32:25.739Z"
   },
   {
    "duration": 38,
    "start_time": "2022-11-08T05:32:25.768Z"
   },
   {
    "duration": 91,
    "start_time": "2022-11-08T05:32:25.807Z"
   },
   {
    "duration": 57,
    "start_time": "2022-11-08T05:32:25.902Z"
   },
   {
    "duration": 162,
    "start_time": "2022-11-08T05:32:25.961Z"
   },
   {
    "duration": 9,
    "start_time": "2022-11-08T05:32:26.125Z"
   },
   {
    "duration": 40,
    "start_time": "2022-11-08T05:32:26.136Z"
   },
   {
    "duration": 35,
    "start_time": "2022-11-08T05:32:26.177Z"
   },
   {
    "duration": 167,
    "start_time": "2022-11-08T05:32:26.213Z"
   },
   {
    "duration": 8,
    "start_time": "2022-11-08T05:32:26.382Z"
   },
   {
    "duration": 29,
    "start_time": "2022-11-08T05:32:26.391Z"
   },
   {
    "duration": 35,
    "start_time": "2022-11-08T05:32:26.421Z"
   },
   {
    "duration": 12,
    "start_time": "2022-11-08T05:32:26.458Z"
   },
   {
    "duration": 6,
    "start_time": "2022-11-08T05:32:26.471Z"
   },
   {
    "duration": 27,
    "start_time": "2022-11-08T05:32:26.479Z"
   },
   {
    "duration": 8,
    "start_time": "2022-11-08T05:32:26.508Z"
   },
   {
    "duration": 12,
    "start_time": "2022-11-08T05:32:26.518Z"
   },
   {
    "duration": 37,
    "start_time": "2022-11-08T05:32:26.532Z"
   },
   {
    "duration": 9,
    "start_time": "2022-11-08T05:32:26.570Z"
   },
   {
    "duration": 5,
    "start_time": "2022-11-08T05:32:26.580Z"
   },
   {
    "duration": 12,
    "start_time": "2022-11-08T05:32:26.587Z"
   },
   {
    "duration": 19,
    "start_time": "2022-11-08T05:32:26.601Z"
   },
   {
    "duration": 10,
    "start_time": "2022-11-08T05:32:26.622Z"
   },
   {
    "duration": 8,
    "start_time": "2022-11-08T05:32:26.634Z"
   },
   {
    "duration": 7,
    "start_time": "2022-11-08T05:32:26.643Z"
   },
   {
    "duration": 4,
    "start_time": "2022-11-08T05:32:26.652Z"
   },
   {
    "duration": 27,
    "start_time": "2022-11-08T05:32:26.658Z"
   },
   {
    "duration": 6,
    "start_time": "2022-11-08T05:32:26.687Z"
   },
   {
    "duration": 7,
    "start_time": "2022-11-08T05:32:26.695Z"
   },
   {
    "duration": 11,
    "start_time": "2022-11-08T05:32:26.703Z"
   },
   {
    "duration": 8,
    "start_time": "2022-11-08T05:32:26.716Z"
   },
   {
    "duration": 8,
    "start_time": "2022-11-08T05:32:26.725Z"
   },
   {
    "duration": 8,
    "start_time": "2022-11-08T05:32:26.734Z"
   },
   {
    "duration": 5,
    "start_time": "2022-11-08T05:32:26.743Z"
   },
   {
    "duration": 37,
    "start_time": "2022-11-08T05:32:26.749Z"
   },
   {
    "duration": 178,
    "start_time": "2022-11-08T05:32:26.788Z"
   },
   {
    "duration": 229,
    "start_time": "2022-11-08T05:32:26.967Z"
   },
   {
    "duration": 8,
    "start_time": "2022-11-08T05:32:27.197Z"
   },
   {
    "duration": 21,
    "start_time": "2022-11-08T05:32:27.206Z"
   },
   {
    "duration": 18,
    "start_time": "2022-11-08T05:32:27.229Z"
   },
   {
    "duration": 12,
    "start_time": "2022-11-08T05:32:27.248Z"
   },
   {
    "duration": 14,
    "start_time": "2022-11-08T05:32:27.261Z"
   },
   {
    "duration": 2653,
    "start_time": "2022-11-08T05:32:27.277Z"
   },
   {
    "duration": 42,
    "start_time": "2022-11-08T05:32:29.931Z"
   },
   {
    "duration": 24,
    "start_time": "2022-11-08T05:32:29.975Z"
   },
   {
    "duration": 4,
    "start_time": "2022-11-08T05:32:30.000Z"
   },
   {
    "duration": 20,
    "start_time": "2022-11-08T05:32:30.006Z"
   },
   {
    "duration": 16,
    "start_time": "2022-11-08T05:32:30.027Z"
   },
   {
    "duration": 6,
    "start_time": "2022-11-08T05:32:30.044Z"
   },
   {
    "duration": 34783,
    "start_time": "2022-11-08T05:32:30.052Z"
   },
   {
    "duration": 3,
    "start_time": "2022-11-08T05:33:04.836Z"
   },
   {
    "duration": 11,
    "start_time": "2022-11-08T05:33:04.840Z"
   },
   {
    "duration": 11,
    "start_time": "2022-11-08T05:33:04.853Z"
   },
   {
    "duration": 4,
    "start_time": "2022-11-08T05:33:04.866Z"
   },
   {
    "duration": 195,
    "start_time": "2022-11-08T05:33:04.871Z"
   },
   {
    "duration": 2339,
    "start_time": "2022-11-08T05:33:05.067Z"
   },
   {
    "duration": 18553,
    "start_time": "2022-11-08T05:33:07.408Z"
   },
   {
    "duration": 2,
    "start_time": "2022-11-08T05:33:25.966Z"
   },
   {
    "duration": 185889,
    "start_time": "2022-11-08T05:33:25.970Z"
   },
   {
    "duration": 3,
    "start_time": "2022-11-08T05:36:31.861Z"
   },
   {
    "duration": 21,
    "start_time": "2022-11-08T05:36:31.865Z"
   },
   {
    "duration": 148,
    "start_time": "2022-11-08T05:36:31.888Z"
   },
   {
    "duration": 199,
    "start_time": "2022-11-08T05:36:32.037Z"
   },
   {
    "duration": 10,
    "start_time": "2022-11-08T05:36:32.237Z"
   },
   {
    "duration": 10,
    "start_time": "2022-11-08T05:36:32.248Z"
   },
   {
    "duration": 7,
    "start_time": "2022-11-08T05:36:32.259Z"
   },
   {
    "duration": 15,
    "start_time": "2022-11-08T05:36:32.286Z"
   },
   {
    "duration": 10,
    "start_time": "2022-11-08T05:36:32.303Z"
   },
   {
    "duration": 35474,
    "start_time": "2022-11-08T05:36:32.314Z"
   },
   {
    "duration": 3,
    "start_time": "2022-11-08T05:37:07.790Z"
   },
   {
    "duration": 59,
    "start_time": "2022-11-08T05:37:07.795Z"
   },
   {
    "duration": 9,
    "start_time": "2022-11-08T05:37:07.856Z"
   },
   {
    "duration": 25,
    "start_time": "2022-11-08T05:37:07.866Z"
   },
   {
    "duration": 28,
    "start_time": "2022-11-08T05:37:07.892Z"
   },
   {
    "duration": 29,
    "start_time": "2022-11-08T05:37:07.921Z"
   },
   {
    "duration": 1311,
    "start_time": "2022-11-08T05:40:44.201Z"
   },
   {
    "duration": 233,
    "start_time": "2022-11-08T05:40:45.514Z"
   },
   {
    "duration": 20,
    "start_time": "2022-11-08T05:40:45.749Z"
   },
   {
    "duration": 20,
    "start_time": "2022-11-08T05:40:45.771Z"
   },
   {
    "duration": 27,
    "start_time": "2022-11-08T05:40:45.792Z"
   },
   {
    "duration": 15,
    "start_time": "2022-11-08T05:40:45.821Z"
   },
   {
    "duration": 6,
    "start_time": "2022-11-08T05:40:45.838Z"
   },
   {
    "duration": 79,
    "start_time": "2022-11-08T05:40:45.845Z"
   },
   {
    "duration": 24,
    "start_time": "2022-11-08T05:40:45.926Z"
   },
   {
    "duration": 69,
    "start_time": "2022-11-08T05:40:45.952Z"
   },
   {
    "duration": 32,
    "start_time": "2022-11-08T05:40:46.022Z"
   },
   {
    "duration": 5,
    "start_time": "2022-11-08T05:40:46.056Z"
   },
   {
    "duration": 19,
    "start_time": "2022-11-08T05:40:46.062Z"
   },
   {
    "duration": 20,
    "start_time": "2022-11-08T05:40:46.085Z"
   },
   {
    "duration": 29,
    "start_time": "2022-11-08T05:40:46.107Z"
   },
   {
    "duration": 13,
    "start_time": "2022-11-08T05:40:46.137Z"
   },
   {
    "duration": 23,
    "start_time": "2022-11-08T05:40:46.152Z"
   },
   {
    "duration": 45,
    "start_time": "2022-11-08T05:40:46.177Z"
   },
   {
    "duration": 6,
    "start_time": "2022-11-08T05:40:46.224Z"
   },
   {
    "duration": 26,
    "start_time": "2022-11-08T05:40:46.231Z"
   },
   {
    "duration": 35,
    "start_time": "2022-11-08T05:40:46.259Z"
   },
   {
    "duration": 19,
    "start_time": "2022-11-08T05:40:46.295Z"
   },
   {
    "duration": 37,
    "start_time": "2022-11-08T05:40:46.316Z"
   },
   {
    "duration": 6,
    "start_time": "2022-11-08T05:40:46.354Z"
   },
   {
    "duration": 7,
    "start_time": "2022-11-08T05:40:46.361Z"
   },
   {
    "duration": 11,
    "start_time": "2022-11-08T05:40:46.369Z"
   },
   {
    "duration": 80,
    "start_time": "2022-11-08T05:40:46.381Z"
   },
   {
    "duration": 68,
    "start_time": "2022-11-08T05:40:46.465Z"
   },
   {
    "duration": 153,
    "start_time": "2022-11-08T05:40:46.534Z"
   },
   {
    "duration": 9,
    "start_time": "2022-11-08T05:40:46.689Z"
   },
   {
    "duration": 6,
    "start_time": "2022-11-08T05:40:46.702Z"
   },
   {
    "duration": 15,
    "start_time": "2022-11-08T05:40:46.709Z"
   },
   {
    "duration": 156,
    "start_time": "2022-11-08T05:40:46.725Z"
   },
   {
    "duration": 9,
    "start_time": "2022-11-08T05:40:46.884Z"
   },
   {
    "duration": 5,
    "start_time": "2022-11-08T05:40:46.895Z"
   },
   {
    "duration": 22,
    "start_time": "2022-11-08T05:40:46.901Z"
   },
   {
    "duration": 8,
    "start_time": "2022-11-08T05:40:46.925Z"
   },
   {
    "duration": 11,
    "start_time": "2022-11-08T05:40:46.934Z"
   },
   {
    "duration": 14,
    "start_time": "2022-11-08T05:40:46.947Z"
   },
   {
    "duration": 23,
    "start_time": "2022-11-08T05:40:46.963Z"
   },
   {
    "duration": 6,
    "start_time": "2022-11-08T05:40:46.988Z"
   },
   {
    "duration": 21,
    "start_time": "2022-11-08T05:40:46.995Z"
   },
   {
    "duration": 8,
    "start_time": "2022-11-08T05:40:47.018Z"
   },
   {
    "duration": 5,
    "start_time": "2022-11-08T05:40:47.028Z"
   },
   {
    "duration": 5,
    "start_time": "2022-11-08T05:40:47.035Z"
   },
   {
    "duration": 54,
    "start_time": "2022-11-08T05:40:47.041Z"
   },
   {
    "duration": 11,
    "start_time": "2022-11-08T05:40:47.096Z"
   },
   {
    "duration": 17,
    "start_time": "2022-11-08T05:40:47.109Z"
   },
   {
    "duration": 15,
    "start_time": "2022-11-08T05:40:47.128Z"
   },
   {
    "duration": 5,
    "start_time": "2022-11-08T05:40:47.145Z"
   },
   {
    "duration": 12,
    "start_time": "2022-11-08T05:40:47.151Z"
   },
   {
    "duration": 24,
    "start_time": "2022-11-08T05:40:47.166Z"
   },
   {
    "duration": 8,
    "start_time": "2022-11-08T05:40:47.191Z"
   },
   {
    "duration": 13,
    "start_time": "2022-11-08T05:40:47.201Z"
   },
   {
    "duration": 8,
    "start_time": "2022-11-08T05:40:47.215Z"
   },
   {
    "duration": 8,
    "start_time": "2022-11-08T05:40:47.225Z"
   },
   {
    "duration": 7,
    "start_time": "2022-11-08T05:40:47.235Z"
   },
   {
    "duration": 12,
    "start_time": "2022-11-08T05:40:47.244Z"
   },
   {
    "duration": 32,
    "start_time": "2022-11-08T05:40:47.258Z"
   },
   {
    "duration": 218,
    "start_time": "2022-11-08T05:40:47.292Z"
   },
   {
    "duration": 233,
    "start_time": "2022-11-08T05:40:47.512Z"
   },
   {
    "duration": 8,
    "start_time": "2022-11-08T05:40:47.747Z"
   },
   {
    "duration": 9,
    "start_time": "2022-11-08T05:40:47.757Z"
   },
   {
    "duration": 25,
    "start_time": "2022-11-08T05:40:47.768Z"
   },
   {
    "duration": 9,
    "start_time": "2022-11-08T05:40:47.794Z"
   },
   {
    "duration": 8,
    "start_time": "2022-11-08T05:40:47.805Z"
   },
   {
    "duration": 2651,
    "start_time": "2022-11-08T05:40:47.815Z"
   },
   {
    "duration": 45,
    "start_time": "2022-11-08T05:40:50.468Z"
   },
   {
    "duration": 25,
    "start_time": "2022-11-08T05:40:50.514Z"
   },
   {
    "duration": 4,
    "start_time": "2022-11-08T05:40:50.541Z"
   },
   {
    "duration": 6,
    "start_time": "2022-11-08T05:40:50.546Z"
   },
   {
    "duration": 9,
    "start_time": "2022-11-08T05:40:50.554Z"
   },
   {
    "duration": 22,
    "start_time": "2022-11-08T05:40:50.565Z"
   },
   {
    "duration": 37897,
    "start_time": "2022-11-08T05:40:50.589Z"
   },
   {
    "duration": 3,
    "start_time": "2022-11-08T05:41:28.488Z"
   },
   {
    "duration": 12,
    "start_time": "2022-11-08T05:41:28.493Z"
   },
   {
    "duration": 11,
    "start_time": "2022-11-08T05:41:28.507Z"
   },
   {
    "duration": 14,
    "start_time": "2022-11-08T05:41:28.520Z"
   },
   {
    "duration": 194,
    "start_time": "2022-11-08T05:41:28.536Z"
   },
   {
    "duration": 2543,
    "start_time": "2022-11-08T05:41:28.732Z"
   },
   {
    "duration": 19014,
    "start_time": "2022-11-08T05:41:31.277Z"
   },
   {
    "duration": 3,
    "start_time": "2022-11-08T05:41:50.296Z"
   },
   {
    "duration": 188513,
    "start_time": "2022-11-08T05:41:50.301Z"
   },
   {
    "duration": 3,
    "start_time": "2022-11-08T05:44:58.816Z"
   },
   {
    "duration": 14,
    "start_time": "2022-11-08T05:44:58.821Z"
   },
   {
    "duration": 169,
    "start_time": "2022-11-08T05:44:58.837Z"
   },
   {
    "duration": 217,
    "start_time": "2022-11-08T05:44:59.007Z"
   },
   {
    "duration": 11,
    "start_time": "2022-11-08T05:44:59.225Z"
   },
   {
    "duration": 10,
    "start_time": "2022-11-08T05:44:59.237Z"
   },
   {
    "duration": 15,
    "start_time": "2022-11-08T05:44:59.248Z"
   },
   {
    "duration": 30,
    "start_time": "2022-11-08T05:44:59.264Z"
   },
   {
    "duration": 9,
    "start_time": "2022-11-08T05:44:59.295Z"
   },
   {
    "duration": 38674,
    "start_time": "2022-11-08T05:44:59.305Z"
   },
   {
    "duration": 5,
    "start_time": "2022-11-08T05:45:37.980Z"
   },
   {
    "duration": 146,
    "start_time": "2022-11-08T05:45:37.986Z"
   },
   {
    "duration": 9,
    "start_time": "2022-11-08T05:45:38.134Z"
   },
   {
    "duration": 28,
    "start_time": "2022-11-08T05:45:38.145Z"
   },
   {
    "duration": 31,
    "start_time": "2022-11-08T05:45:38.174Z"
   },
   {
    "duration": 23,
    "start_time": "2022-11-08T05:45:38.206Z"
   },
   {
    "duration": 41,
    "start_time": "2022-11-09T03:15:26.258Z"
   },
   {
    "duration": 33,
    "start_time": "2022-11-09T03:16:27.430Z"
   },
   {
    "duration": 1610,
    "start_time": "2022-11-09T03:16:27.466Z"
   },
   {
    "duration": 899,
    "start_time": "2022-11-09T03:16:29.078Z"
   },
   {
    "duration": 21,
    "start_time": "2022-11-09T03:16:29.979Z"
   },
   {
    "duration": 20,
    "start_time": "2022-11-09T03:16:30.001Z"
   },
   {
    "duration": 46,
    "start_time": "2022-11-09T03:16:30.022Z"
   },
   {
    "duration": 17,
    "start_time": "2022-11-09T03:16:30.070Z"
   },
   {
    "duration": 14,
    "start_time": "2022-11-09T03:16:30.089Z"
   },
   {
    "duration": 87,
    "start_time": "2022-11-09T03:16:30.105Z"
   },
   {
    "duration": 31,
    "start_time": "2022-11-09T03:16:30.195Z"
   },
   {
    "duration": 61,
    "start_time": "2022-11-09T03:16:30.228Z"
   },
   {
    "duration": 49,
    "start_time": "2022-11-09T03:16:30.291Z"
   },
   {
    "duration": 6,
    "start_time": "2022-11-09T03:16:30.342Z"
   },
   {
    "duration": 35,
    "start_time": "2022-11-09T03:16:30.350Z"
   },
   {
    "duration": 24,
    "start_time": "2022-11-09T03:16:30.387Z"
   },
   {
    "duration": 35,
    "start_time": "2022-11-09T03:16:30.413Z"
   },
   {
    "duration": 20,
    "start_time": "2022-11-09T03:16:30.450Z"
   },
   {
    "duration": 36,
    "start_time": "2022-11-09T03:16:30.472Z"
   },
   {
    "duration": 74,
    "start_time": "2022-11-09T03:16:30.510Z"
   },
   {
    "duration": 7,
    "start_time": "2022-11-09T03:16:30.585Z"
   },
   {
    "duration": 17,
    "start_time": "2022-11-09T03:16:30.594Z"
   },
   {
    "duration": 26,
    "start_time": "2022-11-09T03:16:30.613Z"
   },
   {
    "duration": 8,
    "start_time": "2022-11-09T03:16:30.641Z"
   },
   {
    "duration": 37,
    "start_time": "2022-11-09T03:16:30.650Z"
   },
   {
    "duration": 6,
    "start_time": "2022-11-09T03:16:30.689Z"
   },
   {
    "duration": 22,
    "start_time": "2022-11-09T03:16:30.696Z"
   },
   {
    "duration": 41,
    "start_time": "2022-11-09T03:16:30.719Z"
   },
   {
    "duration": 103,
    "start_time": "2022-11-09T03:16:30.764Z"
   },
   {
    "duration": 76,
    "start_time": "2022-11-09T03:16:30.868Z"
   },
   {
    "duration": 168,
    "start_time": "2022-11-09T03:16:30.946Z"
   },
   {
    "duration": 10,
    "start_time": "2022-11-09T03:16:31.118Z"
   },
   {
    "duration": 12,
    "start_time": "2022-11-09T03:16:31.129Z"
   },
   {
    "duration": 24,
    "start_time": "2022-11-09T03:16:31.142Z"
   },
   {
    "duration": 153,
    "start_time": "2022-11-09T03:16:31.168Z"
   },
   {
    "duration": 8,
    "start_time": "2022-11-09T03:16:31.323Z"
   },
   {
    "duration": 8,
    "start_time": "2022-11-09T03:16:31.333Z"
   },
   {
    "duration": 11,
    "start_time": "2022-11-09T03:16:31.343Z"
   },
   {
    "duration": 12,
    "start_time": "2022-11-09T03:16:31.355Z"
   },
   {
    "duration": 9,
    "start_time": "2022-11-09T03:16:31.369Z"
   },
   {
    "duration": 41,
    "start_time": "2022-11-09T03:16:31.380Z"
   },
   {
    "duration": 8,
    "start_time": "2022-11-09T03:16:31.423Z"
   },
   {
    "duration": 12,
    "start_time": "2022-11-09T03:16:31.433Z"
   },
   {
    "duration": 20,
    "start_time": "2022-11-09T03:16:31.447Z"
   },
   {
    "duration": 9,
    "start_time": "2022-11-09T03:16:31.469Z"
   },
   {
    "duration": 6,
    "start_time": "2022-11-09T03:16:31.479Z"
   },
   {
    "duration": 33,
    "start_time": "2022-11-09T03:16:31.487Z"
   },
   {
    "duration": 17,
    "start_time": "2022-11-09T03:16:31.522Z"
   },
   {
    "duration": 14,
    "start_time": "2022-11-09T03:16:31.541Z"
   },
   {
    "duration": 11,
    "start_time": "2022-11-09T03:16:31.557Z"
   },
   {
    "duration": 8,
    "start_time": "2022-11-09T03:16:31.570Z"
   },
   {
    "duration": 40,
    "start_time": "2022-11-09T03:16:31.580Z"
   },
   {
    "duration": 6,
    "start_time": "2022-11-09T03:16:31.622Z"
   },
   {
    "duration": 14,
    "start_time": "2022-11-09T03:16:31.630Z"
   },
   {
    "duration": 10,
    "start_time": "2022-11-09T03:16:31.646Z"
   },
   {
    "duration": 21,
    "start_time": "2022-11-09T03:16:31.658Z"
   },
   {
    "duration": 8,
    "start_time": "2022-11-09T03:16:31.682Z"
   },
   {
    "duration": 33,
    "start_time": "2022-11-09T03:16:31.692Z"
   },
   {
    "duration": 9,
    "start_time": "2022-11-09T03:16:31.726Z"
   },
   {
    "duration": 8,
    "start_time": "2022-11-09T03:16:31.737Z"
   },
   {
    "duration": 8,
    "start_time": "2022-11-09T03:16:31.747Z"
   },
   {
    "duration": 219,
    "start_time": "2022-11-09T03:16:31.756Z"
   },
   {
    "duration": 246,
    "start_time": "2022-11-09T03:16:31.976Z"
   },
   {
    "duration": 9,
    "start_time": "2022-11-09T03:16:32.224Z"
   },
   {
    "duration": 38,
    "start_time": "2022-11-09T03:16:32.234Z"
   },
   {
    "duration": 22,
    "start_time": "2022-11-09T03:16:32.274Z"
   },
   {
    "duration": 11,
    "start_time": "2022-11-09T03:16:32.298Z"
   },
   {
    "duration": 10,
    "start_time": "2022-11-09T03:16:32.311Z"
   },
   {
    "duration": 3023,
    "start_time": "2022-11-09T03:16:32.324Z"
   },
   {
    "duration": 49,
    "start_time": "2022-11-09T03:16:35.348Z"
   },
   {
    "duration": 37,
    "start_time": "2022-11-09T03:16:35.398Z"
   },
   {
    "duration": 4,
    "start_time": "2022-11-09T03:16:35.437Z"
   },
   {
    "duration": 26,
    "start_time": "2022-11-09T03:16:35.442Z"
   },
   {
    "duration": 12,
    "start_time": "2022-11-09T03:16:35.470Z"
   },
   {
    "duration": 20,
    "start_time": "2022-11-09T03:16:35.484Z"
   },
   {
    "duration": 40318,
    "start_time": "2022-11-09T03:16:35.506Z"
   },
   {
    "duration": 4,
    "start_time": "2022-11-09T03:17:15.827Z"
   },
   {
    "duration": 17,
    "start_time": "2022-11-09T03:17:15.833Z"
   },
   {
    "duration": 13,
    "start_time": "2022-11-09T03:17:15.852Z"
   },
   {
    "duration": 3,
    "start_time": "2022-11-09T03:17:15.867Z"
   },
   {
    "duration": 211,
    "start_time": "2022-11-09T03:17:15.871Z"
   },
   {
    "duration": 2860,
    "start_time": "2022-11-09T03:17:16.084Z"
   },
   {
    "duration": 18349,
    "start_time": "2022-11-09T03:17:18.949Z"
   },
   {
    "duration": 4,
    "start_time": "2022-11-09T03:17:37.300Z"
   },
   {
    "duration": 10051,
    "start_time": "2022-11-09T03:17:37.305Z"
   },
   {
    "duration": 0,
    "start_time": "2022-11-09T03:17:47.358Z"
   },
   {
    "duration": 0,
    "start_time": "2022-11-09T03:17:47.360Z"
   },
   {
    "duration": 0,
    "start_time": "2022-11-09T03:17:47.361Z"
   },
   {
    "duration": 0,
    "start_time": "2022-11-09T03:17:47.362Z"
   },
   {
    "duration": 0,
    "start_time": "2022-11-09T03:17:47.363Z"
   },
   {
    "duration": 0,
    "start_time": "2022-11-09T03:17:47.365Z"
   },
   {
    "duration": 0,
    "start_time": "2022-11-09T03:17:47.366Z"
   },
   {
    "duration": 0,
    "start_time": "2022-11-09T03:17:47.367Z"
   },
   {
    "duration": 0,
    "start_time": "2022-11-09T03:17:47.369Z"
   },
   {
    "duration": 0,
    "start_time": "2022-11-09T03:17:47.370Z"
   },
   {
    "duration": 0,
    "start_time": "2022-11-09T03:17:47.371Z"
   },
   {
    "duration": 0,
    "start_time": "2022-11-09T03:17:47.372Z"
   },
   {
    "duration": 0,
    "start_time": "2022-11-09T03:17:47.373Z"
   },
   {
    "duration": 0,
    "start_time": "2022-11-09T03:17:47.374Z"
   },
   {
    "duration": 0,
    "start_time": "2022-11-09T03:17:47.375Z"
   },
   {
    "duration": 0,
    "start_time": "2022-11-09T03:17:47.376Z"
   },
   {
    "duration": 98,
    "start_time": "2022-11-09T05:35:18.983Z"
   },
   {
    "duration": 1521,
    "start_time": "2022-11-09T05:35:19.083Z"
   },
   {
    "duration": 253,
    "start_time": "2022-11-09T05:35:20.606Z"
   },
   {
    "duration": 22,
    "start_time": "2022-11-09T05:35:20.861Z"
   },
   {
    "duration": 34,
    "start_time": "2022-11-09T05:35:20.885Z"
   },
   {
    "duration": 26,
    "start_time": "2022-11-09T05:35:20.921Z"
   },
   {
    "duration": 17,
    "start_time": "2022-11-09T05:35:20.949Z"
   },
   {
    "duration": 9,
    "start_time": "2022-11-09T05:35:20.968Z"
   },
   {
    "duration": 84,
    "start_time": "2022-11-09T05:35:20.979Z"
   },
   {
    "duration": 28,
    "start_time": "2022-11-09T05:35:21.065Z"
   },
   {
    "duration": 72,
    "start_time": "2022-11-09T05:35:21.095Z"
   },
   {
    "duration": 32,
    "start_time": "2022-11-09T05:35:21.169Z"
   },
   {
    "duration": 19,
    "start_time": "2022-11-09T05:35:21.203Z"
   },
   {
    "duration": 16,
    "start_time": "2022-11-09T05:35:21.224Z"
   },
   {
    "duration": 12,
    "start_time": "2022-11-09T05:35:21.241Z"
   },
   {
    "duration": 10,
    "start_time": "2022-11-09T05:35:21.254Z"
   },
   {
    "duration": 13,
    "start_time": "2022-11-09T05:35:21.266Z"
   },
   {
    "duration": 7,
    "start_time": "2022-11-09T05:35:21.281Z"
   },
   {
    "duration": 58,
    "start_time": "2022-11-09T05:35:21.289Z"
   },
   {
    "duration": 6,
    "start_time": "2022-11-09T05:35:21.349Z"
   },
   {
    "duration": 10,
    "start_time": "2022-11-09T05:35:21.356Z"
   },
   {
    "duration": 8,
    "start_time": "2022-11-09T05:35:21.367Z"
   },
   {
    "duration": 6,
    "start_time": "2022-11-09T05:35:21.376Z"
   },
   {
    "duration": 57,
    "start_time": "2022-11-09T05:35:21.384Z"
   },
   {
    "duration": 6,
    "start_time": "2022-11-09T05:35:21.442Z"
   },
   {
    "duration": 12,
    "start_time": "2022-11-09T05:35:21.449Z"
   },
   {
    "duration": 14,
    "start_time": "2022-11-09T05:35:21.462Z"
   },
   {
    "duration": 111,
    "start_time": "2022-11-09T05:35:21.481Z"
   },
   {
    "duration": 77,
    "start_time": "2022-11-09T05:35:21.594Z"
   },
   {
    "duration": 173,
    "start_time": "2022-11-09T05:35:21.673Z"
   },
   {
    "duration": 36,
    "start_time": "2022-11-09T05:35:21.847Z"
   },
   {
    "duration": 7,
    "start_time": "2022-11-09T05:35:21.884Z"
   },
   {
    "duration": 19,
    "start_time": "2022-11-09T05:35:21.892Z"
   },
   {
    "duration": 152,
    "start_time": "2022-11-09T05:35:21.913Z"
   },
   {
    "duration": 8,
    "start_time": "2022-11-09T05:35:22.067Z"
   },
   {
    "duration": 8,
    "start_time": "2022-11-09T05:35:22.077Z"
   },
   {
    "duration": 32,
    "start_time": "2022-11-09T05:35:22.087Z"
   },
   {
    "duration": 8,
    "start_time": "2022-11-09T05:35:22.121Z"
   },
   {
    "duration": 11,
    "start_time": "2022-11-09T05:35:22.130Z"
   },
   {
    "duration": 18,
    "start_time": "2022-11-09T05:35:22.143Z"
   },
   {
    "duration": 8,
    "start_time": "2022-11-09T05:35:22.163Z"
   },
   {
    "duration": 5,
    "start_time": "2022-11-09T05:35:22.172Z"
   },
   {
    "duration": 48,
    "start_time": "2022-11-09T05:35:22.179Z"
   },
   {
    "duration": 9,
    "start_time": "2022-11-09T05:35:22.229Z"
   },
   {
    "duration": 7,
    "start_time": "2022-11-09T05:35:22.239Z"
   },
   {
    "duration": 11,
    "start_time": "2022-11-09T05:35:22.248Z"
   },
   {
    "duration": 32,
    "start_time": "2022-11-09T05:35:22.261Z"
   },
   {
    "duration": 29,
    "start_time": "2022-11-09T05:35:22.295Z"
   },
   {
    "duration": 9,
    "start_time": "2022-11-09T05:35:22.326Z"
   },
   {
    "duration": 8,
    "start_time": "2022-11-09T05:35:22.336Z"
   },
   {
    "duration": 5,
    "start_time": "2022-11-09T05:35:22.346Z"
   },
   {
    "duration": 8,
    "start_time": "2022-11-09T05:35:22.353Z"
   },
   {
    "duration": 12,
    "start_time": "2022-11-09T05:35:22.362Z"
   },
   {
    "duration": 48,
    "start_time": "2022-11-09T05:35:22.376Z"
   },
   {
    "duration": 13,
    "start_time": "2022-11-09T05:35:22.426Z"
   },
   {
    "duration": 13,
    "start_time": "2022-11-09T05:35:22.441Z"
   },
   {
    "duration": 8,
    "start_time": "2022-11-09T05:35:22.456Z"
   },
   {
    "duration": 15,
    "start_time": "2022-11-09T05:35:22.466Z"
   },
   {
    "duration": 40,
    "start_time": "2022-11-09T05:35:22.482Z"
   },
   {
    "duration": 6,
    "start_time": "2022-11-09T05:35:22.524Z"
   },
   {
    "duration": 209,
    "start_time": "2022-11-09T05:35:22.532Z"
   },
   {
    "duration": 274,
    "start_time": "2022-11-09T05:35:22.743Z"
   },
   {
    "duration": 8,
    "start_time": "2022-11-09T05:35:23.019Z"
   },
   {
    "duration": 12,
    "start_time": "2022-11-09T05:35:23.029Z"
   },
   {
    "duration": 14,
    "start_time": "2022-11-09T05:35:23.043Z"
   },
   {
    "duration": 9,
    "start_time": "2022-11-09T05:35:23.059Z"
   },
   {
    "duration": 4,
    "start_time": "2022-11-09T05:35:23.070Z"
   },
   {
    "duration": 3019,
    "start_time": "2022-11-09T05:35:23.076Z"
   },
   {
    "duration": 60,
    "start_time": "2022-11-09T05:35:26.097Z"
   },
   {
    "duration": 28,
    "start_time": "2022-11-09T05:35:26.158Z"
   },
   {
    "duration": 33,
    "start_time": "2022-11-09T05:35:26.187Z"
   },
   {
    "duration": 5,
    "start_time": "2022-11-09T05:35:26.221Z"
   },
   {
    "duration": 9,
    "start_time": "2022-11-09T05:35:26.227Z"
   },
   {
    "duration": 7,
    "start_time": "2022-11-09T05:35:26.238Z"
   },
   {
    "duration": 28612,
    "start_time": "2022-11-09T05:35:26.246Z"
   },
   {
    "duration": 0,
    "start_time": "2022-11-09T05:35:54.861Z"
   },
   {
    "duration": 0,
    "start_time": "2022-11-09T05:35:54.862Z"
   },
   {
    "duration": 0,
    "start_time": "2022-11-09T05:35:54.863Z"
   },
   {
    "duration": 0,
    "start_time": "2022-11-09T05:35:54.865Z"
   },
   {
    "duration": 0,
    "start_time": "2022-11-09T05:35:54.866Z"
   },
   {
    "duration": 0,
    "start_time": "2022-11-09T05:35:54.867Z"
   },
   {
    "duration": 0,
    "start_time": "2022-11-09T05:35:54.868Z"
   },
   {
    "duration": 0,
    "start_time": "2022-11-09T05:35:54.868Z"
   },
   {
    "duration": 0,
    "start_time": "2022-11-09T05:35:54.869Z"
   },
   {
    "duration": 0,
    "start_time": "2022-11-09T05:35:54.870Z"
   },
   {
    "duration": 0,
    "start_time": "2022-11-09T05:35:54.871Z"
   },
   {
    "duration": 0,
    "start_time": "2022-11-09T05:35:54.872Z"
   },
   {
    "duration": 0,
    "start_time": "2022-11-09T05:35:54.873Z"
   },
   {
    "duration": 0,
    "start_time": "2022-11-09T05:35:54.874Z"
   },
   {
    "duration": 0,
    "start_time": "2022-11-09T05:35:54.875Z"
   },
   {
    "duration": 0,
    "start_time": "2022-11-09T05:35:54.876Z"
   },
   {
    "duration": 0,
    "start_time": "2022-11-09T05:35:54.877Z"
   },
   {
    "duration": 0,
    "start_time": "2022-11-09T05:35:54.878Z"
   },
   {
    "duration": 0,
    "start_time": "2022-11-09T05:35:54.879Z"
   },
   {
    "duration": 0,
    "start_time": "2022-11-09T05:35:54.880Z"
   },
   {
    "duration": 0,
    "start_time": "2022-11-09T05:35:54.881Z"
   },
   {
    "duration": 0,
    "start_time": "2022-11-09T05:35:54.882Z"
   },
   {
    "duration": 0,
    "start_time": "2022-11-09T05:35:54.883Z"
   },
   {
    "duration": 0,
    "start_time": "2022-11-09T05:35:54.884Z"
   },
   {
    "duration": 0,
    "start_time": "2022-11-09T05:35:54.885Z"
   },
   {
    "duration": 39,
    "start_time": "2022-11-09T05:36:32.155Z"
   },
   {
    "duration": 1627,
    "start_time": "2022-11-09T05:36:32.195Z"
   },
   {
    "duration": 244,
    "start_time": "2022-11-09T05:36:33.826Z"
   },
   {
    "duration": 23,
    "start_time": "2022-11-09T05:36:34.072Z"
   },
   {
    "duration": 31,
    "start_time": "2022-11-09T05:36:34.097Z"
   },
   {
    "duration": 30,
    "start_time": "2022-11-09T05:36:34.130Z"
   },
   {
    "duration": 18,
    "start_time": "2022-11-09T05:36:34.162Z"
   },
   {
    "duration": 3,
    "start_time": "2022-11-09T05:36:34.182Z"
   },
   {
    "duration": 81,
    "start_time": "2022-11-09T05:36:34.188Z"
   },
   {
    "duration": 49,
    "start_time": "2022-11-09T05:36:34.271Z"
   },
   {
    "duration": 58,
    "start_time": "2022-11-09T05:36:34.322Z"
   },
   {
    "duration": 50,
    "start_time": "2022-11-09T05:36:34.381Z"
   },
   {
    "duration": 6,
    "start_time": "2022-11-09T05:36:34.433Z"
   },
   {
    "duration": 13,
    "start_time": "2022-11-09T05:36:34.440Z"
   },
   {
    "duration": 8,
    "start_time": "2022-11-09T05:36:34.454Z"
   },
   {
    "duration": 6,
    "start_time": "2022-11-09T05:36:34.463Z"
   },
   {
    "duration": 10,
    "start_time": "2022-11-09T05:36:34.470Z"
   },
   {
    "duration": 38,
    "start_time": "2022-11-09T05:36:34.481Z"
   },
   {
    "duration": 32,
    "start_time": "2022-11-09T05:36:34.521Z"
   },
   {
    "duration": 7,
    "start_time": "2022-11-09T05:36:34.555Z"
   },
   {
    "duration": 6,
    "start_time": "2022-11-09T05:36:34.564Z"
   },
   {
    "duration": 8,
    "start_time": "2022-11-09T05:36:34.572Z"
   },
   {
    "duration": 5,
    "start_time": "2022-11-09T05:36:34.582Z"
   },
   {
    "duration": 55,
    "start_time": "2022-11-09T05:36:34.588Z"
   },
   {
    "duration": 6,
    "start_time": "2022-11-09T05:36:34.645Z"
   },
   {
    "duration": 9,
    "start_time": "2022-11-09T05:36:34.652Z"
   },
   {
    "duration": 12,
    "start_time": "2022-11-09T05:36:34.665Z"
   },
   {
    "duration": 142,
    "start_time": "2022-11-09T05:36:34.679Z"
   },
   {
    "duration": 64,
    "start_time": "2022-11-09T05:36:34.822Z"
   },
   {
    "duration": 181,
    "start_time": "2022-11-09T05:36:34.888Z"
   },
   {
    "duration": 28,
    "start_time": "2022-11-09T05:36:35.070Z"
   },
   {
    "duration": 7,
    "start_time": "2022-11-09T05:36:35.099Z"
   },
   {
    "duration": 17,
    "start_time": "2022-11-09T05:36:35.107Z"
   },
   {
    "duration": 149,
    "start_time": "2022-11-09T05:36:35.125Z"
   },
   {
    "duration": 9,
    "start_time": "2022-11-09T05:36:35.276Z"
   },
   {
    "duration": 19,
    "start_time": "2022-11-09T05:36:35.286Z"
   },
   {
    "duration": 17,
    "start_time": "2022-11-09T05:36:35.307Z"
   },
   {
    "duration": 10,
    "start_time": "2022-11-09T05:36:35.326Z"
   },
   {
    "duration": 11,
    "start_time": "2022-11-09T05:36:35.337Z"
   },
   {
    "duration": 19,
    "start_time": "2022-11-09T05:36:35.349Z"
   },
   {
    "duration": 10,
    "start_time": "2022-11-09T05:36:35.370Z"
   },
   {
    "duration": 41,
    "start_time": "2022-11-09T05:36:35.382Z"
   },
   {
    "duration": 29,
    "start_time": "2022-11-09T05:36:35.425Z"
   },
   {
    "duration": 10,
    "start_time": "2022-11-09T05:36:35.457Z"
   },
   {
    "duration": 8,
    "start_time": "2022-11-09T05:36:35.469Z"
   },
   {
    "duration": 15,
    "start_time": "2022-11-09T05:36:35.479Z"
   },
   {
    "duration": 36,
    "start_time": "2022-11-09T05:36:35.495Z"
   },
   {
    "duration": 14,
    "start_time": "2022-11-09T05:36:35.533Z"
   },
   {
    "duration": 9,
    "start_time": "2022-11-09T05:36:35.549Z"
   },
   {
    "duration": 8,
    "start_time": "2022-11-09T05:36:35.560Z"
   },
   {
    "duration": 6,
    "start_time": "2022-11-09T05:36:35.569Z"
   },
   {
    "duration": 45,
    "start_time": "2022-11-09T05:36:35.576Z"
   },
   {
    "duration": 11,
    "start_time": "2022-11-09T05:36:35.623Z"
   },
   {
    "duration": 18,
    "start_time": "2022-11-09T05:36:35.635Z"
   },
   {
    "duration": 16,
    "start_time": "2022-11-09T05:36:35.655Z"
   },
   {
    "duration": 10,
    "start_time": "2022-11-09T05:36:35.672Z"
   },
   {
    "duration": 15,
    "start_time": "2022-11-09T05:36:35.683Z"
   },
   {
    "duration": 25,
    "start_time": "2022-11-09T05:36:35.700Z"
   },
   {
    "duration": 6,
    "start_time": "2022-11-09T05:36:35.727Z"
   },
   {
    "duration": 6,
    "start_time": "2022-11-09T05:36:35.734Z"
   },
   {
    "duration": 203,
    "start_time": "2022-11-09T05:36:35.741Z"
   },
   {
    "duration": 239,
    "start_time": "2022-11-09T05:36:35.946Z"
   },
   {
    "duration": 8,
    "start_time": "2022-11-09T05:36:36.186Z"
   },
   {
    "duration": 7,
    "start_time": "2022-11-09T05:36:36.196Z"
   },
   {
    "duration": 11,
    "start_time": "2022-11-09T05:36:36.220Z"
   },
   {
    "duration": 9,
    "start_time": "2022-11-09T05:36:36.232Z"
   },
   {
    "duration": 4,
    "start_time": "2022-11-09T05:36:36.243Z"
   },
   {
    "duration": 2851,
    "start_time": "2022-11-09T05:36:36.248Z"
   },
   {
    "duration": 54,
    "start_time": "2022-11-09T05:36:39.100Z"
   },
   {
    "duration": 27,
    "start_time": "2022-11-09T05:36:39.156Z"
   },
   {
    "duration": 36,
    "start_time": "2022-11-09T05:36:39.185Z"
   },
   {
    "duration": 7,
    "start_time": "2022-11-09T05:36:39.223Z"
   },
   {
    "duration": 9,
    "start_time": "2022-11-09T05:36:39.232Z"
   },
   {
    "duration": 6,
    "start_time": "2022-11-09T05:36:39.243Z"
   },
   {
    "duration": 39870,
    "start_time": "2022-11-09T05:36:39.251Z"
   },
   {
    "duration": 3,
    "start_time": "2022-11-09T05:37:19.123Z"
   },
   {
    "duration": 12,
    "start_time": "2022-11-09T05:37:19.128Z"
   },
   {
    "duration": 11,
    "start_time": "2022-11-09T05:37:19.142Z"
   },
   {
    "duration": 4,
    "start_time": "2022-11-09T05:37:19.155Z"
   },
   {
    "duration": 208,
    "start_time": "2022-11-09T05:37:19.160Z"
   },
   {
    "duration": 2779,
    "start_time": "2022-11-09T05:37:19.373Z"
   },
   {
    "duration": 18431,
    "start_time": "2022-11-09T05:37:22.153Z"
   },
   {
    "duration": 3,
    "start_time": "2022-11-09T05:37:40.586Z"
   },
   {
    "duration": 196221,
    "start_time": "2022-11-09T05:37:40.590Z"
   },
   {
    "duration": 7,
    "start_time": "2022-11-09T05:40:56.813Z"
   },
   {
    "duration": 12,
    "start_time": "2022-11-09T05:40:56.822Z"
   },
   {
    "duration": 175,
    "start_time": "2022-11-09T05:40:56.836Z"
   },
   {
    "duration": 230,
    "start_time": "2022-11-09T05:40:57.013Z"
   },
   {
    "duration": 10,
    "start_time": "2022-11-09T05:40:57.245Z"
   },
   {
    "duration": 11,
    "start_time": "2022-11-09T05:40:57.257Z"
   },
   {
    "duration": 8,
    "start_time": "2022-11-09T05:40:57.270Z"
   },
   {
    "duration": 50,
    "start_time": "2022-11-09T05:40:57.279Z"
   },
   {
    "duration": 9,
    "start_time": "2022-11-09T05:40:57.331Z"
   },
   {
    "duration": 42710,
    "start_time": "2022-11-09T05:40:57.342Z"
   },
   {
    "duration": 3,
    "start_time": "2022-11-09T05:41:40.054Z"
   },
   {
    "duration": 82,
    "start_time": "2022-11-09T05:41:40.059Z"
   },
   {
    "duration": 10,
    "start_time": "2022-11-09T05:41:40.143Z"
   },
   {
    "duration": 14,
    "start_time": "2022-11-09T05:41:40.155Z"
   },
   {
    "duration": 11,
    "start_time": "2022-11-09T05:41:40.171Z"
   },
   {
    "duration": 43,
    "start_time": "2022-11-09T05:41:40.184Z"
   },
   {
    "duration": 32,
    "start_time": "2022-11-09T22:27:36.643Z"
   },
   {
    "duration": 1558,
    "start_time": "2022-11-09T22:27:36.677Z"
   },
   {
    "duration": 263,
    "start_time": "2022-11-09T22:27:38.237Z"
   },
   {
    "duration": 25,
    "start_time": "2022-11-09T22:27:38.502Z"
   },
   {
    "duration": 22,
    "start_time": "2022-11-09T22:27:38.529Z"
   },
   {
    "duration": 27,
    "start_time": "2022-11-09T22:27:38.553Z"
   },
   {
    "duration": 44,
    "start_time": "2022-11-09T22:27:38.582Z"
   },
   {
    "duration": 4,
    "start_time": "2022-11-09T22:27:38.628Z"
   },
   {
    "duration": 72,
    "start_time": "2022-11-09T22:27:38.634Z"
   },
   {
    "duration": 39,
    "start_time": "2022-11-09T22:27:38.709Z"
   },
   {
    "duration": 71,
    "start_time": "2022-11-09T22:27:38.750Z"
   },
   {
    "duration": 35,
    "start_time": "2022-11-09T22:27:38.832Z"
   },
   {
    "duration": 6,
    "start_time": "2022-11-09T22:27:38.868Z"
   },
   {
    "duration": 6,
    "start_time": "2022-11-09T22:27:38.876Z"
   },
   {
    "duration": 8,
    "start_time": "2022-11-09T22:27:38.884Z"
   },
   {
    "duration": 5,
    "start_time": "2022-11-09T22:27:38.894Z"
   },
   {
    "duration": 8,
    "start_time": "2022-11-09T22:27:38.920Z"
   },
   {
    "duration": 16,
    "start_time": "2022-11-09T22:27:38.930Z"
   },
   {
    "duration": 39,
    "start_time": "2022-11-09T22:27:38.948Z"
   },
   {
    "duration": 7,
    "start_time": "2022-11-09T22:27:38.988Z"
   },
   {
    "duration": 23,
    "start_time": "2022-11-09T22:27:38.996Z"
   },
   {
    "duration": 30,
    "start_time": "2022-11-09T22:27:39.021Z"
   },
   {
    "duration": 11,
    "start_time": "2022-11-09T22:27:39.053Z"
   },
   {
    "duration": 32,
    "start_time": "2022-11-09T22:27:39.065Z"
   },
   {
    "duration": 6,
    "start_time": "2022-11-09T22:27:39.099Z"
   },
   {
    "duration": 18,
    "start_time": "2022-11-09T22:27:39.107Z"
   },
   {
    "duration": 18,
    "start_time": "2022-11-09T22:27:39.135Z"
   },
   {
    "duration": 98,
    "start_time": "2022-11-09T22:27:39.157Z"
   },
   {
    "duration": 80,
    "start_time": "2022-11-09T22:27:39.256Z"
   },
   {
    "duration": 182,
    "start_time": "2022-11-09T22:27:39.338Z"
   },
   {
    "duration": 11,
    "start_time": "2022-11-09T22:27:39.522Z"
   },
   {
    "duration": 18,
    "start_time": "2022-11-09T22:27:39.535Z"
   },
   {
    "duration": 16,
    "start_time": "2022-11-09T22:27:39.554Z"
   },
   {
    "duration": 172,
    "start_time": "2022-11-09T22:27:39.572Z"
   },
   {
    "duration": 9,
    "start_time": "2022-11-09T22:27:39.745Z"
   },
   {
    "duration": 18,
    "start_time": "2022-11-09T22:27:39.755Z"
   },
   {
    "duration": 18,
    "start_time": "2022-11-09T22:27:39.775Z"
   },
   {
    "duration": 9,
    "start_time": "2022-11-09T22:27:39.794Z"
   },
   {
    "duration": 12,
    "start_time": "2022-11-09T22:27:39.819Z"
   },
   {
    "duration": 29,
    "start_time": "2022-11-09T22:27:39.834Z"
   },
   {
    "duration": 8,
    "start_time": "2022-11-09T22:27:39.865Z"
   },
   {
    "duration": 6,
    "start_time": "2022-11-09T22:27:39.875Z"
   },
   {
    "duration": 49,
    "start_time": "2022-11-09T22:27:39.882Z"
   },
   {
    "duration": 17,
    "start_time": "2022-11-09T22:27:39.933Z"
   },
   {
    "duration": 6,
    "start_time": "2022-11-09T22:27:39.951Z"
   },
   {
    "duration": 11,
    "start_time": "2022-11-09T22:27:39.958Z"
   },
   {
    "duration": 33,
    "start_time": "2022-11-09T22:27:39.971Z"
   },
   {
    "duration": 20,
    "start_time": "2022-11-09T22:27:40.006Z"
   },
   {
    "duration": 29,
    "start_time": "2022-11-09T22:27:40.029Z"
   },
   {
    "duration": 13,
    "start_time": "2022-11-09T22:27:40.060Z"
   },
   {
    "duration": 11,
    "start_time": "2022-11-09T22:27:40.075Z"
   },
   {
    "duration": 12,
    "start_time": "2022-11-09T22:27:40.088Z"
   },
   {
    "duration": 17,
    "start_time": "2022-11-09T22:27:40.101Z"
   },
   {
    "duration": 24,
    "start_time": "2022-11-09T22:27:40.121Z"
   },
   {
    "duration": 15,
    "start_time": "2022-11-09T22:27:40.147Z"
   },
   {
    "duration": 11,
    "start_time": "2022-11-09T22:27:40.164Z"
   },
   {
    "duration": 11,
    "start_time": "2022-11-09T22:27:40.177Z"
   },
   {
    "duration": 10,
    "start_time": "2022-11-09T22:27:40.190Z"
   },
   {
    "duration": 22,
    "start_time": "2022-11-09T22:27:40.202Z"
   },
   {
    "duration": 11,
    "start_time": "2022-11-09T22:27:40.226Z"
   },
   {
    "duration": 218,
    "start_time": "2022-11-09T22:27:40.238Z"
   },
   {
    "duration": 270,
    "start_time": "2022-11-09T22:27:40.458Z"
   },
   {
    "duration": 11,
    "start_time": "2022-11-09T22:27:40.730Z"
   },
   {
    "duration": 10,
    "start_time": "2022-11-09T22:27:40.743Z"
   },
   {
    "duration": 28,
    "start_time": "2022-11-09T22:27:40.754Z"
   },
   {
    "duration": 12,
    "start_time": "2022-11-09T22:27:40.784Z"
   },
   {
    "duration": 22,
    "start_time": "2022-11-09T22:27:40.799Z"
   },
   {
    "duration": 3471,
    "start_time": "2022-11-09T22:27:40.822Z"
   },
   {
    "duration": 72,
    "start_time": "2022-11-09T22:27:44.295Z"
   },
   {
    "duration": 29,
    "start_time": "2022-11-09T22:27:44.369Z"
   },
   {
    "duration": 19,
    "start_time": "2022-11-09T22:27:44.400Z"
   },
   {
    "duration": 5,
    "start_time": "2022-11-09T22:27:44.422Z"
   },
   {
    "duration": 21,
    "start_time": "2022-11-09T22:27:44.428Z"
   },
   {
    "duration": 15,
    "start_time": "2022-11-09T22:27:44.451Z"
   },
   {
    "duration": 42873,
    "start_time": "2022-11-09T22:27:44.468Z"
   },
   {
    "duration": 3,
    "start_time": "2022-11-09T22:28:27.343Z"
   },
   {
    "duration": 17,
    "start_time": "2022-11-09T22:28:27.348Z"
   },
   {
    "duration": 26,
    "start_time": "2022-11-09T22:28:27.367Z"
   },
   {
    "duration": 10,
    "start_time": "2022-11-09T22:28:27.395Z"
   },
   {
    "duration": 237,
    "start_time": "2022-11-09T22:28:27.407Z"
   },
   {
    "duration": 3828,
    "start_time": "2022-11-09T22:28:27.646Z"
   },
   {
    "duration": 19826,
    "start_time": "2022-11-09T22:28:31.481Z"
   },
   {
    "duration": 3,
    "start_time": "2022-11-09T22:28:51.309Z"
   },
   {
    "duration": 218040,
    "start_time": "2022-11-09T22:28:51.319Z"
   },
   {
    "duration": 3,
    "start_time": "2022-11-09T22:32:29.361Z"
   },
   {
    "duration": 20,
    "start_time": "2022-11-09T22:32:29.366Z"
   },
   {
    "duration": 178,
    "start_time": "2022-11-09T22:32:29.387Z"
   },
   {
    "duration": 238,
    "start_time": "2022-11-09T22:32:29.567Z"
   },
   {
    "duration": 26,
    "start_time": "2022-11-09T22:32:29.807Z"
   },
   {
    "duration": 12,
    "start_time": "2022-11-09T22:32:29.836Z"
   },
   {
    "duration": 9,
    "start_time": "2022-11-09T22:32:29.850Z"
   },
   {
    "duration": 19,
    "start_time": "2022-11-09T22:32:29.860Z"
   },
   {
    "duration": 38,
    "start_time": "2022-11-09T22:32:29.881Z"
   },
   {
    "duration": 44349,
    "start_time": "2022-11-09T22:32:29.921Z"
   },
   {
    "duration": 3,
    "start_time": "2022-11-09T22:33:14.272Z"
   },
   {
    "duration": 75,
    "start_time": "2022-11-09T22:33:14.277Z"
   },
   {
    "duration": 11,
    "start_time": "2022-11-09T22:33:14.354Z"
   },
   {
    "duration": 10,
    "start_time": "2022-11-09T22:33:14.367Z"
   },
   {
    "duration": 10,
    "start_time": "2022-11-09T22:33:14.379Z"
   },
   {
    "duration": 45,
    "start_time": "2022-11-09T22:33:14.391Z"
   },
   {
    "duration": 40,
    "start_time": "2022-11-10T13:16:48.637Z"
   },
   {
    "duration": 1699,
    "start_time": "2022-11-10T13:16:48.679Z"
   },
   {
    "duration": 5,
    "start_time": "2022-11-10T13:16:50.382Z"
   },
   {
    "duration": 1110,
    "start_time": "2022-11-10T13:16:50.390Z"
   },
   {
    "duration": 22,
    "start_time": "2022-11-10T13:16:51.501Z"
   },
   {
    "duration": 19,
    "start_time": "2022-11-10T13:16:51.525Z"
   },
   {
    "duration": 45,
    "start_time": "2022-11-10T13:16:51.545Z"
   },
   {
    "duration": 22,
    "start_time": "2022-11-10T13:16:51.592Z"
   },
   {
    "duration": 4,
    "start_time": "2022-11-10T13:16:51.616Z"
   },
   {
    "duration": 83,
    "start_time": "2022-11-10T13:16:51.622Z"
   },
   {
    "duration": 29,
    "start_time": "2022-11-10T13:16:51.707Z"
   },
   {
    "duration": 14,
    "start_time": "2022-11-10T13:16:51.737Z"
   },
   {
    "duration": 35,
    "start_time": "2022-11-10T13:16:51.753Z"
   },
   {
    "duration": 72,
    "start_time": "2022-11-10T13:16:51.789Z"
   },
   {
    "duration": 34,
    "start_time": "2022-11-10T13:16:51.863Z"
   },
   {
    "duration": 61,
    "start_time": "2022-11-10T13:16:51.899Z"
   },
   {
    "duration": 46,
    "start_time": "2022-11-10T13:16:51.962Z"
   },
   {
    "duration": 6,
    "start_time": "2022-11-10T13:16:52.010Z"
   },
   {
    "duration": 19,
    "start_time": "2022-11-10T13:16:52.017Z"
   },
   {
    "duration": 28,
    "start_time": "2022-11-10T13:16:52.038Z"
   },
   {
    "duration": 38,
    "start_time": "2022-11-10T13:16:52.068Z"
   },
   {
    "duration": 18,
    "start_time": "2022-11-10T13:16:52.108Z"
   },
   {
    "duration": 15,
    "start_time": "2022-11-10T13:16:52.128Z"
   },
   {
    "duration": 50,
    "start_time": "2022-11-10T13:16:52.144Z"
   },
   {
    "duration": 7,
    "start_time": "2022-11-10T13:16:52.196Z"
   },
   {
    "duration": 12,
    "start_time": "2022-11-10T13:16:52.205Z"
   },
   {
    "duration": 26,
    "start_time": "2022-11-10T13:16:52.219Z"
   },
   {
    "duration": 17,
    "start_time": "2022-11-10T13:16:52.249Z"
   },
   {
    "duration": 38,
    "start_time": "2022-11-10T13:16:52.268Z"
   },
   {
    "duration": 7,
    "start_time": "2022-11-10T13:16:52.307Z"
   },
   {
    "duration": 12,
    "start_time": "2022-11-10T13:16:52.316Z"
   },
   {
    "duration": 16,
    "start_time": "2022-11-10T13:16:52.330Z"
   },
   {
    "duration": 108,
    "start_time": "2022-11-10T13:16:52.348Z"
   },
   {
    "duration": 92,
    "start_time": "2022-11-10T13:16:52.458Z"
   },
   {
    "duration": 197,
    "start_time": "2022-11-10T13:16:52.552Z"
   },
   {
    "duration": 9,
    "start_time": "2022-11-10T13:16:52.751Z"
   },
   {
    "duration": 26,
    "start_time": "2022-11-10T13:16:52.762Z"
   },
   {
    "duration": 11,
    "start_time": "2022-11-10T13:16:52.793Z"
   },
   {
    "duration": 141,
    "start_time": "2022-11-10T13:16:52.806Z"
   },
   {
    "duration": 8,
    "start_time": "2022-11-10T13:16:52.948Z"
   },
   {
    "duration": 10,
    "start_time": "2022-11-10T13:16:52.957Z"
   },
   {
    "duration": 16,
    "start_time": "2022-11-10T13:16:52.968Z"
   },
   {
    "duration": 16,
    "start_time": "2022-11-10T13:16:52.986Z"
   },
   {
    "duration": 11,
    "start_time": "2022-11-10T13:16:53.003Z"
   },
   {
    "duration": 17,
    "start_time": "2022-11-10T13:16:53.016Z"
   },
   {
    "duration": 10,
    "start_time": "2022-11-10T13:16:53.034Z"
   },
   {
    "duration": 6,
    "start_time": "2022-11-10T13:16:53.045Z"
   },
   {
    "duration": 50,
    "start_time": "2022-11-10T13:16:53.052Z"
   },
   {
    "duration": 10,
    "start_time": "2022-11-10T13:16:53.104Z"
   },
   {
    "duration": 6,
    "start_time": "2022-11-10T13:16:53.115Z"
   },
   {
    "duration": 8,
    "start_time": "2022-11-10T13:16:53.122Z"
   },
   {
    "duration": 23,
    "start_time": "2022-11-10T13:16:53.131Z"
   },
   {
    "duration": 33,
    "start_time": "2022-11-10T13:16:53.156Z"
   },
   {
    "duration": 9,
    "start_time": "2022-11-10T13:16:53.192Z"
   },
   {
    "duration": 8,
    "start_time": "2022-11-10T13:16:53.202Z"
   },
   {
    "duration": 6,
    "start_time": "2022-11-10T13:16:53.211Z"
   },
   {
    "duration": 6,
    "start_time": "2022-11-10T13:16:53.219Z"
   },
   {
    "duration": 8,
    "start_time": "2022-11-10T13:16:53.226Z"
   },
   {
    "duration": 7,
    "start_time": "2022-11-10T13:16:53.236Z"
   },
   {
    "duration": 54,
    "start_time": "2022-11-10T13:16:53.244Z"
   },
   {
    "duration": 8,
    "start_time": "2022-11-10T13:16:53.299Z"
   },
   {
    "duration": 9,
    "start_time": "2022-11-10T13:16:53.309Z"
   },
   {
    "duration": 8,
    "start_time": "2022-11-10T13:16:53.319Z"
   },
   {
    "duration": 5,
    "start_time": "2022-11-10T13:16:53.329Z"
   },
   {
    "duration": 8,
    "start_time": "2022-11-10T13:16:53.335Z"
   },
   {
    "duration": 199,
    "start_time": "2022-11-10T13:16:53.344Z"
   },
   {
    "duration": 251,
    "start_time": "2022-11-10T13:16:53.545Z"
   },
   {
    "duration": 8,
    "start_time": "2022-11-10T13:16:53.797Z"
   },
   {
    "duration": 8,
    "start_time": "2022-11-10T13:16:53.807Z"
   },
   {
    "duration": 17,
    "start_time": "2022-11-10T13:16:53.817Z"
   },
   {
    "duration": 10,
    "start_time": "2022-11-10T13:16:53.835Z"
   },
   {
    "duration": 5,
    "start_time": "2022-11-10T13:16:53.846Z"
   },
   {
    "duration": 2953,
    "start_time": "2022-11-10T13:16:53.880Z"
   },
   {
    "duration": 6,
    "start_time": "2022-11-10T13:16:56.835Z"
   },
   {
    "duration": 57,
    "start_time": "2022-11-10T13:16:56.843Z"
   },
   {
    "duration": 30,
    "start_time": "2022-11-10T13:16:56.901Z"
   },
   {
    "duration": 48,
    "start_time": "2022-11-10T13:16:56.933Z"
   },
   {
    "duration": 10,
    "start_time": "2022-11-10T13:16:56.985Z"
   },
   {
    "duration": 24,
    "start_time": "2022-11-10T13:16:56.999Z"
   },
   {
    "duration": 60,
    "start_time": "2022-11-10T13:16:57.025Z"
   },
   {
    "duration": 41,
    "start_time": "2022-11-10T13:16:57.089Z"
   },
   {
    "duration": 42082,
    "start_time": "2022-11-10T13:16:57.136Z"
   },
   {
    "duration": 3,
    "start_time": "2022-11-10T13:17:39.220Z"
   },
   {
    "duration": 21,
    "start_time": "2022-11-10T13:17:39.225Z"
   },
   {
    "duration": 26,
    "start_time": "2022-11-10T13:17:39.248Z"
   },
   {
    "duration": 28,
    "start_time": "2022-11-10T13:17:39.276Z"
   },
   {
    "duration": 237,
    "start_time": "2022-11-10T13:17:39.306Z"
   },
   {
    "duration": 6,
    "start_time": "2022-11-10T13:17:39.545Z"
   },
   {
    "duration": 3442,
    "start_time": "2022-11-10T13:17:39.553Z"
   },
   {
    "duration": 22298,
    "start_time": "2022-11-10T13:17:42.997Z"
   },
   {
    "duration": 5,
    "start_time": "2022-11-10T13:18:05.297Z"
   },
   {
    "duration": 10293,
    "start_time": "2022-11-10T13:18:05.304Z"
   },
   {
    "duration": 3,
    "start_time": "2022-11-10T13:18:15.600Z"
   },
   {
    "duration": 25,
    "start_time": "2022-11-10T13:18:15.605Z"
   },
   {
    "duration": 193,
    "start_time": "2022-11-10T13:18:15.632Z"
   },
   {
    "duration": 233,
    "start_time": "2022-11-10T13:18:15.826Z"
   },
   {
    "duration": 29,
    "start_time": "2022-11-10T13:18:16.061Z"
   },
   {
    "duration": 13,
    "start_time": "2022-11-10T13:18:16.093Z"
   },
   {
    "duration": 15,
    "start_time": "2022-11-10T13:18:16.108Z"
   },
   {
    "duration": 20,
    "start_time": "2022-11-10T13:18:16.125Z"
   },
   {
    "duration": 14,
    "start_time": "2022-11-10T13:18:16.146Z"
   },
   {
    "duration": 41667,
    "start_time": "2022-11-10T13:18:16.162Z"
   },
   {
    "duration": 3,
    "start_time": "2022-11-10T13:18:57.830Z"
   },
   {
    "duration": 75,
    "start_time": "2022-11-10T13:18:57.834Z"
   },
   {
    "duration": 10,
    "start_time": "2022-11-10T13:18:57.911Z"
   },
   {
    "duration": 25,
    "start_time": "2022-11-10T13:18:57.922Z"
   },
   {
    "duration": 16,
    "start_time": "2022-11-10T13:18:57.949Z"
   },
   {
    "duration": 29,
    "start_time": "2022-11-10T13:18:57.966Z"
   }
  ],
  "celltoolbar": "Отсутствует",
  "kernelspec": {
   "display_name": "Python 3 (ipykernel)",
   "language": "python",
   "name": "python3"
  },
  "language_info": {
   "codemirror_mode": {
    "name": "ipython",
    "version": 3
   },
   "file_extension": ".py",
   "mimetype": "text/x-python",
   "name": "python",
   "nbconvert_exporter": "python",
   "pygments_lexer": "ipython3",
   "version": "3.9.12"
  },
  "toc": {
   "base_numbering": 1,
   "nav_menu": {},
   "number_sections": true,
   "sideBar": true,
   "skip_h1_title": true,
   "title_cell": "Table of Contents",
   "title_sidebar": "Contents",
   "toc_cell": false,
   "toc_position": {
    "height": "calc(100% - 180px)",
    "left": "10px",
    "top": "150px",
    "width": "384px"
   },
   "toc_section_display": true,
   "toc_window_display": true
  }
 },
 "nbformat": 4,
 "nbformat_minor": 2
}
