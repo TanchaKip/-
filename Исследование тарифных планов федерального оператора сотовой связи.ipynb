{
 "cells": [
  {
   "cell_type": "markdown",
   "metadata": {},
   "source": [
    "\n",
    "Привет, меня зовут Головатский Николай, я буду проверять твой проект.\n",
    "\n",
    "В Практикуме принято общаться на \"ты\", однако если это неудобно - дай знать, и можем перейти на более официальное общение.\n",
    "\n",
    "Ниже ты найдешь мои комментарии - **пожалуйста, не перемещай, не изменяй и не удаляй их,** это может усложнить и затянуть повторную проверку. \n",
    "\n",
    "Я буду использовать цветовую разметку: \n",
    "\n",
    "<div class=\"alert alert-block alert-success\">\n",
    "<b>Комментарий ревьюера✅:</b> Если все сделано хорошо.</div>\n",
    "\n",
    "<div class=\"alert alert-block alert-warning\">\n",
    "<b>Комментарий ревьюера⚠️:</b> Некритичное замечание, реккомендация на будущее. Для принятия проекта исправление не обязательно.</div>\n",
    "\n",
    "<div class=\"alert alert-block alert-danger\">\n",
    "<b>Комментарий ревьюера❌:</b> Критичная ошибка, необходимо исправить, иначе проект не будет принят.\n",
    "</div>\n",
    "\n",
    "Давай работать над проектом в диалоге: если ты что-то меняешь в проекте или отвечаешь на мои комменатри — пиши об этом. Мне будет легче отследить изменения, если ты выделишь свои комментарии:\n",
    "Например так:\n",
    "<div class=\"alert alert-block alert-info\">\n",
    "<b>Комментарий студента:</b> \n",
    "Hello World!\n",
    "</div>\n",
    "\n",
    "Если писать особо нечего, просто оставляй комментарий с галочкой ☑️.\n",
    "\n",
    "\n",
    "<div class=\"alert alert-block alert-success\">\n",
    "<b>Общее впечатление:</b> \n",
    "    \n",
    "- Спасибо за работу :)\n",
    "- Определенно могу сказать, что проект очень сильный;\n",
    "- Мне очень понравилось, как ты детально погружаешься в данные и не упускаешь никаких мелочей;\n",
    "- В проекте осталось пара моментов, после правки которых, я смогу принять работу😉\n",
    "    \n",
    "</div>"
   ]
  },
  {
   "cell_type": "markdown",
   "metadata": {},
   "source": [
    "## Проектная работа. Исследование тарифных планов федерального оператора сотовой связи."
   ]
  },
  {
   "cell_type": "markdown",
   "metadata": {},
   "source": [
    "Описание проекта\n",
    "\n",
    "Компания «Мегалайн» — федеральный оператор сотовой связи. Клиентам предлагают два тарифных плана: «Смарт» и «Ультра». Чтобы скорректировать рекламный бюджет, коммерческий департамент хочет понять, какой тариф приносит больше денег.\n",
    "Предстоит сделать предварительный анализ тарифов на небольшой выборке клиентов. <br>\n",
    "В распоряжении данные 500 пользователей «Мегалайна»: кто они, откуда, каким тарифом пользуются, сколько звонков и сообщений каждый отправил за 2018 год. Нужно проанализировать поведение клиентов и сделать вывод — какой тариф лучше.<br>\n",
    "Описание тарифов\n",
    "Тариф «Смарт»\n",
    "1.\tЕжемесячная плата: 550 рублей\n",
    "2.\tВключено 500 минут разговора, 50 сообщений и 15 Гб интернет-трафика\n",
    "3.\tСтоимость услуг сверх тарифного пакета:\n",
    "    - минута разговора: 3 рубля\n",
    "    - сообщение: 3 рубля\n",
    "    - 1 Гб интернет-трафика: 200 рублей\n",
    "Тариф «Ультра»\n",
    "1.\tЕжемесячная плата: 1950 рублей\n",
    "2.\tВключено 3000 минут разговора, 1000 сообщений и 30 Гб интернет-трафика\n",
    "3.\tСтоимость услуг сверх тарифного пакета:\n",
    "    - минута разговора: 1 рубль \n",
    "    - сообщение: 1 рубль\n",
    "    - 1 Гб интернет-трафика: 150 рублей\n",
    "Примечание:\n",
    "«Мегалайн» всегда округляет секунды до минут, а мегабайты — до гигабайт. Каждый звонок округляется отдельно: даже если он длился всего 1 секунду, будет засчитан как 1 минута.\n",
    "Для веб-трафика отдельные сессии не считаются. Вместо этого общая сумма за месяц округляется в бо́льшую сторону. Если абонент использует 1025 мегабайт в этом месяце, с него возьмут плату за 2 гигабайта."
   ]
  },
  {
   "cell_type": "markdown",
   "metadata": {},
   "source": [
    "Описание данных\n",
    "\n",
    "Таблица users (информация о пользователях):<br>\n",
    "•\tuser_id — уникальный идентификатор пользователя<br>\n",
    "•\tfirst_name — имя пользователя<br>\n",
    "•\tlast_name — фамилия пользователя<br>\n",
    "•\tage — возраст пользователя (годы)<br>\n",
    "•\treg_date — дата подключения тарифа (день, месяц, год)<br>\n",
    "•\tchurn_date — дата прекращения пользования тарифом (если значение пропущено, то тариф ещё действовал на момент выгрузки данных)<br>\n",
    "•\tcity — город проживания пользователя<br>\n",
    "•\ttariff — название тарифного плана<br>\n",
    "\n",
    "Таблица calls (информация о звонках):<br>\n",
    "•\tid — уникальный номер звонка<br>\n",
    "•\tcall_date — дата звонка<br>\n",
    "•\tduration — длительность звонка в минутах<br>\n",
    "•\tuser_id — идентификатор пользователя, сделавшего звонок<br>\n",
    "\n",
    "Таблица messages (информация о сообщениях):<br>\n",
    "•\tid — уникальный номер сообщения<br>\n",
    "•\tmessage_date — дата сообщения<br>\n",
    "•\tuser_id — идентификатор пользователя, отправившего сообщение<br>\n",
    "\n",
    "Таблица internet (информация об интернет-сессиях):<br>\n",
    "•\tid — уникальный номер сессии<br>\n",
    "•\tmb_used — объём потраченного за сессию интернет-трафика (в мегабайтах)<br>\n",
    "•\tsession_date — дата интернет-сессии<br>\n",
    "•\tuser_id — идентификатор пользователя<br>\n",
    "\n",
    "Таблица tariffs (информация о тарифах):<br>\n",
    "•\ttariff_name — название тарифа<br>\n",
    "•\trub_monthly_fee — ежемесячная абонентская плата в рублях<br>\n",
    "•\tminutes_included — количество минут разговора в месяц, включённых в абонентскую плату<br>\n",
    "•\tmessages_included — количество сообщений в месяц, включённых в абонентскую плату<br>\n",
    "•\tmb_per_month_included — объём интернет-трафика, включённого в абонентскую плату (в мегабайтах)<br>\n",
    "•\trub_per_minute — стоимость минуты разговора сверх тарифного пакета (например, если в тарифе 100 минут разговора в месяц, то со 101 минуты будет взиматься плата)<br>\n",
    "•\trub_per_message — стоимость отправки сообщения сверх тарифного пакета<br>\n",
    "•\trub_per_gb — стоимость дополнительного гигабайта интернет-трафика сверх тарифного пакета (1 гигабайт = 1024 мегабайта)<br>"
   ]
  },
  {
   "cell_type": "markdown",
   "metadata": {},
   "source": [
    "<div class=\"alert alert-block alert-warning\">\n",
    "<b>Комментарий ревьюера⚠️:</b> Твой проект станет намного удобней в использовании, если ты добавишь интерактивное оглавление — с помощью гиперссылок или в плагине toc. Материал об этом есть в блоке курса Полезные инструкции для учёбы - Оформление проекта - Изменения в Jupyter: автоматическое оглавление и горячие клавиши"
   ]
  },
  {
   "cell_type": "markdown",
   "metadata": {},
   "source": [
    "<div class=\"alert alert-block alert-info\">\n",
    "<b>Добавила оглавление. Вроде работает</b>\n",
    "</div>"
   ]
  },
  {
   "cell_type": "markdown",
   "metadata": {},
   "source": [
    "<div class=\"alert alert-block alert-success\">\n",
    "<b>Комментарий ревьюера_v2✅:</b> Отлично😉 </div>"
   ]
  },
  {
   "cell_type": "markdown",
   "metadata": {},
   "source": [
    "### Откроем файлы с данными и изучим общую информацию"
   ]
  },
  {
   "cell_type": "code",
   "execution_count": 1,
   "metadata": {},
   "outputs": [],
   "source": [
    "# импорт библиотек \n",
    "import pandas as pd \n",
    "import matplotlib.pyplot as plt\n",
    "import seaborn as sns\n",
    "from pandas.plotting import scatter_matrix\n",
    "from scipy import stats as st\n",
    "import numpy as np\n",
    "import math"
   ]
  },
  {
   "cell_type": "code",
   "execution_count": 2,
   "metadata": {},
   "outputs": [],
   "source": [
    "try:\n",
    "    df_users = pd.read_csv(r'C:\\Users\\tanch\\Desktop\\data science\\проекты\\Статистический анализ данных\\users.csv', sep=',') # чтение файлов с данными\n",
    "    df_calls = pd.read_csv(r'C:\\Users\\tanch\\Desktop\\data science\\проекты\\Статистический анализ данных\\calls.csv', sep=',')\n",
    "    df_messages = pd.read_csv(r'C:\\Users\\tanch\\Desktop\\data science\\проекты\\Статистический анализ данных\\messages.csv', sep=',')\n",
    "    df_internet = pd.read_csv(r'C:\\Users\\tanch\\Desktop\\data science\\проекты\\Статистический анализ данных\\internet.csv', sep=',', index_col=0)\n",
    "    df_tariffs = pd.read_csv(r'C:\\Users\\tanch\\Desktop\\data science\\проекты\\Статистический анализ данных\\tariffs.csv', sep=',')\n",
    "except:\n",
    "    df_users = pd.read_csv('/datasets/users.csv', sep=',') # чтение файлов с данными\n",
    "    df_calls = pd.read_csv('/datasets/calls.csv', sep=',')\n",
    "    df_messages = pd.read_csv('/datasets/messages.csv', sep=',')\n",
    "    df_internet = pd.read_csv('/datasets/internet.csv', sep=',', index_col=0)\n",
    "    df_tariffs = pd.read_csv('/datasets/tariffs.csv', sep=',')"
   ]
  },
  {
   "cell_type": "markdown",
   "metadata": {},
   "source": [
    "Просмотрим первые пять строк таблицы. Изучим каждую таблицу подробнее:"
   ]
  },
  {
   "cell_type": "code",
   "execution_count": 3,
   "metadata": {},
   "outputs": [
    {
     "data": {
      "text/html": [
       "<div>\n",
       "<style scoped>\n",
       "    .dataframe tbody tr th:only-of-type {\n",
       "        vertical-align: middle;\n",
       "    }\n",
       "\n",
       "    .dataframe tbody tr th {\n",
       "        vertical-align: top;\n",
       "    }\n",
       "\n",
       "    .dataframe thead th {\n",
       "        text-align: right;\n",
       "    }\n",
       "</style>\n",
       "<table border=\"1\" class=\"dataframe\">\n",
       "  <thead>\n",
       "    <tr style=\"text-align: right;\">\n",
       "      <th></th>\n",
       "      <th>user_id</th>\n",
       "      <th>age</th>\n",
       "      <th>churn_date</th>\n",
       "      <th>city</th>\n",
       "      <th>first_name</th>\n",
       "      <th>last_name</th>\n",
       "      <th>reg_date</th>\n",
       "      <th>tariff</th>\n",
       "    </tr>\n",
       "  </thead>\n",
       "  <tbody>\n",
       "    <tr>\n",
       "      <th>0</th>\n",
       "      <td>1000</td>\n",
       "      <td>52</td>\n",
       "      <td>NaN</td>\n",
       "      <td>Краснодар</td>\n",
       "      <td>Рафаил</td>\n",
       "      <td>Верещагин</td>\n",
       "      <td>2018-05-25</td>\n",
       "      <td>ultra</td>\n",
       "    </tr>\n",
       "    <tr>\n",
       "      <th>1</th>\n",
       "      <td>1001</td>\n",
       "      <td>41</td>\n",
       "      <td>NaN</td>\n",
       "      <td>Москва</td>\n",
       "      <td>Иван</td>\n",
       "      <td>Ежов</td>\n",
       "      <td>2018-11-01</td>\n",
       "      <td>smart</td>\n",
       "    </tr>\n",
       "    <tr>\n",
       "      <th>2</th>\n",
       "      <td>1002</td>\n",
       "      <td>59</td>\n",
       "      <td>NaN</td>\n",
       "      <td>Стерлитамак</td>\n",
       "      <td>Евгений</td>\n",
       "      <td>Абрамович</td>\n",
       "      <td>2018-06-17</td>\n",
       "      <td>smart</td>\n",
       "    </tr>\n",
       "    <tr>\n",
       "      <th>3</th>\n",
       "      <td>1003</td>\n",
       "      <td>23</td>\n",
       "      <td>NaN</td>\n",
       "      <td>Москва</td>\n",
       "      <td>Белла</td>\n",
       "      <td>Белякова</td>\n",
       "      <td>2018-08-17</td>\n",
       "      <td>ultra</td>\n",
       "    </tr>\n",
       "    <tr>\n",
       "      <th>4</th>\n",
       "      <td>1004</td>\n",
       "      <td>68</td>\n",
       "      <td>NaN</td>\n",
       "      <td>Новокузнецк</td>\n",
       "      <td>Татьяна</td>\n",
       "      <td>Авдеенко</td>\n",
       "      <td>2018-05-14</td>\n",
       "      <td>ultra</td>\n",
       "    </tr>\n",
       "  </tbody>\n",
       "</table>\n",
       "</div>"
      ],
      "text/plain": [
       "   user_id  age churn_date         city first_name  last_name    reg_date  \\\n",
       "0     1000   52        NaN    Краснодар     Рафаил  Верещагин  2018-05-25   \n",
       "1     1001   41        NaN       Москва       Иван       Ежов  2018-11-01   \n",
       "2     1002   59        NaN  Стерлитамак    Евгений  Абрамович  2018-06-17   \n",
       "3     1003   23        NaN       Москва      Белла   Белякова  2018-08-17   \n",
       "4     1004   68        NaN  Новокузнецк    Татьяна   Авдеенко  2018-05-14   \n",
       "\n",
       "  tariff  \n",
       "0  ultra  \n",
       "1  smart  \n",
       "2  smart  \n",
       "3  ultra  \n",
       "4  ultra  "
      ]
     },
     "execution_count": 3,
     "metadata": {},
     "output_type": "execute_result"
    }
   ],
   "source": [
    "df_users.head() # просмотр первых 5 строк таблицы users.csv"
   ]
  },
  {
   "cell_type": "code",
   "execution_count": 4,
   "metadata": {},
   "outputs": [
    {
     "name": "stdout",
     "output_type": "stream",
     "text": [
      "<class 'pandas.core.frame.DataFrame'>\n",
      "RangeIndex: 500 entries, 0 to 499\n",
      "Data columns (total 8 columns):\n",
      " #   Column      Non-Null Count  Dtype \n",
      "---  ------      --------------  ----- \n",
      " 0   user_id     500 non-null    int64 \n",
      " 1   age         500 non-null    int64 \n",
      " 2   churn_date  38 non-null     object\n",
      " 3   city        500 non-null    object\n",
      " 4   first_name  500 non-null    object\n",
      " 5   last_name   500 non-null    object\n",
      " 6   reg_date    500 non-null    object\n",
      " 7   tariff      500 non-null    object\n",
      "dtypes: int64(2), object(6)\n",
      "memory usage: 31.4+ KB\n"
     ]
    }
   ],
   "source": [
    "df_users.info() # просмотр информации о таблице"
   ]
  },
  {
   "cell_type": "markdown",
   "metadata": {},
   "source": [
    "В таблице \"df_users\": 8 колонок и 500 записей. Есть пропуски в данных в столбце \"churn_date\". Также не корректный формат данных для столбцов \"reg_date\" и \"churn_date\". Необходимо заменить на формат Даты/Времени. Исправим в следующем разделе."
   ]
  },
  {
   "cell_type": "code",
   "execution_count": 5,
   "metadata": {},
   "outputs": [
    {
     "data": {
      "text/html": [
       "<div>\n",
       "<style scoped>\n",
       "    .dataframe tbody tr th:only-of-type {\n",
       "        vertical-align: middle;\n",
       "    }\n",
       "\n",
       "    .dataframe tbody tr th {\n",
       "        vertical-align: top;\n",
       "    }\n",
       "\n",
       "    .dataframe thead th {\n",
       "        text-align: right;\n",
       "    }\n",
       "</style>\n",
       "<table border=\"1\" class=\"dataframe\">\n",
       "  <thead>\n",
       "    <tr style=\"text-align: right;\">\n",
       "      <th></th>\n",
       "      <th>id</th>\n",
       "      <th>call_date</th>\n",
       "      <th>duration</th>\n",
       "      <th>user_id</th>\n",
       "    </tr>\n",
       "  </thead>\n",
       "  <tbody>\n",
       "    <tr>\n",
       "      <th>0</th>\n",
       "      <td>1000_0</td>\n",
       "      <td>2018-07-25</td>\n",
       "      <td>0.00</td>\n",
       "      <td>1000</td>\n",
       "    </tr>\n",
       "    <tr>\n",
       "      <th>1</th>\n",
       "      <td>1000_1</td>\n",
       "      <td>2018-08-17</td>\n",
       "      <td>0.00</td>\n",
       "      <td>1000</td>\n",
       "    </tr>\n",
       "    <tr>\n",
       "      <th>2</th>\n",
       "      <td>1000_2</td>\n",
       "      <td>2018-06-11</td>\n",
       "      <td>2.85</td>\n",
       "      <td>1000</td>\n",
       "    </tr>\n",
       "    <tr>\n",
       "      <th>3</th>\n",
       "      <td>1000_3</td>\n",
       "      <td>2018-09-21</td>\n",
       "      <td>13.80</td>\n",
       "      <td>1000</td>\n",
       "    </tr>\n",
       "    <tr>\n",
       "      <th>4</th>\n",
       "      <td>1000_4</td>\n",
       "      <td>2018-12-15</td>\n",
       "      <td>5.18</td>\n",
       "      <td>1000</td>\n",
       "    </tr>\n",
       "  </tbody>\n",
       "</table>\n",
       "</div>"
      ],
      "text/plain": [
       "       id   call_date  duration  user_id\n",
       "0  1000_0  2018-07-25      0.00     1000\n",
       "1  1000_1  2018-08-17      0.00     1000\n",
       "2  1000_2  2018-06-11      2.85     1000\n",
       "3  1000_3  2018-09-21     13.80     1000\n",
       "4  1000_4  2018-12-15      5.18     1000"
      ]
     },
     "execution_count": 5,
     "metadata": {},
     "output_type": "execute_result"
    }
   ],
   "source": [
    "df_calls.head()# просмотр первых 5 строк таблицы calls.csv"
   ]
  },
  {
   "cell_type": "code",
   "execution_count": 6,
   "metadata": {},
   "outputs": [
    {
     "name": "stdout",
     "output_type": "stream",
     "text": [
      "<class 'pandas.core.frame.DataFrame'>\n",
      "RangeIndex: 202607 entries, 0 to 202606\n",
      "Data columns (total 4 columns):\n",
      " #   Column     Non-Null Count   Dtype  \n",
      "---  ------     --------------   -----  \n",
      " 0   id         202607 non-null  object \n",
      " 1   call_date  202607 non-null  object \n",
      " 2   duration   202607 non-null  float64\n",
      " 3   user_id    202607 non-null  int64  \n",
      "dtypes: float64(1), int64(1), object(2)\n",
      "memory usage: 6.2+ MB\n"
     ]
    }
   ],
   "source": [
    "df_calls.info()# просмотр информации о таблице"
   ]
  },
  {
   "cell_type": "markdown",
   "metadata": {},
   "source": [
    "В таблице \"df_calls\": 4 колонки и 202607 записей. Пропусков нет. Не корректный формат данных для столбца \"call_date\": необходимо заменить на формат Даты/Времени. Столбец \"duration\" переведем из формата float64 в формат int c округлением в большую сторону. Исправим в следующем разделе."
   ]
  },
  {
   "cell_type": "code",
   "execution_count": 7,
   "metadata": {},
   "outputs": [
    {
     "data": {
      "text/html": [
       "<div>\n",
       "<style scoped>\n",
       "    .dataframe tbody tr th:only-of-type {\n",
       "        vertical-align: middle;\n",
       "    }\n",
       "\n",
       "    .dataframe tbody tr th {\n",
       "        vertical-align: top;\n",
       "    }\n",
       "\n",
       "    .dataframe thead th {\n",
       "        text-align: right;\n",
       "    }\n",
       "</style>\n",
       "<table border=\"1\" class=\"dataframe\">\n",
       "  <thead>\n",
       "    <tr style=\"text-align: right;\">\n",
       "      <th></th>\n",
       "      <th>id</th>\n",
       "      <th>message_date</th>\n",
       "      <th>user_id</th>\n",
       "    </tr>\n",
       "  </thead>\n",
       "  <tbody>\n",
       "    <tr>\n",
       "      <th>0</th>\n",
       "      <td>1000_0</td>\n",
       "      <td>2018-06-27</td>\n",
       "      <td>1000</td>\n",
       "    </tr>\n",
       "    <tr>\n",
       "      <th>1</th>\n",
       "      <td>1000_1</td>\n",
       "      <td>2018-10-08</td>\n",
       "      <td>1000</td>\n",
       "    </tr>\n",
       "    <tr>\n",
       "      <th>2</th>\n",
       "      <td>1000_2</td>\n",
       "      <td>2018-08-04</td>\n",
       "      <td>1000</td>\n",
       "    </tr>\n",
       "    <tr>\n",
       "      <th>3</th>\n",
       "      <td>1000_3</td>\n",
       "      <td>2018-06-16</td>\n",
       "      <td>1000</td>\n",
       "    </tr>\n",
       "    <tr>\n",
       "      <th>4</th>\n",
       "      <td>1000_4</td>\n",
       "      <td>2018-12-05</td>\n",
       "      <td>1000</td>\n",
       "    </tr>\n",
       "  </tbody>\n",
       "</table>\n",
       "</div>"
      ],
      "text/plain": [
       "       id message_date  user_id\n",
       "0  1000_0   2018-06-27     1000\n",
       "1  1000_1   2018-10-08     1000\n",
       "2  1000_2   2018-08-04     1000\n",
       "3  1000_3   2018-06-16     1000\n",
       "4  1000_4   2018-12-05     1000"
      ]
     },
     "execution_count": 7,
     "metadata": {},
     "output_type": "execute_result"
    }
   ],
   "source": [
    "df_messages.head()# просмотр первых 5 строк таблицы messages.csv"
   ]
  },
  {
   "cell_type": "code",
   "execution_count": 8,
   "metadata": {},
   "outputs": [
    {
     "name": "stdout",
     "output_type": "stream",
     "text": [
      "<class 'pandas.core.frame.DataFrame'>\n",
      "RangeIndex: 123036 entries, 0 to 123035\n",
      "Data columns (total 3 columns):\n",
      " #   Column        Non-Null Count   Dtype \n",
      "---  ------        --------------   ----- \n",
      " 0   id            123036 non-null  object\n",
      " 1   message_date  123036 non-null  object\n",
      " 2   user_id       123036 non-null  int64 \n",
      "dtypes: int64(1), object(2)\n",
      "memory usage: 2.8+ MB\n"
     ]
    }
   ],
   "source": [
    "df_messages.info()# просмотр информации о таблице"
   ]
  },
  {
   "cell_type": "markdown",
   "metadata": {},
   "source": [
    "В таблице \"df_messages\": 3 колонки и 123036 записей. Пропусков нет. Не корректный формат данных для столбца \"message_date\": необходимо заменить на формат Даты/Времени. Исправим в следующем разделе."
   ]
  },
  {
   "cell_type": "code",
   "execution_count": 9,
   "metadata": {},
   "outputs": [
    {
     "data": {
      "text/html": [
       "<div>\n",
       "<style scoped>\n",
       "    .dataframe tbody tr th:only-of-type {\n",
       "        vertical-align: middle;\n",
       "    }\n",
       "\n",
       "    .dataframe tbody tr th {\n",
       "        vertical-align: top;\n",
       "    }\n",
       "\n",
       "    .dataframe thead th {\n",
       "        text-align: right;\n",
       "    }\n",
       "</style>\n",
       "<table border=\"1\" class=\"dataframe\">\n",
       "  <thead>\n",
       "    <tr style=\"text-align: right;\">\n",
       "      <th></th>\n",
       "      <th>id</th>\n",
       "      <th>mb_used</th>\n",
       "      <th>session_date</th>\n",
       "      <th>user_id</th>\n",
       "    </tr>\n",
       "  </thead>\n",
       "  <tbody>\n",
       "    <tr>\n",
       "      <th>0</th>\n",
       "      <td>1000_0</td>\n",
       "      <td>112.95</td>\n",
       "      <td>2018-11-25</td>\n",
       "      <td>1000</td>\n",
       "    </tr>\n",
       "    <tr>\n",
       "      <th>1</th>\n",
       "      <td>1000_1</td>\n",
       "      <td>1052.81</td>\n",
       "      <td>2018-09-07</td>\n",
       "      <td>1000</td>\n",
       "    </tr>\n",
       "    <tr>\n",
       "      <th>2</th>\n",
       "      <td>1000_2</td>\n",
       "      <td>1197.26</td>\n",
       "      <td>2018-06-25</td>\n",
       "      <td>1000</td>\n",
       "    </tr>\n",
       "    <tr>\n",
       "      <th>3</th>\n",
       "      <td>1000_3</td>\n",
       "      <td>550.27</td>\n",
       "      <td>2018-08-22</td>\n",
       "      <td>1000</td>\n",
       "    </tr>\n",
       "    <tr>\n",
       "      <th>4</th>\n",
       "      <td>1000_4</td>\n",
       "      <td>302.56</td>\n",
       "      <td>2018-09-24</td>\n",
       "      <td>1000</td>\n",
       "    </tr>\n",
       "  </tbody>\n",
       "</table>\n",
       "</div>"
      ],
      "text/plain": [
       "       id  mb_used session_date  user_id\n",
       "0  1000_0   112.95   2018-11-25     1000\n",
       "1  1000_1  1052.81   2018-09-07     1000\n",
       "2  1000_2  1197.26   2018-06-25     1000\n",
       "3  1000_3   550.27   2018-08-22     1000\n",
       "4  1000_4   302.56   2018-09-24     1000"
      ]
     },
     "execution_count": 9,
     "metadata": {},
     "output_type": "execute_result"
    }
   ],
   "source": [
    "df_internet.head()# просмотр первых 5 строк таблицы internet.csv"
   ]
  },
  {
   "cell_type": "code",
   "execution_count": 10,
   "metadata": {},
   "outputs": [
    {
     "name": "stdout",
     "output_type": "stream",
     "text": [
      "<class 'pandas.core.frame.DataFrame'>\n",
      "Int64Index: 149396 entries, 0 to 149395\n",
      "Data columns (total 4 columns):\n",
      " #   Column        Non-Null Count   Dtype  \n",
      "---  ------        --------------   -----  \n",
      " 0   id            149396 non-null  object \n",
      " 1   mb_used       149396 non-null  float64\n",
      " 2   session_date  149396 non-null  object \n",
      " 3   user_id       149396 non-null  int64  \n",
      "dtypes: float64(1), int64(1), object(2)\n",
      "memory usage: 5.7+ MB\n"
     ]
    }
   ],
   "source": [
    "df_internet.info()# просмотр информации о таблице"
   ]
  },
  {
   "cell_type": "markdown",
   "metadata": {},
   "source": [
    "В таблице \"df_internet\": 4 колонки и 149396 записей. Пропусков нет. Не корректный формат данных для столбца \"session_date\": необходимо заменить на формат Даты/Времени. Столбец \"mb_used\" переведем из формата float64 в формат int c округлением в большую сторону. Исправим в следующем разделе."
   ]
  },
  {
   "cell_type": "code",
   "execution_count": 11,
   "metadata": {},
   "outputs": [
    {
     "data": {
      "text/html": [
       "<div>\n",
       "<style scoped>\n",
       "    .dataframe tbody tr th:only-of-type {\n",
       "        vertical-align: middle;\n",
       "    }\n",
       "\n",
       "    .dataframe tbody tr th {\n",
       "        vertical-align: top;\n",
       "    }\n",
       "\n",
       "    .dataframe thead th {\n",
       "        text-align: right;\n",
       "    }\n",
       "</style>\n",
       "<table border=\"1\" class=\"dataframe\">\n",
       "  <thead>\n",
       "    <tr style=\"text-align: right;\">\n",
       "      <th></th>\n",
       "      <th>messages_included</th>\n",
       "      <th>mb_per_month_included</th>\n",
       "      <th>minutes_included</th>\n",
       "      <th>rub_monthly_fee</th>\n",
       "      <th>rub_per_gb</th>\n",
       "      <th>rub_per_message</th>\n",
       "      <th>rub_per_minute</th>\n",
       "      <th>tariff_name</th>\n",
       "    </tr>\n",
       "  </thead>\n",
       "  <tbody>\n",
       "    <tr>\n",
       "      <th>0</th>\n",
       "      <td>50</td>\n",
       "      <td>15360</td>\n",
       "      <td>500</td>\n",
       "      <td>550</td>\n",
       "      <td>200</td>\n",
       "      <td>3</td>\n",
       "      <td>3</td>\n",
       "      <td>smart</td>\n",
       "    </tr>\n",
       "    <tr>\n",
       "      <th>1</th>\n",
       "      <td>1000</td>\n",
       "      <td>30720</td>\n",
       "      <td>3000</td>\n",
       "      <td>1950</td>\n",
       "      <td>150</td>\n",
       "      <td>1</td>\n",
       "      <td>1</td>\n",
       "      <td>ultra</td>\n",
       "    </tr>\n",
       "  </tbody>\n",
       "</table>\n",
       "</div>"
      ],
      "text/plain": [
       "   messages_included  mb_per_month_included  minutes_included  \\\n",
       "0                 50                  15360               500   \n",
       "1               1000                  30720              3000   \n",
       "\n",
       "   rub_monthly_fee  rub_per_gb  rub_per_message  rub_per_minute tariff_name  \n",
       "0              550         200                3               3       smart  \n",
       "1             1950         150                1               1       ultra  "
      ]
     },
     "execution_count": 11,
     "metadata": {},
     "output_type": "execute_result"
    }
   ],
   "source": [
    "df_tariffs.head()# просмотр первых 5 строк таблицы tariffs.csv"
   ]
  },
  {
   "cell_type": "code",
   "execution_count": 12,
   "metadata": {},
   "outputs": [
    {
     "name": "stdout",
     "output_type": "stream",
     "text": [
      "<class 'pandas.core.frame.DataFrame'>\n",
      "RangeIndex: 2 entries, 0 to 1\n",
      "Data columns (total 8 columns):\n",
      " #   Column                 Non-Null Count  Dtype \n",
      "---  ------                 --------------  ----- \n",
      " 0   messages_included      2 non-null      int64 \n",
      " 1   mb_per_month_included  2 non-null      int64 \n",
      " 2   minutes_included       2 non-null      int64 \n",
      " 3   rub_monthly_fee        2 non-null      int64 \n",
      " 4   rub_per_gb             2 non-null      int64 \n",
      " 5   rub_per_message        2 non-null      int64 \n",
      " 6   rub_per_minute         2 non-null      int64 \n",
      " 7   tariff_name            2 non-null      object\n",
      "dtypes: int64(7), object(1)\n",
      "memory usage: 256.0+ bytes\n"
     ]
    }
   ],
   "source": [
    "df_tariffs.info() # просмотр информации о таблице()"
   ]
  },
  {
   "cell_type": "markdown",
   "metadata": {},
   "source": [
    "В таблице \"df_tariffs\": 8 колонки и 2 записи. Пропусков нет. Форматы данных корректны."
   ]
  },
  {
   "cell_type": "markdown",
   "metadata": {},
   "source": [
    "<div class=\"alert alert-block alert-success\">\n",
    "<b>Комментарий ревьюера✅:</b> Отлично, мы посмотрели на данные. Теперь понятно, с чем будем работать😉</div>"
   ]
  },
  {
   "cell_type": "markdown",
   "metadata": {},
   "source": [
    "### Предобработка данных"
   ]
  },
  {
   "cell_type": "markdown",
   "metadata": {},
   "source": [
    "Исправим ранее обнаруженные проблемы в датафреймах."
   ]
  },
  {
   "cell_type": "markdown",
   "metadata": {},
   "source": [
    "В таблице \"df_users\" исправим столбцы: \"churn_date\" и \"reg_date\". А именно формат данных (на формат Дата/Время) и пропуски:"
   ]
  },
  {
   "cell_type": "markdown",
   "metadata": {},
   "source": [
    "Пропуски в данных связаны с тем, что тариф ещё действовал на момент выгрузки данных. Так как данные предоставлены за 2018 год,  заменим пропуски на отображение даты на 01 января 2019 года."
   ]
  },
  {
   "cell_type": "code",
   "execution_count": 13,
   "metadata": {},
   "outputs": [],
   "source": [
    "df_users['churn_date'] = df_users['churn_date'].fillna(value='2019-01-01')"
   ]
  },
  {
   "cell_type": "code",
   "execution_count": 14,
   "metadata": {},
   "outputs": [],
   "source": [
    "# преобразуем столбцы \"reg_date\" (дата подключения тарифа)  и \"churn_date\" (дата прекращения пользования тарифом)\n",
    "# в формат времени datetime\n",
    "df_users['reg_date'] = pd.to_datetime(df_users['reg_date'], format='%Y-%m-%dT%H:%M:%S')\n",
    "df_users['churn_date'] = pd.to_datetime(df_users['churn_date'], format='%Y-%m-%dT%H:%M:%S')"
   ]
  },
  {
   "cell_type": "markdown",
   "metadata": {},
   "source": [
    "Проверка таблицы \"df_users\""
   ]
  },
  {
   "cell_type": "code",
   "execution_count": 15,
   "metadata": {},
   "outputs": [
    {
     "name": "stdout",
     "output_type": "stream",
     "text": [
      "<class 'pandas.core.frame.DataFrame'>\n",
      "RangeIndex: 500 entries, 0 to 499\n",
      "Data columns (total 8 columns):\n",
      " #   Column      Non-Null Count  Dtype         \n",
      "---  ------      --------------  -----         \n",
      " 0   user_id     500 non-null    int64         \n",
      " 1   age         500 non-null    int64         \n",
      " 2   churn_date  500 non-null    datetime64[ns]\n",
      " 3   city        500 non-null    object        \n",
      " 4   first_name  500 non-null    object        \n",
      " 5   last_name   500 non-null    object        \n",
      " 6   reg_date    500 non-null    datetime64[ns]\n",
      " 7   tariff      500 non-null    object        \n",
      "dtypes: datetime64[ns](2), int64(2), object(4)\n",
      "memory usage: 31.4+ KB\n"
     ]
    }
   ],
   "source": [
    "df_users.info() # просмотр информации о таблице"
   ]
  },
  {
   "cell_type": "code",
   "execution_count": 16,
   "metadata": {},
   "outputs": [
    {
     "data": {
      "text/html": [
       "<div>\n",
       "<style scoped>\n",
       "    .dataframe tbody tr th:only-of-type {\n",
       "        vertical-align: middle;\n",
       "    }\n",
       "\n",
       "    .dataframe tbody tr th {\n",
       "        vertical-align: top;\n",
       "    }\n",
       "\n",
       "    .dataframe thead th {\n",
       "        text-align: right;\n",
       "    }\n",
       "</style>\n",
       "<table border=\"1\" class=\"dataframe\">\n",
       "  <thead>\n",
       "    <tr style=\"text-align: right;\">\n",
       "      <th></th>\n",
       "      <th>user_id</th>\n",
       "      <th>age</th>\n",
       "    </tr>\n",
       "  </thead>\n",
       "  <tbody>\n",
       "    <tr>\n",
       "      <th>count</th>\n",
       "      <td>500.000000</td>\n",
       "      <td>500.00000</td>\n",
       "    </tr>\n",
       "    <tr>\n",
       "      <th>mean</th>\n",
       "      <td>1249.500000</td>\n",
       "      <td>46.58800</td>\n",
       "    </tr>\n",
       "    <tr>\n",
       "      <th>std</th>\n",
       "      <td>144.481833</td>\n",
       "      <td>16.66763</td>\n",
       "    </tr>\n",
       "    <tr>\n",
       "      <th>min</th>\n",
       "      <td>1000.000000</td>\n",
       "      <td>18.00000</td>\n",
       "    </tr>\n",
       "    <tr>\n",
       "      <th>25%</th>\n",
       "      <td>1124.750000</td>\n",
       "      <td>32.00000</td>\n",
       "    </tr>\n",
       "    <tr>\n",
       "      <th>50%</th>\n",
       "      <td>1249.500000</td>\n",
       "      <td>46.00000</td>\n",
       "    </tr>\n",
       "    <tr>\n",
       "      <th>75%</th>\n",
       "      <td>1374.250000</td>\n",
       "      <td>62.00000</td>\n",
       "    </tr>\n",
       "    <tr>\n",
       "      <th>max</th>\n",
       "      <td>1499.000000</td>\n",
       "      <td>75.00000</td>\n",
       "    </tr>\n",
       "  </tbody>\n",
       "</table>\n",
       "</div>"
      ],
      "text/plain": [
       "           user_id        age\n",
       "count   500.000000  500.00000\n",
       "mean   1249.500000   46.58800\n",
       "std     144.481833   16.66763\n",
       "min    1000.000000   18.00000\n",
       "25%    1124.750000   32.00000\n",
       "50%    1249.500000   46.00000\n",
       "75%    1374.250000   62.00000\n",
       "max    1499.000000   75.00000"
      ]
     },
     "execution_count": 16,
     "metadata": {},
     "output_type": "execute_result"
    }
   ],
   "source": [
    "df_users.describe() "
   ]
  },
  {
   "cell_type": "markdown",
   "metadata": {},
   "source": [
    "Форматы столбцов и пропуски исправлены. Проверим данные на наличие дубликатов:"
   ]
  },
  {
   "cell_type": "code",
   "execution_count": 17,
   "metadata": {},
   "outputs": [
    {
     "data": {
      "text/plain": [
       "0"
      ]
     },
     "metadata": {},
     "output_type": "display_data"
    }
   ],
   "source": [
    "display(df_users.duplicated().sum()) # подсчет явных дубликатов"
   ]
  },
  {
   "cell_type": "markdown",
   "metadata": {},
   "source": [
    "<div class=\"alert alert-block alert-success\">\n",
    "<b>Комментарий ревьюера✅:</b> Очень подробно, молодец👍</div> "
   ]
  },
  {
   "cell_type": "markdown",
   "metadata": {},
   "source": [
    "В таблице \"df_calls\" пропусков нет. Звонки с нулевой продолжительностью означает пропущенный вызов. Для столбца \"call_date\" (дата звонка): заменим на формат Даты/Времени. Столбец \"duration\" (длительность звонка в минутах) переведем из формата float64 в формат int c округлением в большую сторону, т.к. \"Мегалайн\" всегда округляет секунды до минуты."
   ]
  },
  {
   "cell_type": "code",
   "execution_count": 18,
   "metadata": {},
   "outputs": [],
   "source": [
    "# преобразуем столбец \"call_date\" (дата звонка) в формат времени datetime\n",
    "df_calls['call_date'] = pd.to_datetime(df_calls['call_date'], format='%Y-%m-%dT%H:%M:%S')"
   ]
  },
  {
   "cell_type": "code",
   "execution_count": 19,
   "metadata": {},
   "outputs": [],
   "source": [
    "# округляем в большую сторону и переводим в целочисленный формат \n",
    "df_calls['duration'] = df_calls['duration'].apply(np.ceil).astype('int')"
   ]
  },
  {
   "cell_type": "markdown",
   "metadata": {},
   "source": [
    "<div class=\"alert alert-block alert-success\">\n",
    "<b>Комментарий ревьюера✅:</b> Все верно👍 Функцию np.ceil() можно применять без apply😉</div>\n",
    "\n",
    "\n",
    "\n"
   ]
  },
  {
   "cell_type": "markdown",
   "metadata": {},
   "source": [
    "Проверка таблицы \"df_calls\":"
   ]
  },
  {
   "cell_type": "code",
   "execution_count": 20,
   "metadata": {},
   "outputs": [
    {
     "name": "stdout",
     "output_type": "stream",
     "text": [
      "<class 'pandas.core.frame.DataFrame'>\n",
      "RangeIndex: 202607 entries, 0 to 202606\n",
      "Data columns (total 4 columns):\n",
      " #   Column     Non-Null Count   Dtype         \n",
      "---  ------     --------------   -----         \n",
      " 0   id         202607 non-null  object        \n",
      " 1   call_date  202607 non-null  datetime64[ns]\n",
      " 2   duration   202607 non-null  int64         \n",
      " 3   user_id    202607 non-null  int64         \n",
      "dtypes: datetime64[ns](1), int64(2), object(1)\n",
      "memory usage: 6.2+ MB\n"
     ]
    }
   ],
   "source": [
    "df_calls.info()"
   ]
  },
  {
   "cell_type": "code",
   "execution_count": 21,
   "metadata": {},
   "outputs": [
    {
     "data": {
      "text/html": [
       "<div>\n",
       "<style scoped>\n",
       "    .dataframe tbody tr th:only-of-type {\n",
       "        vertical-align: middle;\n",
       "    }\n",
       "\n",
       "    .dataframe tbody tr th {\n",
       "        vertical-align: top;\n",
       "    }\n",
       "\n",
       "    .dataframe thead th {\n",
       "        text-align: right;\n",
       "    }\n",
       "</style>\n",
       "<table border=\"1\" class=\"dataframe\">\n",
       "  <thead>\n",
       "    <tr style=\"text-align: right;\">\n",
       "      <th></th>\n",
       "      <th>id</th>\n",
       "      <th>call_date</th>\n",
       "      <th>duration</th>\n",
       "      <th>user_id</th>\n",
       "    </tr>\n",
       "  </thead>\n",
       "  <tbody>\n",
       "    <tr>\n",
       "      <th>0</th>\n",
       "      <td>1000_0</td>\n",
       "      <td>2018-07-25</td>\n",
       "      <td>0</td>\n",
       "      <td>1000</td>\n",
       "    </tr>\n",
       "    <tr>\n",
       "      <th>1</th>\n",
       "      <td>1000_1</td>\n",
       "      <td>2018-08-17</td>\n",
       "      <td>0</td>\n",
       "      <td>1000</td>\n",
       "    </tr>\n",
       "    <tr>\n",
       "      <th>2</th>\n",
       "      <td>1000_2</td>\n",
       "      <td>2018-06-11</td>\n",
       "      <td>3</td>\n",
       "      <td>1000</td>\n",
       "    </tr>\n",
       "    <tr>\n",
       "      <th>3</th>\n",
       "      <td>1000_3</td>\n",
       "      <td>2018-09-21</td>\n",
       "      <td>14</td>\n",
       "      <td>1000</td>\n",
       "    </tr>\n",
       "    <tr>\n",
       "      <th>4</th>\n",
       "      <td>1000_4</td>\n",
       "      <td>2018-12-15</td>\n",
       "      <td>6</td>\n",
       "      <td>1000</td>\n",
       "    </tr>\n",
       "  </tbody>\n",
       "</table>\n",
       "</div>"
      ],
      "text/plain": [
       "       id  call_date  duration  user_id\n",
       "0  1000_0 2018-07-25         0     1000\n",
       "1  1000_1 2018-08-17         0     1000\n",
       "2  1000_2 2018-06-11         3     1000\n",
       "3  1000_3 2018-09-21        14     1000\n",
       "4  1000_4 2018-12-15         6     1000"
      ]
     },
     "execution_count": 21,
     "metadata": {},
     "output_type": "execute_result"
    }
   ],
   "source": [
    "df_calls.head()"
   ]
  },
  {
   "cell_type": "markdown",
   "metadata": {},
   "source": [
    "Исправлены форматы данных и выполнили округление."
   ]
  },
  {
   "cell_type": "markdown",
   "metadata": {},
   "source": [
    "В таблице \"df_messages\" исправим формат данных для столбца \"message_date\":"
   ]
  },
  {
   "cell_type": "code",
   "execution_count": 22,
   "metadata": {},
   "outputs": [],
   "source": [
    "# преобразуем столбец \"message_date\" (дата сообщения) в формат времени datetime\n",
    "df_messages['message_date'] = pd.to_datetime(df_messages['message_date'], format='%Y-%m-%dT%H:%M:%S')"
   ]
  },
  {
   "cell_type": "markdown",
   "metadata": {},
   "source": [
    "Проверка таблицы \"df_messages\""
   ]
  },
  {
   "cell_type": "code",
   "execution_count": 23,
   "metadata": {},
   "outputs": [
    {
     "name": "stdout",
     "output_type": "stream",
     "text": [
      "<class 'pandas.core.frame.DataFrame'>\n",
      "RangeIndex: 123036 entries, 0 to 123035\n",
      "Data columns (total 3 columns):\n",
      " #   Column        Non-Null Count   Dtype         \n",
      "---  ------        --------------   -----         \n",
      " 0   id            123036 non-null  object        \n",
      " 1   message_date  123036 non-null  datetime64[ns]\n",
      " 2   user_id       123036 non-null  int64         \n",
      "dtypes: datetime64[ns](1), int64(1), object(1)\n",
      "memory usage: 2.8+ MB\n"
     ]
    }
   ],
   "source": [
    "df_messages.info()"
   ]
  },
  {
   "cell_type": "markdown",
   "metadata": {},
   "source": [
    "Исправлено."
   ]
  },
  {
   "cell_type": "markdown",
   "metadata": {},
   "source": [
    "<div class=\"alert alert-block alert-success\">\n",
    "<b>Комментарий ревьюера✅:</b> Все верно👍</div>"
   ]
  },
  {
   "cell_type": "markdown",
   "metadata": {},
   "source": [
    "<div class=\"alert alert-block alert-success\">\n",
    "<b>Комментарий ревьюера✅:</b> Unnamed: 0 возникает, когда данные сохраняют с указанием индекса pd.DataFrame().to_csv(..., index=column). Если при чтении указать этот столбец pd.read_csv(..., index_col=0) - данные сразу прочитаются корректно.</div>\n",
    "\n",
    "\n"
   ]
  },
  {
   "cell_type": "markdown",
   "metadata": {},
   "source": [
    "<div class=\"alert alert-block alert-info\">\n",
    "<b>Внесла правку в код, чтобы корректно считать данные.</b> \n",
    "</div>"
   ]
  },
  {
   "cell_type": "code",
   "execution_count": 24,
   "metadata": {},
   "outputs": [],
   "source": [
    "# преобразуем столбец \"session_date\" (дата интернет-сессии) в формат времени datetime\n",
    "df_internet['session_date'] = pd.to_datetime(df_internet['session_date'], format='%Y-%m-%dT%H:%M:%S')"
   ]
  },
  {
   "cell_type": "markdown",
   "metadata": {},
   "source": [
    "<div class=\"alert alert-block alert-danger\">\n",
    "<b>Комментарий ревьюера❌:</b> По поводу мегабайтов в задании сказано - Для веб-трафика отдельные сессии не считаются. Вместо этого общая сумма за месяц округляется в бо́льшую сторону. Если абонент использует 1025 мегабайт в этом месяце, с него возьмут плату за 2 гигабайта.\n",
    "\n",
    "Значит на этом этапе никаких округлений делать не нужно. Нужно будет округлить до целого вверх на этапе подсчета потраченных пользователем гигабайтов за месяц</div>\n",
    "\n",
    "\n",
    "\n"
   ]
  },
  {
   "cell_type": "markdown",
   "metadata": {},
   "source": [
    "<div class=\"alert alert-block alert-info\">\n",
    "<b>Внесла правки и перенесла строку кода в нужное место</b> \n",
    "</div>"
   ]
  },
  {
   "cell_type": "markdown",
   "metadata": {},
   "source": [
    "<div class=\"alert alert-block alert-success\">\n",
    "<b>Комментарий ревьюера_v2✅:</b> Теперь согласен👍 </div>"
   ]
  },
  {
   "cell_type": "markdown",
   "metadata": {},
   "source": [
    "Проерка таблицы df_internet"
   ]
  },
  {
   "cell_type": "code",
   "execution_count": 25,
   "metadata": {},
   "outputs": [
    {
     "name": "stdout",
     "output_type": "stream",
     "text": [
      "<class 'pandas.core.frame.DataFrame'>\n",
      "Int64Index: 149396 entries, 0 to 149395\n",
      "Data columns (total 4 columns):\n",
      " #   Column        Non-Null Count   Dtype         \n",
      "---  ------        --------------   -----         \n",
      " 0   id            149396 non-null  object        \n",
      " 1   mb_used       149396 non-null  float64       \n",
      " 2   session_date  149396 non-null  datetime64[ns]\n",
      " 3   user_id       149396 non-null  int64         \n",
      "dtypes: datetime64[ns](1), float64(1), int64(1), object(1)\n",
      "memory usage: 5.7+ MB\n"
     ]
    }
   ],
   "source": [
    "df_internet.info()"
   ]
  },
  {
   "cell_type": "markdown",
   "metadata": {},
   "source": [
    "Исправлено."
   ]
  },
  {
   "cell_type": "code",
   "execution_count": 26,
   "metadata": {},
   "outputs": [
    {
     "data": {
      "text/html": [
       "<div>\n",
       "<style scoped>\n",
       "    .dataframe tbody tr th:only-of-type {\n",
       "        vertical-align: middle;\n",
       "    }\n",
       "\n",
       "    .dataframe tbody tr th {\n",
       "        vertical-align: top;\n",
       "    }\n",
       "\n",
       "    .dataframe thead th {\n",
       "        text-align: right;\n",
       "    }\n",
       "</style>\n",
       "<table border=\"1\" class=\"dataframe\">\n",
       "  <thead>\n",
       "    <tr style=\"text-align: right;\">\n",
       "      <th></th>\n",
       "      <th>id</th>\n",
       "      <th>call_date</th>\n",
       "      <th>duration</th>\n",
       "      <th>user_id</th>\n",
       "    </tr>\n",
       "  </thead>\n",
       "  <tbody>\n",
       "    <tr>\n",
       "      <th>0</th>\n",
       "      <td>1000_0</td>\n",
       "      <td>2018-07-25</td>\n",
       "      <td>0</td>\n",
       "      <td>1000</td>\n",
       "    </tr>\n",
       "    <tr>\n",
       "      <th>1</th>\n",
       "      <td>1000_1</td>\n",
       "      <td>2018-08-17</td>\n",
       "      <td>0</td>\n",
       "      <td>1000</td>\n",
       "    </tr>\n",
       "    <tr>\n",
       "      <th>2</th>\n",
       "      <td>1000_2</td>\n",
       "      <td>2018-06-11</td>\n",
       "      <td>3</td>\n",
       "      <td>1000</td>\n",
       "    </tr>\n",
       "    <tr>\n",
       "      <th>3</th>\n",
       "      <td>1000_3</td>\n",
       "      <td>2018-09-21</td>\n",
       "      <td>14</td>\n",
       "      <td>1000</td>\n",
       "    </tr>\n",
       "    <tr>\n",
       "      <th>4</th>\n",
       "      <td>1000_4</td>\n",
       "      <td>2018-12-15</td>\n",
       "      <td>6</td>\n",
       "      <td>1000</td>\n",
       "    </tr>\n",
       "  </tbody>\n",
       "</table>\n",
       "</div>"
      ],
      "text/plain": [
       "       id  call_date  duration  user_id\n",
       "0  1000_0 2018-07-25         0     1000\n",
       "1  1000_1 2018-08-17         0     1000\n",
       "2  1000_2 2018-06-11         3     1000\n",
       "3  1000_3 2018-09-21        14     1000\n",
       "4  1000_4 2018-12-15         6     1000"
      ]
     },
     "execution_count": 26,
     "metadata": {},
     "output_type": "execute_result"
    }
   ],
   "source": [
    "df_calls.head()"
   ]
  },
  {
   "cell_type": "markdown",
   "metadata": {},
   "source": [
    "Создаем таблицу, в которой будет информация о дате звонка и длительности минут для каждого пользователя:"
   ]
  },
  {
   "cell_type": "code",
   "execution_count": 27,
   "metadata": {},
   "outputs": [
    {
     "data": {
      "text/html": [
       "<div>\n",
       "<style scoped>\n",
       "    .dataframe tbody tr th:only-of-type {\n",
       "        vertical-align: middle;\n",
       "    }\n",
       "\n",
       "    .dataframe tbody tr th {\n",
       "        vertical-align: top;\n",
       "    }\n",
       "\n",
       "    .dataframe thead th {\n",
       "        text-align: right;\n",
       "    }\n",
       "</style>\n",
       "<table border=\"1\" class=\"dataframe\">\n",
       "  <thead>\n",
       "    <tr style=\"text-align: right;\">\n",
       "      <th></th>\n",
       "      <th>user_id</th>\n",
       "      <th>age</th>\n",
       "      <th>churn_date</th>\n",
       "      <th>city</th>\n",
       "      <th>first_name</th>\n",
       "      <th>last_name</th>\n",
       "      <th>reg_date</th>\n",
       "      <th>tariff</th>\n",
       "      <th>id</th>\n",
       "      <th>call_date</th>\n",
       "      <th>duration</th>\n",
       "    </tr>\n",
       "  </thead>\n",
       "  <tbody>\n",
       "    <tr>\n",
       "      <th>0</th>\n",
       "      <td>1000</td>\n",
       "      <td>52</td>\n",
       "      <td>2019-01-01</td>\n",
       "      <td>Краснодар</td>\n",
       "      <td>Рафаил</td>\n",
       "      <td>Верещагин</td>\n",
       "      <td>2018-05-25</td>\n",
       "      <td>ultra</td>\n",
       "      <td>1000_0</td>\n",
       "      <td>2018-07-25</td>\n",
       "      <td>0.0</td>\n",
       "    </tr>\n",
       "    <tr>\n",
       "      <th>1</th>\n",
       "      <td>1000</td>\n",
       "      <td>52</td>\n",
       "      <td>2019-01-01</td>\n",
       "      <td>Краснодар</td>\n",
       "      <td>Рафаил</td>\n",
       "      <td>Верещагин</td>\n",
       "      <td>2018-05-25</td>\n",
       "      <td>ultra</td>\n",
       "      <td>1000_1</td>\n",
       "      <td>2018-08-17</td>\n",
       "      <td>0.0</td>\n",
       "    </tr>\n",
       "    <tr>\n",
       "      <th>2</th>\n",
       "      <td>1000</td>\n",
       "      <td>52</td>\n",
       "      <td>2019-01-01</td>\n",
       "      <td>Краснодар</td>\n",
       "      <td>Рафаил</td>\n",
       "      <td>Верещагин</td>\n",
       "      <td>2018-05-25</td>\n",
       "      <td>ultra</td>\n",
       "      <td>1000_2</td>\n",
       "      <td>2018-06-11</td>\n",
       "      <td>3.0</td>\n",
       "    </tr>\n",
       "    <tr>\n",
       "      <th>3</th>\n",
       "      <td>1000</td>\n",
       "      <td>52</td>\n",
       "      <td>2019-01-01</td>\n",
       "      <td>Краснодар</td>\n",
       "      <td>Рафаил</td>\n",
       "      <td>Верещагин</td>\n",
       "      <td>2018-05-25</td>\n",
       "      <td>ultra</td>\n",
       "      <td>1000_3</td>\n",
       "      <td>2018-09-21</td>\n",
       "      <td>14.0</td>\n",
       "    </tr>\n",
       "    <tr>\n",
       "      <th>4</th>\n",
       "      <td>1000</td>\n",
       "      <td>52</td>\n",
       "      <td>2019-01-01</td>\n",
       "      <td>Краснодар</td>\n",
       "      <td>Рафаил</td>\n",
       "      <td>Верещагин</td>\n",
       "      <td>2018-05-25</td>\n",
       "      <td>ultra</td>\n",
       "      <td>1000_4</td>\n",
       "      <td>2018-12-15</td>\n",
       "      <td>6.0</td>\n",
       "    </tr>\n",
       "  </tbody>\n",
       "</table>\n",
       "</div>"
      ],
      "text/plain": [
       "   user_id  age churn_date       city first_name  last_name   reg_date tariff  \\\n",
       "0     1000   52 2019-01-01  Краснодар     Рафаил  Верещагин 2018-05-25  ultra   \n",
       "1     1000   52 2019-01-01  Краснодар     Рафаил  Верещагин 2018-05-25  ultra   \n",
       "2     1000   52 2019-01-01  Краснодар     Рафаил  Верещагин 2018-05-25  ultra   \n",
       "3     1000   52 2019-01-01  Краснодар     Рафаил  Верещагин 2018-05-25  ultra   \n",
       "4     1000   52 2019-01-01  Краснодар     Рафаил  Верещагин 2018-05-25  ultra   \n",
       "\n",
       "       id  call_date  duration  \n",
       "0  1000_0 2018-07-25       0.0  \n",
       "1  1000_1 2018-08-17       0.0  \n",
       "2  1000_2 2018-06-11       3.0  \n",
       "3  1000_3 2018-09-21      14.0  \n",
       "4  1000_4 2018-12-15       6.0  "
      ]
     },
     "execution_count": 27,
     "metadata": {},
     "output_type": "execute_result"
    }
   ],
   "source": [
    "#объединяем таблицы \"df_users\" и \"df_calls\"\n",
    "df_users_calls = df_users.merge(df_calls, on='user_id', how='left')# объединяем таблицы\n",
    "df_users_calls.head(5) # проверка"
   ]
  },
  {
   "cell_type": "markdown",
   "metadata": {},
   "source": [
    "Определим количество звонков и израсходованных минут для каждого пользователя по месяцам:"
   ]
  },
  {
   "cell_type": "code",
   "execution_count": 28,
   "metadata": {},
   "outputs": [
    {
     "data": {
      "text/html": [
       "<div>\n",
       "<style scoped>\n",
       "    .dataframe tbody tr th:only-of-type {\n",
       "        vertical-align: middle;\n",
       "    }\n",
       "\n",
       "    .dataframe tbody tr th {\n",
       "        vertical-align: top;\n",
       "    }\n",
       "\n",
       "    .dataframe thead th {\n",
       "        text-align: right;\n",
       "    }\n",
       "</style>\n",
       "<table border=\"1\" class=\"dataframe\">\n",
       "  <thead>\n",
       "    <tr style=\"text-align: right;\">\n",
       "      <th></th>\n",
       "      <th></th>\n",
       "      <th></th>\n",
       "      <th>calls</th>\n",
       "      <th>minutes</th>\n",
       "    </tr>\n",
       "    <tr>\n",
       "      <th>user_id</th>\n",
       "      <th>tariff</th>\n",
       "      <th>month</th>\n",
       "      <th></th>\n",
       "      <th></th>\n",
       "    </tr>\n",
       "  </thead>\n",
       "  <tbody>\n",
       "    <tr>\n",
       "      <th rowspan=\"8\" valign=\"top\">1000</th>\n",
       "      <th rowspan=\"8\" valign=\"top\">ultra</th>\n",
       "      <th>5.0</th>\n",
       "      <td>22</td>\n",
       "      <td>159.0</td>\n",
       "    </tr>\n",
       "    <tr>\n",
       "      <th>6.0</th>\n",
       "      <td>43</td>\n",
       "      <td>172.0</td>\n",
       "    </tr>\n",
       "    <tr>\n",
       "      <th>7.0</th>\n",
       "      <td>47</td>\n",
       "      <td>340.0</td>\n",
       "    </tr>\n",
       "    <tr>\n",
       "      <th>8.0</th>\n",
       "      <td>52</td>\n",
       "      <td>408.0</td>\n",
       "    </tr>\n",
       "    <tr>\n",
       "      <th>9.0</th>\n",
       "      <td>58</td>\n",
       "      <td>466.0</td>\n",
       "    </tr>\n",
       "    <tr>\n",
       "      <th>10.0</th>\n",
       "      <td>57</td>\n",
       "      <td>350.0</td>\n",
       "    </tr>\n",
       "    <tr>\n",
       "      <th>11.0</th>\n",
       "      <td>43</td>\n",
       "      <td>338.0</td>\n",
       "    </tr>\n",
       "    <tr>\n",
       "      <th>12.0</th>\n",
       "      <td>46</td>\n",
       "      <td>333.0</td>\n",
       "    </tr>\n",
       "    <tr>\n",
       "      <th rowspan=\"2\" valign=\"top\">1001</th>\n",
       "      <th rowspan=\"2\" valign=\"top\">smart</th>\n",
       "      <th>11.0</th>\n",
       "      <td>59</td>\n",
       "      <td>430.0</td>\n",
       "    </tr>\n",
       "    <tr>\n",
       "      <th>12.0</th>\n",
       "      <td>63</td>\n",
       "      <td>414.0</td>\n",
       "    </tr>\n",
       "    <tr>\n",
       "      <th rowspan=\"5\" valign=\"top\">1002</th>\n",
       "      <th rowspan=\"5\" valign=\"top\">smart</th>\n",
       "      <th>6.0</th>\n",
       "      <td>15</td>\n",
       "      <td>117.0</td>\n",
       "    </tr>\n",
       "    <tr>\n",
       "      <th>7.0</th>\n",
       "      <td>26</td>\n",
       "      <td>214.0</td>\n",
       "    </tr>\n",
       "    <tr>\n",
       "      <th>8.0</th>\n",
       "      <td>42</td>\n",
       "      <td>289.0</td>\n",
       "    </tr>\n",
       "    <tr>\n",
       "      <th>9.0</th>\n",
       "      <td>36</td>\n",
       "      <td>206.0</td>\n",
       "    </tr>\n",
       "    <tr>\n",
       "      <th>10.0</th>\n",
       "      <td>33</td>\n",
       "      <td>212.0</td>\n",
       "    </tr>\n",
       "  </tbody>\n",
       "</table>\n",
       "</div>"
      ],
      "text/plain": [
       "                      calls  minutes\n",
       "user_id tariff month                \n",
       "1000    ultra  5.0       22    159.0\n",
       "               6.0       43    172.0\n",
       "               7.0       47    340.0\n",
       "               8.0       52    408.0\n",
       "               9.0       58    466.0\n",
       "               10.0      57    350.0\n",
       "               11.0      43    338.0\n",
       "               12.0      46    333.0\n",
       "1001    smart  11.0      59    430.0\n",
       "               12.0      63    414.0\n",
       "1002    smart  6.0       15    117.0\n",
       "               7.0       26    214.0\n",
       "               8.0       42    289.0\n",
       "               9.0       36    206.0\n",
       "               10.0      33    212.0"
      ]
     },
     "execution_count": 28,
     "metadata": {},
     "output_type": "execute_result"
    }
   ],
   "source": [
    "# создаем таблицу с количеством звонков и минут для каждого пользователя по месяцам\n",
    "df_users_calls['month'] = df_users_calls['call_date'].dt.month # вводим новый столбец \n",
    "calls_minutes = (# группировка по user_id, тарифу и месяцу\n",
    "    df_users_calls.pivot_table(index=['user_id', 'tariff', 'month'], aggfunc=({'call_date':'count', 'duration':'sum'}))\n",
    "    .rename(columns={'call_date':'calls', 'duration':'minutes'}) # переименовываем столбцы\n",
    ")\n",
    "calls_minutes.head(15) # вывод таблицы"
   ]
  },
  {
   "cell_type": "markdown",
   "metadata": {},
   "source": [
    "Создаем таблицу, в которой будет информация о дате сообщения для каждого пользователя:"
   ]
  },
  {
   "cell_type": "code",
   "execution_count": 29,
   "metadata": {},
   "outputs": [
    {
     "data": {
      "text/html": [
       "<div>\n",
       "<style scoped>\n",
       "    .dataframe tbody tr th:only-of-type {\n",
       "        vertical-align: middle;\n",
       "    }\n",
       "\n",
       "    .dataframe tbody tr th {\n",
       "        vertical-align: top;\n",
       "    }\n",
       "\n",
       "    .dataframe thead th {\n",
       "        text-align: right;\n",
       "    }\n",
       "</style>\n",
       "<table border=\"1\" class=\"dataframe\">\n",
       "  <thead>\n",
       "    <tr style=\"text-align: right;\">\n",
       "      <th></th>\n",
       "      <th>user_id</th>\n",
       "      <th>age</th>\n",
       "      <th>churn_date</th>\n",
       "      <th>city</th>\n",
       "      <th>first_name</th>\n",
       "      <th>last_name</th>\n",
       "      <th>reg_date</th>\n",
       "      <th>tariff</th>\n",
       "      <th>id</th>\n",
       "      <th>message_date</th>\n",
       "    </tr>\n",
       "  </thead>\n",
       "  <tbody>\n",
       "    <tr>\n",
       "      <th>0</th>\n",
       "      <td>1000</td>\n",
       "      <td>52</td>\n",
       "      <td>2019-01-01</td>\n",
       "      <td>Краснодар</td>\n",
       "      <td>Рафаил</td>\n",
       "      <td>Верещагин</td>\n",
       "      <td>2018-05-25</td>\n",
       "      <td>ultra</td>\n",
       "      <td>1000_0</td>\n",
       "      <td>2018-06-27</td>\n",
       "    </tr>\n",
       "    <tr>\n",
       "      <th>1</th>\n",
       "      <td>1000</td>\n",
       "      <td>52</td>\n",
       "      <td>2019-01-01</td>\n",
       "      <td>Краснодар</td>\n",
       "      <td>Рафаил</td>\n",
       "      <td>Верещагин</td>\n",
       "      <td>2018-05-25</td>\n",
       "      <td>ultra</td>\n",
       "      <td>1000_1</td>\n",
       "      <td>2018-10-08</td>\n",
       "    </tr>\n",
       "    <tr>\n",
       "      <th>2</th>\n",
       "      <td>1000</td>\n",
       "      <td>52</td>\n",
       "      <td>2019-01-01</td>\n",
       "      <td>Краснодар</td>\n",
       "      <td>Рафаил</td>\n",
       "      <td>Верещагин</td>\n",
       "      <td>2018-05-25</td>\n",
       "      <td>ultra</td>\n",
       "      <td>1000_2</td>\n",
       "      <td>2018-08-04</td>\n",
       "    </tr>\n",
       "    <tr>\n",
       "      <th>3</th>\n",
       "      <td>1000</td>\n",
       "      <td>52</td>\n",
       "      <td>2019-01-01</td>\n",
       "      <td>Краснодар</td>\n",
       "      <td>Рафаил</td>\n",
       "      <td>Верещагин</td>\n",
       "      <td>2018-05-25</td>\n",
       "      <td>ultra</td>\n",
       "      <td>1000_3</td>\n",
       "      <td>2018-06-16</td>\n",
       "    </tr>\n",
       "    <tr>\n",
       "      <th>4</th>\n",
       "      <td>1000</td>\n",
       "      <td>52</td>\n",
       "      <td>2019-01-01</td>\n",
       "      <td>Краснодар</td>\n",
       "      <td>Рафаил</td>\n",
       "      <td>Верещагин</td>\n",
       "      <td>2018-05-25</td>\n",
       "      <td>ultra</td>\n",
       "      <td>1000_4</td>\n",
       "      <td>2018-12-05</td>\n",
       "    </tr>\n",
       "  </tbody>\n",
       "</table>\n",
       "</div>"
      ],
      "text/plain": [
       "   user_id  age churn_date       city first_name  last_name   reg_date tariff  \\\n",
       "0     1000   52 2019-01-01  Краснодар     Рафаил  Верещагин 2018-05-25  ultra   \n",
       "1     1000   52 2019-01-01  Краснодар     Рафаил  Верещагин 2018-05-25  ultra   \n",
       "2     1000   52 2019-01-01  Краснодар     Рафаил  Верещагин 2018-05-25  ultra   \n",
       "3     1000   52 2019-01-01  Краснодар     Рафаил  Верещагин 2018-05-25  ultra   \n",
       "4     1000   52 2019-01-01  Краснодар     Рафаил  Верещагин 2018-05-25  ultra   \n",
       "\n",
       "       id message_date  \n",
       "0  1000_0   2018-06-27  \n",
       "1  1000_1   2018-10-08  \n",
       "2  1000_2   2018-08-04  \n",
       "3  1000_3   2018-06-16  \n",
       "4  1000_4   2018-12-05  "
      ]
     },
     "execution_count": 29,
     "metadata": {},
     "output_type": "execute_result"
    }
   ],
   "source": [
    "#объединяем таблицы \"df_users\" и \"df_messages\"\n",
    "df_users_mes = df_users.merge(df_messages, on='user_id', how='left')# объединяем таблицы\n",
    "df_users_mes.head(5) #проверка"
   ]
  },
  {
   "cell_type": "markdown",
   "metadata": {},
   "source": [
    "Определим количество сообщений для каждого пользователя по месяцам:"
   ]
  },
  {
   "cell_type": "code",
   "execution_count": 30,
   "metadata": {},
   "outputs": [
    {
     "data": {
      "text/html": [
       "<div>\n",
       "<style scoped>\n",
       "    .dataframe tbody tr th:only-of-type {\n",
       "        vertical-align: middle;\n",
       "    }\n",
       "\n",
       "    .dataframe tbody tr th {\n",
       "        vertical-align: top;\n",
       "    }\n",
       "\n",
       "    .dataframe thead th {\n",
       "        text-align: right;\n",
       "    }\n",
       "</style>\n",
       "<table border=\"1\" class=\"dataframe\">\n",
       "  <thead>\n",
       "    <tr style=\"text-align: right;\">\n",
       "      <th></th>\n",
       "      <th></th>\n",
       "      <th></th>\n",
       "      <th>messages</th>\n",
       "    </tr>\n",
       "    <tr>\n",
       "      <th>user_id</th>\n",
       "      <th>tariff</th>\n",
       "      <th>month</th>\n",
       "      <th></th>\n",
       "    </tr>\n",
       "  </thead>\n",
       "  <tbody>\n",
       "    <tr>\n",
       "      <th rowspan=\"8\" valign=\"top\">1000</th>\n",
       "      <th rowspan=\"8\" valign=\"top\">ultra</th>\n",
       "      <th>5.0</th>\n",
       "      <td>22</td>\n",
       "    </tr>\n",
       "    <tr>\n",
       "      <th>6.0</th>\n",
       "      <td>60</td>\n",
       "    </tr>\n",
       "    <tr>\n",
       "      <th>7.0</th>\n",
       "      <td>75</td>\n",
       "    </tr>\n",
       "    <tr>\n",
       "      <th>8.0</th>\n",
       "      <td>81</td>\n",
       "    </tr>\n",
       "    <tr>\n",
       "      <th>9.0</th>\n",
       "      <td>57</td>\n",
       "    </tr>\n",
       "    <tr>\n",
       "      <th>10.0</th>\n",
       "      <td>73</td>\n",
       "    </tr>\n",
       "    <tr>\n",
       "      <th>11.0</th>\n",
       "      <td>58</td>\n",
       "    </tr>\n",
       "    <tr>\n",
       "      <th>12.0</th>\n",
       "      <td>70</td>\n",
       "    </tr>\n",
       "    <tr>\n",
       "      <th rowspan=\"7\" valign=\"top\">1002</th>\n",
       "      <th rowspan=\"7\" valign=\"top\">smart</th>\n",
       "      <th>6.0</th>\n",
       "      <td>4</td>\n",
       "    </tr>\n",
       "    <tr>\n",
       "      <th>7.0</th>\n",
       "      <td>11</td>\n",
       "    </tr>\n",
       "    <tr>\n",
       "      <th>8.0</th>\n",
       "      <td>13</td>\n",
       "    </tr>\n",
       "    <tr>\n",
       "      <th>9.0</th>\n",
       "      <td>4</td>\n",
       "    </tr>\n",
       "    <tr>\n",
       "      <th>10.0</th>\n",
       "      <td>10</td>\n",
       "    </tr>\n",
       "    <tr>\n",
       "      <th>11.0</th>\n",
       "      <td>16</td>\n",
       "    </tr>\n",
       "    <tr>\n",
       "      <th>12.0</th>\n",
       "      <td>12</td>\n",
       "    </tr>\n",
       "  </tbody>\n",
       "</table>\n",
       "</div>"
      ],
      "text/plain": [
       "                      messages\n",
       "user_id tariff month          \n",
       "1000    ultra  5.0          22\n",
       "               6.0          60\n",
       "               7.0          75\n",
       "               8.0          81\n",
       "               9.0          57\n",
       "               10.0         73\n",
       "               11.0         58\n",
       "               12.0         70\n",
       "1002    smart  6.0           4\n",
       "               7.0          11\n",
       "               8.0          13\n",
       "               9.0           4\n",
       "               10.0         10\n",
       "               11.0         16\n",
       "               12.0         12"
      ]
     },
     "execution_count": 30,
     "metadata": {},
     "output_type": "execute_result"
    }
   ],
   "source": [
    "# создаем таблицу с количеством сообщений для каждого пользователя по месяцам\n",
    "df_users_mes['month'] = df_users_mes['message_date'].dt.month # вводим новый столбец \n",
    "\n",
    "# группировка по user_id, тарифу и месяцу\n",
    "mes_mounth = (\n",
    "    df_users_mes.pivot_table(index=['user_id', 'tariff', 'month'], aggfunc=({'message_date':'count'}))\n",
    "    .rename(columns={'message_date':'messages'}) # переименовываем столбцы\n",
    ")\n",
    "mes_mounth.head(15) # вывод таблицы"
   ]
  },
  {
   "cell_type": "markdown",
   "metadata": {},
   "source": [
    "Создаем таблицу, в которой будет информация об интернет-трафике для каждого пользователя:"
   ]
  },
  {
   "cell_type": "code",
   "execution_count": 31,
   "metadata": {},
   "outputs": [
    {
     "data": {
      "text/html": [
       "<div>\n",
       "<style scoped>\n",
       "    .dataframe tbody tr th:only-of-type {\n",
       "        vertical-align: middle;\n",
       "    }\n",
       "\n",
       "    .dataframe tbody tr th {\n",
       "        vertical-align: top;\n",
       "    }\n",
       "\n",
       "    .dataframe thead th {\n",
       "        text-align: right;\n",
       "    }\n",
       "</style>\n",
       "<table border=\"1\" class=\"dataframe\">\n",
       "  <thead>\n",
       "    <tr style=\"text-align: right;\">\n",
       "      <th></th>\n",
       "      <th>user_id</th>\n",
       "      <th>age</th>\n",
       "      <th>churn_date</th>\n",
       "      <th>city</th>\n",
       "      <th>first_name</th>\n",
       "      <th>last_name</th>\n",
       "      <th>reg_date</th>\n",
       "      <th>tariff</th>\n",
       "      <th>id</th>\n",
       "      <th>mb_used</th>\n",
       "      <th>session_date</th>\n",
       "    </tr>\n",
       "  </thead>\n",
       "  <tbody>\n",
       "    <tr>\n",
       "      <th>0</th>\n",
       "      <td>1000</td>\n",
       "      <td>52</td>\n",
       "      <td>2019-01-01</td>\n",
       "      <td>Краснодар</td>\n",
       "      <td>Рафаил</td>\n",
       "      <td>Верещагин</td>\n",
       "      <td>2018-05-25</td>\n",
       "      <td>ultra</td>\n",
       "      <td>1000_0</td>\n",
       "      <td>112.95</td>\n",
       "      <td>2018-11-25</td>\n",
       "    </tr>\n",
       "    <tr>\n",
       "      <th>1</th>\n",
       "      <td>1000</td>\n",
       "      <td>52</td>\n",
       "      <td>2019-01-01</td>\n",
       "      <td>Краснодар</td>\n",
       "      <td>Рафаил</td>\n",
       "      <td>Верещагин</td>\n",
       "      <td>2018-05-25</td>\n",
       "      <td>ultra</td>\n",
       "      <td>1000_1</td>\n",
       "      <td>1052.81</td>\n",
       "      <td>2018-09-07</td>\n",
       "    </tr>\n",
       "    <tr>\n",
       "      <th>2</th>\n",
       "      <td>1000</td>\n",
       "      <td>52</td>\n",
       "      <td>2019-01-01</td>\n",
       "      <td>Краснодар</td>\n",
       "      <td>Рафаил</td>\n",
       "      <td>Верещагин</td>\n",
       "      <td>2018-05-25</td>\n",
       "      <td>ultra</td>\n",
       "      <td>1000_2</td>\n",
       "      <td>1197.26</td>\n",
       "      <td>2018-06-25</td>\n",
       "    </tr>\n",
       "    <tr>\n",
       "      <th>3</th>\n",
       "      <td>1000</td>\n",
       "      <td>52</td>\n",
       "      <td>2019-01-01</td>\n",
       "      <td>Краснодар</td>\n",
       "      <td>Рафаил</td>\n",
       "      <td>Верещагин</td>\n",
       "      <td>2018-05-25</td>\n",
       "      <td>ultra</td>\n",
       "      <td>1000_3</td>\n",
       "      <td>550.27</td>\n",
       "      <td>2018-08-22</td>\n",
       "    </tr>\n",
       "    <tr>\n",
       "      <th>4</th>\n",
       "      <td>1000</td>\n",
       "      <td>52</td>\n",
       "      <td>2019-01-01</td>\n",
       "      <td>Краснодар</td>\n",
       "      <td>Рафаил</td>\n",
       "      <td>Верещагин</td>\n",
       "      <td>2018-05-25</td>\n",
       "      <td>ultra</td>\n",
       "      <td>1000_4</td>\n",
       "      <td>302.56</td>\n",
       "      <td>2018-09-24</td>\n",
       "    </tr>\n",
       "  </tbody>\n",
       "</table>\n",
       "</div>"
      ],
      "text/plain": [
       "   user_id  age churn_date       city first_name  last_name   reg_date tariff  \\\n",
       "0     1000   52 2019-01-01  Краснодар     Рафаил  Верещагин 2018-05-25  ultra   \n",
       "1     1000   52 2019-01-01  Краснодар     Рафаил  Верещагин 2018-05-25  ultra   \n",
       "2     1000   52 2019-01-01  Краснодар     Рафаил  Верещагин 2018-05-25  ultra   \n",
       "3     1000   52 2019-01-01  Краснодар     Рафаил  Верещагин 2018-05-25  ultra   \n",
       "4     1000   52 2019-01-01  Краснодар     Рафаил  Верещагин 2018-05-25  ultra   \n",
       "\n",
       "       id  mb_used session_date  \n",
       "0  1000_0   112.95   2018-11-25  \n",
       "1  1000_1  1052.81   2018-09-07  \n",
       "2  1000_2  1197.26   2018-06-25  \n",
       "3  1000_3   550.27   2018-08-22  \n",
       "4  1000_4   302.56   2018-09-24  "
      ]
     },
     "execution_count": 31,
     "metadata": {},
     "output_type": "execute_result"
    }
   ],
   "source": [
    "#объединяем таблицы \"df_users\" и \"df_internet\"\n",
    "df_users_int = df_users.merge(df_internet, on='user_id', how='left')# объединяем таблицы\n",
    "df_users_int.head(5) #проверка"
   ]
  },
  {
   "cell_type": "markdown",
   "metadata": {},
   "source": [
    "Определим количество израсходованного интернет-трафика для каждого пользователя по месяцам:"
   ]
  },
  {
   "cell_type": "code",
   "execution_count": 32,
   "metadata": {},
   "outputs": [
    {
     "data": {
      "text/html": [
       "<div>\n",
       "<style scoped>\n",
       "    .dataframe tbody tr th:only-of-type {\n",
       "        vertical-align: middle;\n",
       "    }\n",
       "\n",
       "    .dataframe tbody tr th {\n",
       "        vertical-align: top;\n",
       "    }\n",
       "\n",
       "    .dataframe thead th {\n",
       "        text-align: right;\n",
       "    }\n",
       "</style>\n",
       "<table border=\"1\" class=\"dataframe\">\n",
       "  <thead>\n",
       "    <tr style=\"text-align: right;\">\n",
       "      <th></th>\n",
       "      <th></th>\n",
       "      <th></th>\n",
       "      <th>traffics</th>\n",
       "    </tr>\n",
       "    <tr>\n",
       "      <th>user_id</th>\n",
       "      <th>tariff</th>\n",
       "      <th>month</th>\n",
       "      <th></th>\n",
       "    </tr>\n",
       "  </thead>\n",
       "  <tbody>\n",
       "    <tr>\n",
       "      <th rowspan=\"8\" valign=\"top\">1000</th>\n",
       "      <th rowspan=\"8\" valign=\"top\">ultra</th>\n",
       "      <th>5.0</th>\n",
       "      <td>2254</td>\n",
       "    </tr>\n",
       "    <tr>\n",
       "      <th>6.0</th>\n",
       "      <td>23234</td>\n",
       "    </tr>\n",
       "    <tr>\n",
       "      <th>7.0</th>\n",
       "      <td>14004</td>\n",
       "    </tr>\n",
       "    <tr>\n",
       "      <th>8.0</th>\n",
       "      <td>14056</td>\n",
       "    </tr>\n",
       "    <tr>\n",
       "      <th>9.0</th>\n",
       "      <td>14569</td>\n",
       "    </tr>\n",
       "    <tr>\n",
       "      <th>10.0</th>\n",
       "      <td>14703</td>\n",
       "    </tr>\n",
       "    <tr>\n",
       "      <th>11.0</th>\n",
       "      <td>14757</td>\n",
       "    </tr>\n",
       "    <tr>\n",
       "      <th>12.0</th>\n",
       "      <td>9818</td>\n",
       "    </tr>\n",
       "    <tr>\n",
       "      <th rowspan=\"2\" valign=\"top\">1001</th>\n",
       "      <th rowspan=\"2\" valign=\"top\">smart</th>\n",
       "      <th>11.0</th>\n",
       "      <td>18430</td>\n",
       "    </tr>\n",
       "    <tr>\n",
       "      <th>12.0</th>\n",
       "      <td>14037</td>\n",
       "    </tr>\n",
       "    <tr>\n",
       "      <th rowspan=\"5\" valign=\"top\">1002</th>\n",
       "      <th rowspan=\"5\" valign=\"top\">smart</th>\n",
       "      <th>6.0</th>\n",
       "      <td>10857</td>\n",
       "    </tr>\n",
       "    <tr>\n",
       "      <th>7.0</th>\n",
       "      <td>17581</td>\n",
       "    </tr>\n",
       "    <tr>\n",
       "      <th>8.0</th>\n",
       "      <td>20320</td>\n",
       "    </tr>\n",
       "    <tr>\n",
       "      <th>9.0</th>\n",
       "      <td>16692</td>\n",
       "    </tr>\n",
       "    <tr>\n",
       "      <th>10.0</th>\n",
       "      <td>13889</td>\n",
       "    </tr>\n",
       "  </tbody>\n",
       "</table>\n",
       "</div>"
      ],
      "text/plain": [
       "                      traffics\n",
       "user_id tariff month          \n",
       "1000    ultra  5.0        2254\n",
       "               6.0       23234\n",
       "               7.0       14004\n",
       "               8.0       14056\n",
       "               9.0       14569\n",
       "               10.0      14703\n",
       "               11.0      14757\n",
       "               12.0       9818\n",
       "1001    smart  11.0      18430\n",
       "               12.0      14037\n",
       "1002    smart  6.0       10857\n",
       "               7.0       17581\n",
       "               8.0       20320\n",
       "               9.0       16692\n",
       "               10.0      13889"
      ]
     },
     "execution_count": 32,
     "metadata": {},
     "output_type": "execute_result"
    }
   ],
   "source": [
    "# создаем таблицу с количеством израсходованного интернет-трафика для каждого пользователя по месяцам\n",
    "df_users_int['month'] = df_users_int['session_date'].dt.month # вводим новый столбец \n",
    "\n",
    "# группировка по user_id, тарифу и месяцу\n",
    "int_mounth = (\n",
    "    df_users_int.pivot_table(index=['user_id', 'tariff', 'month'], aggfunc=({'mb_used':'sum'}))\n",
    "    .rename(columns={'mb_used':'traffics'}) # переименовываем столбцы\n",
    ")\n",
    "# округляем данные в столбце \"traffics\" в большую сторону и переводим в целочисленный формат \n",
    "int_mounth['traffics'] = int_mounth['traffics'].apply(np.ceil).astype('int')\n",
    "\n",
    "int_mounth.head(15) # вывод таблицы"
   ]
  },
  {
   "cell_type": "markdown",
   "metadata": {},
   "source": [
    "<div class=\"alert alert-block alert-danger\">\n",
    "<b>Комментарий ревьюера❌:</b> После агрегации мы должны округлить гигабайты вверх"
   ]
  },
  {
   "cell_type": "markdown",
   "metadata": {},
   "source": [
    "<div class=\"alert alert-block alert-info\">\n",
    "<b>Округлила гигабайты вверх</b> \n",
    "</div>"
   ]
  },
  {
   "cell_type": "markdown",
   "metadata": {},
   "source": [
    "<div class=\"alert alert-block alert-success\">\n",
    "<b>Комментарий ревьюера_v2✅:</b> Верно👍 </div>"
   ]
  },
  {
   "cell_type": "markdown",
   "metadata": {},
   "source": [
    "Для того, чтобы вычислить помесячную выручку для каждого пользователя, объединим таблицы со звонками, минутами (\"calls_minutes\"), сообщениями (\"mes_mounth\") и интернет-трафиком (\"int_mounth\") по каждому пользователю (по \"user_id, tariff и month\") в общую таблицу:"
   ]
  },
  {
   "cell_type": "markdown",
   "metadata": {},
   "source": [
    "создаем общую таблицу из \"calls_minutes\", \"mes_mounth\" и \"int_mounth\"\n"
   ]
  },
  {
   "cell_type": "code",
   "execution_count": 33,
   "metadata": {},
   "outputs": [
    {
     "data": {
      "text/html": [
       "<div>\n",
       "<style scoped>\n",
       "    .dataframe tbody tr th:only-of-type {\n",
       "        vertical-align: middle;\n",
       "    }\n",
       "\n",
       "    .dataframe tbody tr th {\n",
       "        vertical-align: top;\n",
       "    }\n",
       "\n",
       "    .dataframe thead th {\n",
       "        text-align: right;\n",
       "    }\n",
       "</style>\n",
       "<table border=\"1\" class=\"dataframe\">\n",
       "  <thead>\n",
       "    <tr style=\"text-align: right;\">\n",
       "      <th></th>\n",
       "      <th>month</th>\n",
       "      <th>tariff</th>\n",
       "      <th>calls</th>\n",
       "      <th>minutes</th>\n",
       "      <th>messages</th>\n",
       "      <th>traffics</th>\n",
       "    </tr>\n",
       "    <tr>\n",
       "      <th>user_id</th>\n",
       "      <th></th>\n",
       "      <th></th>\n",
       "      <th></th>\n",
       "      <th></th>\n",
       "      <th></th>\n",
       "      <th></th>\n",
       "    </tr>\n",
       "  </thead>\n",
       "  <tbody>\n",
       "    <tr>\n",
       "      <th>1000</th>\n",
       "      <td>5.0</td>\n",
       "      <td>ultra</td>\n",
       "      <td>22.0</td>\n",
       "      <td>159.0</td>\n",
       "      <td>22.0</td>\n",
       "      <td>2254.0</td>\n",
       "    </tr>\n",
       "    <tr>\n",
       "      <th>1000</th>\n",
       "      <td>6.0</td>\n",
       "      <td>ultra</td>\n",
       "      <td>43.0</td>\n",
       "      <td>172.0</td>\n",
       "      <td>60.0</td>\n",
       "      <td>23234.0</td>\n",
       "    </tr>\n",
       "    <tr>\n",
       "      <th>1000</th>\n",
       "      <td>7.0</td>\n",
       "      <td>ultra</td>\n",
       "      <td>47.0</td>\n",
       "      <td>340.0</td>\n",
       "      <td>75.0</td>\n",
       "      <td>14004.0</td>\n",
       "    </tr>\n",
       "    <tr>\n",
       "      <th>1000</th>\n",
       "      <td>8.0</td>\n",
       "      <td>ultra</td>\n",
       "      <td>52.0</td>\n",
       "      <td>408.0</td>\n",
       "      <td>81.0</td>\n",
       "      <td>14056.0</td>\n",
       "    </tr>\n",
       "    <tr>\n",
       "      <th>1000</th>\n",
       "      <td>9.0</td>\n",
       "      <td>ultra</td>\n",
       "      <td>58.0</td>\n",
       "      <td>466.0</td>\n",
       "      <td>57.0</td>\n",
       "      <td>14569.0</td>\n",
       "    </tr>\n",
       "    <tr>\n",
       "      <th>1000</th>\n",
       "      <td>10.0</td>\n",
       "      <td>ultra</td>\n",
       "      <td>57.0</td>\n",
       "      <td>350.0</td>\n",
       "      <td>73.0</td>\n",
       "      <td>14703.0</td>\n",
       "    </tr>\n",
       "    <tr>\n",
       "      <th>1000</th>\n",
       "      <td>11.0</td>\n",
       "      <td>ultra</td>\n",
       "      <td>43.0</td>\n",
       "      <td>338.0</td>\n",
       "      <td>58.0</td>\n",
       "      <td>14757.0</td>\n",
       "    </tr>\n",
       "    <tr>\n",
       "      <th>1000</th>\n",
       "      <td>12.0</td>\n",
       "      <td>ultra</td>\n",
       "      <td>46.0</td>\n",
       "      <td>333.0</td>\n",
       "      <td>70.0</td>\n",
       "      <td>9818.0</td>\n",
       "    </tr>\n",
       "    <tr>\n",
       "      <th>1001</th>\n",
       "      <td>11.0</td>\n",
       "      <td>smart</td>\n",
       "      <td>59.0</td>\n",
       "      <td>430.0</td>\n",
       "      <td>NaN</td>\n",
       "      <td>18430.0</td>\n",
       "    </tr>\n",
       "    <tr>\n",
       "      <th>1001</th>\n",
       "      <td>12.0</td>\n",
       "      <td>smart</td>\n",
       "      <td>63.0</td>\n",
       "      <td>414.0</td>\n",
       "      <td>NaN</td>\n",
       "      <td>14037.0</td>\n",
       "    </tr>\n",
       "    <tr>\n",
       "      <th>1002</th>\n",
       "      <td>6.0</td>\n",
       "      <td>smart</td>\n",
       "      <td>15.0</td>\n",
       "      <td>117.0</td>\n",
       "      <td>4.0</td>\n",
       "      <td>10857.0</td>\n",
       "    </tr>\n",
       "    <tr>\n",
       "      <th>1002</th>\n",
       "      <td>7.0</td>\n",
       "      <td>smart</td>\n",
       "      <td>26.0</td>\n",
       "      <td>214.0</td>\n",
       "      <td>11.0</td>\n",
       "      <td>17581.0</td>\n",
       "    </tr>\n",
       "    <tr>\n",
       "      <th>1002</th>\n",
       "      <td>8.0</td>\n",
       "      <td>smart</td>\n",
       "      <td>42.0</td>\n",
       "      <td>289.0</td>\n",
       "      <td>13.0</td>\n",
       "      <td>20320.0</td>\n",
       "    </tr>\n",
       "    <tr>\n",
       "      <th>1002</th>\n",
       "      <td>9.0</td>\n",
       "      <td>smart</td>\n",
       "      <td>36.0</td>\n",
       "      <td>206.0</td>\n",
       "      <td>4.0</td>\n",
       "      <td>16692.0</td>\n",
       "    </tr>\n",
       "    <tr>\n",
       "      <th>1002</th>\n",
       "      <td>10.0</td>\n",
       "      <td>smart</td>\n",
       "      <td>33.0</td>\n",
       "      <td>212.0</td>\n",
       "      <td>10.0</td>\n",
       "      <td>13889.0</td>\n",
       "    </tr>\n",
       "  </tbody>\n",
       "</table>\n",
       "</div>"
      ],
      "text/plain": [
       "         month tariff  calls  minutes  messages  traffics\n",
       "user_id                                                  \n",
       "1000       5.0  ultra   22.0    159.0      22.0    2254.0\n",
       "1000       6.0  ultra   43.0    172.0      60.0   23234.0\n",
       "1000       7.0  ultra   47.0    340.0      75.0   14004.0\n",
       "1000       8.0  ultra   52.0    408.0      81.0   14056.0\n",
       "1000       9.0  ultra   58.0    466.0      57.0   14569.0\n",
       "1000      10.0  ultra   57.0    350.0      73.0   14703.0\n",
       "1000      11.0  ultra   43.0    338.0      58.0   14757.0\n",
       "1000      12.0  ultra   46.0    333.0      70.0    9818.0\n",
       "1001      11.0  smart   59.0    430.0       NaN   18430.0\n",
       "1001      12.0  smart   63.0    414.0       NaN   14037.0\n",
       "1002       6.0  smart   15.0    117.0       4.0   10857.0\n",
       "1002       7.0  smart   26.0    214.0      11.0   17581.0\n",
       "1002       8.0  smart   42.0    289.0      13.0   20320.0\n",
       "1002       9.0  smart   36.0    206.0       4.0   16692.0\n",
       "1002      10.0  smart   33.0    212.0      10.0   13889.0"
      ]
     },
     "execution_count": 33,
     "metadata": {},
     "output_type": "execute_result"
    }
   ],
   "source": [
    "# создаем общую таблицу из \"calls_minutes\", \"mes_mounth\" и \"int_mounth\"\n",
    "df_service = (\n",
    "    calls_minutes.merge(mes_mounth, on=['user_id', 'month', 'tariff'], how='outer')# объединяем звонки, минуты и сообщения\n",
    "    .merge(int_mounth, on=['user_id', 'month', 'tariff'], how='outer') # добавляем интернет-трафик\n",
    "    .reset_index(level=['month', 'tariff']) # преобразуем индексы в столбцы \n",
    ")\n",
    "df_service.head(15) "
   ]
  },
  {
   "cell_type": "code",
   "execution_count": 34,
   "metadata": {},
   "outputs": [
    {
     "data": {
      "text/html": [
       "<div>\n",
       "<style scoped>\n",
       "    .dataframe tbody tr th:only-of-type {\n",
       "        vertical-align: middle;\n",
       "    }\n",
       "\n",
       "    .dataframe tbody tr th {\n",
       "        vertical-align: top;\n",
       "    }\n",
       "\n",
       "    .dataframe thead th {\n",
       "        text-align: right;\n",
       "    }\n",
       "</style>\n",
       "<table border=\"1\" class=\"dataframe\">\n",
       "  <thead>\n",
       "    <tr style=\"text-align: right;\">\n",
       "      <th></th>\n",
       "      <th>user_id</th>\n",
       "      <th>month</th>\n",
       "      <th>tariff</th>\n",
       "      <th>calls</th>\n",
       "      <th>minutes</th>\n",
       "      <th>messages</th>\n",
       "      <th>traffics</th>\n",
       "      <th>age</th>\n",
       "      <th>churn_date</th>\n",
       "      <th>city</th>\n",
       "      <th>first_name</th>\n",
       "      <th>last_name</th>\n",
       "      <th>reg_date</th>\n",
       "    </tr>\n",
       "  </thead>\n",
       "  <tbody>\n",
       "    <tr>\n",
       "      <th>0</th>\n",
       "      <td>1000</td>\n",
       "      <td>5.0</td>\n",
       "      <td>ultra</td>\n",
       "      <td>22.0</td>\n",
       "      <td>159.0</td>\n",
       "      <td>22.0</td>\n",
       "      <td>2254.0</td>\n",
       "      <td>52</td>\n",
       "      <td>2019-01-01</td>\n",
       "      <td>Краснодар</td>\n",
       "      <td>Рафаил</td>\n",
       "      <td>Верещагин</td>\n",
       "      <td>2018-05-25</td>\n",
       "    </tr>\n",
       "    <tr>\n",
       "      <th>1</th>\n",
       "      <td>1000</td>\n",
       "      <td>6.0</td>\n",
       "      <td>ultra</td>\n",
       "      <td>43.0</td>\n",
       "      <td>172.0</td>\n",
       "      <td>60.0</td>\n",
       "      <td>23234.0</td>\n",
       "      <td>52</td>\n",
       "      <td>2019-01-01</td>\n",
       "      <td>Краснодар</td>\n",
       "      <td>Рафаил</td>\n",
       "      <td>Верещагин</td>\n",
       "      <td>2018-05-25</td>\n",
       "    </tr>\n",
       "    <tr>\n",
       "      <th>2</th>\n",
       "      <td>1000</td>\n",
       "      <td>7.0</td>\n",
       "      <td>ultra</td>\n",
       "      <td>47.0</td>\n",
       "      <td>340.0</td>\n",
       "      <td>75.0</td>\n",
       "      <td>14004.0</td>\n",
       "      <td>52</td>\n",
       "      <td>2019-01-01</td>\n",
       "      <td>Краснодар</td>\n",
       "      <td>Рафаил</td>\n",
       "      <td>Верещагин</td>\n",
       "      <td>2018-05-25</td>\n",
       "    </tr>\n",
       "    <tr>\n",
       "      <th>3</th>\n",
       "      <td>1000</td>\n",
       "      <td>8.0</td>\n",
       "      <td>ultra</td>\n",
       "      <td>52.0</td>\n",
       "      <td>408.0</td>\n",
       "      <td>81.0</td>\n",
       "      <td>14056.0</td>\n",
       "      <td>52</td>\n",
       "      <td>2019-01-01</td>\n",
       "      <td>Краснодар</td>\n",
       "      <td>Рафаил</td>\n",
       "      <td>Верещагин</td>\n",
       "      <td>2018-05-25</td>\n",
       "    </tr>\n",
       "    <tr>\n",
       "      <th>4</th>\n",
       "      <td>1000</td>\n",
       "      <td>9.0</td>\n",
       "      <td>ultra</td>\n",
       "      <td>58.0</td>\n",
       "      <td>466.0</td>\n",
       "      <td>57.0</td>\n",
       "      <td>14569.0</td>\n",
       "      <td>52</td>\n",
       "      <td>2019-01-01</td>\n",
       "      <td>Краснодар</td>\n",
       "      <td>Рафаил</td>\n",
       "      <td>Верещагин</td>\n",
       "      <td>2018-05-25</td>\n",
       "    </tr>\n",
       "    <tr>\n",
       "      <th>5</th>\n",
       "      <td>1000</td>\n",
       "      <td>10.0</td>\n",
       "      <td>ultra</td>\n",
       "      <td>57.0</td>\n",
       "      <td>350.0</td>\n",
       "      <td>73.0</td>\n",
       "      <td>14703.0</td>\n",
       "      <td>52</td>\n",
       "      <td>2019-01-01</td>\n",
       "      <td>Краснодар</td>\n",
       "      <td>Рафаил</td>\n",
       "      <td>Верещагин</td>\n",
       "      <td>2018-05-25</td>\n",
       "    </tr>\n",
       "    <tr>\n",
       "      <th>6</th>\n",
       "      <td>1000</td>\n",
       "      <td>11.0</td>\n",
       "      <td>ultra</td>\n",
       "      <td>43.0</td>\n",
       "      <td>338.0</td>\n",
       "      <td>58.0</td>\n",
       "      <td>14757.0</td>\n",
       "      <td>52</td>\n",
       "      <td>2019-01-01</td>\n",
       "      <td>Краснодар</td>\n",
       "      <td>Рафаил</td>\n",
       "      <td>Верещагин</td>\n",
       "      <td>2018-05-25</td>\n",
       "    </tr>\n",
       "    <tr>\n",
       "      <th>7</th>\n",
       "      <td>1000</td>\n",
       "      <td>12.0</td>\n",
       "      <td>ultra</td>\n",
       "      <td>46.0</td>\n",
       "      <td>333.0</td>\n",
       "      <td>70.0</td>\n",
       "      <td>9818.0</td>\n",
       "      <td>52</td>\n",
       "      <td>2019-01-01</td>\n",
       "      <td>Краснодар</td>\n",
       "      <td>Рафаил</td>\n",
       "      <td>Верещагин</td>\n",
       "      <td>2018-05-25</td>\n",
       "    </tr>\n",
       "    <tr>\n",
       "      <th>8</th>\n",
       "      <td>1001</td>\n",
       "      <td>11.0</td>\n",
       "      <td>smart</td>\n",
       "      <td>59.0</td>\n",
       "      <td>430.0</td>\n",
       "      <td>NaN</td>\n",
       "      <td>18430.0</td>\n",
       "      <td>41</td>\n",
       "      <td>2019-01-01</td>\n",
       "      <td>Москва</td>\n",
       "      <td>Иван</td>\n",
       "      <td>Ежов</td>\n",
       "      <td>2018-11-01</td>\n",
       "    </tr>\n",
       "    <tr>\n",
       "      <th>9</th>\n",
       "      <td>1001</td>\n",
       "      <td>12.0</td>\n",
       "      <td>smart</td>\n",
       "      <td>63.0</td>\n",
       "      <td>414.0</td>\n",
       "      <td>NaN</td>\n",
       "      <td>14037.0</td>\n",
       "      <td>41</td>\n",
       "      <td>2019-01-01</td>\n",
       "      <td>Москва</td>\n",
       "      <td>Иван</td>\n",
       "      <td>Ежов</td>\n",
       "      <td>2018-11-01</td>\n",
       "    </tr>\n",
       "    <tr>\n",
       "      <th>10</th>\n",
       "      <td>1002</td>\n",
       "      <td>6.0</td>\n",
       "      <td>smart</td>\n",
       "      <td>15.0</td>\n",
       "      <td>117.0</td>\n",
       "      <td>4.0</td>\n",
       "      <td>10857.0</td>\n",
       "      <td>59</td>\n",
       "      <td>2019-01-01</td>\n",
       "      <td>Стерлитамак</td>\n",
       "      <td>Евгений</td>\n",
       "      <td>Абрамович</td>\n",
       "      <td>2018-06-17</td>\n",
       "    </tr>\n",
       "    <tr>\n",
       "      <th>11</th>\n",
       "      <td>1002</td>\n",
       "      <td>7.0</td>\n",
       "      <td>smart</td>\n",
       "      <td>26.0</td>\n",
       "      <td>214.0</td>\n",
       "      <td>11.0</td>\n",
       "      <td>17581.0</td>\n",
       "      <td>59</td>\n",
       "      <td>2019-01-01</td>\n",
       "      <td>Стерлитамак</td>\n",
       "      <td>Евгений</td>\n",
       "      <td>Абрамович</td>\n",
       "      <td>2018-06-17</td>\n",
       "    </tr>\n",
       "    <tr>\n",
       "      <th>12</th>\n",
       "      <td>1002</td>\n",
       "      <td>8.0</td>\n",
       "      <td>smart</td>\n",
       "      <td>42.0</td>\n",
       "      <td>289.0</td>\n",
       "      <td>13.0</td>\n",
       "      <td>20320.0</td>\n",
       "      <td>59</td>\n",
       "      <td>2019-01-01</td>\n",
       "      <td>Стерлитамак</td>\n",
       "      <td>Евгений</td>\n",
       "      <td>Абрамович</td>\n",
       "      <td>2018-06-17</td>\n",
       "    </tr>\n",
       "    <tr>\n",
       "      <th>13</th>\n",
       "      <td>1002</td>\n",
       "      <td>9.0</td>\n",
       "      <td>smart</td>\n",
       "      <td>36.0</td>\n",
       "      <td>206.0</td>\n",
       "      <td>4.0</td>\n",
       "      <td>16692.0</td>\n",
       "      <td>59</td>\n",
       "      <td>2019-01-01</td>\n",
       "      <td>Стерлитамак</td>\n",
       "      <td>Евгений</td>\n",
       "      <td>Абрамович</td>\n",
       "      <td>2018-06-17</td>\n",
       "    </tr>\n",
       "    <tr>\n",
       "      <th>14</th>\n",
       "      <td>1002</td>\n",
       "      <td>10.0</td>\n",
       "      <td>smart</td>\n",
       "      <td>33.0</td>\n",
       "      <td>212.0</td>\n",
       "      <td>10.0</td>\n",
       "      <td>13889.0</td>\n",
       "      <td>59</td>\n",
       "      <td>2019-01-01</td>\n",
       "      <td>Стерлитамак</td>\n",
       "      <td>Евгений</td>\n",
       "      <td>Абрамович</td>\n",
       "      <td>2018-06-17</td>\n",
       "    </tr>\n",
       "  </tbody>\n",
       "</table>\n",
       "</div>"
      ],
      "text/plain": [
       "    user_id  month tariff  calls  minutes  messages  traffics  age churn_date  \\\n",
       "0      1000    5.0  ultra   22.0    159.0      22.0    2254.0   52 2019-01-01   \n",
       "1      1000    6.0  ultra   43.0    172.0      60.0   23234.0   52 2019-01-01   \n",
       "2      1000    7.0  ultra   47.0    340.0      75.0   14004.0   52 2019-01-01   \n",
       "3      1000    8.0  ultra   52.0    408.0      81.0   14056.0   52 2019-01-01   \n",
       "4      1000    9.0  ultra   58.0    466.0      57.0   14569.0   52 2019-01-01   \n",
       "5      1000   10.0  ultra   57.0    350.0      73.0   14703.0   52 2019-01-01   \n",
       "6      1000   11.0  ultra   43.0    338.0      58.0   14757.0   52 2019-01-01   \n",
       "7      1000   12.0  ultra   46.0    333.0      70.0    9818.0   52 2019-01-01   \n",
       "8      1001   11.0  smart   59.0    430.0       NaN   18430.0   41 2019-01-01   \n",
       "9      1001   12.0  smart   63.0    414.0       NaN   14037.0   41 2019-01-01   \n",
       "10     1002    6.0  smart   15.0    117.0       4.0   10857.0   59 2019-01-01   \n",
       "11     1002    7.0  smart   26.0    214.0      11.0   17581.0   59 2019-01-01   \n",
       "12     1002    8.0  smart   42.0    289.0      13.0   20320.0   59 2019-01-01   \n",
       "13     1002    9.0  smart   36.0    206.0       4.0   16692.0   59 2019-01-01   \n",
       "14     1002   10.0  smart   33.0    212.0      10.0   13889.0   59 2019-01-01   \n",
       "\n",
       "           city first_name  last_name   reg_date  \n",
       "0     Краснодар     Рафаил  Верещагин 2018-05-25  \n",
       "1     Краснодар     Рафаил  Верещагин 2018-05-25  \n",
       "2     Краснодар     Рафаил  Верещагин 2018-05-25  \n",
       "3     Краснодар     Рафаил  Верещагин 2018-05-25  \n",
       "4     Краснодар     Рафаил  Верещагин 2018-05-25  \n",
       "5     Краснодар     Рафаил  Верещагин 2018-05-25  \n",
       "6     Краснодар     Рафаил  Верещагин 2018-05-25  \n",
       "7     Краснодар     Рафаил  Верещагин 2018-05-25  \n",
       "8        Москва       Иван       Ежов 2018-11-01  \n",
       "9        Москва       Иван       Ежов 2018-11-01  \n",
       "10  Стерлитамак    Евгений  Абрамович 2018-06-17  \n",
       "11  Стерлитамак    Евгений  Абрамович 2018-06-17  \n",
       "12  Стерлитамак    Евгений  Абрамович 2018-06-17  \n",
       "13  Стерлитамак    Евгений  Абрамович 2018-06-17  \n",
       "14  Стерлитамак    Евгений  Абрамович 2018-06-17  "
      ]
     },
     "execution_count": 34,
     "metadata": {},
     "output_type": "execute_result"
    }
   ],
   "source": [
    "df_total = (\n",
    "    df_service.merge(df_users, on=['user_id', 'tariff'], how='left')# объединяем звонки, минуты и сообщения\n",
    ")\n",
    "df_total.head(15) "
   ]
  },
  {
   "cell_type": "markdown",
   "metadata": {},
   "source": [
    "<div class=\"alert alert-block alert-danger\">\n",
    "<b>Комментарий ревьюера❌:</b> В данном случае не совсем правильно использовать how='left', из за этого ты теряешь записи. Ведь есть клиенты, которые могли использовать только интернет и не использовать звонки и тд. Если хочешь убедиться в том, что теряешь записи, можешь посчитать уникальное количество пользователей до и после объединения\n",
    "\n",
    "Способ, который будет оптимальным:\n",
    "- создать таблицу с суммарными затратами пользователей (соединить таблицы с звонками, смс, интернетом **методом how='outer'**, так мы точно не потеряем никаких записей) \n",
    "    \n",
    "- **к этой таблице** присоединить таблицу с информацией о пользователях **методом how='left'**, чтобы присоединились только тех пользователей, на которых есть информация о затратах ресурсов.\n",
    "\n",
    "</div>\n",
    "\n",
    "\n",
    "\n"
   ]
  },
  {
   "cell_type": "markdown",
   "metadata": {},
   "source": [
    "<div class=\"alert alert-block alert-info\">\n",
    "<b>Исправила по твоему способу. Действительно потеряла записи. Спасибо за помощь!</b> \n",
    "</div>"
   ]
  },
  {
   "cell_type": "markdown",
   "metadata": {},
   "source": [
    "<div class=\"alert alert-block alert-success\">\n",
    "<b>Комментарий ревьюера_v2✅:</b> Другое дело🔥 </div>"
   ]
  },
  {
   "cell_type": "markdown",
   "metadata": {},
   "source": [
    "Изучим полученную таблицу на пропуски и типы данных:"
   ]
  },
  {
   "cell_type": "code",
   "execution_count": 35,
   "metadata": {},
   "outputs": [
    {
     "name": "stdout",
     "output_type": "stream",
     "text": [
      "<class 'pandas.core.frame.DataFrame'>\n",
      "Int64Index: 3214 entries, 0 to 3213\n",
      "Data columns (total 13 columns):\n",
      " #   Column      Non-Null Count  Dtype         \n",
      "---  ------      --------------  -----         \n",
      " 0   user_id     3214 non-null   int64         \n",
      " 1   month       3214 non-null   float64       \n",
      " 2   tariff      3214 non-null   object        \n",
      " 3   calls       3174 non-null   float64       \n",
      " 4   minutes     3174 non-null   float64       \n",
      " 5   messages    2717 non-null   float64       \n",
      " 6   traffics    3203 non-null   float64       \n",
      " 7   age         3214 non-null   int64         \n",
      " 8   churn_date  3214 non-null   datetime64[ns]\n",
      " 9   city        3214 non-null   object        \n",
      " 10  first_name  3214 non-null   object        \n",
      " 11  last_name   3214 non-null   object        \n",
      " 12  reg_date    3214 non-null   datetime64[ns]\n",
      "dtypes: datetime64[ns](2), float64(5), int64(2), object(4)\n",
      "memory usage: 351.5+ KB\n"
     ]
    }
   ],
   "source": [
    "df_total.info() "
   ]
  },
  {
   "cell_type": "code",
   "execution_count": 36,
   "metadata": {},
   "outputs": [
    {
     "data": {
      "text/plain": [
       "user_id        0.000000\n",
       "month          0.000000\n",
       "tariff         0.000000\n",
       "calls          1.244555\n",
       "minutes        1.244555\n",
       "messages      15.463597\n",
       "traffics       0.342253\n",
       "age            0.000000\n",
       "churn_date     0.000000\n",
       "city           0.000000\n",
       "first_name     0.000000\n",
       "last_name      0.000000\n",
       "reg_date       0.000000\n",
       "dtype: float64"
      ]
     },
     "metadata": {},
     "output_type": "display_data"
    }
   ],
   "source": [
    "display(df_total.isna().mean() * 100) #процент пропусков"
   ]
  },
  {
   "cell_type": "markdown",
   "metadata": {},
   "source": [
    "В новой таблице появились пропуски. Такое получилось из-за разницы количества записей в исходных таблицах."
   ]
  },
  {
   "cell_type": "markdown",
   "metadata": {},
   "source": [
    "Самое большое количество пропусков в столбце \"messages\" - 15,46%. Довольно высок, не все клиенты сотовой связи пользуются сообщениями. Удалять нельзя. Заполним нулями:"
   ]
  },
  {
   "cell_type": "code",
   "execution_count": 37,
   "metadata": {},
   "outputs": [],
   "source": [
    "# заполняем пропуски нулями\n",
    "df_total['messages'] = df_total['messages'].fillna(0)"
   ]
  },
  {
   "cell_type": "markdown",
   "metadata": {},
   "source": [
    "<div class=\"alert alert-block alert-success\">\n",
    "<b>Комментарий ревьюера✅:</b> Все верно🔥</div>"
   ]
  },
  {
   "cell_type": "markdown",
   "metadata": {},
   "source": [
    "В остальных столбцах пропуски в пределах 1% (+-). Удалим эти записи:"
   ]
  },
  {
   "cell_type": "code",
   "execution_count": 38,
   "metadata": {},
   "outputs": [
    {
     "data": {
      "text/html": [
       "<div>\n",
       "<style scoped>\n",
       "    .dataframe tbody tr th:only-of-type {\n",
       "        vertical-align: middle;\n",
       "    }\n",
       "\n",
       "    .dataframe tbody tr th {\n",
       "        vertical-align: top;\n",
       "    }\n",
       "\n",
       "    .dataframe thead th {\n",
       "        text-align: right;\n",
       "    }\n",
       "</style>\n",
       "<table border=\"1\" class=\"dataframe\">\n",
       "  <thead>\n",
       "    <tr style=\"text-align: right;\">\n",
       "      <th></th>\n",
       "      <th>user_id</th>\n",
       "      <th>month</th>\n",
       "      <th>tariff</th>\n",
       "      <th>calls</th>\n",
       "      <th>minutes</th>\n",
       "      <th>messages</th>\n",
       "      <th>traffics</th>\n",
       "      <th>age</th>\n",
       "      <th>churn_date</th>\n",
       "      <th>city</th>\n",
       "      <th>first_name</th>\n",
       "      <th>last_name</th>\n",
       "      <th>reg_date</th>\n",
       "    </tr>\n",
       "  </thead>\n",
       "  <tbody>\n",
       "    <tr>\n",
       "      <th>3148</th>\n",
       "      <td>1496</td>\n",
       "      <td>9.0</td>\n",
       "      <td>smart</td>\n",
       "      <td>68.0</td>\n",
       "      <td>486.0</td>\n",
       "      <td>29.0</td>\n",
       "      <td>26935.0</td>\n",
       "      <td>36</td>\n",
       "      <td>2019-01-01</td>\n",
       "      <td>Вологда</td>\n",
       "      <td>Трифон</td>\n",
       "      <td>Блохин</td>\n",
       "      <td>2018-01-27</td>\n",
       "    </tr>\n",
       "    <tr>\n",
       "      <th>3149</th>\n",
       "      <td>1496</td>\n",
       "      <td>10.0</td>\n",
       "      <td>smart</td>\n",
       "      <td>72.0</td>\n",
       "      <td>450.0</td>\n",
       "      <td>35.0</td>\n",
       "      <td>28184.0</td>\n",
       "      <td>36</td>\n",
       "      <td>2019-01-01</td>\n",
       "      <td>Вологда</td>\n",
       "      <td>Трифон</td>\n",
       "      <td>Блохин</td>\n",
       "      <td>2018-01-27</td>\n",
       "    </tr>\n",
       "    <tr>\n",
       "      <th>3150</th>\n",
       "      <td>1496</td>\n",
       "      <td>11.0</td>\n",
       "      <td>smart</td>\n",
       "      <td>80.0</td>\n",
       "      <td>662.0</td>\n",
       "      <td>46.0</td>\n",
       "      <td>25064.0</td>\n",
       "      <td>36</td>\n",
       "      <td>2019-01-01</td>\n",
       "      <td>Вологда</td>\n",
       "      <td>Трифон</td>\n",
       "      <td>Блохин</td>\n",
       "      <td>2018-01-27</td>\n",
       "    </tr>\n",
       "    <tr>\n",
       "      <th>3151</th>\n",
       "      <td>1496</td>\n",
       "      <td>12.0</td>\n",
       "      <td>smart</td>\n",
       "      <td>80.0</td>\n",
       "      <td>518.0</td>\n",
       "      <td>51.0</td>\n",
       "      <td>20737.0</td>\n",
       "      <td>36</td>\n",
       "      <td>2019-01-01</td>\n",
       "      <td>Вологда</td>\n",
       "      <td>Трифон</td>\n",
       "      <td>Блохин</td>\n",
       "      <td>2018-01-27</td>\n",
       "    </tr>\n",
       "    <tr>\n",
       "      <th>3152</th>\n",
       "      <td>1497</td>\n",
       "      <td>10.0</td>\n",
       "      <td>smart</td>\n",
       "      <td>66.0</td>\n",
       "      <td>490.0</td>\n",
       "      <td>20.0</td>\n",
       "      <td>11501.0</td>\n",
       "      <td>32</td>\n",
       "      <td>2019-01-01</td>\n",
       "      <td>Челябинск</td>\n",
       "      <td>Каролина</td>\n",
       "      <td>Агеева</td>\n",
       "      <td>2018-10-09</td>\n",
       "    </tr>\n",
       "    <tr>\n",
       "      <th>3153</th>\n",
       "      <td>1497</td>\n",
       "      <td>11.0</td>\n",
       "      <td>smart</td>\n",
       "      <td>64.0</td>\n",
       "      <td>371.0</td>\n",
       "      <td>14.0</td>\n",
       "      <td>14157.0</td>\n",
       "      <td>32</td>\n",
       "      <td>2019-01-01</td>\n",
       "      <td>Челябинск</td>\n",
       "      <td>Каролина</td>\n",
       "      <td>Агеева</td>\n",
       "      <td>2018-10-09</td>\n",
       "    </tr>\n",
       "    <tr>\n",
       "      <th>3154</th>\n",
       "      <td>1497</td>\n",
       "      <td>12.0</td>\n",
       "      <td>smart</td>\n",
       "      <td>71.0</td>\n",
       "      <td>545.0</td>\n",
       "      <td>17.0</td>\n",
       "      <td>19919.0</td>\n",
       "      <td>32</td>\n",
       "      <td>2019-01-01</td>\n",
       "      <td>Челябинск</td>\n",
       "      <td>Каролина</td>\n",
       "      <td>Агеева</td>\n",
       "      <td>2018-10-09</td>\n",
       "    </tr>\n",
       "    <tr>\n",
       "      <th>3155</th>\n",
       "      <td>1498</td>\n",
       "      <td>7.0</td>\n",
       "      <td>smart</td>\n",
       "      <td>23.0</td>\n",
       "      <td>175.0</td>\n",
       "      <td>20.0</td>\n",
       "      <td>7477.0</td>\n",
       "      <td>68</td>\n",
       "      <td>2018-10-25</td>\n",
       "      <td>Владикавказ</td>\n",
       "      <td>Всеволод</td>\n",
       "      <td>Акимчин</td>\n",
       "      <td>2018-07-19</td>\n",
       "    </tr>\n",
       "    <tr>\n",
       "      <th>3156</th>\n",
       "      <td>1498</td>\n",
       "      <td>8.0</td>\n",
       "      <td>smart</td>\n",
       "      <td>57.0</td>\n",
       "      <td>400.0</td>\n",
       "      <td>62.0</td>\n",
       "      <td>24236.0</td>\n",
       "      <td>68</td>\n",
       "      <td>2018-10-25</td>\n",
       "      <td>Владикавказ</td>\n",
       "      <td>Всеволод</td>\n",
       "      <td>Акимчин</td>\n",
       "      <td>2018-07-19</td>\n",
       "    </tr>\n",
       "    <tr>\n",
       "      <th>3157</th>\n",
       "      <td>1498</td>\n",
       "      <td>9.0</td>\n",
       "      <td>smart</td>\n",
       "      <td>59.0</td>\n",
       "      <td>471.0</td>\n",
       "      <td>44.0</td>\n",
       "      <td>22135.0</td>\n",
       "      <td>68</td>\n",
       "      <td>2018-10-25</td>\n",
       "      <td>Владикавказ</td>\n",
       "      <td>Всеволод</td>\n",
       "      <td>Акимчин</td>\n",
       "      <td>2018-07-19</td>\n",
       "    </tr>\n",
       "    <tr>\n",
       "      <th>3158</th>\n",
       "      <td>1498</td>\n",
       "      <td>10.0</td>\n",
       "      <td>smart</td>\n",
       "      <td>41.0</td>\n",
       "      <td>247.0</td>\n",
       "      <td>42.0</td>\n",
       "      <td>20580.0</td>\n",
       "      <td>68</td>\n",
       "      <td>2018-10-25</td>\n",
       "      <td>Владикавказ</td>\n",
       "      <td>Всеволод</td>\n",
       "      <td>Акимчин</td>\n",
       "      <td>2018-07-19</td>\n",
       "    </tr>\n",
       "    <tr>\n",
       "      <th>3159</th>\n",
       "      <td>1499</td>\n",
       "      <td>9.0</td>\n",
       "      <td>smart</td>\n",
       "      <td>9.0</td>\n",
       "      <td>70.0</td>\n",
       "      <td>11.0</td>\n",
       "      <td>1846.0</td>\n",
       "      <td>35</td>\n",
       "      <td>2019-01-01</td>\n",
       "      <td>Пермь</td>\n",
       "      <td>Гектор</td>\n",
       "      <td>Корнилов</td>\n",
       "      <td>2018-09-27</td>\n",
       "    </tr>\n",
       "    <tr>\n",
       "      <th>3160</th>\n",
       "      <td>1499</td>\n",
       "      <td>10.0</td>\n",
       "      <td>smart</td>\n",
       "      <td>68.0</td>\n",
       "      <td>449.0</td>\n",
       "      <td>48.0</td>\n",
       "      <td>17789.0</td>\n",
       "      <td>35</td>\n",
       "      <td>2019-01-01</td>\n",
       "      <td>Пермь</td>\n",
       "      <td>Гектор</td>\n",
       "      <td>Корнилов</td>\n",
       "      <td>2018-09-27</td>\n",
       "    </tr>\n",
       "    <tr>\n",
       "      <th>3161</th>\n",
       "      <td>1499</td>\n",
       "      <td>11.0</td>\n",
       "      <td>smart</td>\n",
       "      <td>74.0</td>\n",
       "      <td>612.0</td>\n",
       "      <td>59.0</td>\n",
       "      <td>17964.0</td>\n",
       "      <td>35</td>\n",
       "      <td>2019-01-01</td>\n",
       "      <td>Пермь</td>\n",
       "      <td>Гектор</td>\n",
       "      <td>Корнилов</td>\n",
       "      <td>2018-09-27</td>\n",
       "    </tr>\n",
       "    <tr>\n",
       "      <th>3162</th>\n",
       "      <td>1499</td>\n",
       "      <td>12.0</td>\n",
       "      <td>smart</td>\n",
       "      <td>69.0</td>\n",
       "      <td>492.0</td>\n",
       "      <td>66.0</td>\n",
       "      <td>13056.0</td>\n",
       "      <td>35</td>\n",
       "      <td>2019-01-01</td>\n",
       "      <td>Пермь</td>\n",
       "      <td>Гектор</td>\n",
       "      <td>Корнилов</td>\n",
       "      <td>2018-09-27</td>\n",
       "    </tr>\n",
       "  </tbody>\n",
       "</table>\n",
       "</div>"
      ],
      "text/plain": [
       "      user_id  month tariff  calls  minutes  messages  traffics  age  \\\n",
       "3148     1496    9.0  smart   68.0    486.0      29.0   26935.0   36   \n",
       "3149     1496   10.0  smart   72.0    450.0      35.0   28184.0   36   \n",
       "3150     1496   11.0  smart   80.0    662.0      46.0   25064.0   36   \n",
       "3151     1496   12.0  smart   80.0    518.0      51.0   20737.0   36   \n",
       "3152     1497   10.0  smart   66.0    490.0      20.0   11501.0   32   \n",
       "3153     1497   11.0  smart   64.0    371.0      14.0   14157.0   32   \n",
       "3154     1497   12.0  smart   71.0    545.0      17.0   19919.0   32   \n",
       "3155     1498    7.0  smart   23.0    175.0      20.0    7477.0   68   \n",
       "3156     1498    8.0  smart   57.0    400.0      62.0   24236.0   68   \n",
       "3157     1498    9.0  smart   59.0    471.0      44.0   22135.0   68   \n",
       "3158     1498   10.0  smart   41.0    247.0      42.0   20580.0   68   \n",
       "3159     1499    9.0  smart    9.0     70.0      11.0    1846.0   35   \n",
       "3160     1499   10.0  smart   68.0    449.0      48.0   17789.0   35   \n",
       "3161     1499   11.0  smart   74.0    612.0      59.0   17964.0   35   \n",
       "3162     1499   12.0  smart   69.0    492.0      66.0   13056.0   35   \n",
       "\n",
       "     churn_date         city first_name last_name   reg_date  \n",
       "3148 2019-01-01      Вологда     Трифон    Блохин 2018-01-27  \n",
       "3149 2019-01-01      Вологда     Трифон    Блохин 2018-01-27  \n",
       "3150 2019-01-01      Вологда     Трифон    Блохин 2018-01-27  \n",
       "3151 2019-01-01      Вологда     Трифон    Блохин 2018-01-27  \n",
       "3152 2019-01-01    Челябинск   Каролина    Агеева 2018-10-09  \n",
       "3153 2019-01-01    Челябинск   Каролина    Агеева 2018-10-09  \n",
       "3154 2019-01-01    Челябинск   Каролина    Агеева 2018-10-09  \n",
       "3155 2018-10-25  Владикавказ   Всеволод   Акимчин 2018-07-19  \n",
       "3156 2018-10-25  Владикавказ   Всеволод   Акимчин 2018-07-19  \n",
       "3157 2018-10-25  Владикавказ   Всеволод   Акимчин 2018-07-19  \n",
       "3158 2018-10-25  Владикавказ   Всеволод   Акимчин 2018-07-19  \n",
       "3159 2019-01-01        Пермь     Гектор  Корнилов 2018-09-27  \n",
       "3160 2019-01-01        Пермь     Гектор  Корнилов 2018-09-27  \n",
       "3161 2019-01-01        Пермь     Гектор  Корнилов 2018-09-27  \n",
       "3162 2019-01-01        Пермь     Гектор  Корнилов 2018-09-27  "
      ]
     },
     "execution_count": 38,
     "metadata": {},
     "output_type": "execute_result"
    }
   ],
   "source": [
    "df_total = df_total.dropna().reset_index(drop=True) # удаляем пропуски и обновляем индексы\n",
    "df_total.tail(15)"
   ]
  },
  {
   "cell_type": "markdown",
   "metadata": {},
   "source": [
    "Восстановим формат данных:"
   ]
  },
  {
   "cell_type": "code",
   "execution_count": 39,
   "metadata": {},
   "outputs": [],
   "source": [
    "# приводим данные к формату int\n",
    "list_null=['month', 'calls', 'minutes', 'messages', 'traffics']\n",
    "for i in list_null:\n",
    "    df_total[i]=df_total[i].astype('int')"
   ]
  },
  {
   "cell_type": "code",
   "execution_count": 40,
   "metadata": {},
   "outputs": [
    {
     "name": "stdout",
     "output_type": "stream",
     "text": [
      "<class 'pandas.core.frame.DataFrame'>\n",
      "RangeIndex: 3163 entries, 0 to 3162\n",
      "Data columns (total 13 columns):\n",
      " #   Column      Non-Null Count  Dtype         \n",
      "---  ------      --------------  -----         \n",
      " 0   user_id     3163 non-null   int64         \n",
      " 1   month       3163 non-null   int64         \n",
      " 2   tariff      3163 non-null   object        \n",
      " 3   calls       3163 non-null   int64         \n",
      " 4   minutes     3163 non-null   int64         \n",
      " 5   messages    3163 non-null   int64         \n",
      " 6   traffics    3163 non-null   int64         \n",
      " 7   age         3163 non-null   int64         \n",
      " 8   churn_date  3163 non-null   datetime64[ns]\n",
      " 9   city        3163 non-null   object        \n",
      " 10  first_name  3163 non-null   object        \n",
      " 11  last_name   3163 non-null   object        \n",
      " 12  reg_date    3163 non-null   datetime64[ns]\n",
      "dtypes: datetime64[ns](2), int64(7), object(4)\n",
      "memory usage: 321.4+ KB\n"
     ]
    }
   ],
   "source": [
    "df_total.info() # проверка"
   ]
  },
  {
   "cell_type": "markdown",
   "metadata": {},
   "source": [
    "Пропуски, формат данных исправлены."
   ]
  },
  {
   "cell_type": "markdown",
   "metadata": {},
   "source": [
    "Определим помесячную выручки с каждого пользователя, используя таблицы \"df_total\" и \"df_tariffs\":"
   ]
  },
  {
   "cell_type": "code",
   "execution_count": 41,
   "metadata": {},
   "outputs": [
    {
     "data": {
      "text/html": [
       "<div>\n",
       "<style scoped>\n",
       "    .dataframe tbody tr th:only-of-type {\n",
       "        vertical-align: middle;\n",
       "    }\n",
       "\n",
       "    .dataframe tbody tr th {\n",
       "        vertical-align: top;\n",
       "    }\n",
       "\n",
       "    .dataframe thead th {\n",
       "        text-align: right;\n",
       "    }\n",
       "</style>\n",
       "<table border=\"1\" class=\"dataframe\">\n",
       "  <thead>\n",
       "    <tr style=\"text-align: right;\">\n",
       "      <th></th>\n",
       "      <th>messages_included</th>\n",
       "      <th>mb_per_month_included</th>\n",
       "      <th>minutes_included</th>\n",
       "      <th>rub_monthly_fee</th>\n",
       "      <th>rub_per_gb</th>\n",
       "      <th>rub_per_message</th>\n",
       "      <th>rub_per_minute</th>\n",
       "      <th>tariff_name</th>\n",
       "    </tr>\n",
       "  </thead>\n",
       "  <tbody>\n",
       "    <tr>\n",
       "      <th>0</th>\n",
       "      <td>50</td>\n",
       "      <td>15360</td>\n",
       "      <td>500</td>\n",
       "      <td>550</td>\n",
       "      <td>200</td>\n",
       "      <td>3</td>\n",
       "      <td>3</td>\n",
       "      <td>smart</td>\n",
       "    </tr>\n",
       "    <tr>\n",
       "      <th>1</th>\n",
       "      <td>1000</td>\n",
       "      <td>30720</td>\n",
       "      <td>3000</td>\n",
       "      <td>1950</td>\n",
       "      <td>150</td>\n",
       "      <td>1</td>\n",
       "      <td>1</td>\n",
       "      <td>ultra</td>\n",
       "    </tr>\n",
       "  </tbody>\n",
       "</table>\n",
       "</div>"
      ],
      "text/plain": [
       "   messages_included  mb_per_month_included  minutes_included  \\\n",
       "0                 50                  15360               500   \n",
       "1               1000                  30720              3000   \n",
       "\n",
       "   rub_monthly_fee  rub_per_gb  rub_per_message  rub_per_minute tariff_name  \n",
       "0              550         200                3               3       smart  \n",
       "1             1950         150                1               1       ultra  "
      ]
     },
     "metadata": {},
     "output_type": "display_data"
    }
   ],
   "source": [
    "display(df_tariffs) # просмотр таблицы \"df_tariffs\""
   ]
  },
  {
   "cell_type": "code",
   "execution_count": 42,
   "metadata": {},
   "outputs": [
    {
     "data": {
      "text/html": [
       "<div>\n",
       "<style scoped>\n",
       "    .dataframe tbody tr th:only-of-type {\n",
       "        vertical-align: middle;\n",
       "    }\n",
       "\n",
       "    .dataframe tbody tr th {\n",
       "        vertical-align: top;\n",
       "    }\n",
       "\n",
       "    .dataframe thead th {\n",
       "        text-align: right;\n",
       "    }\n",
       "</style>\n",
       "<table border=\"1\" class=\"dataframe\">\n",
       "  <thead>\n",
       "    <tr style=\"text-align: right;\">\n",
       "      <th></th>\n",
       "      <th>user_id</th>\n",
       "      <th>month</th>\n",
       "      <th>tariff</th>\n",
       "      <th>calls</th>\n",
       "      <th>minutes</th>\n",
       "      <th>messages</th>\n",
       "      <th>traffics</th>\n",
       "      <th>age</th>\n",
       "      <th>churn_date</th>\n",
       "      <th>city</th>\n",
       "      <th>first_name</th>\n",
       "      <th>last_name</th>\n",
       "      <th>reg_date</th>\n",
       "    </tr>\n",
       "  </thead>\n",
       "  <tbody>\n",
       "    <tr>\n",
       "      <th>0</th>\n",
       "      <td>1000</td>\n",
       "      <td>5</td>\n",
       "      <td>ultra</td>\n",
       "      <td>22</td>\n",
       "      <td>159</td>\n",
       "      <td>22</td>\n",
       "      <td>2254</td>\n",
       "      <td>52</td>\n",
       "      <td>2019-01-01</td>\n",
       "      <td>Краснодар</td>\n",
       "      <td>Рафаил</td>\n",
       "      <td>Верещагин</td>\n",
       "      <td>2018-05-25</td>\n",
       "    </tr>\n",
       "    <tr>\n",
       "      <th>1</th>\n",
       "      <td>1000</td>\n",
       "      <td>6</td>\n",
       "      <td>ultra</td>\n",
       "      <td>43</td>\n",
       "      <td>172</td>\n",
       "      <td>60</td>\n",
       "      <td>23234</td>\n",
       "      <td>52</td>\n",
       "      <td>2019-01-01</td>\n",
       "      <td>Краснодар</td>\n",
       "      <td>Рафаил</td>\n",
       "      <td>Верещагин</td>\n",
       "      <td>2018-05-25</td>\n",
       "    </tr>\n",
       "    <tr>\n",
       "      <th>2</th>\n",
       "      <td>1000</td>\n",
       "      <td>7</td>\n",
       "      <td>ultra</td>\n",
       "      <td>47</td>\n",
       "      <td>340</td>\n",
       "      <td>75</td>\n",
       "      <td>14004</td>\n",
       "      <td>52</td>\n",
       "      <td>2019-01-01</td>\n",
       "      <td>Краснодар</td>\n",
       "      <td>Рафаил</td>\n",
       "      <td>Верещагин</td>\n",
       "      <td>2018-05-25</td>\n",
       "    </tr>\n",
       "    <tr>\n",
       "      <th>3</th>\n",
       "      <td>1000</td>\n",
       "      <td>8</td>\n",
       "      <td>ultra</td>\n",
       "      <td>52</td>\n",
       "      <td>408</td>\n",
       "      <td>81</td>\n",
       "      <td>14056</td>\n",
       "      <td>52</td>\n",
       "      <td>2019-01-01</td>\n",
       "      <td>Краснодар</td>\n",
       "      <td>Рафаил</td>\n",
       "      <td>Верещагин</td>\n",
       "      <td>2018-05-25</td>\n",
       "    </tr>\n",
       "    <tr>\n",
       "      <th>4</th>\n",
       "      <td>1000</td>\n",
       "      <td>9</td>\n",
       "      <td>ultra</td>\n",
       "      <td>58</td>\n",
       "      <td>466</td>\n",
       "      <td>57</td>\n",
       "      <td>14569</td>\n",
       "      <td>52</td>\n",
       "      <td>2019-01-01</td>\n",
       "      <td>Краснодар</td>\n",
       "      <td>Рафаил</td>\n",
       "      <td>Верещагин</td>\n",
       "      <td>2018-05-25</td>\n",
       "    </tr>\n",
       "  </tbody>\n",
       "</table>\n",
       "</div>"
      ],
      "text/plain": [
       "   user_id  month tariff  calls  minutes  messages  traffics  age churn_date  \\\n",
       "0     1000      5  ultra     22      159        22      2254   52 2019-01-01   \n",
       "1     1000      6  ultra     43      172        60     23234   52 2019-01-01   \n",
       "2     1000      7  ultra     47      340        75     14004   52 2019-01-01   \n",
       "3     1000      8  ultra     52      408        81     14056   52 2019-01-01   \n",
       "4     1000      9  ultra     58      466        57     14569   52 2019-01-01   \n",
       "\n",
       "        city first_name  last_name   reg_date  \n",
       "0  Краснодар     Рафаил  Верещагин 2018-05-25  \n",
       "1  Краснодар     Рафаил  Верещагин 2018-05-25  \n",
       "2  Краснодар     Рафаил  Верещагин 2018-05-25  \n",
       "3  Краснодар     Рафаил  Верещагин 2018-05-25  \n",
       "4  Краснодар     Рафаил  Верещагин 2018-05-25  "
      ]
     },
     "execution_count": 42,
     "metadata": {},
     "output_type": "execute_result"
    }
   ],
   "source": [
    "df_total.head() # просмотр таблицы \"df_total\""
   ]
  },
  {
   "cell_type": "markdown",
   "metadata": {},
   "source": [
    "Объединим обе таблицы по тарифу. Для этого переименуем в таблице \"df_tariffs\" столбец \"tariff_name\" на \"tariff\":"
   ]
  },
  {
   "cell_type": "code",
   "execution_count": 43,
   "metadata": {},
   "outputs": [
    {
     "data": {
      "text/html": [
       "<div>\n",
       "<style scoped>\n",
       "    .dataframe tbody tr th:only-of-type {\n",
       "        vertical-align: middle;\n",
       "    }\n",
       "\n",
       "    .dataframe tbody tr th {\n",
       "        vertical-align: top;\n",
       "    }\n",
       "\n",
       "    .dataframe thead th {\n",
       "        text-align: right;\n",
       "    }\n",
       "</style>\n",
       "<table border=\"1\" class=\"dataframe\">\n",
       "  <thead>\n",
       "    <tr style=\"text-align: right;\">\n",
       "      <th></th>\n",
       "      <th>user_id</th>\n",
       "      <th>month</th>\n",
       "      <th>tariff</th>\n",
       "      <th>calls</th>\n",
       "      <th>minutes</th>\n",
       "      <th>messages</th>\n",
       "      <th>traffics</th>\n",
       "      <th>age</th>\n",
       "      <th>churn_date</th>\n",
       "      <th>city</th>\n",
       "      <th>first_name</th>\n",
       "      <th>last_name</th>\n",
       "      <th>reg_date</th>\n",
       "      <th>messages_included</th>\n",
       "      <th>mb_per_month_included</th>\n",
       "      <th>minutes_included</th>\n",
       "      <th>rub_monthly_fee</th>\n",
       "      <th>rub_per_gb</th>\n",
       "      <th>rub_per_message</th>\n",
       "      <th>rub_per_minute</th>\n",
       "    </tr>\n",
       "  </thead>\n",
       "  <tbody>\n",
       "    <tr>\n",
       "      <th>0</th>\n",
       "      <td>1000</td>\n",
       "      <td>5</td>\n",
       "      <td>ultra</td>\n",
       "      <td>22</td>\n",
       "      <td>159</td>\n",
       "      <td>22</td>\n",
       "      <td>2254</td>\n",
       "      <td>52</td>\n",
       "      <td>2019-01-01</td>\n",
       "      <td>Краснодар</td>\n",
       "      <td>Рафаил</td>\n",
       "      <td>Верещагин</td>\n",
       "      <td>2018-05-25</td>\n",
       "      <td>1000</td>\n",
       "      <td>30720</td>\n",
       "      <td>3000</td>\n",
       "      <td>1950</td>\n",
       "      <td>150</td>\n",
       "      <td>1</td>\n",
       "      <td>1</td>\n",
       "    </tr>\n",
       "    <tr>\n",
       "      <th>1</th>\n",
       "      <td>1000</td>\n",
       "      <td>6</td>\n",
       "      <td>ultra</td>\n",
       "      <td>43</td>\n",
       "      <td>172</td>\n",
       "      <td>60</td>\n",
       "      <td>23234</td>\n",
       "      <td>52</td>\n",
       "      <td>2019-01-01</td>\n",
       "      <td>Краснодар</td>\n",
       "      <td>Рафаил</td>\n",
       "      <td>Верещагин</td>\n",
       "      <td>2018-05-25</td>\n",
       "      <td>1000</td>\n",
       "      <td>30720</td>\n",
       "      <td>3000</td>\n",
       "      <td>1950</td>\n",
       "      <td>150</td>\n",
       "      <td>1</td>\n",
       "      <td>1</td>\n",
       "    </tr>\n",
       "    <tr>\n",
       "      <th>2</th>\n",
       "      <td>1000</td>\n",
       "      <td>7</td>\n",
       "      <td>ultra</td>\n",
       "      <td>47</td>\n",
       "      <td>340</td>\n",
       "      <td>75</td>\n",
       "      <td>14004</td>\n",
       "      <td>52</td>\n",
       "      <td>2019-01-01</td>\n",
       "      <td>Краснодар</td>\n",
       "      <td>Рафаил</td>\n",
       "      <td>Верещагин</td>\n",
       "      <td>2018-05-25</td>\n",
       "      <td>1000</td>\n",
       "      <td>30720</td>\n",
       "      <td>3000</td>\n",
       "      <td>1950</td>\n",
       "      <td>150</td>\n",
       "      <td>1</td>\n",
       "      <td>1</td>\n",
       "    </tr>\n",
       "    <tr>\n",
       "      <th>3</th>\n",
       "      <td>1000</td>\n",
       "      <td>8</td>\n",
       "      <td>ultra</td>\n",
       "      <td>52</td>\n",
       "      <td>408</td>\n",
       "      <td>81</td>\n",
       "      <td>14056</td>\n",
       "      <td>52</td>\n",
       "      <td>2019-01-01</td>\n",
       "      <td>Краснодар</td>\n",
       "      <td>Рафаил</td>\n",
       "      <td>Верещагин</td>\n",
       "      <td>2018-05-25</td>\n",
       "      <td>1000</td>\n",
       "      <td>30720</td>\n",
       "      <td>3000</td>\n",
       "      <td>1950</td>\n",
       "      <td>150</td>\n",
       "      <td>1</td>\n",
       "      <td>1</td>\n",
       "    </tr>\n",
       "    <tr>\n",
       "      <th>4</th>\n",
       "      <td>1000</td>\n",
       "      <td>9</td>\n",
       "      <td>ultra</td>\n",
       "      <td>58</td>\n",
       "      <td>466</td>\n",
       "      <td>57</td>\n",
       "      <td>14569</td>\n",
       "      <td>52</td>\n",
       "      <td>2019-01-01</td>\n",
       "      <td>Краснодар</td>\n",
       "      <td>Рафаил</td>\n",
       "      <td>Верещагин</td>\n",
       "      <td>2018-05-25</td>\n",
       "      <td>1000</td>\n",
       "      <td>30720</td>\n",
       "      <td>3000</td>\n",
       "      <td>1950</td>\n",
       "      <td>150</td>\n",
       "      <td>1</td>\n",
       "      <td>1</td>\n",
       "    </tr>\n",
       "    <tr>\n",
       "      <th>5</th>\n",
       "      <td>1000</td>\n",
       "      <td>10</td>\n",
       "      <td>ultra</td>\n",
       "      <td>57</td>\n",
       "      <td>350</td>\n",
       "      <td>73</td>\n",
       "      <td>14703</td>\n",
       "      <td>52</td>\n",
       "      <td>2019-01-01</td>\n",
       "      <td>Краснодар</td>\n",
       "      <td>Рафаил</td>\n",
       "      <td>Верещагин</td>\n",
       "      <td>2018-05-25</td>\n",
       "      <td>1000</td>\n",
       "      <td>30720</td>\n",
       "      <td>3000</td>\n",
       "      <td>1950</td>\n",
       "      <td>150</td>\n",
       "      <td>1</td>\n",
       "      <td>1</td>\n",
       "    </tr>\n",
       "    <tr>\n",
       "      <th>6</th>\n",
       "      <td>1000</td>\n",
       "      <td>11</td>\n",
       "      <td>ultra</td>\n",
       "      <td>43</td>\n",
       "      <td>338</td>\n",
       "      <td>58</td>\n",
       "      <td>14757</td>\n",
       "      <td>52</td>\n",
       "      <td>2019-01-01</td>\n",
       "      <td>Краснодар</td>\n",
       "      <td>Рафаил</td>\n",
       "      <td>Верещагин</td>\n",
       "      <td>2018-05-25</td>\n",
       "      <td>1000</td>\n",
       "      <td>30720</td>\n",
       "      <td>3000</td>\n",
       "      <td>1950</td>\n",
       "      <td>150</td>\n",
       "      <td>1</td>\n",
       "      <td>1</td>\n",
       "    </tr>\n",
       "    <tr>\n",
       "      <th>7</th>\n",
       "      <td>1000</td>\n",
       "      <td>12</td>\n",
       "      <td>ultra</td>\n",
       "      <td>46</td>\n",
       "      <td>333</td>\n",
       "      <td>70</td>\n",
       "      <td>9818</td>\n",
       "      <td>52</td>\n",
       "      <td>2019-01-01</td>\n",
       "      <td>Краснодар</td>\n",
       "      <td>Рафаил</td>\n",
       "      <td>Верещагин</td>\n",
       "      <td>2018-05-25</td>\n",
       "      <td>1000</td>\n",
       "      <td>30720</td>\n",
       "      <td>3000</td>\n",
       "      <td>1950</td>\n",
       "      <td>150</td>\n",
       "      <td>1</td>\n",
       "      <td>1</td>\n",
       "    </tr>\n",
       "    <tr>\n",
       "      <th>8</th>\n",
       "      <td>1001</td>\n",
       "      <td>11</td>\n",
       "      <td>smart</td>\n",
       "      <td>59</td>\n",
       "      <td>430</td>\n",
       "      <td>0</td>\n",
       "      <td>18430</td>\n",
       "      <td>41</td>\n",
       "      <td>2019-01-01</td>\n",
       "      <td>Москва</td>\n",
       "      <td>Иван</td>\n",
       "      <td>Ежов</td>\n",
       "      <td>2018-11-01</td>\n",
       "      <td>50</td>\n",
       "      <td>15360</td>\n",
       "      <td>500</td>\n",
       "      <td>550</td>\n",
       "      <td>200</td>\n",
       "      <td>3</td>\n",
       "      <td>3</td>\n",
       "    </tr>\n",
       "    <tr>\n",
       "      <th>9</th>\n",
       "      <td>1001</td>\n",
       "      <td>12</td>\n",
       "      <td>smart</td>\n",
       "      <td>63</td>\n",
       "      <td>414</td>\n",
       "      <td>0</td>\n",
       "      <td>14037</td>\n",
       "      <td>41</td>\n",
       "      <td>2019-01-01</td>\n",
       "      <td>Москва</td>\n",
       "      <td>Иван</td>\n",
       "      <td>Ежов</td>\n",
       "      <td>2018-11-01</td>\n",
       "      <td>50</td>\n",
       "      <td>15360</td>\n",
       "      <td>500</td>\n",
       "      <td>550</td>\n",
       "      <td>200</td>\n",
       "      <td>3</td>\n",
       "      <td>3</td>\n",
       "    </tr>\n",
       "  </tbody>\n",
       "</table>\n",
       "</div>"
      ],
      "text/plain": [
       "   user_id  month tariff  calls  minutes  messages  traffics  age churn_date  \\\n",
       "0     1000      5  ultra     22      159        22      2254   52 2019-01-01   \n",
       "1     1000      6  ultra     43      172        60     23234   52 2019-01-01   \n",
       "2     1000      7  ultra     47      340        75     14004   52 2019-01-01   \n",
       "3     1000      8  ultra     52      408        81     14056   52 2019-01-01   \n",
       "4     1000      9  ultra     58      466        57     14569   52 2019-01-01   \n",
       "5     1000     10  ultra     57      350        73     14703   52 2019-01-01   \n",
       "6     1000     11  ultra     43      338        58     14757   52 2019-01-01   \n",
       "7     1000     12  ultra     46      333        70      9818   52 2019-01-01   \n",
       "8     1001     11  smart     59      430         0     18430   41 2019-01-01   \n",
       "9     1001     12  smart     63      414         0     14037   41 2019-01-01   \n",
       "\n",
       "        city first_name  last_name   reg_date  messages_included  \\\n",
       "0  Краснодар     Рафаил  Верещагин 2018-05-25               1000   \n",
       "1  Краснодар     Рафаил  Верещагин 2018-05-25               1000   \n",
       "2  Краснодар     Рафаил  Верещагин 2018-05-25               1000   \n",
       "3  Краснодар     Рафаил  Верещагин 2018-05-25               1000   \n",
       "4  Краснодар     Рафаил  Верещагин 2018-05-25               1000   \n",
       "5  Краснодар     Рафаил  Верещагин 2018-05-25               1000   \n",
       "6  Краснодар     Рафаил  Верещагин 2018-05-25               1000   \n",
       "7  Краснодар     Рафаил  Верещагин 2018-05-25               1000   \n",
       "8     Москва       Иван       Ежов 2018-11-01                 50   \n",
       "9     Москва       Иван       Ежов 2018-11-01                 50   \n",
       "\n",
       "   mb_per_month_included  minutes_included  rub_monthly_fee  rub_per_gb  \\\n",
       "0                  30720              3000             1950         150   \n",
       "1                  30720              3000             1950         150   \n",
       "2                  30720              3000             1950         150   \n",
       "3                  30720              3000             1950         150   \n",
       "4                  30720              3000             1950         150   \n",
       "5                  30720              3000             1950         150   \n",
       "6                  30720              3000             1950         150   \n",
       "7                  30720              3000             1950         150   \n",
       "8                  15360               500              550         200   \n",
       "9                  15360               500              550         200   \n",
       "\n",
       "   rub_per_message  rub_per_minute  \n",
       "0                1               1  \n",
       "1                1               1  \n",
       "2                1               1  \n",
       "3                1               1  \n",
       "4                1               1  \n",
       "5                1               1  \n",
       "6                1               1  \n",
       "7                1               1  \n",
       "8                3               3  \n",
       "9                3               3  "
      ]
     },
     "execution_count": 43,
     "metadata": {},
     "output_type": "execute_result"
    }
   ],
   "source": [
    "df_tariffs = df_tariffs.rename(columns={'tariff_name':'tariff'}) # переименовываем столбец\n",
    "\n",
    "# создаем общую таблицу из \"df_tariffs\" и \"df_tariffs\"\n",
    "df_total = (\n",
    "    df_total.merge(df_tariffs, on='tariff', how='left')# объединяем \n",
    ")\n",
    "df_total.head(10) "
   ]
  },
  {
   "cell_type": "markdown",
   "metadata": {},
   "source": [
    "В таблицы есть столбцы, которые на данном этапе исследования не используются. Удалим все столбцы, которые не нужны:"
   ]
  },
  {
   "cell_type": "code",
   "execution_count": 44,
   "metadata": {},
   "outputs": [
    {
     "data": {
      "text/html": [
       "<div>\n",
       "<style scoped>\n",
       "    .dataframe tbody tr th:only-of-type {\n",
       "        vertical-align: middle;\n",
       "    }\n",
       "\n",
       "    .dataframe tbody tr th {\n",
       "        vertical-align: top;\n",
       "    }\n",
       "\n",
       "    .dataframe thead th {\n",
       "        text-align: right;\n",
       "    }\n",
       "</style>\n",
       "<table border=\"1\" class=\"dataframe\">\n",
       "  <thead>\n",
       "    <tr style=\"text-align: right;\">\n",
       "      <th></th>\n",
       "      <th>user_id</th>\n",
       "      <th>month</th>\n",
       "      <th>tariff</th>\n",
       "      <th>calls</th>\n",
       "      <th>minutes</th>\n",
       "      <th>messages</th>\n",
       "      <th>traffics</th>\n",
       "      <th>city</th>\n",
       "      <th>messages_included</th>\n",
       "      <th>mb_per_month_included</th>\n",
       "      <th>minutes_included</th>\n",
       "      <th>rub_monthly_fee</th>\n",
       "      <th>rub_per_gb</th>\n",
       "      <th>rub_per_message</th>\n",
       "      <th>rub_per_minute</th>\n",
       "    </tr>\n",
       "  </thead>\n",
       "  <tbody>\n",
       "    <tr>\n",
       "      <th>0</th>\n",
       "      <td>1000</td>\n",
       "      <td>5</td>\n",
       "      <td>ultra</td>\n",
       "      <td>22</td>\n",
       "      <td>159</td>\n",
       "      <td>22</td>\n",
       "      <td>2254</td>\n",
       "      <td>Краснодар</td>\n",
       "      <td>1000</td>\n",
       "      <td>30720</td>\n",
       "      <td>3000</td>\n",
       "      <td>1950</td>\n",
       "      <td>150</td>\n",
       "      <td>1</td>\n",
       "      <td>1</td>\n",
       "    </tr>\n",
       "    <tr>\n",
       "      <th>1</th>\n",
       "      <td>1000</td>\n",
       "      <td>6</td>\n",
       "      <td>ultra</td>\n",
       "      <td>43</td>\n",
       "      <td>172</td>\n",
       "      <td>60</td>\n",
       "      <td>23234</td>\n",
       "      <td>Краснодар</td>\n",
       "      <td>1000</td>\n",
       "      <td>30720</td>\n",
       "      <td>3000</td>\n",
       "      <td>1950</td>\n",
       "      <td>150</td>\n",
       "      <td>1</td>\n",
       "      <td>1</td>\n",
       "    </tr>\n",
       "    <tr>\n",
       "      <th>2</th>\n",
       "      <td>1000</td>\n",
       "      <td>7</td>\n",
       "      <td>ultra</td>\n",
       "      <td>47</td>\n",
       "      <td>340</td>\n",
       "      <td>75</td>\n",
       "      <td>14004</td>\n",
       "      <td>Краснодар</td>\n",
       "      <td>1000</td>\n",
       "      <td>30720</td>\n",
       "      <td>3000</td>\n",
       "      <td>1950</td>\n",
       "      <td>150</td>\n",
       "      <td>1</td>\n",
       "      <td>1</td>\n",
       "    </tr>\n",
       "    <tr>\n",
       "      <th>3</th>\n",
       "      <td>1000</td>\n",
       "      <td>8</td>\n",
       "      <td>ultra</td>\n",
       "      <td>52</td>\n",
       "      <td>408</td>\n",
       "      <td>81</td>\n",
       "      <td>14056</td>\n",
       "      <td>Краснодар</td>\n",
       "      <td>1000</td>\n",
       "      <td>30720</td>\n",
       "      <td>3000</td>\n",
       "      <td>1950</td>\n",
       "      <td>150</td>\n",
       "      <td>1</td>\n",
       "      <td>1</td>\n",
       "    </tr>\n",
       "    <tr>\n",
       "      <th>4</th>\n",
       "      <td>1000</td>\n",
       "      <td>9</td>\n",
       "      <td>ultra</td>\n",
       "      <td>58</td>\n",
       "      <td>466</td>\n",
       "      <td>57</td>\n",
       "      <td>14569</td>\n",
       "      <td>Краснодар</td>\n",
       "      <td>1000</td>\n",
       "      <td>30720</td>\n",
       "      <td>3000</td>\n",
       "      <td>1950</td>\n",
       "      <td>150</td>\n",
       "      <td>1</td>\n",
       "      <td>1</td>\n",
       "    </tr>\n",
       "    <tr>\n",
       "      <th>5</th>\n",
       "      <td>1000</td>\n",
       "      <td>10</td>\n",
       "      <td>ultra</td>\n",
       "      <td>57</td>\n",
       "      <td>350</td>\n",
       "      <td>73</td>\n",
       "      <td>14703</td>\n",
       "      <td>Краснодар</td>\n",
       "      <td>1000</td>\n",
       "      <td>30720</td>\n",
       "      <td>3000</td>\n",
       "      <td>1950</td>\n",
       "      <td>150</td>\n",
       "      <td>1</td>\n",
       "      <td>1</td>\n",
       "    </tr>\n",
       "    <tr>\n",
       "      <th>6</th>\n",
       "      <td>1000</td>\n",
       "      <td>11</td>\n",
       "      <td>ultra</td>\n",
       "      <td>43</td>\n",
       "      <td>338</td>\n",
       "      <td>58</td>\n",
       "      <td>14757</td>\n",
       "      <td>Краснодар</td>\n",
       "      <td>1000</td>\n",
       "      <td>30720</td>\n",
       "      <td>3000</td>\n",
       "      <td>1950</td>\n",
       "      <td>150</td>\n",
       "      <td>1</td>\n",
       "      <td>1</td>\n",
       "    </tr>\n",
       "    <tr>\n",
       "      <th>7</th>\n",
       "      <td>1000</td>\n",
       "      <td>12</td>\n",
       "      <td>ultra</td>\n",
       "      <td>46</td>\n",
       "      <td>333</td>\n",
       "      <td>70</td>\n",
       "      <td>9818</td>\n",
       "      <td>Краснодар</td>\n",
       "      <td>1000</td>\n",
       "      <td>30720</td>\n",
       "      <td>3000</td>\n",
       "      <td>1950</td>\n",
       "      <td>150</td>\n",
       "      <td>1</td>\n",
       "      <td>1</td>\n",
       "    </tr>\n",
       "    <tr>\n",
       "      <th>8</th>\n",
       "      <td>1001</td>\n",
       "      <td>11</td>\n",
       "      <td>smart</td>\n",
       "      <td>59</td>\n",
       "      <td>430</td>\n",
       "      <td>0</td>\n",
       "      <td>18430</td>\n",
       "      <td>Москва</td>\n",
       "      <td>50</td>\n",
       "      <td>15360</td>\n",
       "      <td>500</td>\n",
       "      <td>550</td>\n",
       "      <td>200</td>\n",
       "      <td>3</td>\n",
       "      <td>3</td>\n",
       "    </tr>\n",
       "    <tr>\n",
       "      <th>9</th>\n",
       "      <td>1001</td>\n",
       "      <td>12</td>\n",
       "      <td>smart</td>\n",
       "      <td>63</td>\n",
       "      <td>414</td>\n",
       "      <td>0</td>\n",
       "      <td>14037</td>\n",
       "      <td>Москва</td>\n",
       "      <td>50</td>\n",
       "      <td>15360</td>\n",
       "      <td>500</td>\n",
       "      <td>550</td>\n",
       "      <td>200</td>\n",
       "      <td>3</td>\n",
       "      <td>3</td>\n",
       "    </tr>\n",
       "    <tr>\n",
       "      <th>10</th>\n",
       "      <td>1002</td>\n",
       "      <td>6</td>\n",
       "      <td>smart</td>\n",
       "      <td>15</td>\n",
       "      <td>117</td>\n",
       "      <td>4</td>\n",
       "      <td>10857</td>\n",
       "      <td>Стерлитамак</td>\n",
       "      <td>50</td>\n",
       "      <td>15360</td>\n",
       "      <td>500</td>\n",
       "      <td>550</td>\n",
       "      <td>200</td>\n",
       "      <td>3</td>\n",
       "      <td>3</td>\n",
       "    </tr>\n",
       "    <tr>\n",
       "      <th>11</th>\n",
       "      <td>1002</td>\n",
       "      <td>7</td>\n",
       "      <td>smart</td>\n",
       "      <td>26</td>\n",
       "      <td>214</td>\n",
       "      <td>11</td>\n",
       "      <td>17581</td>\n",
       "      <td>Стерлитамак</td>\n",
       "      <td>50</td>\n",
       "      <td>15360</td>\n",
       "      <td>500</td>\n",
       "      <td>550</td>\n",
       "      <td>200</td>\n",
       "      <td>3</td>\n",
       "      <td>3</td>\n",
       "    </tr>\n",
       "    <tr>\n",
       "      <th>12</th>\n",
       "      <td>1002</td>\n",
       "      <td>8</td>\n",
       "      <td>smart</td>\n",
       "      <td>42</td>\n",
       "      <td>289</td>\n",
       "      <td>13</td>\n",
       "      <td>20320</td>\n",
       "      <td>Стерлитамак</td>\n",
       "      <td>50</td>\n",
       "      <td>15360</td>\n",
       "      <td>500</td>\n",
       "      <td>550</td>\n",
       "      <td>200</td>\n",
       "      <td>3</td>\n",
       "      <td>3</td>\n",
       "    </tr>\n",
       "    <tr>\n",
       "      <th>13</th>\n",
       "      <td>1002</td>\n",
       "      <td>9</td>\n",
       "      <td>smart</td>\n",
       "      <td>36</td>\n",
       "      <td>206</td>\n",
       "      <td>4</td>\n",
       "      <td>16692</td>\n",
       "      <td>Стерлитамак</td>\n",
       "      <td>50</td>\n",
       "      <td>15360</td>\n",
       "      <td>500</td>\n",
       "      <td>550</td>\n",
       "      <td>200</td>\n",
       "      <td>3</td>\n",
       "      <td>3</td>\n",
       "    </tr>\n",
       "    <tr>\n",
       "      <th>14</th>\n",
       "      <td>1002</td>\n",
       "      <td>10</td>\n",
       "      <td>smart</td>\n",
       "      <td>33</td>\n",
       "      <td>212</td>\n",
       "      <td>10</td>\n",
       "      <td>13889</td>\n",
       "      <td>Стерлитамак</td>\n",
       "      <td>50</td>\n",
       "      <td>15360</td>\n",
       "      <td>500</td>\n",
       "      <td>550</td>\n",
       "      <td>200</td>\n",
       "      <td>3</td>\n",
       "      <td>3</td>\n",
       "    </tr>\n",
       "  </tbody>\n",
       "</table>\n",
       "</div>"
      ],
      "text/plain": [
       "    user_id  month tariff  calls  minutes  messages  traffics         city  \\\n",
       "0      1000      5  ultra     22      159        22      2254    Краснодар   \n",
       "1      1000      6  ultra     43      172        60     23234    Краснодар   \n",
       "2      1000      7  ultra     47      340        75     14004    Краснодар   \n",
       "3      1000      8  ultra     52      408        81     14056    Краснодар   \n",
       "4      1000      9  ultra     58      466        57     14569    Краснодар   \n",
       "5      1000     10  ultra     57      350        73     14703    Краснодар   \n",
       "6      1000     11  ultra     43      338        58     14757    Краснодар   \n",
       "7      1000     12  ultra     46      333        70      9818    Краснодар   \n",
       "8      1001     11  smart     59      430         0     18430       Москва   \n",
       "9      1001     12  smart     63      414         0     14037       Москва   \n",
       "10     1002      6  smart     15      117         4     10857  Стерлитамак   \n",
       "11     1002      7  smart     26      214        11     17581  Стерлитамак   \n",
       "12     1002      8  smart     42      289        13     20320  Стерлитамак   \n",
       "13     1002      9  smart     36      206         4     16692  Стерлитамак   \n",
       "14     1002     10  smart     33      212        10     13889  Стерлитамак   \n",
       "\n",
       "    messages_included  mb_per_month_included  minutes_included  \\\n",
       "0                1000                  30720              3000   \n",
       "1                1000                  30720              3000   \n",
       "2                1000                  30720              3000   \n",
       "3                1000                  30720              3000   \n",
       "4                1000                  30720              3000   \n",
       "5                1000                  30720              3000   \n",
       "6                1000                  30720              3000   \n",
       "7                1000                  30720              3000   \n",
       "8                  50                  15360               500   \n",
       "9                  50                  15360               500   \n",
       "10                 50                  15360               500   \n",
       "11                 50                  15360               500   \n",
       "12                 50                  15360               500   \n",
       "13                 50                  15360               500   \n",
       "14                 50                  15360               500   \n",
       "\n",
       "    rub_monthly_fee  rub_per_gb  rub_per_message  rub_per_minute  \n",
       "0              1950         150                1               1  \n",
       "1              1950         150                1               1  \n",
       "2              1950         150                1               1  \n",
       "3              1950         150                1               1  \n",
       "4              1950         150                1               1  \n",
       "5              1950         150                1               1  \n",
       "6              1950         150                1               1  \n",
       "7              1950         150                1               1  \n",
       "8               550         200                3               3  \n",
       "9               550         200                3               3  \n",
       "10              550         200                3               3  \n",
       "11              550         200                3               3  \n",
       "12              550         200                3               3  \n",
       "13              550         200                3               3  \n",
       "14              550         200                3               3  "
      ]
     },
     "execution_count": 44,
     "metadata": {},
     "output_type": "execute_result"
    }
   ],
   "source": [
    "# удаляем столбцы\n",
    "df_profit_user = df_total.drop(columns=['age', 'churn_date', 'first_name', 'last_name', 'reg_date'])\n",
    "df_profit_user.head(15) "
   ]
  },
  {
   "cell_type": "markdown",
   "metadata": {},
   "source": [
    "Проверим таблицу на пропуски и выбросы:"
   ]
  },
  {
   "cell_type": "code",
   "execution_count": 45,
   "metadata": {},
   "outputs": [
    {
     "name": "stdout",
     "output_type": "stream",
     "text": [
      "<class 'pandas.core.frame.DataFrame'>\n",
      "Int64Index: 3163 entries, 0 to 3162\n",
      "Data columns (total 15 columns):\n",
      " #   Column                 Non-Null Count  Dtype \n",
      "---  ------                 --------------  ----- \n",
      " 0   user_id                3163 non-null   int64 \n",
      " 1   month                  3163 non-null   int64 \n",
      " 2   tariff                 3163 non-null   object\n",
      " 3   calls                  3163 non-null   int64 \n",
      " 4   minutes                3163 non-null   int64 \n",
      " 5   messages               3163 non-null   int64 \n",
      " 6   traffics               3163 non-null   int64 \n",
      " 7   city                   3163 non-null   object\n",
      " 8   messages_included      3163 non-null   int64 \n",
      " 9   mb_per_month_included  3163 non-null   int64 \n",
      " 10  minutes_included       3163 non-null   int64 \n",
      " 11  rub_monthly_fee        3163 non-null   int64 \n",
      " 12  rub_per_gb             3163 non-null   int64 \n",
      " 13  rub_per_message        3163 non-null   int64 \n",
      " 14  rub_per_minute         3163 non-null   int64 \n",
      "dtypes: int64(13), object(2)\n",
      "memory usage: 395.4+ KB\n"
     ]
    }
   ],
   "source": [
    "df_profit_user.info() #проверка на пропуски и типы данных"
   ]
  },
  {
   "cell_type": "code",
   "execution_count": 46,
   "metadata": {},
   "outputs": [
    {
     "data": {
      "text/html": [
       "<div>\n",
       "<style scoped>\n",
       "    .dataframe tbody tr th:only-of-type {\n",
       "        vertical-align: middle;\n",
       "    }\n",
       "\n",
       "    .dataframe tbody tr th {\n",
       "        vertical-align: top;\n",
       "    }\n",
       "\n",
       "    .dataframe thead th {\n",
       "        text-align: right;\n",
       "    }\n",
       "</style>\n",
       "<table border=\"1\" class=\"dataframe\">\n",
       "  <thead>\n",
       "    <tr style=\"text-align: right;\">\n",
       "      <th></th>\n",
       "      <th>user_id</th>\n",
       "      <th>month</th>\n",
       "      <th>calls</th>\n",
       "      <th>minutes</th>\n",
       "      <th>messages</th>\n",
       "      <th>traffics</th>\n",
       "      <th>messages_included</th>\n",
       "      <th>mb_per_month_included</th>\n",
       "      <th>minutes_included</th>\n",
       "      <th>rub_monthly_fee</th>\n",
       "      <th>rub_per_gb</th>\n",
       "      <th>rub_per_message</th>\n",
       "      <th>rub_per_minute</th>\n",
       "    </tr>\n",
       "  </thead>\n",
       "  <tbody>\n",
       "    <tr>\n",
       "      <th>count</th>\n",
       "      <td>3163.000000</td>\n",
       "      <td>3163.000000</td>\n",
       "      <td>3163.000000</td>\n",
       "      <td>3163.000000</td>\n",
       "      <td>3163.000000</td>\n",
       "      <td>3163.000000</td>\n",
       "      <td>3163.000000</td>\n",
       "      <td>3163.000000</td>\n",
       "      <td>3163.000000</td>\n",
       "      <td>3163.000000</td>\n",
       "      <td>3163.000000</td>\n",
       "      <td>3163.000000</td>\n",
       "      <td>3163.000000</td>\n",
       "    </tr>\n",
       "    <tr>\n",
       "      <th>mean</th>\n",
       "      <td>1251.355991</td>\n",
       "      <td>8.315207</td>\n",
       "      <td>63.944989</td>\n",
       "      <td>457.803667</td>\n",
       "      <td>38.126146</td>\n",
       "      <td>17244.319001</td>\n",
       "      <td>332.627253</td>\n",
       "      <td>19929.636421</td>\n",
       "      <td>1243.755928</td>\n",
       "      <td>966.503320</td>\n",
       "      <td>185.124881</td>\n",
       "      <td>2.404995</td>\n",
       "      <td>2.404995</td>\n",
       "    </tr>\n",
       "    <tr>\n",
       "      <th>std</th>\n",
       "      <td>144.637466</td>\n",
       "      <td>2.909055</td>\n",
       "      <td>32.666304</td>\n",
       "      <td>237.926463</td>\n",
       "      <td>35.663941</td>\n",
       "      <td>7501.658446</td>\n",
       "      <td>434.370093</td>\n",
       "      <td>7023.078552</td>\n",
       "      <td>1143.079191</td>\n",
       "      <td>640.124347</td>\n",
       "      <td>22.861584</td>\n",
       "      <td>0.914463</td>\n",
       "      <td>0.914463</td>\n",
       "    </tr>\n",
       "    <tr>\n",
       "      <th>min</th>\n",
       "      <td>1000.000000</td>\n",
       "      <td>1.000000</td>\n",
       "      <td>1.000000</td>\n",
       "      <td>0.000000</td>\n",
       "      <td>0.000000</td>\n",
       "      <td>0.000000</td>\n",
       "      <td>50.000000</td>\n",
       "      <td>15360.000000</td>\n",
       "      <td>500.000000</td>\n",
       "      <td>550.000000</td>\n",
       "      <td>150.000000</td>\n",
       "      <td>1.000000</td>\n",
       "      <td>1.000000</td>\n",
       "    </tr>\n",
       "    <tr>\n",
       "      <th>25%</th>\n",
       "      <td>1126.000000</td>\n",
       "      <td>6.000000</td>\n",
       "      <td>41.000000</td>\n",
       "      <td>291.000000</td>\n",
       "      <td>9.000000</td>\n",
       "      <td>12515.000000</td>\n",
       "      <td>50.000000</td>\n",
       "      <td>15360.000000</td>\n",
       "      <td>500.000000</td>\n",
       "      <td>550.000000</td>\n",
       "      <td>150.000000</td>\n",
       "      <td>1.000000</td>\n",
       "      <td>1.000000</td>\n",
       "    </tr>\n",
       "    <tr>\n",
       "      <th>50%</th>\n",
       "      <td>1253.000000</td>\n",
       "      <td>9.000000</td>\n",
       "      <td>63.000000</td>\n",
       "      <td>448.000000</td>\n",
       "      <td>30.000000</td>\n",
       "      <td>16952.000000</td>\n",
       "      <td>50.000000</td>\n",
       "      <td>15360.000000</td>\n",
       "      <td>500.000000</td>\n",
       "      <td>550.000000</td>\n",
       "      <td>200.000000</td>\n",
       "      <td>3.000000</td>\n",
       "      <td>3.000000</td>\n",
       "    </tr>\n",
       "    <tr>\n",
       "      <th>75%</th>\n",
       "      <td>1378.500000</td>\n",
       "      <td>11.000000</td>\n",
       "      <td>83.000000</td>\n",
       "      <td>593.500000</td>\n",
       "      <td>57.000000</td>\n",
       "      <td>21424.000000</td>\n",
       "      <td>1000.000000</td>\n",
       "      <td>30720.000000</td>\n",
       "      <td>3000.000000</td>\n",
       "      <td>1950.000000</td>\n",
       "      <td>200.000000</td>\n",
       "      <td>3.000000</td>\n",
       "      <td>3.000000</td>\n",
       "    </tr>\n",
       "    <tr>\n",
       "      <th>max</th>\n",
       "      <td>1499.000000</td>\n",
       "      <td>12.000000</td>\n",
       "      <td>244.000000</td>\n",
       "      <td>1673.000000</td>\n",
       "      <td>224.000000</td>\n",
       "      <td>49746.000000</td>\n",
       "      <td>1000.000000</td>\n",
       "      <td>30720.000000</td>\n",
       "      <td>3000.000000</td>\n",
       "      <td>1950.000000</td>\n",
       "      <td>200.000000</td>\n",
       "      <td>3.000000</td>\n",
       "      <td>3.000000</td>\n",
       "    </tr>\n",
       "  </tbody>\n",
       "</table>\n",
       "</div>"
      ],
      "text/plain": [
       "           user_id        month        calls      minutes     messages  \\\n",
       "count  3163.000000  3163.000000  3163.000000  3163.000000  3163.000000   \n",
       "mean   1251.355991     8.315207    63.944989   457.803667    38.126146   \n",
       "std     144.637466     2.909055    32.666304   237.926463    35.663941   \n",
       "min    1000.000000     1.000000     1.000000     0.000000     0.000000   \n",
       "25%    1126.000000     6.000000    41.000000   291.000000     9.000000   \n",
       "50%    1253.000000     9.000000    63.000000   448.000000    30.000000   \n",
       "75%    1378.500000    11.000000    83.000000   593.500000    57.000000   \n",
       "max    1499.000000    12.000000   244.000000  1673.000000   224.000000   \n",
       "\n",
       "           traffics  messages_included  mb_per_month_included  \\\n",
       "count   3163.000000        3163.000000            3163.000000   \n",
       "mean   17244.319001         332.627253           19929.636421   \n",
       "std     7501.658446         434.370093            7023.078552   \n",
       "min        0.000000          50.000000           15360.000000   \n",
       "25%    12515.000000          50.000000           15360.000000   \n",
       "50%    16952.000000          50.000000           15360.000000   \n",
       "75%    21424.000000        1000.000000           30720.000000   \n",
       "max    49746.000000        1000.000000           30720.000000   \n",
       "\n",
       "       minutes_included  rub_monthly_fee   rub_per_gb  rub_per_message  \\\n",
       "count       3163.000000      3163.000000  3163.000000      3163.000000   \n",
       "mean        1243.755928       966.503320   185.124881         2.404995   \n",
       "std         1143.079191       640.124347    22.861584         0.914463   \n",
       "min          500.000000       550.000000   150.000000         1.000000   \n",
       "25%          500.000000       550.000000   150.000000         1.000000   \n",
       "50%          500.000000       550.000000   200.000000         3.000000   \n",
       "75%         3000.000000      1950.000000   200.000000         3.000000   \n",
       "max         3000.000000      1950.000000   200.000000         3.000000   \n",
       "\n",
       "       rub_per_minute  \n",
       "count     3163.000000  \n",
       "mean         2.404995  \n",
       "std          0.914463  \n",
       "min          1.000000  \n",
       "25%          1.000000  \n",
       "50%          3.000000  \n",
       "75%          3.000000  \n",
       "max          3.000000  "
      ]
     },
     "execution_count": 46,
     "metadata": {},
     "output_type": "execute_result"
    }
   ],
   "source": [
    "df_profit_user.describe()"
   ]
  },
  {
   "cell_type": "markdown",
   "metadata": {},
   "source": [
    "Пропусков нет, отрицательных значений так же нет."
   ]
  },
  {
   "cell_type": "markdown",
   "metadata": {},
   "source": [
    "<div class=\"alert alert-block alert-success\">\n",
    "<b>Комментарий ревьюера✅:</b> двигаемся дальше🔥</div>"
   ]
  },
  {
   "cell_type": "markdown",
   "metadata": {},
   "source": [
    "Напишем функцию, которая высчислит помесячную выручку по каждому пользователю. Проходить будем по всем строкам таблицы:"
   ]
  },
  {
   "cell_type": "code",
   "execution_count": 47,
   "metadata": {},
   "outputs": [],
   "source": [
    "def profit_month(row):\n",
    "        \n",
    "# определим переменные для рассчета функции\n",
    "    \n",
    "    profit_minutes = 0 # выручка по минутам\n",
    "    profit_mes = 0     # выручка по сообщениям\n",
    "    profit_traffic = 0 # выручка по интернет-трафику\n",
    "    \n",
    "    minutes = row['minutes'] # потраченные минуты пользователя\n",
    "    message = row['messages'] # потраченные сообщения пользователя\n",
    "    traffic = row['traffics'] # потраченный интернет-трафик пользователя\n",
    "    \n",
    "    tariff = row['tariff'] # тариф пользователя\n",
    "    \n",
    "    minutes_limit = row['minutes_included'] # минуты по тарифу\n",
    "    mes_limit = row['messages_included'] # сообщения по тарифу\n",
    "    traffic_limit = row['mb_per_month_included'] # интернет-трафик по тарифу\n",
    "    monthly_fee = row['rub_monthly_fee'] # стоимость тарифа\n",
    "    \n",
    "    rub_per_gb = row['rub_per_gb'] # стоимость 1Гб сверх тарифа\n",
    "    rub_per_message = row['rub_per_message'] # стоимость 1 сообщения сверх тарифа\n",
    "    rub_per_minute = row['rub_per_minute'] # стоимость 1 минуты сверх тарифа\n",
    "\n",
    "# Выручка будет складываться по следующим условиям:\n",
    "# если разница между количеством потраченных минут и минутами по тарифу,  \n",
    "# между потраченных сообщений и сообщений по тарифу, \n",
    "# а также между потраченным интернет-трафиком и трафиком по тарифу больше нуля, то\n",
    "# разницу умножаем на стоимость сверх тарифного плана, \n",
    "# в противном случае - возвращаем ноль (лимит по тарифу не исчерпан)\n",
    "\n",
    "    if minutes > minutes_limit:\n",
    "        profit_minutes += (minutes - minutes_limit) * rub_per_minute\n",
    "    if minutes < minutes_limit:\n",
    "        profit_minutes = 0\n",
    "    if message > mes_limit:\n",
    "        profit_mes += (message - mes_limit) * rub_per_message\n",
    "    if message < mes_limit:\n",
    "        profit_mes = 0\n",
    "    if traffic > traffic_limit:\n",
    "        profit_traffic += (np.ceil((traffic - traffic_limit) / 1024 )) * rub_per_gb # округляем Мб до Гб\n",
    "    if traffic < traffic_limit:\n",
    "        profit_traffic = 0\n",
    "        \n",
    "# результат работы функции - итоговый счет за месяц для пользователя,\n",
    "# в котором к сумме счетов за отдельные категории услуг прибавляется абонентская плата за тариф\n",
    "        \n",
    "    return profit_minutes + profit_mes + profit_traffic + monthly_fee"
   ]
  },
  {
   "cell_type": "code",
   "execution_count": 48,
   "metadata": {},
   "outputs": [
    {
     "data": {
      "text/html": [
       "<div>\n",
       "<style scoped>\n",
       "    .dataframe tbody tr th:only-of-type {\n",
       "        vertical-align: middle;\n",
       "    }\n",
       "\n",
       "    .dataframe tbody tr th {\n",
       "        vertical-align: top;\n",
       "    }\n",
       "\n",
       "    .dataframe thead th {\n",
       "        text-align: right;\n",
       "    }\n",
       "</style>\n",
       "<table border=\"1\" class=\"dataframe\">\n",
       "  <thead>\n",
       "    <tr style=\"text-align: right;\">\n",
       "      <th></th>\n",
       "      <th>user_id</th>\n",
       "      <th>month</th>\n",
       "      <th>tariff</th>\n",
       "      <th>calls</th>\n",
       "      <th>minutes</th>\n",
       "      <th>messages</th>\n",
       "      <th>traffics</th>\n",
       "      <th>city</th>\n",
       "      <th>messages_included</th>\n",
       "      <th>mb_per_month_included</th>\n",
       "      <th>minutes_included</th>\n",
       "      <th>rub_monthly_fee</th>\n",
       "      <th>rub_per_gb</th>\n",
       "      <th>rub_per_message</th>\n",
       "      <th>rub_per_minute</th>\n",
       "      <th>profit_month</th>\n",
       "    </tr>\n",
       "  </thead>\n",
       "  <tbody>\n",
       "    <tr>\n",
       "      <th>0</th>\n",
       "      <td>1000</td>\n",
       "      <td>5</td>\n",
       "      <td>ultra</td>\n",
       "      <td>22</td>\n",
       "      <td>159</td>\n",
       "      <td>22</td>\n",
       "      <td>2254</td>\n",
       "      <td>Краснодар</td>\n",
       "      <td>1000</td>\n",
       "      <td>30720</td>\n",
       "      <td>3000</td>\n",
       "      <td>1950</td>\n",
       "      <td>150</td>\n",
       "      <td>1</td>\n",
       "      <td>1</td>\n",
       "      <td>1950.0</td>\n",
       "    </tr>\n",
       "    <tr>\n",
       "      <th>1</th>\n",
       "      <td>1000</td>\n",
       "      <td>6</td>\n",
       "      <td>ultra</td>\n",
       "      <td>43</td>\n",
       "      <td>172</td>\n",
       "      <td>60</td>\n",
       "      <td>23234</td>\n",
       "      <td>Краснодар</td>\n",
       "      <td>1000</td>\n",
       "      <td>30720</td>\n",
       "      <td>3000</td>\n",
       "      <td>1950</td>\n",
       "      <td>150</td>\n",
       "      <td>1</td>\n",
       "      <td>1</td>\n",
       "      <td>1950.0</td>\n",
       "    </tr>\n",
       "    <tr>\n",
       "      <th>2</th>\n",
       "      <td>1000</td>\n",
       "      <td>7</td>\n",
       "      <td>ultra</td>\n",
       "      <td>47</td>\n",
       "      <td>340</td>\n",
       "      <td>75</td>\n",
       "      <td>14004</td>\n",
       "      <td>Краснодар</td>\n",
       "      <td>1000</td>\n",
       "      <td>30720</td>\n",
       "      <td>3000</td>\n",
       "      <td>1950</td>\n",
       "      <td>150</td>\n",
       "      <td>1</td>\n",
       "      <td>1</td>\n",
       "      <td>1950.0</td>\n",
       "    </tr>\n",
       "    <tr>\n",
       "      <th>3</th>\n",
       "      <td>1000</td>\n",
       "      <td>8</td>\n",
       "      <td>ultra</td>\n",
       "      <td>52</td>\n",
       "      <td>408</td>\n",
       "      <td>81</td>\n",
       "      <td>14056</td>\n",
       "      <td>Краснодар</td>\n",
       "      <td>1000</td>\n",
       "      <td>30720</td>\n",
       "      <td>3000</td>\n",
       "      <td>1950</td>\n",
       "      <td>150</td>\n",
       "      <td>1</td>\n",
       "      <td>1</td>\n",
       "      <td>1950.0</td>\n",
       "    </tr>\n",
       "    <tr>\n",
       "      <th>4</th>\n",
       "      <td>1000</td>\n",
       "      <td>9</td>\n",
       "      <td>ultra</td>\n",
       "      <td>58</td>\n",
       "      <td>466</td>\n",
       "      <td>57</td>\n",
       "      <td>14569</td>\n",
       "      <td>Краснодар</td>\n",
       "      <td>1000</td>\n",
       "      <td>30720</td>\n",
       "      <td>3000</td>\n",
       "      <td>1950</td>\n",
       "      <td>150</td>\n",
       "      <td>1</td>\n",
       "      <td>1</td>\n",
       "      <td>1950.0</td>\n",
       "    </tr>\n",
       "    <tr>\n",
       "      <th>5</th>\n",
       "      <td>1000</td>\n",
       "      <td>10</td>\n",
       "      <td>ultra</td>\n",
       "      <td>57</td>\n",
       "      <td>350</td>\n",
       "      <td>73</td>\n",
       "      <td>14703</td>\n",
       "      <td>Краснодар</td>\n",
       "      <td>1000</td>\n",
       "      <td>30720</td>\n",
       "      <td>3000</td>\n",
       "      <td>1950</td>\n",
       "      <td>150</td>\n",
       "      <td>1</td>\n",
       "      <td>1</td>\n",
       "      <td>1950.0</td>\n",
       "    </tr>\n",
       "    <tr>\n",
       "      <th>6</th>\n",
       "      <td>1000</td>\n",
       "      <td>11</td>\n",
       "      <td>ultra</td>\n",
       "      <td>43</td>\n",
       "      <td>338</td>\n",
       "      <td>58</td>\n",
       "      <td>14757</td>\n",
       "      <td>Краснодар</td>\n",
       "      <td>1000</td>\n",
       "      <td>30720</td>\n",
       "      <td>3000</td>\n",
       "      <td>1950</td>\n",
       "      <td>150</td>\n",
       "      <td>1</td>\n",
       "      <td>1</td>\n",
       "      <td>1950.0</td>\n",
       "    </tr>\n",
       "    <tr>\n",
       "      <th>7</th>\n",
       "      <td>1000</td>\n",
       "      <td>12</td>\n",
       "      <td>ultra</td>\n",
       "      <td>46</td>\n",
       "      <td>333</td>\n",
       "      <td>70</td>\n",
       "      <td>9818</td>\n",
       "      <td>Краснодар</td>\n",
       "      <td>1000</td>\n",
       "      <td>30720</td>\n",
       "      <td>3000</td>\n",
       "      <td>1950</td>\n",
       "      <td>150</td>\n",
       "      <td>1</td>\n",
       "      <td>1</td>\n",
       "      <td>1950.0</td>\n",
       "    </tr>\n",
       "    <tr>\n",
       "      <th>8</th>\n",
       "      <td>1001</td>\n",
       "      <td>11</td>\n",
       "      <td>smart</td>\n",
       "      <td>59</td>\n",
       "      <td>430</td>\n",
       "      <td>0</td>\n",
       "      <td>18430</td>\n",
       "      <td>Москва</td>\n",
       "      <td>50</td>\n",
       "      <td>15360</td>\n",
       "      <td>500</td>\n",
       "      <td>550</td>\n",
       "      <td>200</td>\n",
       "      <td>3</td>\n",
       "      <td>3</td>\n",
       "      <td>1150.0</td>\n",
       "    </tr>\n",
       "    <tr>\n",
       "      <th>9</th>\n",
       "      <td>1001</td>\n",
       "      <td>12</td>\n",
       "      <td>smart</td>\n",
       "      <td>63</td>\n",
       "      <td>414</td>\n",
       "      <td>0</td>\n",
       "      <td>14037</td>\n",
       "      <td>Москва</td>\n",
       "      <td>50</td>\n",
       "      <td>15360</td>\n",
       "      <td>500</td>\n",
       "      <td>550</td>\n",
       "      <td>200</td>\n",
       "      <td>3</td>\n",
       "      <td>3</td>\n",
       "      <td>550.0</td>\n",
       "    </tr>\n",
       "    <tr>\n",
       "      <th>10</th>\n",
       "      <td>1002</td>\n",
       "      <td>6</td>\n",
       "      <td>smart</td>\n",
       "      <td>15</td>\n",
       "      <td>117</td>\n",
       "      <td>4</td>\n",
       "      <td>10857</td>\n",
       "      <td>Стерлитамак</td>\n",
       "      <td>50</td>\n",
       "      <td>15360</td>\n",
       "      <td>500</td>\n",
       "      <td>550</td>\n",
       "      <td>200</td>\n",
       "      <td>3</td>\n",
       "      <td>3</td>\n",
       "      <td>550.0</td>\n",
       "    </tr>\n",
       "    <tr>\n",
       "      <th>11</th>\n",
       "      <td>1002</td>\n",
       "      <td>7</td>\n",
       "      <td>smart</td>\n",
       "      <td>26</td>\n",
       "      <td>214</td>\n",
       "      <td>11</td>\n",
       "      <td>17581</td>\n",
       "      <td>Стерлитамак</td>\n",
       "      <td>50</td>\n",
       "      <td>15360</td>\n",
       "      <td>500</td>\n",
       "      <td>550</td>\n",
       "      <td>200</td>\n",
       "      <td>3</td>\n",
       "      <td>3</td>\n",
       "      <td>1150.0</td>\n",
       "    </tr>\n",
       "    <tr>\n",
       "      <th>12</th>\n",
       "      <td>1002</td>\n",
       "      <td>8</td>\n",
       "      <td>smart</td>\n",
       "      <td>42</td>\n",
       "      <td>289</td>\n",
       "      <td>13</td>\n",
       "      <td>20320</td>\n",
       "      <td>Стерлитамак</td>\n",
       "      <td>50</td>\n",
       "      <td>15360</td>\n",
       "      <td>500</td>\n",
       "      <td>550</td>\n",
       "      <td>200</td>\n",
       "      <td>3</td>\n",
       "      <td>3</td>\n",
       "      <td>1550.0</td>\n",
       "    </tr>\n",
       "    <tr>\n",
       "      <th>13</th>\n",
       "      <td>1002</td>\n",
       "      <td>9</td>\n",
       "      <td>smart</td>\n",
       "      <td>36</td>\n",
       "      <td>206</td>\n",
       "      <td>4</td>\n",
       "      <td>16692</td>\n",
       "      <td>Стерлитамак</td>\n",
       "      <td>50</td>\n",
       "      <td>15360</td>\n",
       "      <td>500</td>\n",
       "      <td>550</td>\n",
       "      <td>200</td>\n",
       "      <td>3</td>\n",
       "      <td>3</td>\n",
       "      <td>950.0</td>\n",
       "    </tr>\n",
       "    <tr>\n",
       "      <th>14</th>\n",
       "      <td>1002</td>\n",
       "      <td>10</td>\n",
       "      <td>smart</td>\n",
       "      <td>33</td>\n",
       "      <td>212</td>\n",
       "      <td>10</td>\n",
       "      <td>13889</td>\n",
       "      <td>Стерлитамак</td>\n",
       "      <td>50</td>\n",
       "      <td>15360</td>\n",
       "      <td>500</td>\n",
       "      <td>550</td>\n",
       "      <td>200</td>\n",
       "      <td>3</td>\n",
       "      <td>3</td>\n",
       "      <td>550.0</td>\n",
       "    </tr>\n",
       "  </tbody>\n",
       "</table>\n",
       "</div>"
      ],
      "text/plain": [
       "    user_id  month tariff  calls  minutes  messages  traffics         city  \\\n",
       "0      1000      5  ultra     22      159        22      2254    Краснодар   \n",
       "1      1000      6  ultra     43      172        60     23234    Краснодар   \n",
       "2      1000      7  ultra     47      340        75     14004    Краснодар   \n",
       "3      1000      8  ultra     52      408        81     14056    Краснодар   \n",
       "4      1000      9  ultra     58      466        57     14569    Краснодар   \n",
       "5      1000     10  ultra     57      350        73     14703    Краснодар   \n",
       "6      1000     11  ultra     43      338        58     14757    Краснодар   \n",
       "7      1000     12  ultra     46      333        70      9818    Краснодар   \n",
       "8      1001     11  smart     59      430         0     18430       Москва   \n",
       "9      1001     12  smart     63      414         0     14037       Москва   \n",
       "10     1002      6  smart     15      117         4     10857  Стерлитамак   \n",
       "11     1002      7  smart     26      214        11     17581  Стерлитамак   \n",
       "12     1002      8  smart     42      289        13     20320  Стерлитамак   \n",
       "13     1002      9  smart     36      206         4     16692  Стерлитамак   \n",
       "14     1002     10  smart     33      212        10     13889  Стерлитамак   \n",
       "\n",
       "    messages_included  mb_per_month_included  minutes_included  \\\n",
       "0                1000                  30720              3000   \n",
       "1                1000                  30720              3000   \n",
       "2                1000                  30720              3000   \n",
       "3                1000                  30720              3000   \n",
       "4                1000                  30720              3000   \n",
       "5                1000                  30720              3000   \n",
       "6                1000                  30720              3000   \n",
       "7                1000                  30720              3000   \n",
       "8                  50                  15360               500   \n",
       "9                  50                  15360               500   \n",
       "10                 50                  15360               500   \n",
       "11                 50                  15360               500   \n",
       "12                 50                  15360               500   \n",
       "13                 50                  15360               500   \n",
       "14                 50                  15360               500   \n",
       "\n",
       "    rub_monthly_fee  rub_per_gb  rub_per_message  rub_per_minute  profit_month  \n",
       "0              1950         150                1               1        1950.0  \n",
       "1              1950         150                1               1        1950.0  \n",
       "2              1950         150                1               1        1950.0  \n",
       "3              1950         150                1               1        1950.0  \n",
       "4              1950         150                1               1        1950.0  \n",
       "5              1950         150                1               1        1950.0  \n",
       "6              1950         150                1               1        1950.0  \n",
       "7              1950         150                1               1        1950.0  \n",
       "8               550         200                3               3        1150.0  \n",
       "9               550         200                3               3         550.0  \n",
       "10              550         200                3               3         550.0  \n",
       "11              550         200                3               3        1150.0  \n",
       "12              550         200                3               3        1550.0  \n",
       "13              550         200                3               3         950.0  \n",
       "14              550         200                3               3         550.0  "
      ]
     },
     "execution_count": 48,
     "metadata": {},
     "output_type": "execute_result"
    }
   ],
   "source": [
    "# применим функцию к датафрейму\n",
    "# метод apply() применяем в нашем случае ко всему датафрейму\n",
    "# Чтобы на вход в функцию отправлялись строки, указываем параметр axis = 1 метода apply()\n",
    "\n",
    "df_profit_user['profit_month'] = df_profit_user.apply(profit_month, axis=1)\n",
    "df_profit_user.head(15)"
   ]
  },
  {
   "cell_type": "markdown",
   "metadata": {},
   "source": [
    "Определим количество записей по тарифу:"
   ]
  },
  {
   "cell_type": "code",
   "execution_count": 49,
   "metadata": {},
   "outputs": [
    {
     "data": {
      "text/plain": [
       "2222"
      ]
     },
     "execution_count": 49,
     "metadata": {},
     "output_type": "execute_result"
    }
   ],
   "source": [
    "# количество записей по тарифу \"smart\"\n",
    "df_profit_user[df_profit_user['tariff']=='smart']['tariff'].count()"
   ]
  },
  {
   "cell_type": "code",
   "execution_count": 50,
   "metadata": {},
   "outputs": [
    {
     "data": {
      "text/plain": [
       "941"
      ]
     },
     "execution_count": 50,
     "metadata": {},
     "output_type": "execute_result"
    }
   ],
   "source": [
    "# количество записей по тарифу \"ultra\"\n",
    "df_profit_user[df_profit_user['tariff']=='ultra']['tariff'].count()"
   ]
  },
  {
   "cell_type": "markdown",
   "metadata": {},
   "source": [
    "Так как размеры выборок разные, будем это учитывать в анализе графиков."
   ]
  },
  {
   "cell_type": "markdown",
   "metadata": {},
   "source": [
    "<div class=\"alert alert-block alert-success\">\n",
    "<b>Комментарий ревьюера✅:</b> Функция написана верно, круто что результат ее выполнения проверен👍"
   ]
  },
  {
   "cell_type": "markdown",
   "metadata": {},
   "source": [
    "### Проведем анализ данных"
   ]
  },
  {
   "cell_type": "markdown",
   "metadata": {},
   "source": [
    "Построим гистограммы для каждого тарифа, которые будут отображать сколько минут, сообщений и интернет-трафика было потрачено пользователями в каждом месяце."
   ]
  },
  {
   "cell_type": "code",
   "execution_count": 51,
   "metadata": {},
   "outputs": [
    {
     "data": {
      "text/html": [
       "<div>\n",
       "<style scoped>\n",
       "    .dataframe tbody tr th:only-of-type {\n",
       "        vertical-align: middle;\n",
       "    }\n",
       "\n",
       "    .dataframe tbody tr th {\n",
       "        vertical-align: top;\n",
       "    }\n",
       "\n",
       "    .dataframe thead th {\n",
       "        text-align: right;\n",
       "    }\n",
       "</style>\n",
       "<table border=\"1\" class=\"dataframe\">\n",
       "  <thead>\n",
       "    <tr style=\"text-align: right;\">\n",
       "      <th></th>\n",
       "      <th></th>\n",
       "      <th>calls</th>\n",
       "      <th>messages</th>\n",
       "      <th>minutes</th>\n",
       "      <th>profit_month</th>\n",
       "      <th>traffics</th>\n",
       "    </tr>\n",
       "    <tr>\n",
       "      <th>tariff</th>\n",
       "      <th>month</th>\n",
       "      <th></th>\n",
       "      <th></th>\n",
       "      <th></th>\n",
       "      <th></th>\n",
       "      <th></th>\n",
       "    </tr>\n",
       "  </thead>\n",
       "  <tbody>\n",
       "    <tr>\n",
       "      <th rowspan=\"12\" valign=\"top\">smart</th>\n",
       "      <th>1</th>\n",
       "      <td>941</td>\n",
       "      <td>620</td>\n",
       "      <td>6931</td>\n",
       "      <td>24525.0</td>\n",
       "      <td>289482</td>\n",
       "    </tr>\n",
       "    <tr>\n",
       "      <th>2</th>\n",
       "      <td>2331</td>\n",
       "      <td>1397</td>\n",
       "      <td>17324</td>\n",
       "      <td>48001.0</td>\n",
       "      <td>672656</td>\n",
       "    </tr>\n",
       "    <tr>\n",
       "      <th>3</th>\n",
       "      <td>4183</td>\n",
       "      <td>2453</td>\n",
       "      <td>30034</td>\n",
       "      <td>89676.0</td>\n",
       "      <td>1163058</td>\n",
       "    </tr>\n",
       "    <tr>\n",
       "      <th>4</th>\n",
       "      <td>5747</td>\n",
       "      <td>3443</td>\n",
       "      <td>41119</td>\n",
       "      <td>107866.0</td>\n",
       "      <td>1507817</td>\n",
       "    </tr>\n",
       "    <tr>\n",
       "      <th>5</th>\n",
       "      <td>7789</td>\n",
       "      <td>4762</td>\n",
       "      <td>54618</td>\n",
       "      <td>168849.0</td>\n",
       "      <td>2228598</td>\n",
       "    </tr>\n",
       "    <tr>\n",
       "      <th>6</th>\n",
       "      <td>9110</td>\n",
       "      <td>5430</td>\n",
       "      <td>64885</td>\n",
       "      <td>196909.0</td>\n",
       "      <td>2577962</td>\n",
       "    </tr>\n",
       "    <tr>\n",
       "      <th>7</th>\n",
       "      <td>11402</td>\n",
       "      <td>6784</td>\n",
       "      <td>82079</td>\n",
       "      <td>246014.0</td>\n",
       "      <td>3164469</td>\n",
       "    </tr>\n",
       "    <tr>\n",
       "      <th>8</th>\n",
       "      <td>13856</td>\n",
       "      <td>7887</td>\n",
       "      <td>98995</td>\n",
       "      <td>309240.0</td>\n",
       "      <td>3892583</td>\n",
       "    </tr>\n",
       "    <tr>\n",
       "      <th>9</th>\n",
       "      <td>15482</td>\n",
       "      <td>8714</td>\n",
       "      <td>111439</td>\n",
       "      <td>324036.0</td>\n",
       "      <td>4221858</td>\n",
       "    </tr>\n",
       "    <tr>\n",
       "      <th>10</th>\n",
       "      <td>17629</td>\n",
       "      <td>9906</td>\n",
       "      <td>125284</td>\n",
       "      <td>399717.0</td>\n",
       "      <td>4907170</td>\n",
       "    </tr>\n",
       "    <tr>\n",
       "      <th>11</th>\n",
       "      <td>19435</td>\n",
       "      <td>10748</td>\n",
       "      <td>137544</td>\n",
       "      <td>423253.0</td>\n",
       "      <td>5321705</td>\n",
       "    </tr>\n",
       "    <tr>\n",
       "      <th>12</th>\n",
       "      <td>22406</td>\n",
       "      <td>12095</td>\n",
       "      <td>161275</td>\n",
       "      <td>531015.0</td>\n",
       "      <td>6087145</td>\n",
       "    </tr>\n",
       "    <tr>\n",
       "      <th rowspan=\"12\" valign=\"top\">ultra</th>\n",
       "      <th>1</th>\n",
       "      <td>535</td>\n",
       "      <td>304</td>\n",
       "      <td>3853</td>\n",
       "      <td>17550.0</td>\n",
       "      <td>118272</td>\n",
       "    </tr>\n",
       "    <tr>\n",
       "      <th>2</th>\n",
       "      <td>972</td>\n",
       "      <td>522</td>\n",
       "      <td>6939</td>\n",
       "      <td>43500.0</td>\n",
       "      <td>282632</td>\n",
       "    </tr>\n",
       "    <tr>\n",
       "      <th>3</th>\n",
       "      <td>2504</td>\n",
       "      <td>1195</td>\n",
       "      <td>18117</td>\n",
       "      <td>74550.0</td>\n",
       "      <td>648835</td>\n",
       "    </tr>\n",
       "    <tr>\n",
       "      <th>4</th>\n",
       "      <td>3525</td>\n",
       "      <td>1727</td>\n",
       "      <td>25191</td>\n",
       "      <td>106200.0</td>\n",
       "      <td>922119</td>\n",
       "    </tr>\n",
       "    <tr>\n",
       "      <th>5</th>\n",
       "      <td>4834</td>\n",
       "      <td>2402</td>\n",
       "      <td>33972</td>\n",
       "      <td>130200.0</td>\n",
       "      <td>1259229</td>\n",
       "    </tr>\n",
       "    <tr>\n",
       "      <th>6</th>\n",
       "      <td>5566</td>\n",
       "      <td>3206</td>\n",
       "      <td>40065</td>\n",
       "      <td>163500.0</td>\n",
       "      <td>1531655</td>\n",
       "    </tr>\n",
       "    <tr>\n",
       "      <th>7</th>\n",
       "      <td>6852</td>\n",
       "      <td>4229</td>\n",
       "      <td>49414</td>\n",
       "      <td>184950.0</td>\n",
       "      <td>1799382</td>\n",
       "    </tr>\n",
       "    <tr>\n",
       "      <th>8</th>\n",
       "      <td>7575</td>\n",
       "      <td>4889</td>\n",
       "      <td>54400</td>\n",
       "      <td>212850.0</td>\n",
       "      <td>2018018</td>\n",
       "    </tr>\n",
       "    <tr>\n",
       "      <th>9</th>\n",
       "      <td>8546</td>\n",
       "      <td>5719</td>\n",
       "      <td>61813</td>\n",
       "      <td>222600.0</td>\n",
       "      <td>2119536</td>\n",
       "    </tr>\n",
       "    <tr>\n",
       "      <th>10</th>\n",
       "      <td>9477</td>\n",
       "      <td>6864</td>\n",
       "      <td>68329</td>\n",
       "      <td>242250.0</td>\n",
       "      <td>2368834</td>\n",
       "    </tr>\n",
       "    <tr>\n",
       "      <th>11</th>\n",
       "      <td>10021</td>\n",
       "      <td>7195</td>\n",
       "      <td>72273</td>\n",
       "      <td>267900.0</td>\n",
       "      <td>2533713</td>\n",
       "    </tr>\n",
       "    <tr>\n",
       "      <th>12</th>\n",
       "      <td>11540</td>\n",
       "      <td>8102</td>\n",
       "      <td>82140</td>\n",
       "      <td>283950.0</td>\n",
       "      <td>2907053</td>\n",
       "    </tr>\n",
       "  </tbody>\n",
       "</table>\n",
       "</div>"
      ],
      "text/plain": [
       "              calls  messages  minutes  profit_month  traffics\n",
       "tariff month                                                  \n",
       "smart  1        941       620     6931       24525.0    289482\n",
       "       2       2331      1397    17324       48001.0    672656\n",
       "       3       4183      2453    30034       89676.0   1163058\n",
       "       4       5747      3443    41119      107866.0   1507817\n",
       "       5       7789      4762    54618      168849.0   2228598\n",
       "       6       9110      5430    64885      196909.0   2577962\n",
       "       7      11402      6784    82079      246014.0   3164469\n",
       "       8      13856      7887    98995      309240.0   3892583\n",
       "       9      15482      8714   111439      324036.0   4221858\n",
       "       10     17629      9906   125284      399717.0   4907170\n",
       "       11     19435     10748   137544      423253.0   5321705\n",
       "       12     22406     12095   161275      531015.0   6087145\n",
       "ultra  1        535       304     3853       17550.0    118272\n",
       "       2        972       522     6939       43500.0    282632\n",
       "       3       2504      1195    18117       74550.0    648835\n",
       "       4       3525      1727    25191      106200.0    922119\n",
       "       5       4834      2402    33972      130200.0   1259229\n",
       "       6       5566      3206    40065      163500.0   1531655\n",
       "       7       6852      4229    49414      184950.0   1799382\n",
       "       8       7575      4889    54400      212850.0   2018018\n",
       "       9       8546      5719    61813      222600.0   2119536\n",
       "       10      9477      6864    68329      242250.0   2368834\n",
       "       11     10021      7195    72273      267900.0   2533713\n",
       "       12     11540      8102    82140      283950.0   2907053"
      ]
     },
     "execution_count": 51,
     "metadata": {},
     "output_type": "execute_result"
    }
   ],
   "source": [
    "#сводная таблица с расчетом количества звонков, длительности звонков, количеством сообщений, трафику и выручки по месяцам\n",
    "df_profit_month = df_profit_user.pivot_table(index=['tariff', 'month'], \n",
    "                                             values=['calls', 'minutes', 'messages', 'traffics', 'profit_month'], \n",
    "                                             aggfunc = sum)\n",
    "df_profit_month.head(25)"
   ]
  },
  {
   "cell_type": "markdown",
   "metadata": {},
   "source": [
    "Сделам срезы по тарифу:"
   ]
  },
  {
   "cell_type": "code",
   "execution_count": 52,
   "metadata": {},
   "outputs": [],
   "source": [
    "df_profit_month_smart = df_profit_month.query('tariff == \"smart\"') # для тарифа \"smart\"\n",
    "df_profit_month_ultra = df_profit_month.query('tariff == \"ultra\"')# для тарифа \"ultra\""
   ]
  },
  {
   "cell_type": "markdown",
   "metadata": {},
   "source": [
    "Строим гистограммы для тарифов по месяцам. Для удобства отображения построим графики в одной области. Важно помнить, что между собой гистограммы нельзя сравнивать из-за разницы записей в выборке.<br>\n",
    "В тарифе \"smart\" - 2222 записи. В тарифе \"ultra\" - 941."
   ]
  },
  {
   "cell_type": "code",
   "execution_count": 53,
   "metadata": {},
   "outputs": [
    {
     "data": {
      "image/png": "[encoded data removed]",
      "text/plain": [
       "<Figure size 720x360 with 1 Axes>"
      ]
     },
     "metadata": {
      "needs_background": "light"
     },
     "output_type": "display_data"
    }
   ],
   "source": [
    "# график по сводной таблице по значениям столбцов \"month\" месяц и количеством звонков \"calls\"\n",
    "\n",
    "# график тарифа \"smart\" \n",
    "ax = (\n",
    "   df_profit_month_smart.pivot_table(index=['month'], values=['calls'])\n",
    "    .plot(title='Тариф \"smart\"', kind='bar', grid=True, figsize=(10, 5), color = 'lightcoral')\n",
    ")\n",
    "\n",
    "# график тарифа \"ultra\"\n",
    "df = (\n",
    "   df_profit_month_ultra.pivot_table(index=['month'], values=['calls'])\n",
    "    .plot(ax=ax, title='Тариф \"ultra\"', kind='bar', grid=True, figsize=(10, 5), color = '#80B3FF', align='edge')\n",
    ")\n",
    "\n",
    "plt.xlabel(\"Месяц\")\n",
    "plt.ylabel(\"Количество звонков\")\n",
    "plt.title('Количество звонков по месяцам для тарифов \"ultra\" и \"smart\"')\n",
    "plt.legend(['Звонки в тарифе \"smart\"', 'Звонки в тарифе \"ultra\"'])\n",
    "plt.show()"
   ]
  },
  {
   "cell_type": "code",
   "execution_count": 54,
   "metadata": {},
   "outputs": [
    {
     "data": {
      "image/png": "[encoded data removed]",
      "text/plain": [
       "<Figure size 720x360 with 1 Axes>"
      ]
     },
     "metadata": {
      "needs_background": "light"
     },
     "output_type": "display_data"
    }
   ],
   "source": [
    "# график по сводной таблице по значениям столбцов \"month\" месяц и суммарным количеством минут \"minutes\"\n",
    "\n",
    "# график тарифа \"smart\" \n",
    "ax=(\n",
    "   df_profit_month_smart.pivot_table(index=['month'], values=['minutes'])\n",
    "    .plot(title='Тариф \"smart\"', kind='bar', grid=True, figsize=(10, 5), color = 'red')\n",
    ")\n",
    "\n",
    "# график тарифа \"ultra\"\n",
    "(\n",
    "   df_profit_month_ultra.pivot_table(index=['month'], values=['minutes'])\n",
    "    .plot(ax=ax, title='Тариф \"ultra\"', kind='bar', grid=True, figsize=(10, 5), color = 'green', align='edge')\n",
    ")\n",
    "\n",
    "plt.xlabel(\"Месяц\")\n",
    "plt.ylabel(\"Количество минут\")\n",
    "plt.title('Количество минут по месяцам для тарифов \"ultra\" и \"smart\"')\n",
    "plt.legend(['Минуты в тарифе \"smart\"', 'Минуты в тарифе \"ultra\"'])\n",
    "plt.show()"
   ]
  },
  {
   "cell_type": "code",
   "execution_count": 55,
   "metadata": {},
   "outputs": [
    {
     "data": {
      "image/png": "[encoded data removed]",
      "text/plain": [
       "<Figure size 720x360 with 1 Axes>"
      ]
     },
     "metadata": {
      "needs_background": "light"
     },
     "output_type": "display_data"
    }
   ],
   "source": [
    "# график по сводной таблице по значениям столбцов \"month\" месяц и количеством сообщений \"messages\"\n",
    "\n",
    "# график тарифа \"smart\" \n",
    "ax = (\n",
    "   df_profit_month_smart.pivot_table(index=['month'], values=['messages'])\n",
    "    .plot(title='Тариф \"smart\"', kind='bar', grid=True, figsize=(10, 5), color = 'orange')\n",
    ")\n",
    "\n",
    "# график тарифа \"ultra\"\n",
    "df = (\n",
    "   df_profit_month_ultra.pivot_table(index=['month'], values=['messages'])\n",
    "    .plot(ax=ax, title='Тариф \"ultra\"', kind='bar', grid=True, figsize=(10, 5), color = 'blue', align='edge')\n",
    ")\n",
    "\n",
    "plt.xlabel(\"Месяц\")\n",
    "plt.ylabel(\"Количество сообщений\")\n",
    "plt.title('Количество сообщений по месяцам для тарифов \"ultra\" и \"smart\"')\n",
    "plt.legend(['Сообщения в тарифе \"ultra\"', 'Сообщения в тарифе \"smart\"'])\n",
    "plt.show()"
   ]
  },
  {
   "cell_type": "code",
   "execution_count": 56,
   "metadata": {},
   "outputs": [
    {
     "data": {
      "image/png": "[encoded data removed]",
      "text/plain": [
       "<Figure size 720x360 with 1 Axes>"
      ]
     },
     "metadata": {
      "needs_background": "light"
     },
     "output_type": "display_data"
    }
   ],
   "source": [
    "# график по сводной таблице по значениям столбцов \"month\" месяц и количеством интернет-трафика \"traffics\"\n",
    "\n",
    "# график тарифа \"smart\" с одновременным отображением графика тарифа \"ultra\"\n",
    "ax = (\n",
    "   df_profit_month_smart.pivot_table(index=['month'], values=['traffics'])\n",
    "    .plot(title='Тариф \"smart\"', kind='bar', grid=True, figsize=(10, 5), color = 'wheat')\n",
    ")\n",
    "\n",
    "# график тарифа \"ultra\"\n",
    "df = (\n",
    "   df_profit_month_ultra.pivot_table(index=['month'], values=['traffics'])\n",
    "    .plot(ax=ax, title='Тариф \"ultra\"', kind='bar', grid=True, figsize=(10, 5), color = 'darkcyan', align='edge')\n",
    ")\n",
    "\n",
    "plt.xlabel(\"Месяц\")\n",
    "plt.ylabel(\"Количество интернет-трафика\")\n",
    "plt.title('Количество потраченного интернет-трафика по месяцам для тарифов \"ultra\" и \"smart\"')\n",
    "plt.legend(['Интернет-трафик в тарифе \"smart\"', 'Интернет-трафик в тарифе \"ultra\"'])\n",
    "plt.show()"
   ]
  },
  {
   "cell_type": "code",
   "execution_count": 57,
   "metadata": {},
   "outputs": [
    {
     "data": {
      "image/png": "[encoded data removed]",
      "text/plain": [
       "<Figure size 720x360 with 1 Axes>"
      ]
     },
     "metadata": {
      "needs_background": "light"
     },
     "output_type": "display_data"
    }
   ],
   "source": [
    "# график по сводной таблице по значениям столбцов \"month\" месяц и выручки \"profit_month\"\n",
    "\n",
    "# график тарифа \"smart\" \n",
    "ax = (\n",
    "   df_profit_month_smart.pivot_table(index=['month'], values=['profit_month'])\n",
    "    .plot(title='Тариф \"smart\"', kind='bar', grid=True, figsize=(10, 5), color = 'tomato')\n",
    ")\n",
    "\n",
    "# график тарифа \"ultra\"\n",
    "df = (\n",
    "   df_profit_month_ultra.pivot_table(index=['month'], values=['profit_month'])\n",
    "    .plot(ax = ax, title='Тариф \"ultra\"', kind='bar', grid=True, figsize=(10, 5), color = 'khaki',align='edge')\n",
    ")\n",
    "\n",
    "plt.xlabel(\"Месяц\")\n",
    "plt.ylabel(\"Выручка\")\n",
    "plt.title('Выручка по месяцам для тарифов \"ultra\" и \"smart\"')\n",
    "plt.legend(['Минуты в тарифе \"smart\"', 'Минуты в тарифе \"ultra\"'])\n",
    "plt.show()"
   ]
  },
  {
   "cell_type": "markdown",
   "metadata": {},
   "source": [
    "Общее для всех графиков то, что они практически линейно растут от начала года и до конца. Это общая картина для пользователей всех тарифов. Растут показатели по всем пунктам: количество звонков, длительность разговоров, сообщения и использованный интернет-трафик. И как следствие - растет выручка. Трудно объяснить, с чем связано такое практически линейное изменение параметров. Надо сравнивать не только этот год, но и период до и после. Возможно, что это не типичное изменение и требуется более детальный анализ."
   ]
  },
  {
   "cell_type": "markdown",
   "metadata": {},
   "source": [
    "Посчитаем среднее количество, дисперсию и стандартное отклонение по пользователям для каждого тарифа:"
   ]
  },
  {
   "cell_type": "code",
   "execution_count": 58,
   "metadata": {},
   "outputs": [
    {
     "data": {
      "text/html": [
       "<div>\n",
       "<style scoped>\n",
       "    .dataframe tbody tr th:only-of-type {\n",
       "        vertical-align: middle;\n",
       "    }\n",
       "\n",
       "    .dataframe tbody tr th {\n",
       "        vertical-align: top;\n",
       "    }\n",
       "\n",
       "    .dataframe thead th {\n",
       "        text-align: right;\n",
       "    }\n",
       "</style>\n",
       "<table border=\"1\" class=\"dataframe\">\n",
       "  <thead>\n",
       "    <tr style=\"text-align: right;\">\n",
       "      <th></th>\n",
       "      <th>calls</th>\n",
       "      <th>messages</th>\n",
       "      <th>minutes</th>\n",
       "      <th>profit_month</th>\n",
       "      <th>traffics</th>\n",
       "    </tr>\n",
       "    <tr>\n",
       "      <th>tariff</th>\n",
       "      <th></th>\n",
       "      <th></th>\n",
       "      <th></th>\n",
       "      <th></th>\n",
       "      <th></th>\n",
       "    </tr>\n",
       "  </thead>\n",
       "  <tbody>\n",
       "    <tr>\n",
       "      <th>smart</th>\n",
       "      <td>58.645815</td>\n",
       "      <td>33.410891</td>\n",
       "      <td>419.229073</td>\n",
       "      <td>1291.224572</td>\n",
       "      <td>16217.148065</td>\n",
       "    </tr>\n",
       "    <tr>\n",
       "      <th>ultra</th>\n",
       "      <td>76.458023</td>\n",
       "      <td>49.260361</td>\n",
       "      <td>548.890542</td>\n",
       "      <td>2072.263549</td>\n",
       "      <td>19669.795962</td>\n",
       "    </tr>\n",
       "  </tbody>\n",
       "</table>\n",
       "</div>"
      ],
      "text/plain": [
       "            calls   messages     minutes  profit_month      traffics\n",
       "tariff                                                              \n",
       "smart   58.645815  33.410891  419.229073   1291.224572  16217.148065\n",
       "ultra   76.458023  49.260361  548.890542   2072.263549  19669.795962"
      ]
     },
     "metadata": {},
     "output_type": "display_data"
    }
   ],
   "source": [
    "# таблица для отображения среднего значения\n",
    "df_mean = df_profit_user.pivot_table(index=['tariff'], \n",
    "                                 values=['calls', 'minutes', 'messages', 'traffics', 'profit_month'], \n",
    "                                 aggfunc = 'mean')\n",
    "display(df_mean)"
   ]
  },
  {
   "cell_type": "code",
   "execution_count": 59,
   "metadata": {},
   "outputs": [
    {
     "data": {
      "text/html": [
       "<div>\n",
       "<style scoped>\n",
       "    .dataframe tbody tr th:only-of-type {\n",
       "        vertical-align: middle;\n",
       "    }\n",
       "\n",
       "    .dataframe tbody tr th {\n",
       "        vertical-align: top;\n",
       "    }\n",
       "\n",
       "    .dataframe thead th {\n",
       "        text-align: right;\n",
       "    }\n",
       "</style>\n",
       "<table border=\"1\" class=\"dataframe\">\n",
       "  <thead>\n",
       "    <tr style=\"text-align: right;\">\n",
       "      <th></th>\n",
       "      <th>calls</th>\n",
       "      <th>messages</th>\n",
       "      <th>minutes</th>\n",
       "      <th>profit_month</th>\n",
       "      <th>traffics</th>\n",
       "    </tr>\n",
       "    <tr>\n",
       "      <th>tariff</th>\n",
       "      <th></th>\n",
       "      <th></th>\n",
       "      <th></th>\n",
       "      <th></th>\n",
       "      <th></th>\n",
       "    </tr>\n",
       "  </thead>\n",
       "  <tbody>\n",
       "    <tr>\n",
       "      <th>smart</th>\n",
       "      <td>664.394532</td>\n",
       "      <td>798.482601</td>\n",
       "      <td>35798.973616</td>\n",
       "      <td>671012.168815</td>\n",
       "      <td>3.442765e+07</td>\n",
       "    </tr>\n",
       "    <tr>\n",
       "      <th>ultra</th>\n",
       "      <td>1796.569779</td>\n",
       "      <td>2215.224693</td>\n",
       "      <td>94015.427368</td>\n",
       "      <td>145336.253872</td>\n",
       "      <td>9.957141e+07</td>\n",
       "    </tr>\n",
       "  </tbody>\n",
       "</table>\n",
       "</div>"
      ],
      "text/plain": [
       "              calls     messages       minutes   profit_month      traffics\n",
       "tariff                                                                     \n",
       "smart    664.394532   798.482601  35798.973616  671012.168815  3.442765e+07\n",
       "ultra   1796.569779  2215.224693  94015.427368  145336.253872  9.957141e+07"
      ]
     },
     "metadata": {},
     "output_type": "display_data"
    }
   ],
   "source": [
    "# таблица для отображения дисперсии\n",
    "df_variance = df_profit_user.pivot_table(index=['tariff'], \n",
    "                                 values=['calls', 'minutes', 'messages', 'profit_month', 'traffics'], \n",
    "                                 aggfunc = np.var)\n",
    "display(df_variance)"
   ]
  },
  {
   "cell_type": "code",
   "execution_count": 60,
   "metadata": {},
   "outputs": [
    {
     "data": {
      "text/html": [
       "<div>\n",
       "<style scoped>\n",
       "    .dataframe tbody tr th:only-of-type {\n",
       "        vertical-align: middle;\n",
       "    }\n",
       "\n",
       "    .dataframe tbody tr th {\n",
       "        vertical-align: top;\n",
       "    }\n",
       "\n",
       "    .dataframe thead th {\n",
       "        text-align: right;\n",
       "    }\n",
       "</style>\n",
       "<table border=\"1\" class=\"dataframe\">\n",
       "  <thead>\n",
       "    <tr style=\"text-align: right;\">\n",
       "      <th></th>\n",
       "      <th>calls</th>\n",
       "      <th>messages</th>\n",
       "      <th>minutes</th>\n",
       "      <th>profit_month</th>\n",
       "      <th>traffics</th>\n",
       "    </tr>\n",
       "    <tr>\n",
       "      <th>tariff</th>\n",
       "      <th></th>\n",
       "      <th></th>\n",
       "      <th></th>\n",
       "      <th></th>\n",
       "      <th></th>\n",
       "    </tr>\n",
       "  </thead>\n",
       "  <tbody>\n",
       "    <tr>\n",
       "      <th>smart</th>\n",
       "      <td>25.775852</td>\n",
       "      <td>28.257434</td>\n",
       "      <td>189.206167</td>\n",
       "      <td>819.153324</td>\n",
       "      <td>5867.507993</td>\n",
       "    </tr>\n",
       "    <tr>\n",
       "      <th>ultra</th>\n",
       "      <td>42.385962</td>\n",
       "      <td>47.066174</td>\n",
       "      <td>306.619353</td>\n",
       "      <td>381.229923</td>\n",
       "      <td>9978.547461</td>\n",
       "    </tr>\n",
       "  </tbody>\n",
       "</table>\n",
       "</div>"
      ],
      "text/plain": [
       "            calls   messages     minutes  profit_month     traffics\n",
       "tariff                                                             \n",
       "smart   25.775852  28.257434  189.206167    819.153324  5867.507993\n",
       "ultra   42.385962  47.066174  306.619353    381.229923  9978.547461"
      ]
     },
     "metadata": {},
     "output_type": "display_data"
    }
   ],
   "source": [
    "# таблица для отображения стандартного отклонения\n",
    "df_s_deviation = df_profit_user.pivot_table(index=['tariff'], \n",
    "                                 values=['calls', 'minutes', 'messages', 'traffics', 'profit_month'], \n",
    "                                 aggfunc = np.std)\n",
    "display(df_s_deviation)"
   ]
  },
  {
   "cell_type": "markdown",
   "metadata": {},
   "source": [
    "Вывод по результатам всех трех показателей следующий:<br>\n",
    "пользователи тарифа \"ultra\" более активно пользуются всеми услугами, чем пользователи тарифа \"smart\".<br>\n",
    "Однако необходимо помнить, что размер выборов разный. Поэтому у тарифа \"ultra\" большая дисперсия, чем у тарифа \"smart\".\n",
    "Пользователи тарифа \"ultra\" менее зависимы по ограничению количеству минут и сообщений. Т.к. большая часть пользуется возможностью позвонить или отправить сообщение через интернет. В свою очередь пользователи тарифа \"smart\" страются более экономно тратить услуги, чтобы не было превышения лимита."
   ]
  },
  {
   "cell_type": "markdown",
   "metadata": {},
   "source": [
    "Построим частотные гистограммы для сводной таблицы по тарифу для всех пользователей: "
   ]
  },
  {
   "cell_type": "code",
   "execution_count": 61,
   "metadata": {},
   "outputs": [
    {
     "data": {
      "text/html": [
       "<div>\n",
       "<style scoped>\n",
       "    .dataframe tbody tr th:only-of-type {\n",
       "        vertical-align: middle;\n",
       "    }\n",
       "\n",
       "    .dataframe tbody tr th {\n",
       "        vertical-align: top;\n",
       "    }\n",
       "\n",
       "    .dataframe thead th {\n",
       "        text-align: right;\n",
       "    }\n",
       "</style>\n",
       "<table border=\"1\" class=\"dataframe\">\n",
       "  <thead>\n",
       "    <tr style=\"text-align: right;\">\n",
       "      <th></th>\n",
       "      <th>tariff</th>\n",
       "      <th>user_id</th>\n",
       "      <th>calls</th>\n",
       "      <th>messages</th>\n",
       "      <th>minutes</th>\n",
       "      <th>profit_month</th>\n",
       "      <th>traffics</th>\n",
       "    </tr>\n",
       "  </thead>\n",
       "  <tbody>\n",
       "    <tr>\n",
       "      <th>0</th>\n",
       "      <td>smart</td>\n",
       "      <td>1001</td>\n",
       "      <td>122</td>\n",
       "      <td>0</td>\n",
       "      <td>844</td>\n",
       "      <td>1700.0</td>\n",
       "      <td>32467</td>\n",
       "    </tr>\n",
       "    <tr>\n",
       "      <th>1</th>\n",
       "      <td>smart</td>\n",
       "      <td>1002</td>\n",
       "      <td>217</td>\n",
       "      <td>70</td>\n",
       "      <td>1517</td>\n",
       "      <td>7250.0</td>\n",
       "      <td>116041</td>\n",
       "    </tr>\n",
       "    <tr>\n",
       "      <th>2</th>\n",
       "      <td>smart</td>\n",
       "      <td>1005</td>\n",
       "      <td>888</td>\n",
       "      <td>552</td>\n",
       "      <td>6605</td>\n",
       "      <td>9924.0</td>\n",
       "      <td>99692</td>\n",
       "    </tr>\n",
       "    <tr>\n",
       "      <th>3</th>\n",
       "      <td>smart</td>\n",
       "      <td>1006</td>\n",
       "      <td>506</td>\n",
       "      <td>0</td>\n",
       "      <td>3501</td>\n",
       "      <td>10250.0</td>\n",
       "      <td>164194</td>\n",
       "    </tr>\n",
       "    <tr>\n",
       "      <th>4</th>\n",
       "      <td>smart</td>\n",
       "      <td>1007</td>\n",
       "      <td>612</td>\n",
       "      <td>225</td>\n",
       "      <td>4379</td>\n",
       "      <td>8221.0</td>\n",
       "      <td>131631</td>\n",
       "    </tr>\n",
       "    <tr>\n",
       "      <th>...</th>\n",
       "      <td>...</td>\n",
       "      <td>...</td>\n",
       "      <td>...</td>\n",
       "      <td>...</td>\n",
       "      <td>...</td>\n",
       "      <td>...</td>\n",
       "      <td>...</td>\n",
       "    </tr>\n",
       "    <tr>\n",
       "      <th>486</th>\n",
       "      <td>ultra</td>\n",
       "      <td>1476</td>\n",
       "      <td>549</td>\n",
       "      <td>45</td>\n",
       "      <td>4204</td>\n",
       "      <td>15600.0</td>\n",
       "      <td>149759</td>\n",
       "    </tr>\n",
       "    <tr>\n",
       "      <th>487</th>\n",
       "      <td>ultra</td>\n",
       "      <td>1485</td>\n",
       "      <td>94</td>\n",
       "      <td>155</td>\n",
       "      <td>584</td>\n",
       "      <td>1950.0</td>\n",
       "      <td>23423</td>\n",
       "    </tr>\n",
       "    <tr>\n",
       "      <th>488</th>\n",
       "      <td>ultra</td>\n",
       "      <td>1491</td>\n",
       "      <td>648</td>\n",
       "      <td>432</td>\n",
       "      <td>4620</td>\n",
       "      <td>17550.0</td>\n",
       "      <td>161466</td>\n",
       "    </tr>\n",
       "    <tr>\n",
       "      <th>489</th>\n",
       "      <td>ultra</td>\n",
       "      <td>1493</td>\n",
       "      <td>110</td>\n",
       "      <td>94</td>\n",
       "      <td>744</td>\n",
       "      <td>5700.0</td>\n",
       "      <td>54421</td>\n",
       "    </tr>\n",
       "    <tr>\n",
       "      <th>490</th>\n",
       "      <td>ultra</td>\n",
       "      <td>1495</td>\n",
       "      <td>565</td>\n",
       "      <td>340</td>\n",
       "      <td>3920</td>\n",
       "      <td>11550.0</td>\n",
       "      <td>127414</td>\n",
       "    </tr>\n",
       "  </tbody>\n",
       "</table>\n",
       "<p>491 rows × 7 columns</p>\n",
       "</div>"
      ],
      "text/plain": [
       "    tariff  user_id  calls  messages  minutes  profit_month  traffics\n",
       "0    smart     1001    122         0      844        1700.0     32467\n",
       "1    smart     1002    217        70     1517        7250.0    116041\n",
       "2    smart     1005    888       552     6605        9924.0     99692\n",
       "3    smart     1006    506         0     3501       10250.0    164194\n",
       "4    smart     1007    612       225     4379        8221.0    131631\n",
       "..     ...      ...    ...       ...      ...           ...       ...\n",
       "486  ultra     1476    549        45     4204       15600.0    149759\n",
       "487  ultra     1485     94       155      584        1950.0     23423\n",
       "488  ultra     1491    648       432     4620       17550.0    161466\n",
       "489  ultra     1493    110        94      744        5700.0     54421\n",
       "490  ultra     1495    565       340     3920       11550.0    127414\n",
       "\n",
       "[491 rows x 7 columns]"
      ]
     },
     "metadata": {},
     "output_type": "display_data"
    }
   ],
   "source": [
    "# сводная таблица для построения частотных гистограмм\n",
    "df_for_hist = df_profit_user.pivot_table(index=['tariff', 'user_id'], \n",
    "                                         values=['calls', 'messages', 'minutes', 'profit_month', 'traffics'], \n",
    "                                         aggfunc=sum)\n",
    "df_for_hist.reset_index(inplace=True)\n",
    "display(df_for_hist)"
   ]
  },
  {
   "cell_type": "code",
   "execution_count": 62,
   "metadata": {},
   "outputs": [
    {
     "data": {
      "image/png": "[encoded data removed]",
      "text/plain": [
       "<Figure size 720x360 with 1 Axes>"
      ]
     },
     "metadata": {
      "needs_background": "light"
     },
     "output_type": "display_data"
    },
    {
     "data": {
      "image/png": "[encoded data removed]",
      "text/plain": [
       "<Figure size 720x360 with 1 Axes>"
      ]
     },
     "metadata": {
      "needs_background": "light"
     },
     "output_type": "display_data"
    }
   ],
   "source": [
    "# строим гистограмму по количеству звонков пользователей для каждого тарифа \n",
    "\n",
    "# тариф \"smart\"\n",
    "df_for_hist[df_for_hist['tariff']=='smart']['calls'].plot(kind='hist',\n",
    "                          histtype='step',\n",
    "                          bins=100,\n",
    "                          linewidth=2,\n",
    "                          alpha=0.7,\n",
    "                          grid=True,\n",
    "                          legend=True,\n",
    "                          figsize=(10, 5)\n",
    ")\n",
    "plt.title('Пользователи тарифа \"smart\"')\n",
    "plt.legend(['Количество звонков в тарифе \"smart\"'])\n",
    "plt.show()\n",
    "\n",
    "# тариф \"ultra\"\n",
    "df_for_hist[df_for_hist['tariff']=='ultra']['calls'].plot(kind='hist',\n",
    "                          histtype='step',\n",
    "                          bins=90,\n",
    "                          linewidth=2,                                           \n",
    "                          alpha=0.7,\n",
    "                          grid=True,\n",
    "                          legend=True,\n",
    "                          figsize=(10, 5)\n",
    ")\n",
    "plt.title('Пользователи тарифа \"ultra\"')\n",
    "plt.legend(['Количество звонков в тарифе \"ultra\"'])\n",
    "plt.show() "
   ]
  },
  {
   "cell_type": "markdown",
   "metadata": {},
   "source": [
    "Т.к. дисперсия у тарифа \"ultra\" больше, то хвост длиннее, чем у тарифа \"smart\"."
   ]
  },
  {
   "cell_type": "markdown",
   "metadata": {},
   "source": [
    "Количество звонков: Пик по тарифу \"smart\" приходится на 190, у тарифа \"ultra\" - около 130. Вполне логично, т.к. у тарифа \"ultra\" пользователи чаще заменяют обычный звонок, на звонок через интернет."
   ]
  },
  {
   "cell_type": "code",
   "execution_count": 63,
   "metadata": {},
   "outputs": [
    {
     "data": {
      "image/png": "[encoded data removed]",
      "text/plain": [
       "<Figure size 720x360 with 1 Axes>"
      ]
     },
     "metadata": {
      "needs_background": "light"
     },
     "output_type": "display_data"
    },
    {
     "data": {
      "image/png": "[encoded data removed]",
      "text/plain": [
       "<Figure size 720x360 with 1 Axes>"
      ]
     },
     "metadata": {
      "needs_background": "light"
     },
     "output_type": "display_data"
    }
   ],
   "source": [
    "# строим гистограмму по длительности звонков пользователей для каждого тарифа \n",
    "\n",
    "# тариф \"smart\"\n",
    "df_for_hist[df_for_hist['tariff']=='smart']['minutes'].plot(kind='hist',\n",
    "                          histtype='step',\n",
    "                          bins=90,\n",
    "                          linewidth=2,\n",
    "                          alpha=0.7,\n",
    "                          grid=True,\n",
    "                          legend=True,\n",
    "                          figsize=(10, 5)\n",
    ")\n",
    "plt.title('Пользователи тарифа \"smart\"')\n",
    "plt.legend(['Длительность звонков в тарифе \"smart\"'])\n",
    "plt.show() \n",
    "\n",
    "# тариф \"ultra\"\n",
    "df_for_hist[df_for_hist['tariff']=='ultra']['minutes'].plot(kind='hist',\n",
    "                          histtype='step',\n",
    "                          bins=90,\n",
    "                          linewidth=2,\n",
    "                          alpha=0.7,\n",
    "                          grid=True,\n",
    "                          legend=True,\n",
    "                          figsize=(10, 5)\n",
    ")\n",
    "plt.title('Пользователи тарифа \"ultra\"')\n",
    "plt.legend(['Длительность звонков в тарифе \"ultra\"'])\n",
    "plt.show() "
   ]
  },
  {
   "cell_type": "markdown",
   "metadata": {},
   "source": [
    "Продолжительность звонков: в целом у пользователей тарифа \"smart\" больше пиковых значений. Основной в районе 1500 минут, а два других около 300-350 и 3500 минут. У пользователей тарифа \"ultra\" один ярко выраженный пик - около 900-1000 минут. Есть несколь небольших пиков в районе 800 минут и  5000 минут.\n",
    "В основном пользователи тарифа \"smart\" выговаривают около 6000 минут в год, а пользователи тарифа \"ultra\" - 8000 минут. Это можно объяснить еще тем, что в пользователей тарифа \"ultra\" в пакете 3000 минут, что в 6 раз больше, чем у тарифа \"smart\" - 500 минут. "
   ]
  },
  {
   "cell_type": "code",
   "execution_count": 64,
   "metadata": {},
   "outputs": [
    {
     "data": {
      "image/png": "[encoded data removed]",
      "text/plain": [
       "<Figure size 720x360 with 1 Axes>"
      ]
     },
     "metadata": {
      "needs_background": "light"
     },
     "output_type": "display_data"
    },
    {
     "data": {
      "image/png": "[encoded data removed]",
      "text/plain": [
       "<Figure size 720x360 with 1 Axes>"
      ]
     },
     "metadata": {
      "needs_background": "light"
     },
     "output_type": "display_data"
    }
   ],
   "source": [
    "# строим гистограмму по количеству сообщений пользователей для каждого тарифа \n",
    "\n",
    "# тариф \"smart\"\n",
    "df_for_hist[df_for_hist['tariff']=='smart']['messages'].plot(kind='hist',\n",
    "                          histtype='step',\n",
    "                          bins=90,\n",
    "                          linewidth=2,\n",
    "                          alpha=0.7,\n",
    "                          grid=True,\n",
    "                          legend=True,\n",
    "                          figsize=(10, 5)\n",
    ")\n",
    "plt.title('Пользователи тарифа \"smart\"')\n",
    "plt.legend(['Количество сообщений в тарифе \"smart\"'])\n",
    "plt.show() \n",
    "\n",
    "# тариф \"ultra\"\n",
    "df_for_hist[df_for_hist['tariff']=='ultra']['messages'].plot(kind='hist',\n",
    "                          histtype='step',\n",
    "                          bins=90,\n",
    "                          linewidth=2,\n",
    "                          alpha=0.7,\n",
    "                          grid=True,\n",
    "                          legend=True,\n",
    "                          figsize=(10, 5)\n",
    ")\n",
    "plt.title('Пользователи тарифа \"ultra\"')\n",
    "plt.legend(['Количество сообщений в тарифе \"ultra\"'])\n",
    "plt.show() "
   ]
  },
  {
   "cell_type": "markdown",
   "metadata": {},
   "source": [
    "Количество сообщений: в обоих тарифах самые высокие значения приходятся в нулевом значении. Конечно, на этапе предпоготовки данных из-за большого количества пропусков в сообщениях была произведена замена на ноль, это повлияло на итоговый график. Но из-за ограниченности возможностей самих сообщений, пользователи предпочитают использовать мессенджеры."
   ]
  },
  {
   "cell_type": "code",
   "execution_count": 65,
   "metadata": {},
   "outputs": [
    {
     "data": {
      "image/png": "[encoded data removed]",
      "text/plain": [
       "<Figure size 720x360 with 1 Axes>"
      ]
     },
     "metadata": {
      "needs_background": "light"
     },
     "output_type": "display_data"
    },
    {
     "data": {
      "image/png": "[encoded data removed]",
      "text/plain": [
       "<Figure size 720x360 with 1 Axes>"
      ]
     },
     "metadata": {
      "needs_background": "light"
     },
     "output_type": "display_data"
    }
   ],
   "source": [
    "# строим гистограмму по использованному интернет-трафику пользователей для каждого тарифа \n",
    "\n",
    "# тариф \"smart\"\n",
    "df_for_hist[df_for_hist['tariff']=='smart']['traffics'].plot(kind='hist',\n",
    "                          histtype='step',\n",
    "                          bins=90,\n",
    "                          linewidth=2,\n",
    "                          alpha=0.7,\n",
    "                          grid=True,\n",
    "                          legend=True,\n",
    "                          figsize=(10, 5)\n",
    ")\n",
    "plt.title('Пользователи тарифа \"smart\"')\n",
    "plt.legend(['Интернет-трафик в тарифе \"smart\"'])\n",
    "plt.show() \n",
    "\n",
    "# тариф \"ultra\"\n",
    "df_for_hist[df_for_hist['tariff']=='ultra']['traffics'].plot(kind='hist',\n",
    "                          histtype='step',\n",
    "                          bins=90,\n",
    "                          linewidth=2,\n",
    "                          alpha=0.7,\n",
    "                          grid=True,\n",
    "                          legend=True,\n",
    "                          figsize=(10, 5)\n",
    ")\n",
    "plt.title('Пользователи тарифа \"ultra\"')\n",
    "plt.legend(['Интернет-трафик в тарифе \"ultra\"'])\n",
    "plt.show() "
   ]
  },
  {
   "cell_type": "markdown",
   "metadata": {},
   "source": [
    "Интернет-трафик: у пользователей тарифа \"smart\" более равномерные пики. Два основных находятся около 15000 мб и 125000 мб. Наличие большего количества пиков у пользователей тарифа \"smart\" можно объяснить тем, что из-за ограниченности пакета предпочитают интернет-трафик. При этом довольно часто выходят за рамки положенного лимита. И спад после 200000 мб. У пользователей тарифа \"ultra\" два больших пика: в районе 100000 мб и 200000 мб. Здесь ситуация отличается. Вероятно, из-за того, что объем интернет трафика больше, чем у тарифа \"smart\" и цена за превышенный лимит меньше (150 против 200 р/Гб), клиенты тарифа \"ultra\" реже выходят за пределы тарифного плана. "
   ]
  },
  {
   "cell_type": "code",
   "execution_count": 66,
   "metadata": {},
   "outputs": [
    {
     "data": {
      "image/png": "[encoded data removed]",
      "text/plain": [
       "<Figure size 720x360 with 1 Axes>"
      ]
     },
     "metadata": {
      "needs_background": "light"
     },
     "output_type": "display_data"
    },
    {
     "data": {
      "image/png": "[encoded data removed]",
      "text/plain": [
       "<Figure size 720x360 with 1 Axes>"
      ]
     },
     "metadata": {
      "needs_background": "light"
     },
     "output_type": "display_data"
    }
   ],
   "source": [
    "# строим гистограмму по выручке для каждого тарифа \n",
    "\n",
    "# тариф \"smart\"\n",
    "df_for_hist[df_for_hist['tariff']=='smart']['profit_month'].plot(kind='hist',\n",
    "                          histtype='step',\n",
    "                          bins=90,\n",
    "                          linewidth=2,\n",
    "                          alpha=0.7,\n",
    "                          grid=True,\n",
    "                          legend=True,\n",
    "                          figsize=(10, 5)\n",
    ")\n",
    "plt.title('Пользователи тарифа \"smart\"')\n",
    "plt.legend(['Интернет-трафик в тарифе \"smart\"'])\n",
    "plt.show() \n",
    "\n",
    "# тариф \"ultra\"\n",
    "df_for_hist[df_for_hist['tariff']=='ultra']['profit_month'].plot(kind='hist',\n",
    "                          histtype='step',\n",
    "                          bins=90,\n",
    "                          linewidth=2,\n",
    "                          alpha=0.7,\n",
    "                          grid=True,\n",
    "                          legend=True,\n",
    "                          figsize=(10, 5)\n",
    ")\n",
    "plt.title('Пользователи тарифа \"ultra\"')\n",
    "plt.legend(['Интернет-трафик в тарифе \"ultra\"'])\n",
    "plt.show() "
   ]
  },
  {
   "cell_type": "markdown",
   "metadata": {},
   "source": [
    "Итоговый счет: на графике пользователей тарифа \"smart\" максимальный пик около 10000 руб в год. В то время как теоретическая годовая стоимость по тарифу - 6600 руб. Это говорит о том, что пользователи этого тарифа так или иначе выходят за пределы пакета. Скорее всего за счет перерасхода интернет-трафика, а вот по минутам такого перерасхода нет - в пределах 6000 минут в год. И меньше разрывов в самой гистограмме, по сравнению с гистограммой по тарифу \"ultra\". Это возможно обусловлено тем, что пользователи тарифа \"smart\" реже меняют свой тарифный план на другой. Для пользователей тарифа \"ultra\" сравнительно больше разрывов между пиками. Возможно, это связанно именно с тем, что пользователи чаще приходят и чаще уходят с этого тарифа. Самый высокий пик в районе 20000 тыс.руб, а второй на отметке в 10000. В целом пользователи этого тарифа не склонны к перерасходу лимитов, как в тарифе \"smart\"."
   ]
  },
  {
   "cell_type": "markdown",
   "metadata": {},
   "source": [
    "<div class=\"alert alert-block alert-success\">\n",
    "<b>Комментарий ревьюера✅:</b> Распределения изучены верно, выводы на месте, графики отличные, молодец🔥</div>"
   ]
  },
  {
   "cell_type": "markdown",
   "metadata": {},
   "source": [
    "### Проверка гипотез"
   ]
  },
  {
   "cell_type": "markdown",
   "metadata": {},
   "source": [
    "Сформулируем и проверим следующие гипотезы:"
   ]
  },
  {
   "cell_type": "markdown",
   "metadata": {},
   "source": [
    "Первая гипотеза: средняя выручка пользователей тарифов «Ультра» и «Смарт» различается. Для проверки этой гипотезы сформулируем нулевую и альтернативную гипотезы.\n",
    "В качестве нулевой гипотезы (Н0) предположим,  что средняя выручка пользователей тарифов «Ультра» и «Смарт» равны. \n",
    "Формулировка альтернативной гипотезы (Н1) следующая: средние выручки пользователей тарифов «Ультра» и «Смарт» различаются."
   ]
  },
  {
   "cell_type": "markdown",
   "metadata": {},
   "source": [
    "Чтобы проверить первую гипотезу  воспользуемся  методом для проверки равенства среднего двух генеральных совокупностей по взятым из них выборкам: scipy.stats.ttest_ind (array1, array2, equal_var). Дисперсия выборок по тарифам \"smart\" и \"ultra\" были определены ранее и они отличаются, то  параметр equal_var зададим как False."
   ]
  },
  {
   "cell_type": "markdown",
   "metadata": {},
   "source": [
    "<div class=\"alert alert-block alert-success\">\n",
    "<b>Комментарий ревьюера✅:</b> Очень хорошо, что мы сформулировали гипотезы перед их проверкой👍 "
   ]
  },
  {
   "cell_type": "code",
   "execution_count": 67,
   "metadata": {},
   "outputs": [
    {
     "name": "stdout",
     "output_type": "stream",
     "text": [
      "p-значение: 4.722558075302507e-244\n",
      "Отвергаем нулевую гипотезу\n"
     ]
    }
   ],
   "source": [
    "#проверяем гипотезу\n",
    "smart_ttest = df_profit_user[df_profit_user['tariff']=='smart']['profit_month']\n",
    "ultra_ttest = df_profit_user[df_profit_user['tariff']=='ultra']['profit_month']\n",
    "\n",
    "# уровень критической значимости 5%\n",
    "alpha = 0.05\n",
    "\n",
    "# если p-value окажется меньше него - отвергнем гипотезу\n",
    "results = st.ttest_ind(smart_ttest, ultra_ttest, equal_var=False)\n",
    "\n",
    "print('p-значение:', results.pvalue)\n",
    "\n",
    "if (results.pvalue < alpha):\n",
    "    print(\"Отвергаем нулевую гипотезу\")\n",
    "else:\n",
    "    print(\"Не получилось отвергнуть нулевую гипотезу\")"
   ]
  },
  {
   "cell_type": "markdown",
   "metadata": {},
   "source": [
    "Результат: p-уровень значимости слишком мал, меньше определенного порогового значения в 5%. Таким образом, средняя выручка пользователей тарифов \"smart\" и \"ultra\" значимо отличаются друг от друга."
   ]
  },
  {
   "cell_type": "markdown",
   "metadata": {},
   "source": [
    "<div class=\"alert alert-block alert-success\">\n",
    "<b>Комментарий ревьюера✅:</b> Согласен👍"
   ]
  },
  {
   "cell_type": "markdown",
   "metadata": {},
   "source": [
    "Вторая гипотеза: средняя выручка пользователей из Москвы отличается от выручки пользователей из других регионов.\n",
    "Формулировка нулевой гипотезы (Н0): средняя выручка пользователей из Москвы равна средней выручке пользователей из других регионов.\n",
    "Формулировка альтернативной гипотезы (Н1): средняя выручка пользователей из Москвы отличается от выручки пользователей из других регионов. Эта гипотеза является двухсторонней."
   ]
  },
  {
   "cell_type": "markdown",
   "metadata": {},
   "source": [
    "Т.к. средняя выручка из Москвы может отличаться от других регионов как в большую так и в меньшую сторону, воспользуемся методом scipy.stats.ttest_1samp (array, popmean). В качестве массива данных будет выборка выручки по Москве, а в качестве popmean будет выступать среднее значение выручки пользователей из других регионов."
   ]
  },
  {
   "cell_type": "code",
   "execution_count": 68,
   "metadata": {},
   "outputs": [
    {
     "name": "stdout",
     "output_type": "stream",
     "text": [
      "p-значение:  0.3613121624241591\n",
      "Не получилось отвергнуть нулевую гипотезу\n"
     ]
    }
   ],
   "source": [
    "#проверяем гипотезу\n",
    "moscow_ttest = df_profit_user[df_profit_user['city']=='Москва']['profit_month']\n",
    "popmean = df_profit_user[df_profit_user['city']!='Москва']['profit_month'].mean()\n",
    "\n",
    "# уровень критической значимости 5%\n",
    "alpha = 0.05\n",
    "\n",
    "# если p-value окажется меньше него - отвергнем гипотезу\n",
    "results = st.ttest_1samp(moscow_ttest, popmean)\n",
    "\n",
    "print('p-значение: ', results.pvalue)\n",
    "\n",
    "if results.pvalue < alpha:\n",
    "    print(\"Отвергаем нулевую гипотезу\")\n",
    "else:\n",
    "    print(\"Не получилось отвергнуть нулевую гипотезу\")"
   ]
  },
  {
   "cell_type": "markdown",
   "metadata": {},
   "source": [
    "Результат: р-уровень значимости составил выше 36%, что значительно выше 5%, следовательно средняя выручка по Москве значительно не отличается от средней выручки по другим регионам."
   ]
  },
  {
   "cell_type": "markdown",
   "metadata": {},
   "source": [
    "<div class=\"alert alert-block alert-success\">\n",
    "<b>Комментарий ревьюера✅:</b>В блоке проверки гипотез все сделано на достаточно высоком уровне, ты молодец :)\n",
    "</div>"
   ]
  },
  {
   "cell_type": "markdown",
   "metadata": {},
   "source": [
    "### Вывод"
   ]
  },
  {
   "cell_type": "markdown",
   "metadata": {},
   "source": [
    "Для исследования была предоставлена выборка по пользователям (500 клиентов) двух тарифных планов: «Смарт» и «Ультра».<br>"
   ]
  },
  {
   "cell_type": "markdown",
   "metadata": {},
   "source": [
    "В пяти таблицах содержалась общая информация по клиенту, информация о количестве звонков и сообщений, длительность звонков и использованный интернет-трафик. В отдельной таблице были описаны параметры для каждого тарифа: пакет минут, сообщений и интернет-трафика, абонентская плата, а также стоимость минут, сообщений и трафика за превышение лимита.<br>\n",
    "Была проведена предобработка данных: исправление пропусков данных, корректировка типов данных, объединение таблиц для анализа и построения графиков.<br>"
   ]
  },
  {
   "cell_type": "markdown",
   "metadata": {},
   "source": [
    "В результате анализа можно сделать следующие выводы:<br>\n",
    "•\tПользователей тарифа «Смарт» больше, чем пользователей тарифа «Ультра»: 2222 записи  и  941 запись соответственно.<br>\n",
    "•\tНа графиках, которые отображают активность клиентов в течение месяца по каждому тарифу наблюдается практически линейный рост от начала до конца года. Однако, нельзя утверждать, что это типичное отображение информации, т.к. предоставлена выборка только за 2018 год и только у 500 клиентов. Для более точного исследования необходимы данные за период до и после предоставленной выборки.<br>\n",
    "•\tПо результатам среднего количества, дисперсии и стандартного отклонения можно предположить, что пользователи тарифа «Ультра»  более активно пользуются всеми услугами, чем пользователи тарифа «Смарт». Но т.к. размер выборки по тарифу существенно отличается, этот вывод нельзя считать однозначным.<br>\n",
    "•\tНесмотря на то, что пользователи тарифа «Смарт» стараются более экономно использовать услуги по тарифу, именно у клиентов этого тарифа чаще перерасход лимитов, в частности интернет-трафика.<br>\n",
    "•\tПо частотным гистограммам видно, что в течение года пользователи обоих тарифов укладываются в количество предоставленных услуг. Исключение интернет-трафик для пользователей тарифа «Смарт». И клиенты обоих тарифов практически не используют сообщения. Связанно это с возможностями отправить сообщение через мессенджер.<br>\n",
    "•\tБыли сформулированы две гипотезы:  средняя выручка пользователей тарифов «Ультра» и «Смарт» различается и средняя выручка пользователей из Москвы отличается от выручки пользователей из других регионов.<br>\n",
    "•\tВ результате теста на проверку первой гипотезы получили, что средние чеки тарифов «Смарт» и «Ультра» различаются.  В среднем пользователи тарифа «Ультра» платят больше.<br>\n",
    "•\tДля проверки второй гипотезы, по результатам теста, определили что средняя выручка клиентов из Москвы существенно  не отличается от выручки пользователей из других регионов. Таким образом, рекламную компанию можно запустить  по всей территории распространения сети. <br>\n",
    "•\tПостроенные графики очень хорошо отображают поведение клиентов в течение года, что можно использовать при проведении рекламных акций.<br>"
   ]
  },
  {
   "cell_type": "markdown",
   "metadata": {},
   "source": [
    "<div class=\"alert alert-block alert-success\">\n",
    "<b>Комментарий ревьюера✅:</b> Отличный вывод, теперь работа логчески завершена и мы можем понять суть исследования🔥</div>"
   ]
  },
  {
   "cell_type": "markdown",
   "metadata": {},
   "source": [
    "<div class=\"alert alert-block alert-success\">\n",
    "<b>Комментарий ревьюера✅:</b>Мне очень понравилась твоя работа. Все рассуждения верные, очень логичные и осмысленные. Ничего лишнего, всё по полкам. Ты подробно разбираешься в деталях, для будущего аналитика это очень важная черта😊\n",
    "\n",
    "Проект еще нужно немного доработать, а именно:\n",
    "\n",
    "- поправить округление гигабайтов\n",
    "\n",
    "Остальные замечания оставляю на твое усмотрение😉\n",
    "\n",
    "Жду твою работу на повторное ревью.\n",
    "    \n",
    "[Интересная статья про визуализацию](https://habr.com/ru/company/netologyru/blog/341364/)\n",
    "    \n",
    "[Тут есть полезные приемы Markdown](https://paulradzkov.com/2014/markdown_cheatsheet/)\n",
    "\n",
    "</div>"
   ]
  },
  {
   "cell_type": "markdown",
   "metadata": {},
   "source": [
    "<div class=\"alert alert-success\">\n",
    "<b>Комментарий ревьюера_v2✅:</b>\n",
    "    \n",
    "Поздравляю с успешным завершением проекта 😊👍\n",
    "    \n",
    "И желаю успехов в новых работах 😊\n",
    "    "
   ]
  }
 ],
 "metadata": {
  "ExecuteTimeLog": [
   {
    "duration": 1226,
    "start_time": "2022-08-23T01:43:56.359Z"
   },
   {
    "duration": 1304,
    "start_time": "2022-08-23T01:43:57.587Z"
   },
   {
    "duration": 14,
    "start_time": "2022-08-23T01:43:58.893Z"
   },
   {
    "duration": 12,
    "start_time": "2022-08-23T01:43:58.909Z"
   },
   {
    "duration": 11,
    "start_time": "2022-08-23T01:43:58.923Z"
   },
   {
    "duration": 25,
    "start_time": "2022-08-23T01:43:58.935Z"
   },
   {
    "duration": 7,
    "start_time": "2022-08-23T01:43:58.962Z"
   },
   {
    "duration": 39,
    "start_time": "2022-08-23T01:43:58.970Z"
   },
   {
    "duration": 9,
    "start_time": "2022-08-23T01:43:59.011Z"
   },
   {
    "duration": 22,
    "start_time": "2022-08-23T01:43:59.023Z"
   },
   {
    "duration": 8,
    "start_time": "2022-08-23T01:43:59.046Z"
   },
   {
    "duration": 12,
    "start_time": "2022-08-23T01:43:59.055Z"
   },
   {
    "duration": 32,
    "start_time": "2022-08-23T01:43:59.069Z"
   },
   {
    "duration": 11,
    "start_time": "2022-08-23T01:43:59.103Z"
   },
   {
    "duration": 13,
    "start_time": "2022-08-23T01:43:59.115Z"
   },
   {
    "duration": 14,
    "start_time": "2022-08-23T01:43:59.129Z"
   },
   {
    "duration": 13,
    "start_time": "2022-08-23T01:43:59.144Z"
   },
   {
    "duration": 42,
    "start_time": "2022-08-23T01:43:59.159Z"
   },
   {
    "duration": 5,
    "start_time": "2022-08-23T01:43:59.203Z"
   },
   {
    "duration": 17,
    "start_time": "2022-08-23T01:43:59.210Z"
   },
   {
    "duration": 8,
    "start_time": "2022-08-23T01:43:59.228Z"
   },
   {
    "duration": 21,
    "start_time": "2022-08-23T01:43:59.237Z"
   },
   {
    "duration": 40,
    "start_time": "2022-08-23T01:43:59.260Z"
   },
   {
    "duration": 15,
    "start_time": "2022-08-23T01:43:59.302Z"
   },
   {
    "duration": 8,
    "start_time": "2022-08-23T01:43:59.318Z"
   },
   {
    "duration": 33,
    "start_time": "2022-08-23T01:43:59.328Z"
   },
   {
    "duration": 5,
    "start_time": "2022-08-23T01:43:59.363Z"
   },
   {
    "duration": 34,
    "start_time": "2022-08-23T01:43:59.371Z"
   },
   {
    "duration": 8,
    "start_time": "2022-08-23T01:43:59.407Z"
   },
   {
    "duration": 98,
    "start_time": "2022-08-23T01:43:59.417Z"
   },
   {
    "duration": 62,
    "start_time": "2022-08-23T01:43:59.517Z"
   },
   {
    "duration": 56,
    "start_time": "2022-08-23T01:43:59.580Z"
   },
   {
    "duration": 40,
    "start_time": "2022-08-23T01:43:59.638Z"
   },
   {
    "duration": 70,
    "start_time": "2022-08-23T01:43:59.680Z"
   },
   {
    "duration": 51,
    "start_time": "2022-08-23T01:43:59.752Z"
   },
   {
    "duration": 27,
    "start_time": "2022-08-23T01:43:59.805Z"
   },
   {
    "duration": 21,
    "start_time": "2022-08-23T01:43:59.834Z"
   },
   {
    "duration": 11,
    "start_time": "2022-08-23T01:43:59.857Z"
   },
   {
    "duration": 33,
    "start_time": "2022-08-23T01:43:59.870Z"
   },
   {
    "duration": 3,
    "start_time": "2022-08-23T01:43:59.905Z"
   },
   {
    "duration": 29,
    "start_time": "2022-08-23T01:43:59.909Z"
   },
   {
    "duration": 5,
    "start_time": "2022-08-23T01:43:59.939Z"
   },
   {
    "duration": 13,
    "start_time": "2022-08-23T01:43:59.946Z"
   },
   {
    "duration": 9,
    "start_time": "2022-08-23T01:43:59.960Z"
   },
   {
    "duration": 34,
    "start_time": "2022-08-23T01:43:59.970Z"
   },
   {
    "duration": 23,
    "start_time": "2022-08-23T01:44:00.006Z"
   },
   {
    "duration": 17,
    "start_time": "2022-08-23T01:44:00.031Z"
   },
   {
    "duration": 12,
    "start_time": "2022-08-23T01:44:00.050Z"
   },
   {
    "duration": 71,
    "start_time": "2022-08-23T01:44:00.064Z"
   },
   {
    "duration": 6,
    "start_time": "2022-08-23T01:44:00.136Z"
   },
   {
    "duration": 125,
    "start_time": "2022-08-23T01:44:00.143Z"
   },
   {
    "duration": 6,
    "start_time": "2022-08-23T01:44:00.269Z"
   },
   {
    "duration": 17,
    "start_time": "2022-08-23T01:44:00.277Z"
   },
   {
    "duration": 29,
    "start_time": "2022-08-23T01:44:00.295Z"
   },
   {
    "duration": 7,
    "start_time": "2022-08-23T01:44:00.325Z"
   },
   {
    "duration": 234,
    "start_time": "2022-08-23T01:44:00.334Z"
   },
   {
    "duration": 242,
    "start_time": "2022-08-23T01:44:00.569Z"
   },
   {
    "duration": 234,
    "start_time": "2022-08-23T01:44:00.812Z"
   },
   {
    "duration": 238,
    "start_time": "2022-08-23T01:44:01.048Z"
   },
   {
    "duration": 254,
    "start_time": "2022-08-23T01:44:01.288Z"
   },
   {
    "duration": 25,
    "start_time": "2022-08-23T01:44:01.545Z"
   },
   {
    "duration": 48,
    "start_time": "2022-08-23T01:44:01.572Z"
   },
   {
    "duration": 26,
    "start_time": "2022-08-23T01:44:01.622Z"
   },
   {
    "duration": 30,
    "start_time": "2022-08-23T01:44:01.650Z"
   },
   {
    "duration": 329,
    "start_time": "2022-08-23T01:44:01.682Z"
   },
   {
    "duration": 382,
    "start_time": "2022-08-23T01:44:02.013Z"
   },
   {
    "duration": 319,
    "start_time": "2022-08-23T01:44:02.397Z"
   },
   {
    "duration": 311,
    "start_time": "2022-08-23T01:44:02.717Z"
   },
   {
    "duration": 290,
    "start_time": "2022-08-23T01:44:03.029Z"
   },
   {
    "duration": 9,
    "start_time": "2022-08-23T01:44:03.320Z"
   },
   {
    "duration": 18,
    "start_time": "2022-08-23T01:44:03.330Z"
   },
   {
    "duration": 1088,
    "start_time": "2022-08-24T07:46:57.240Z"
   },
   {
    "duration": 932,
    "start_time": "2022-08-24T07:46:58.330Z"
   },
   {
    "duration": 12,
    "start_time": "2022-08-24T07:46:59.264Z"
   },
   {
    "duration": 11,
    "start_time": "2022-08-24T07:46:59.278Z"
   },
   {
    "duration": 9,
    "start_time": "2022-08-24T07:46:59.290Z"
   },
   {
    "duration": 23,
    "start_time": "2022-08-24T07:46:59.300Z"
   },
   {
    "duration": 6,
    "start_time": "2022-08-24T07:46:59.325Z"
   },
   {
    "duration": 18,
    "start_time": "2022-08-24T07:46:59.333Z"
   },
   {
    "duration": 7,
    "start_time": "2022-08-24T07:46:59.353Z"
   },
   {
    "duration": 22,
    "start_time": "2022-08-24T07:46:59.363Z"
   },
   {
    "duration": 26,
    "start_time": "2022-08-24T07:46:59.386Z"
   },
   {
    "duration": 10,
    "start_time": "2022-08-24T07:46:59.413Z"
   },
   {
    "duration": 27,
    "start_time": "2022-08-24T07:46:59.425Z"
   },
   {
    "duration": 13,
    "start_time": "2022-08-24T07:46:59.453Z"
   },
   {
    "duration": 17,
    "start_time": "2022-08-24T07:46:59.468Z"
   },
   {
    "duration": 13,
    "start_time": "2022-08-24T07:46:59.487Z"
   },
   {
    "duration": 13,
    "start_time": "2022-08-24T07:46:59.502Z"
   },
   {
    "duration": 36,
    "start_time": "2022-08-24T07:46:59.516Z"
   },
   {
    "duration": 4,
    "start_time": "2022-08-24T07:46:59.554Z"
   },
   {
    "duration": 18,
    "start_time": "2022-08-24T07:46:59.559Z"
   },
   {
    "duration": 7,
    "start_time": "2022-08-24T07:46:59.579Z"
   },
   {
    "duration": 36,
    "start_time": "2022-08-24T07:46:59.588Z"
   },
   {
    "duration": 13,
    "start_time": "2022-08-24T07:46:59.626Z"
   },
   {
    "duration": 15,
    "start_time": "2022-08-24T07:46:59.641Z"
   },
   {
    "duration": 7,
    "start_time": "2022-08-24T07:46:59.657Z"
   },
   {
    "duration": 50,
    "start_time": "2022-08-24T07:46:59.666Z"
   },
   {
    "duration": 5,
    "start_time": "2022-08-24T07:46:59.718Z"
   },
   {
    "duration": 16,
    "start_time": "2022-08-24T07:46:59.726Z"
   },
   {
    "duration": 7,
    "start_time": "2022-08-24T07:46:59.744Z"
   },
   {
    "duration": 103,
    "start_time": "2022-08-24T07:46:59.753Z"
   },
   {
    "duration": 65,
    "start_time": "2022-08-24T07:46:59.858Z"
   },
   {
    "duration": 41,
    "start_time": "2022-08-24T07:46:59.925Z"
   },
   {
    "duration": 49,
    "start_time": "2022-08-24T07:46:59.967Z"
   },
   {
    "duration": 58,
    "start_time": "2022-08-24T07:47:00.018Z"
   },
   {
    "duration": 56,
    "start_time": "2022-08-24T07:47:00.077Z"
   },
   {
    "duration": 29,
    "start_time": "2022-08-24T07:47:00.134Z"
   },
   {
    "duration": 22,
    "start_time": "2022-08-24T07:47:00.164Z"
   },
   {
    "duration": 31,
    "start_time": "2022-08-24T07:47:00.187Z"
   },
   {
    "duration": 7,
    "start_time": "2022-08-24T07:47:00.219Z"
   },
   {
    "duration": 25,
    "start_time": "2022-08-24T07:47:00.227Z"
   },
   {
    "duration": 42,
    "start_time": "2022-08-24T07:47:00.254Z"
   },
   {
    "duration": 7,
    "start_time": "2022-08-24T07:47:00.297Z"
   },
   {
    "duration": 30,
    "start_time": "2022-08-24T07:47:00.305Z"
   },
   {
    "duration": 14,
    "start_time": "2022-08-24T07:47:00.336Z"
   },
   {
    "duration": 33,
    "start_time": "2022-08-24T07:47:00.351Z"
   },
   {
    "duration": 35,
    "start_time": "2022-08-24T07:47:00.385Z"
   },
   {
    "duration": 14,
    "start_time": "2022-08-24T07:47:00.421Z"
   },
   {
    "duration": 9,
    "start_time": "2022-08-24T07:47:00.436Z"
   },
   {
    "duration": 53,
    "start_time": "2022-08-24T07:47:00.447Z"
   },
   {
    "duration": 10,
    "start_time": "2022-08-24T07:47:00.501Z"
   },
   {
    "duration": 172,
    "start_time": "2022-08-24T07:47:00.513Z"
   },
   {
    "duration": 5,
    "start_time": "2022-08-24T07:47:00.686Z"
   },
   {
    "duration": 26,
    "start_time": "2022-08-24T07:47:00.692Z"
   },
   {
    "duration": 32,
    "start_time": "2022-08-24T07:47:00.720Z"
   },
   {
    "duration": 18,
    "start_time": "2022-08-24T07:47:00.754Z"
   },
   {
    "duration": 334,
    "start_time": "2022-08-24T07:47:00.774Z"
   },
   {
    "duration": 231,
    "start_time": "2022-08-24T07:47:01.110Z"
   },
   {
    "duration": 231,
    "start_time": "2022-08-24T07:47:01.343Z"
   },
   {
    "duration": 235,
    "start_time": "2022-08-24T07:47:01.576Z"
   },
   {
    "duration": 222,
    "start_time": "2022-08-24T07:47:01.812Z"
   },
   {
    "duration": 17,
    "start_time": "2022-08-24T07:47:02.036Z"
   },
   {
    "duration": 33,
    "start_time": "2022-08-24T07:47:02.054Z"
   },
   {
    "duration": 16,
    "start_time": "2022-08-24T07:47:02.088Z"
   },
   {
    "duration": 22,
    "start_time": "2022-08-24T07:47:02.111Z"
   },
   {
    "duration": 309,
    "start_time": "2022-08-24T07:47:02.134Z"
   },
   {
    "duration": 371,
    "start_time": "2022-08-24T07:47:02.445Z"
   },
   {
    "duration": 290,
    "start_time": "2022-08-24T07:47:02.818Z"
   },
   {
    "duration": 282,
    "start_time": "2022-08-24T07:47:03.111Z"
   },
   {
    "duration": 294,
    "start_time": "2022-08-24T07:47:03.395Z"
   },
   {
    "duration": 8,
    "start_time": "2022-08-24T07:47:03.691Z"
   },
   {
    "duration": 8,
    "start_time": "2022-08-24T07:47:03.710Z"
   },
   {
    "duration": 23,
    "start_time": "2022-08-24T07:54:21.699Z"
   },
   {
    "duration": 1122,
    "start_time": "2022-08-24T07:58:06.114Z"
   },
   {
    "duration": 438,
    "start_time": "2022-08-24T07:58:07.237Z"
   },
   {
    "duration": 13,
    "start_time": "2022-08-24T07:58:07.676Z"
   },
   {
    "duration": 10,
    "start_time": "2022-08-24T07:58:07.691Z"
   },
   {
    "duration": 10,
    "start_time": "2022-08-24T07:58:07.702Z"
   },
   {
    "duration": 21,
    "start_time": "2022-08-24T07:58:07.713Z"
   },
   {
    "duration": 6,
    "start_time": "2022-08-24T07:58:07.736Z"
   },
   {
    "duration": 21,
    "start_time": "2022-08-24T07:58:07.743Z"
   },
   {
    "duration": 8,
    "start_time": "2022-08-24T07:58:07.765Z"
   },
   {
    "duration": 43,
    "start_time": "2022-08-24T07:58:07.775Z"
   },
   {
    "duration": 8,
    "start_time": "2022-08-24T07:58:07.819Z"
   },
   {
    "duration": 9,
    "start_time": "2022-08-24T07:58:07.829Z"
   },
   {
    "duration": 5,
    "start_time": "2022-08-24T07:58:07.840Z"
   },
   {
    "duration": 7,
    "start_time": "2022-08-24T07:58:07.846Z"
   },
   {
    "duration": 11,
    "start_time": "2022-08-24T07:58:07.854Z"
   },
   {
    "duration": 13,
    "start_time": "2022-08-24T07:58:07.867Z"
   },
   {
    "duration": 33,
    "start_time": "2022-08-24T07:58:07.881Z"
   },
   {
    "duration": 31,
    "start_time": "2022-08-24T07:58:07.916Z"
   },
   {
    "duration": 5,
    "start_time": "2022-08-24T07:58:07.948Z"
   },
   {
    "duration": 17,
    "start_time": "2022-08-24T07:58:07.954Z"
   },
   {
    "duration": 7,
    "start_time": "2022-08-24T07:58:07.973Z"
   },
   {
    "duration": 45,
    "start_time": "2022-08-24T07:58:07.981Z"
   },
   {
    "duration": 12,
    "start_time": "2022-08-24T07:58:08.028Z"
   },
   {
    "duration": 14,
    "start_time": "2022-08-24T07:58:08.042Z"
   },
   {
    "duration": 7,
    "start_time": "2022-08-24T07:58:08.057Z"
   },
   {
    "duration": 48,
    "start_time": "2022-08-24T07:58:08.066Z"
   },
   {
    "duration": 4,
    "start_time": "2022-08-24T07:58:08.115Z"
   },
   {
    "duration": 14,
    "start_time": "2022-08-24T07:58:08.123Z"
   },
   {
    "duration": 6,
    "start_time": "2022-08-24T07:58:08.139Z"
   },
   {
    "duration": 102,
    "start_time": "2022-08-24T07:58:08.146Z"
   },
   {
    "duration": 64,
    "start_time": "2022-08-24T07:58:08.250Z"
   },
   {
    "duration": 40,
    "start_time": "2022-08-24T07:58:08.315Z"
   },
   {
    "duration": 35,
    "start_time": "2022-08-24T07:58:08.356Z"
   },
   {
    "duration": 71,
    "start_time": "2022-08-24T07:58:08.392Z"
   },
   {
    "duration": 55,
    "start_time": "2022-08-24T07:58:08.465Z"
   },
   {
    "duration": 27,
    "start_time": "2022-08-24T07:58:08.522Z"
   },
   {
    "duration": 21,
    "start_time": "2022-08-24T07:58:08.551Z"
   },
   {
    "duration": 11,
    "start_time": "2022-08-24T07:58:08.573Z"
   },
   {
    "duration": 30,
    "start_time": "2022-08-24T07:58:08.585Z"
   },
   {
    "duration": 3,
    "start_time": "2022-08-24T07:58:08.617Z"
   },
   {
    "duration": 23,
    "start_time": "2022-08-24T07:58:08.621Z"
   },
   {
    "duration": 5,
    "start_time": "2022-08-24T07:58:08.645Z"
   },
   {
    "duration": 12,
    "start_time": "2022-08-24T07:58:08.652Z"
   },
   {
    "duration": 7,
    "start_time": "2022-08-24T07:58:08.666Z"
   },
   {
    "duration": 37,
    "start_time": "2022-08-24T07:58:08.674Z"
   },
   {
    "duration": 19,
    "start_time": "2022-08-24T07:58:08.713Z"
   },
   {
    "duration": 13,
    "start_time": "2022-08-24T07:58:08.733Z"
   },
   {
    "duration": 10,
    "start_time": "2022-08-24T07:58:08.747Z"
   },
   {
    "duration": 59,
    "start_time": "2022-08-24T07:58:08.759Z"
   },
   {
    "duration": 5,
    "start_time": "2022-08-24T07:58:08.819Z"
   },
   {
    "duration": 125,
    "start_time": "2022-08-24T07:58:08.826Z"
   },
   {
    "duration": 5,
    "start_time": "2022-08-24T07:58:08.952Z"
   },
   {
    "duration": 6,
    "start_time": "2022-08-24T07:58:08.958Z"
   },
   {
    "duration": 19,
    "start_time": "2022-08-24T07:58:08.965Z"
   },
   {
    "duration": 25,
    "start_time": "2022-08-24T07:58:08.986Z"
   },
   {
    "duration": 222,
    "start_time": "2022-08-24T07:58:09.013Z"
   },
   {
    "duration": 230,
    "start_time": "2022-08-24T07:58:09.236Z"
   },
   {
    "duration": 216,
    "start_time": "2022-08-24T07:58:09.468Z"
   },
   {
    "duration": 225,
    "start_time": "2022-08-24T07:58:09.686Z"
   },
   {
    "duration": 214,
    "start_time": "2022-08-24T07:58:09.912Z"
   },
   {
    "duration": 16,
    "start_time": "2022-08-24T07:58:10.128Z"
   },
   {
    "duration": 17,
    "start_time": "2022-08-24T07:58:10.146Z"
   },
   {
    "duration": 15,
    "start_time": "2022-08-24T07:58:10.165Z"
   },
   {
    "duration": 47,
    "start_time": "2022-08-24T07:58:10.182Z"
   },
   {
    "duration": 303,
    "start_time": "2022-08-24T07:58:10.231Z"
   },
   {
    "duration": 325,
    "start_time": "2022-08-24T07:58:10.535Z"
   },
   {
    "duration": 288,
    "start_time": "2022-08-24T07:58:10.861Z"
   },
   {
    "duration": 283,
    "start_time": "2022-08-24T07:58:11.151Z"
   },
   {
    "duration": 284,
    "start_time": "2022-08-24T07:58:11.436Z"
   },
   {
    "duration": 7,
    "start_time": "2022-08-24T07:58:11.722Z"
   },
   {
    "duration": 8,
    "start_time": "2022-08-24T07:58:11.730Z"
   },
   {
    "duration": 1269,
    "start_time": "2022-08-26T06:24:23.632Z"
   },
   {
    "duration": 927,
    "start_time": "2022-08-26T06:24:24.904Z"
   },
   {
    "duration": 13,
    "start_time": "2022-08-26T06:24:25.833Z"
   },
   {
    "duration": 33,
    "start_time": "2022-08-26T06:24:25.847Z"
   },
   {
    "duration": 33,
    "start_time": "2022-08-26T06:24:25.882Z"
   },
   {
    "duration": 33,
    "start_time": "2022-08-26T06:24:25.916Z"
   },
   {
    "duration": 9,
    "start_time": "2022-08-26T06:24:25.950Z"
   },
   {
    "duration": 20,
    "start_time": "2022-08-26T06:24:25.960Z"
   },
   {
    "duration": 10,
    "start_time": "2022-08-26T06:24:25.982Z"
   },
   {
    "duration": 43,
    "start_time": "2022-08-26T06:24:25.993Z"
   },
   {
    "duration": 10,
    "start_time": "2022-08-26T06:24:26.038Z"
   },
   {
    "duration": 21,
    "start_time": "2022-08-26T06:24:26.050Z"
   },
   {
    "duration": 18,
    "start_time": "2022-08-26T06:24:26.073Z"
   },
   {
    "duration": 23,
    "start_time": "2022-08-26T06:24:26.093Z"
   },
   {
    "duration": 20,
    "start_time": "2022-08-26T06:24:26.118Z"
   },
   {
    "duration": 29,
    "start_time": "2022-08-26T06:24:26.140Z"
   },
   {
    "duration": 15,
    "start_time": "2022-08-26T06:24:26.170Z"
   },
   {
    "duration": 45,
    "start_time": "2022-08-26T06:24:26.187Z"
   },
   {
    "duration": 5,
    "start_time": "2022-08-26T06:24:26.234Z"
   },
   {
    "duration": 29,
    "start_time": "2022-08-26T06:24:26.241Z"
   },
   {
    "duration": 22,
    "start_time": "2022-08-26T06:24:26.271Z"
   },
   {
    "duration": 27,
    "start_time": "2022-08-26T06:24:26.295Z"
   },
   {
    "duration": 26,
    "start_time": "2022-08-26T06:24:26.324Z"
   },
   {
    "duration": 40,
    "start_time": "2022-08-26T06:24:26.351Z"
   },
   {
    "duration": 14,
    "start_time": "2022-08-26T06:24:26.393Z"
   },
   {
    "duration": 19,
    "start_time": "2022-08-26T06:24:26.409Z"
   },
   {
    "duration": 115,
    "start_time": "2022-08-26T06:24:26.430Z"
   },
   {
    "duration": 55,
    "start_time": "2022-08-26T06:24:26.547Z"
   },
   {
    "duration": 40,
    "start_time": "2022-08-26T06:24:26.611Z"
   },
   {
    "duration": 59,
    "start_time": "2022-08-26T06:24:26.653Z"
   },
   {
    "duration": 55,
    "start_time": "2022-08-26T06:24:26.713Z"
   },
   {
    "duration": 54,
    "start_time": "2022-08-26T06:24:26.770Z"
   },
   {
    "duration": 32,
    "start_time": "2022-08-26T06:24:26.825Z"
   },
   {
    "duration": 22,
    "start_time": "2022-08-26T06:24:26.859Z"
   },
   {
    "duration": 32,
    "start_time": "2022-08-26T06:24:26.883Z"
   },
   {
    "duration": 8,
    "start_time": "2022-08-26T06:24:26.917Z"
   },
   {
    "duration": 14,
    "start_time": "2022-08-26T06:24:26.926Z"
   },
   {
    "duration": 34,
    "start_time": "2022-08-26T06:24:26.942Z"
   },
   {
    "duration": 6,
    "start_time": "2022-08-26T06:24:26.977Z"
   },
   {
    "duration": 21,
    "start_time": "2022-08-26T06:24:26.984Z"
   },
   {
    "duration": 18,
    "start_time": "2022-08-26T06:24:27.013Z"
   },
   {
    "duration": 16,
    "start_time": "2022-08-26T06:24:27.033Z"
   },
   {
    "duration": 31,
    "start_time": "2022-08-26T06:24:27.051Z"
   },
   {
    "duration": 13,
    "start_time": "2022-08-26T06:24:27.084Z"
   },
   {
    "duration": 15,
    "start_time": "2022-08-26T06:24:27.099Z"
   },
   {
    "duration": 41,
    "start_time": "2022-08-26T06:24:27.115Z"
   },
   {
    "duration": 6,
    "start_time": "2022-08-26T06:24:27.157Z"
   },
   {
    "duration": 137,
    "start_time": "2022-08-26T06:24:27.165Z"
   },
   {
    "duration": 7,
    "start_time": "2022-08-26T06:24:27.304Z"
   },
   {
    "duration": 11,
    "start_time": "2022-08-26T06:24:27.312Z"
   },
   {
    "duration": 30,
    "start_time": "2022-08-26T06:24:27.324Z"
   },
   {
    "duration": 8,
    "start_time": "2022-08-26T06:24:27.356Z"
   },
   {
    "duration": 239,
    "start_time": "2022-08-26T06:24:27.366Z"
   },
   {
    "duration": 228,
    "start_time": "2022-08-26T06:24:27.611Z"
   },
   {
    "duration": 223,
    "start_time": "2022-08-26T06:24:27.841Z"
   },
   {
    "duration": 259,
    "start_time": "2022-08-26T06:24:28.066Z"
   },
   {
    "duration": 220,
    "start_time": "2022-08-26T06:24:28.327Z"
   },
   {
    "duration": 19,
    "start_time": "2022-08-26T06:24:28.549Z"
   },
   {
    "duration": 36,
    "start_time": "2022-08-26T06:24:28.569Z"
   },
   {
    "duration": 27,
    "start_time": "2022-08-26T06:24:28.607Z"
   },
   {
    "duration": 23,
    "start_time": "2022-08-26T06:24:28.636Z"
   },
   {
    "duration": 305,
    "start_time": "2022-08-26T06:24:28.660Z"
   },
   {
    "duration": 371,
    "start_time": "2022-08-26T06:24:28.967Z"
   },
   {
    "duration": 311,
    "start_time": "2022-08-26T06:24:29.340Z"
   },
   {
    "duration": 317,
    "start_time": "2022-08-26T06:24:29.653Z"
   },
   {
    "duration": 307,
    "start_time": "2022-08-26T06:24:29.971Z"
   },
   {
    "duration": 8,
    "start_time": "2022-08-26T06:24:30.280Z"
   },
   {
    "duration": 22,
    "start_time": "2022-08-26T06:24:30.290Z"
   },
   {
    "duration": 1455,
    "start_time": "2022-08-26T14:04:54.044Z"
   },
   {
    "duration": 1592,
    "start_time": "2022-08-26T14:04:55.501Z"
   },
   {
    "duration": 13,
    "start_time": "2022-08-26T14:04:57.095Z"
   },
   {
    "duration": 13,
    "start_time": "2022-08-26T14:04:57.110Z"
   },
   {
    "duration": 11,
    "start_time": "2022-08-26T14:04:57.125Z"
   },
   {
    "duration": 27,
    "start_time": "2022-08-26T14:04:57.138Z"
   },
   {
    "duration": 8,
    "start_time": "2022-08-26T14:04:57.167Z"
   },
   {
    "duration": 28,
    "start_time": "2022-08-26T14:04:57.177Z"
   },
   {
    "duration": 8,
    "start_time": "2022-08-26T14:04:57.206Z"
   },
   {
    "duration": 21,
    "start_time": "2022-08-26T14:04:57.218Z"
   },
   {
    "duration": 8,
    "start_time": "2022-08-26T14:04:57.241Z"
   },
   {
    "duration": 15,
    "start_time": "2022-08-26T14:04:57.267Z"
   },
   {
    "duration": 4,
    "start_time": "2022-08-26T14:04:57.284Z"
   },
   {
    "duration": 18,
    "start_time": "2022-08-26T14:04:57.289Z"
   },
   {
    "duration": 20,
    "start_time": "2022-08-26T14:04:57.309Z"
   },
   {
    "duration": 33,
    "start_time": "2022-08-26T14:04:57.331Z"
   },
   {
    "duration": 30,
    "start_time": "2022-08-26T14:04:57.365Z"
   },
   {
    "duration": 30,
    "start_time": "2022-08-26T14:04:57.397Z"
   },
   {
    "duration": 5,
    "start_time": "2022-08-26T14:04:57.428Z"
   },
   {
    "duration": 28,
    "start_time": "2022-08-26T14:04:57.435Z"
   },
   {
    "duration": 21,
    "start_time": "2022-08-26T14:04:57.464Z"
   },
   {
    "duration": 42,
    "start_time": "2022-08-26T14:04:57.487Z"
   },
   {
    "duration": 17,
    "start_time": "2022-08-26T14:04:57.531Z"
   },
   {
    "duration": 45,
    "start_time": "2022-08-26T14:04:57.550Z"
   },
   {
    "duration": 15,
    "start_time": "2022-08-26T14:04:57.597Z"
   },
   {
    "duration": 19,
    "start_time": "2022-08-26T14:04:57.614Z"
   },
   {
    "duration": 100,
    "start_time": "2022-08-26T14:04:57.635Z"
   },
   {
    "duration": 72,
    "start_time": "2022-08-26T14:04:57.739Z"
   },
   {
    "duration": 40,
    "start_time": "2022-08-26T14:04:57.813Z"
   },
   {
    "duration": 47,
    "start_time": "2022-08-26T14:04:57.869Z"
   },
   {
    "duration": 70,
    "start_time": "2022-08-26T14:04:57.918Z"
   },
   {
    "duration": 51,
    "start_time": "2022-08-26T14:04:57.990Z"
   },
   {
    "duration": 52,
    "start_time": "2022-08-26T14:04:58.042Z"
   },
   {
    "duration": 25,
    "start_time": "2022-08-26T14:04:58.096Z"
   },
   {
    "duration": 12,
    "start_time": "2022-08-26T14:04:58.122Z"
   },
   {
    "duration": 19,
    "start_time": "2022-08-26T14:04:58.135Z"
   },
   {
    "duration": 19,
    "start_time": "2022-08-26T14:04:58.155Z"
   },
   {
    "duration": 42,
    "start_time": "2022-08-26T14:04:58.178Z"
   },
   {
    "duration": 6,
    "start_time": "2022-08-26T14:04:58.222Z"
   },
   {
    "duration": 35,
    "start_time": "2022-08-26T14:04:58.229Z"
   },
   {
    "duration": 15,
    "start_time": "2022-08-26T14:04:58.266Z"
   },
   {
    "duration": 22,
    "start_time": "2022-08-26T14:04:58.282Z"
   },
   {
    "duration": 41,
    "start_time": "2022-08-26T14:04:58.306Z"
   },
   {
    "duration": 14,
    "start_time": "2022-08-26T14:04:58.349Z"
   },
   {
    "duration": 26,
    "start_time": "2022-08-26T14:04:58.365Z"
   },
   {
    "duration": 52,
    "start_time": "2022-08-26T14:04:58.393Z"
   },
   {
    "duration": 6,
    "start_time": "2022-08-26T14:04:58.446Z"
   },
   {
    "duration": 187,
    "start_time": "2022-08-26T14:04:58.454Z"
   },
   {
    "duration": 7,
    "start_time": "2022-08-26T14:04:58.643Z"
   },
   {
    "duration": 18,
    "start_time": "2022-08-26T14:04:58.651Z"
   },
   {
    "duration": 50,
    "start_time": "2022-08-26T14:04:58.671Z"
   },
   {
    "duration": 9,
    "start_time": "2022-08-26T14:04:58.722Z"
   },
   {
    "duration": 278,
    "start_time": "2022-08-26T14:04:58.732Z"
   },
   {
    "duration": 280,
    "start_time": "2022-08-26T14:04:59.012Z"
   },
   {
    "duration": 269,
    "start_time": "2022-08-26T14:04:59.293Z"
   },
   {
    "duration": 278,
    "start_time": "2022-08-26T14:04:59.564Z"
   },
   {
    "duration": 274,
    "start_time": "2022-08-26T14:04:59.845Z"
   },
   {
    "duration": 22,
    "start_time": "2022-08-26T14:05:00.121Z"
   },
   {
    "duration": 42,
    "start_time": "2022-08-26T14:05:00.145Z"
   },
   {
    "duration": 21,
    "start_time": "2022-08-26T14:05:00.189Z"
   },
   {
    "duration": 25,
    "start_time": "2022-08-26T14:05:00.212Z"
   },
   {
    "duration": 367,
    "start_time": "2022-08-26T14:05:00.267Z"
   },
   {
    "duration": 447,
    "start_time": "2022-08-26T14:05:00.636Z"
   },
   {
    "duration": 340,
    "start_time": "2022-08-26T14:05:01.085Z"
   },
   {
    "duration": 385,
    "start_time": "2022-08-26T14:05:01.427Z"
   },
   {
    "duration": 388,
    "start_time": "2022-08-26T14:05:01.814Z"
   },
   {
    "duration": 9,
    "start_time": "2022-08-26T14:05:02.203Z"
   },
   {
    "duration": 15,
    "start_time": "2022-08-26T14:05:02.213Z"
   },
   {
    "duration": 1278,
    "start_time": "2022-08-26T14:06:38.909Z"
   },
   {
    "duration": 515,
    "start_time": "2022-08-26T14:06:40.190Z"
   },
   {
    "duration": 13,
    "start_time": "2022-08-26T14:06:40.706Z"
   },
   {
    "duration": 11,
    "start_time": "2022-08-26T14:06:40.721Z"
   },
   {
    "duration": 15,
    "start_time": "2022-08-26T14:06:40.734Z"
   },
   {
    "duration": 34,
    "start_time": "2022-08-26T14:06:40.750Z"
   },
   {
    "duration": 8,
    "start_time": "2022-08-26T14:06:40.785Z"
   },
   {
    "duration": 20,
    "start_time": "2022-08-26T14:06:40.795Z"
   },
   {
    "duration": 8,
    "start_time": "2022-08-26T14:06:40.817Z"
   },
   {
    "duration": 46,
    "start_time": "2022-08-26T14:06:40.827Z"
   },
   {
    "duration": 12,
    "start_time": "2022-08-26T14:06:40.875Z"
   },
   {
    "duration": 13,
    "start_time": "2022-08-26T14:06:40.888Z"
   },
   {
    "duration": 7,
    "start_time": "2022-08-26T14:06:40.902Z"
   },
   {
    "duration": 7,
    "start_time": "2022-08-26T14:06:40.912Z"
   },
   {
    "duration": 11,
    "start_time": "2022-08-26T14:06:40.921Z"
   },
   {
    "duration": 47,
    "start_time": "2022-08-26T14:06:40.934Z"
   },
   {
    "duration": 8,
    "start_time": "2022-08-26T14:06:40.983Z"
   },
   {
    "duration": 33,
    "start_time": "2022-08-26T14:06:40.992Z"
   },
   {
    "duration": 6,
    "start_time": "2022-08-26T14:06:41.027Z"
   },
   {
    "duration": 50,
    "start_time": "2022-08-26T14:06:41.034Z"
   },
   {
    "duration": 9,
    "start_time": "2022-08-26T14:06:41.085Z"
   },
   {
    "duration": 23,
    "start_time": "2022-08-26T14:06:41.096Z"
   },
   {
    "duration": 17,
    "start_time": "2022-08-26T14:06:41.120Z"
   },
   {
    "duration": 51,
    "start_time": "2022-08-26T14:06:41.139Z"
   },
   {
    "duration": 17,
    "start_time": "2022-08-26T14:06:41.192Z"
   },
   {
    "duration": 9,
    "start_time": "2022-08-26T14:06:41.211Z"
   },
   {
    "duration": 112,
    "start_time": "2022-08-26T14:06:41.222Z"
   },
   {
    "duration": 82,
    "start_time": "2022-08-26T14:06:41.336Z"
   },
   {
    "duration": 68,
    "start_time": "2022-08-26T14:06:41.420Z"
   },
   {
    "duration": 55,
    "start_time": "2022-08-26T14:06:41.490Z"
   },
   {
    "duration": 79,
    "start_time": "2022-08-26T14:06:41.547Z"
   },
   {
    "duration": 76,
    "start_time": "2022-08-26T14:06:41.628Z"
   },
   {
    "duration": 35,
    "start_time": "2022-08-26T14:06:41.706Z"
   },
   {
    "duration": 47,
    "start_time": "2022-08-26T14:06:41.743Z"
   },
   {
    "duration": 14,
    "start_time": "2022-08-26T14:06:41.792Z"
   },
   {
    "duration": 11,
    "start_time": "2022-08-26T14:06:41.808Z"
   },
   {
    "duration": 5,
    "start_time": "2022-08-26T14:06:41.821Z"
   },
   {
    "duration": 65,
    "start_time": "2022-08-26T14:06:41.828Z"
   },
   {
    "duration": 6,
    "start_time": "2022-08-26T14:06:41.895Z"
   },
   {
    "duration": 15,
    "start_time": "2022-08-26T14:06:41.903Z"
   },
   {
    "duration": 7,
    "start_time": "2022-08-26T14:06:41.922Z"
   },
   {
    "duration": 14,
    "start_time": "2022-08-26T14:06:41.931Z"
   },
   {
    "duration": 41,
    "start_time": "2022-08-26T14:06:41.947Z"
   },
   {
    "duration": 16,
    "start_time": "2022-08-26T14:06:41.990Z"
   },
   {
    "duration": 12,
    "start_time": "2022-08-26T14:06:42.007Z"
   },
   {
    "duration": 53,
    "start_time": "2022-08-26T14:06:42.021Z"
   },
   {
    "duration": 9,
    "start_time": "2022-08-26T14:06:42.076Z"
   },
   {
    "duration": 157,
    "start_time": "2022-08-26T14:06:42.086Z"
   },
   {
    "duration": 5,
    "start_time": "2022-08-26T14:06:42.245Z"
   },
   {
    "duration": 6,
    "start_time": "2022-08-26T14:06:42.252Z"
   },
   {
    "duration": 31,
    "start_time": "2022-08-26T14:06:42.260Z"
   },
   {
    "duration": 6,
    "start_time": "2022-08-26T14:06:42.293Z"
   },
   {
    "duration": 326,
    "start_time": "2022-08-26T14:06:42.301Z"
   },
   {
    "duration": 332,
    "start_time": "2022-08-26T14:06:42.668Z"
   },
   {
    "duration": 299,
    "start_time": "2022-08-26T14:06:43.002Z"
   },
   {
    "duration": 294,
    "start_time": "2022-08-26T14:06:43.303Z"
   },
   {
    "duration": 245,
    "start_time": "2022-08-26T14:06:43.598Z"
   },
   {
    "duration": 25,
    "start_time": "2022-08-26T14:06:43.844Z"
   },
   {
    "duration": 23,
    "start_time": "2022-08-26T14:06:43.871Z"
   },
   {
    "duration": 20,
    "start_time": "2022-08-26T14:06:43.896Z"
   },
   {
    "duration": 56,
    "start_time": "2022-08-26T14:06:43.917Z"
   },
   {
    "duration": 365,
    "start_time": "2022-08-26T14:06:43.975Z"
   },
   {
    "duration": 417,
    "start_time": "2022-08-26T14:06:44.342Z"
   },
   {
    "duration": 325,
    "start_time": "2022-08-26T14:06:44.761Z"
   },
   {
    "duration": 326,
    "start_time": "2022-08-26T14:06:45.088Z"
   },
   {
    "duration": 346,
    "start_time": "2022-08-26T14:06:45.416Z"
   },
   {
    "duration": 10,
    "start_time": "2022-08-26T14:06:45.768Z"
   },
   {
    "duration": 14,
    "start_time": "2022-08-26T14:06:45.780Z"
   }
  ],
  "kernelspec": {
   "display_name": "Python 3 (ipykernel)",
   "language": "python",
   "name": "python3"
  },
  "language_info": {
   "codemirror_mode": {
    "name": "ipython",
    "version": 3
   },
   "file_extension": ".py",
   "mimetype": "text/x-python",
   "name": "python",
   "nbconvert_exporter": "python",
   "pygments_lexer": "ipython3",
   "version": "3.9.5"
  },
  "toc": {
   "base_numbering": 1,
   "nav_menu": {},
   "number_sections": true,
   "sideBar": true,
   "skip_h1_title": true,
   "title_cell": "Table of Contents",
   "title_sidebar": "Contents",
   "toc_cell": false,
   "toc_position": {
    "height": "calc(100% - 180px)",
    "left": "10px",
    "top": "150px",
    "width": "349.091px"
   },
   "toc_section_display": true,
   "toc_window_display": false
  }
 },
 "nbformat": 4,
 "nbformat_minor": 2
}
