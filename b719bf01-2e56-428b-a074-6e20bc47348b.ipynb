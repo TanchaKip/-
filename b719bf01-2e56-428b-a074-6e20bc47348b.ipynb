{
 "cells": [
  {
   "cell_type": "markdown",
   "metadata": {},
   "source": [
    "<font color='blue' size=5><b>Комментарий ревьюера</b></font>\n",
    "\n",
    "<font color='blue'>Привет! Меня зовут Никита Бережнов, и я буду проверять твой проект. Спасибо за проделанную работу! Предлагаю общаться на «ты». Моя основная цель поделиться своим опытом и помочь тебе стать профессионалом в IT сфере.</font>\n",
    "\n",
    "<font color='blue'>Я буду использовать различные цвета, чтобы было удобнее воспринимать мои комментарии:</font>\n",
    "\n",
    "\n",
    "---\n",
    "\n",
    "<div class=\"alert alert-block alert-success\">\n",
    "<b>✔️ Комментарий ревьюера: </b> Все отлично\n",
    "</div>\n",
    "\n",
    "<div class=\"alert alert-block alert-warning\">\n",
    "<b>⚠️ Комментарий ревьюера: </b> Сделано все правильно, однако есть рекомендации, на что стоит обратить внимание\n",
    "</div>\n",
    "\n",
    "<div class=\"alert alert-block alert-danger\">\n",
    "<b>❌ Комментарий ревьюера: </b> Есть недочеты, без их отработки проект не будет принят\n",
    "</div>\n",
    "\n",
    "---\n",
    "\n",
    "<font color='blue'>Пожалуйста, не удаляй мои комментарии в случае возврата работы, так будет проще разобраться, какие были недочеты, а также сразу увидеть исправленное. </font>\n",
    "\n",
    "<font color='blue'>Давай работать над проектом в диалоге: если ты что-то меняешь в проекте или отвечаешь на мои комментарии - пиши об этом. Мне будет легче отследить изменения, если ты выделишь свои комментарии:</font>\n",
    "\n",
    "<div class=\"alert alert-block alert-info\">\n",
    "<b>Комментарий студента:</b> Например, вот так.\n",
    "</div>\n",
    "\n",
    "<font color='blue'><b>Давай смотреть, что получилось!</b></font>"
   ]
  },
  {
   "cell_type": "markdown",
   "metadata": {},
   "source": [
    "<div class=\"alert alert-block alert-success\">\n",
    "<b>✔️ Комментарий ревьюера: </b> Хорошая работа. Проведён анализ данных. Удачно подобраны визуализации.  Увидел выводы к каждому этапу работы. Но есть маленькие недочёты. Их нужно исправить. \n",
    "Осталось совсем чуть-чуть. Всегда готов ответить на твои вопросы.\n",
    "</div>"
   ]
  },
  {
   "cell_type": "markdown",
   "metadata": {},
   "source": [
    "<div class=\"alert alert-block alert-info\">\n",
    "<b>Комментарий студента:</b> Никита, привет! Большое спасибо за проверку моего проекта. Все правки изучила и исправила! Очень ценны все твои комментарии и подсказки по ходу проекта! \n",
    "</div>"
   ]
  },
  {
   "cell_type": "markdown",
   "metadata": {},
   "source": [
    "<div class=\"alert alert-block alert-success\">\n",
    "<b>✔️ Комментарий ревьюера v2: </b> Спасибо за интерес к проекту. Исправлены все замечания и рекомендации! \n",
    "Принято. Желаю дальнейших успехов в учёбе и на работе.\n",
    "</div>"
   ]
  },
  {
   "cell_type": "markdown",
   "metadata": {},
   "source": [
    "# Выбор локации для скважины"
   ]
  },
  {
   "cell_type": "markdown",
   "metadata": {},
   "source": [
    "Допустим, вы работаете в добывающей компании «ГлавРосГосНефть». Нужно решить, где бурить новую скважину.\n",
    "\n",
    "Вам предоставлены пробы нефти в трёх регионах: в каждом 10 000 месторождений, где измерили качество нефти и объём её запасов. Постройте модель машинного обучения, которая поможет определить регион, где добыча принесёт наибольшую прибыль. Проанализируйте возможную прибыль и риски техникой *Bootstrap.*\n",
    "\n",
    "Шаги для выбора локации:\n",
    "\n",
    "- В избранном регионе ищут месторождения, для каждого определяют значения признаков;\n",
    "- Строят модель и оценивают объём запасов;\n",
    "- Выбирают месторождения с самым высокими оценками значений. Количество месторождений зависит от бюджета компании и стоимости разработки одной скважины;\n",
    "- Прибыль равна суммарной прибыли отобранных месторождений."
   ]
  },
  {
   "cell_type": "markdown",
   "metadata": {},
   "source": [
    "Описание данных<br>\n",
    "•\tid — уникальный идентификатор скважины;<br>\n",
    "•\tf0, f1, f2 — три признака точек (неважно, что они означают, но сами признаки значимы);<br>\n",
    "•\tproduct — объём запасов в скважине (тыс. баррелей).<br>"
   ]
  },
  {
   "cell_type": "markdown",
   "metadata": {},
   "source": [
    "Условия задачи:<br>\n",
    "•\tДля обучения модели подходит только линейная регрессия (остальные — недостаточно предсказуемые).<br>\n",
    "•\tПри разведке региона исследуют 500 точек, из которых с помощью машинного обучения выбирают 200 лучших для разработки.<br>\n",
    "•\tБюджет на разработку скважин в регионе — 10 млрд рублей.<br>\n",
    "•\tПри нынешних ценах один баррель сырья приносит 450 рублей дохода. Доход с каждой единицы продукта составляет 450 тыс. рублей, поскольку объём указан в тысячах баррелей.<br>\n",
    "•\tПосле оценки рисков нужно оставить лишь те регионы, в которых вероятность убытков меньше 2.5%. Среди них выбирают регион с наибольшей средней прибылью.<br>"
   ]
  },
  {
   "cell_type": "markdown",
   "metadata": {},
   "source": [
    "<div class=\"alert alert-block alert-success\">\n",
    "<b>✔️ Комментарий ревьюера:</b> Хорошее введение. Понятна цель работы\n",
    "</div>"
   ]
  },
  {
   "cell_type": "markdown",
   "metadata": {},
   "source": [
    "## Загрузка и подготовка данных"
   ]
  },
  {
   "cell_type": "code",
   "execution_count": 1,
   "metadata": {},
   "outputs": [],
   "source": [
    "# импорт библиотек \n",
    "import pandas as pd\n",
    "import numpy as np\n",
    "\n",
    "import matplotlib.pyplot as plt # графики\n",
    "from pandas.plotting import scatter_matrix\n",
    "\n",
    "from sklearn.model_selection import train_test_split # деление выборки \n",
    "\n",
    "from sklearn.linear_model import LinearRegression # линейная регрессия \n",
    "from sklearn.metrics import mean_squared_error #среднеквадратичная ошибка (RSME)\n",
    "from sklearn.metrics import mean_absolute_error # средняя абсолютная ошибка (MAE)\n",
    "\n",
    "from numpy.random import RandomState\n",
    "from scipy import stats as st"
   ]
  },
  {
   "cell_type": "markdown",
   "metadata": {},
   "source": [
    "Считываем данные:"
   ]
  },
  {
   "cell_type": "code",
   "execution_count": 2,
   "metadata": {},
   "outputs": [],
   "source": [
    "try:\n",
    "    df_0 = pd.read_csv(r'C:\\Users\\tanch\\Desktop\\data science\\проекты\\Машинное обучение в бизнесе\\geo_data_0.csv', sep=',')\n",
    "    df_1 = pd.read_csv(r'C:\\Users\\tanch\\Desktop\\data science\\проекты\\Машинное обучение в бизнесе\\geo_data_1.csv', sep=',')\n",
    "    df_2 = pd.read_csv(r'C:\\Users\\tanch\\Desktop\\data science\\проекты\\Машинное обучение в бизнесе\\geo_data_2.csv', sep=',')\n",
    "except:\n",
    "    df_0 = pd.read_csv('/datasets/geo_data_0.csv', sep=',') \n",
    "    df_1 = pd.read_csv('/datasets/geo_data_1.csv', sep=',')\n",
    "    df_2 = pd.read_csv('/datasets/geo_data_2.csv', sep=',')"
   ]
  },
  {
   "cell_type": "markdown",
   "metadata": {},
   "source": [
    "Просмотрим первые пять строк каждой таблицы, а также общую информацию о данных:"
   ]
  },
  {
   "cell_type": "code",
   "execution_count": 3,
   "metadata": {},
   "outputs": [
    {
     "data": {
      "text/html": [
       "<div>\n",
       "<style scoped>\n",
       "    .dataframe tbody tr th:only-of-type {\n",
       "        vertical-align: middle;\n",
       "    }\n",
       "\n",
       "    .dataframe tbody tr th {\n",
       "        vertical-align: top;\n",
       "    }\n",
       "\n",
       "    .dataframe thead th {\n",
       "        text-align: right;\n",
       "    }\n",
       "</style>\n",
       "<table border=\"1\" class=\"dataframe\">\n",
       "  <thead>\n",
       "    <tr style=\"text-align: right;\">\n",
       "      <th></th>\n",
       "      <th>id</th>\n",
       "      <th>f0</th>\n",
       "      <th>f1</th>\n",
       "      <th>f2</th>\n",
       "      <th>product</th>\n",
       "    </tr>\n",
       "  </thead>\n",
       "  <tbody>\n",
       "    <tr>\n",
       "      <th>0</th>\n",
       "      <td>txEyH</td>\n",
       "      <td>0.705745</td>\n",
       "      <td>-0.497823</td>\n",
       "      <td>1.221170</td>\n",
       "      <td>105.280062</td>\n",
       "    </tr>\n",
       "    <tr>\n",
       "      <th>1</th>\n",
       "      <td>2acmU</td>\n",
       "      <td>1.334711</td>\n",
       "      <td>-0.340164</td>\n",
       "      <td>4.365080</td>\n",
       "      <td>73.037750</td>\n",
       "    </tr>\n",
       "    <tr>\n",
       "      <th>2</th>\n",
       "      <td>409Wp</td>\n",
       "      <td>1.022732</td>\n",
       "      <td>0.151990</td>\n",
       "      <td>1.419926</td>\n",
       "      <td>85.265647</td>\n",
       "    </tr>\n",
       "    <tr>\n",
       "      <th>3</th>\n",
       "      <td>iJLyR</td>\n",
       "      <td>-0.032172</td>\n",
       "      <td>0.139033</td>\n",
       "      <td>2.978566</td>\n",
       "      <td>168.620776</td>\n",
       "    </tr>\n",
       "    <tr>\n",
       "      <th>4</th>\n",
       "      <td>Xdl7t</td>\n",
       "      <td>1.988431</td>\n",
       "      <td>0.155413</td>\n",
       "      <td>4.751769</td>\n",
       "      <td>154.036647</td>\n",
       "    </tr>\n",
       "  </tbody>\n",
       "</table>\n",
       "</div>"
      ],
      "text/plain": [
       "      id        f0        f1        f2     product\n",
       "0  txEyH  0.705745 -0.497823  1.221170  105.280062\n",
       "1  2acmU  1.334711 -0.340164  4.365080   73.037750\n",
       "2  409Wp  1.022732  0.151990  1.419926   85.265647\n",
       "3  iJLyR -0.032172  0.139033  2.978566  168.620776\n",
       "4  Xdl7t  1.988431  0.155413  4.751769  154.036647"
      ]
     },
     "execution_count": 3,
     "metadata": {},
     "output_type": "execute_result"
    }
   ],
   "source": [
    "df_0.head()"
   ]
  },
  {
   "cell_type": "code",
   "execution_count": 4,
   "metadata": {},
   "outputs": [
    {
     "name": "stdout",
     "output_type": "stream",
     "text": [
      "<class 'pandas.core.frame.DataFrame'>\n",
      "RangeIndex: 100000 entries, 0 to 99999\n",
      "Data columns (total 5 columns):\n",
      " #   Column   Non-Null Count   Dtype  \n",
      "---  ------   --------------   -----  \n",
      " 0   id       100000 non-null  object \n",
      " 1   f0       100000 non-null  float64\n",
      " 2   f1       100000 non-null  float64\n",
      " 3   f2       100000 non-null  float64\n",
      " 4   product  100000 non-null  float64\n",
      "dtypes: float64(4), object(1)\n",
      "memory usage: 3.8+ MB\n"
     ]
    }
   ],
   "source": [
    "df_0.info()"
   ]
  },
  {
   "cell_type": "code",
   "execution_count": 5,
   "metadata": {},
   "outputs": [
    {
     "data": {
      "text/html": [
       "<div>\n",
       "<style scoped>\n",
       "    .dataframe tbody tr th:only-of-type {\n",
       "        vertical-align: middle;\n",
       "    }\n",
       "\n",
       "    .dataframe tbody tr th {\n",
       "        vertical-align: top;\n",
       "    }\n",
       "\n",
       "    .dataframe thead th {\n",
       "        text-align: right;\n",
       "    }\n",
       "</style>\n",
       "<table border=\"1\" class=\"dataframe\">\n",
       "  <thead>\n",
       "    <tr style=\"text-align: right;\">\n",
       "      <th></th>\n",
       "      <th>id</th>\n",
       "      <th>f0</th>\n",
       "      <th>f1</th>\n",
       "      <th>f2</th>\n",
       "      <th>product</th>\n",
       "    </tr>\n",
       "  </thead>\n",
       "  <tbody>\n",
       "    <tr>\n",
       "      <th>0</th>\n",
       "      <td>kBEdx</td>\n",
       "      <td>-15.001348</td>\n",
       "      <td>-8.276000</td>\n",
       "      <td>-0.005876</td>\n",
       "      <td>3.179103</td>\n",
       "    </tr>\n",
       "    <tr>\n",
       "      <th>1</th>\n",
       "      <td>62mP7</td>\n",
       "      <td>14.272088</td>\n",
       "      <td>-3.475083</td>\n",
       "      <td>0.999183</td>\n",
       "      <td>26.953261</td>\n",
       "    </tr>\n",
       "    <tr>\n",
       "      <th>2</th>\n",
       "      <td>vyE1P</td>\n",
       "      <td>6.263187</td>\n",
       "      <td>-5.948386</td>\n",
       "      <td>5.001160</td>\n",
       "      <td>134.766305</td>\n",
       "    </tr>\n",
       "    <tr>\n",
       "      <th>3</th>\n",
       "      <td>KcrkZ</td>\n",
       "      <td>-13.081196</td>\n",
       "      <td>-11.506057</td>\n",
       "      <td>4.999415</td>\n",
       "      <td>137.945408</td>\n",
       "    </tr>\n",
       "    <tr>\n",
       "      <th>4</th>\n",
       "      <td>AHL4O</td>\n",
       "      <td>12.702195</td>\n",
       "      <td>-8.147433</td>\n",
       "      <td>5.004363</td>\n",
       "      <td>134.766305</td>\n",
       "    </tr>\n",
       "  </tbody>\n",
       "</table>\n",
       "</div>"
      ],
      "text/plain": [
       "      id         f0         f1        f2     product\n",
       "0  kBEdx -15.001348  -8.276000 -0.005876    3.179103\n",
       "1  62mP7  14.272088  -3.475083  0.999183   26.953261\n",
       "2  vyE1P   6.263187  -5.948386  5.001160  134.766305\n",
       "3  KcrkZ -13.081196 -11.506057  4.999415  137.945408\n",
       "4  AHL4O  12.702195  -8.147433  5.004363  134.766305"
      ]
     },
     "execution_count": 5,
     "metadata": {},
     "output_type": "execute_result"
    }
   ],
   "source": [
    "df_1.head()"
   ]
  },
  {
   "cell_type": "code",
   "execution_count": 6,
   "metadata": {},
   "outputs": [
    {
     "name": "stdout",
     "output_type": "stream",
     "text": [
      "<class 'pandas.core.frame.DataFrame'>\n",
      "RangeIndex: 100000 entries, 0 to 99999\n",
      "Data columns (total 5 columns):\n",
      " #   Column   Non-Null Count   Dtype  \n",
      "---  ------   --------------   -----  \n",
      " 0   id       100000 non-null  object \n",
      " 1   f0       100000 non-null  float64\n",
      " 2   f1       100000 non-null  float64\n",
      " 3   f2       100000 non-null  float64\n",
      " 4   product  100000 non-null  float64\n",
      "dtypes: float64(4), object(1)\n",
      "memory usage: 3.8+ MB\n"
     ]
    }
   ],
   "source": [
    "df_1.info()"
   ]
  },
  {
   "cell_type": "code",
   "execution_count": 7,
   "metadata": {},
   "outputs": [
    {
     "data": {
      "text/html": [
       "<div>\n",
       "<style scoped>\n",
       "    .dataframe tbody tr th:only-of-type {\n",
       "        vertical-align: middle;\n",
       "    }\n",
       "\n",
       "    .dataframe tbody tr th {\n",
       "        vertical-align: top;\n",
       "    }\n",
       "\n",
       "    .dataframe thead th {\n",
       "        text-align: right;\n",
       "    }\n",
       "</style>\n",
       "<table border=\"1\" class=\"dataframe\">\n",
       "  <thead>\n",
       "    <tr style=\"text-align: right;\">\n",
       "      <th></th>\n",
       "      <th>id</th>\n",
       "      <th>f0</th>\n",
       "      <th>f1</th>\n",
       "      <th>f2</th>\n",
       "      <th>product</th>\n",
       "    </tr>\n",
       "  </thead>\n",
       "  <tbody>\n",
       "    <tr>\n",
       "      <th>0</th>\n",
       "      <td>fwXo0</td>\n",
       "      <td>-1.146987</td>\n",
       "      <td>0.963328</td>\n",
       "      <td>-0.828965</td>\n",
       "      <td>27.758673</td>\n",
       "    </tr>\n",
       "    <tr>\n",
       "      <th>1</th>\n",
       "      <td>WJtFt</td>\n",
       "      <td>0.262778</td>\n",
       "      <td>0.269839</td>\n",
       "      <td>-2.530187</td>\n",
       "      <td>56.069697</td>\n",
       "    </tr>\n",
       "    <tr>\n",
       "      <th>2</th>\n",
       "      <td>ovLUW</td>\n",
       "      <td>0.194587</td>\n",
       "      <td>0.289035</td>\n",
       "      <td>-5.586433</td>\n",
       "      <td>62.871910</td>\n",
       "    </tr>\n",
       "    <tr>\n",
       "      <th>3</th>\n",
       "      <td>q6cA6</td>\n",
       "      <td>2.236060</td>\n",
       "      <td>-0.553760</td>\n",
       "      <td>0.930038</td>\n",
       "      <td>114.572842</td>\n",
       "    </tr>\n",
       "    <tr>\n",
       "      <th>4</th>\n",
       "      <td>WPMUX</td>\n",
       "      <td>-0.515993</td>\n",
       "      <td>1.716266</td>\n",
       "      <td>5.899011</td>\n",
       "      <td>149.600746</td>\n",
       "    </tr>\n",
       "  </tbody>\n",
       "</table>\n",
       "</div>"
      ],
      "text/plain": [
       "      id        f0        f1        f2     product\n",
       "0  fwXo0 -1.146987  0.963328 -0.828965   27.758673\n",
       "1  WJtFt  0.262778  0.269839 -2.530187   56.069697\n",
       "2  ovLUW  0.194587  0.289035 -5.586433   62.871910\n",
       "3  q6cA6  2.236060 -0.553760  0.930038  114.572842\n",
       "4  WPMUX -0.515993  1.716266  5.899011  149.600746"
      ]
     },
     "execution_count": 7,
     "metadata": {},
     "output_type": "execute_result"
    }
   ],
   "source": [
    "df_2.head()"
   ]
  },
  {
   "cell_type": "code",
   "execution_count": 8,
   "metadata": {},
   "outputs": [
    {
     "name": "stdout",
     "output_type": "stream",
     "text": [
      "<class 'pandas.core.frame.DataFrame'>\n",
      "RangeIndex: 100000 entries, 0 to 99999\n",
      "Data columns (total 5 columns):\n",
      " #   Column   Non-Null Count   Dtype  \n",
      "---  ------   --------------   -----  \n",
      " 0   id       100000 non-null  object \n",
      " 1   f0       100000 non-null  float64\n",
      " 2   f1       100000 non-null  float64\n",
      " 3   f2       100000 non-null  float64\n",
      " 4   product  100000 non-null  float64\n",
      "dtypes: float64(4), object(1)\n",
      "memory usage: 3.8+ MB\n"
     ]
    }
   ],
   "source": [
    "df_2.info()"
   ]
  },
  {
   "cell_type": "code",
   "execution_count": 9,
   "metadata": {},
   "outputs": [
    {
     "data": {
      "text/html": [
       "<div>\n",
       "<style scoped>\n",
       "    .dataframe tbody tr th:only-of-type {\n",
       "        vertical-align: middle;\n",
       "    }\n",
       "\n",
       "    .dataframe tbody tr th {\n",
       "        vertical-align: top;\n",
       "    }\n",
       "\n",
       "    .dataframe thead th {\n",
       "        text-align: right;\n",
       "    }\n",
       "</style>\n",
       "<table border=\"1\" class=\"dataframe\">\n",
       "  <thead>\n",
       "    <tr style=\"text-align: right;\">\n",
       "      <th></th>\n",
       "      <th>f0</th>\n",
       "      <th>f1</th>\n",
       "      <th>f2</th>\n",
       "      <th>product</th>\n",
       "    </tr>\n",
       "  </thead>\n",
       "  <tbody>\n",
       "    <tr>\n",
       "      <th>count</th>\n",
       "      <td>100000.000000</td>\n",
       "      <td>100000.000000</td>\n",
       "      <td>100000.000000</td>\n",
       "      <td>100000.000000</td>\n",
       "    </tr>\n",
       "    <tr>\n",
       "      <th>mean</th>\n",
       "      <td>0.500419</td>\n",
       "      <td>0.250143</td>\n",
       "      <td>2.502647</td>\n",
       "      <td>92.500000</td>\n",
       "    </tr>\n",
       "    <tr>\n",
       "      <th>std</th>\n",
       "      <td>0.871832</td>\n",
       "      <td>0.504433</td>\n",
       "      <td>3.248248</td>\n",
       "      <td>44.288691</td>\n",
       "    </tr>\n",
       "    <tr>\n",
       "      <th>min</th>\n",
       "      <td>-1.408605</td>\n",
       "      <td>-0.848218</td>\n",
       "      <td>-12.088328</td>\n",
       "      <td>0.000000</td>\n",
       "    </tr>\n",
       "    <tr>\n",
       "      <th>25%</th>\n",
       "      <td>-0.072580</td>\n",
       "      <td>-0.200881</td>\n",
       "      <td>0.287748</td>\n",
       "      <td>56.497507</td>\n",
       "    </tr>\n",
       "    <tr>\n",
       "      <th>50%</th>\n",
       "      <td>0.502360</td>\n",
       "      <td>0.250252</td>\n",
       "      <td>2.515969</td>\n",
       "      <td>91.849972</td>\n",
       "    </tr>\n",
       "    <tr>\n",
       "      <th>75%</th>\n",
       "      <td>1.073581</td>\n",
       "      <td>0.700646</td>\n",
       "      <td>4.715088</td>\n",
       "      <td>128.564089</td>\n",
       "    </tr>\n",
       "    <tr>\n",
       "      <th>max</th>\n",
       "      <td>2.362331</td>\n",
       "      <td>1.343769</td>\n",
       "      <td>16.003790</td>\n",
       "      <td>185.364347</td>\n",
       "    </tr>\n",
       "  </tbody>\n",
       "</table>\n",
       "</div>"
      ],
      "text/plain": [
       "                  f0             f1             f2        product\n",
       "count  100000.000000  100000.000000  100000.000000  100000.000000\n",
       "mean        0.500419       0.250143       2.502647      92.500000\n",
       "std         0.871832       0.504433       3.248248      44.288691\n",
       "min        -1.408605      -0.848218     -12.088328       0.000000\n",
       "25%        -0.072580      -0.200881       0.287748      56.497507\n",
       "50%         0.502360       0.250252       2.515969      91.849972\n",
       "75%         1.073581       0.700646       4.715088     128.564089\n",
       "max         2.362331       1.343769      16.003790     185.364347"
      ]
     },
     "execution_count": 9,
     "metadata": {},
     "output_type": "execute_result"
    }
   ],
   "source": [
    "df_0.describe()"
   ]
  },
  {
   "cell_type": "code",
   "execution_count": 10,
   "metadata": {},
   "outputs": [
    {
     "data": {
      "text/html": [
       "<div>\n",
       "<style scoped>\n",
       "    .dataframe tbody tr th:only-of-type {\n",
       "        vertical-align: middle;\n",
       "    }\n",
       "\n",
       "    .dataframe tbody tr th {\n",
       "        vertical-align: top;\n",
       "    }\n",
       "\n",
       "    .dataframe thead th {\n",
       "        text-align: right;\n",
       "    }\n",
       "</style>\n",
       "<table border=\"1\" class=\"dataframe\">\n",
       "  <thead>\n",
       "    <tr style=\"text-align: right;\">\n",
       "      <th></th>\n",
       "      <th>f0</th>\n",
       "      <th>f1</th>\n",
       "      <th>f2</th>\n",
       "      <th>product</th>\n",
       "    </tr>\n",
       "  </thead>\n",
       "  <tbody>\n",
       "    <tr>\n",
       "      <th>count</th>\n",
       "      <td>100000.000000</td>\n",
       "      <td>100000.000000</td>\n",
       "      <td>100000.000000</td>\n",
       "      <td>100000.000000</td>\n",
       "    </tr>\n",
       "    <tr>\n",
       "      <th>mean</th>\n",
       "      <td>1.141296</td>\n",
       "      <td>-4.796579</td>\n",
       "      <td>2.494541</td>\n",
       "      <td>68.825000</td>\n",
       "    </tr>\n",
       "    <tr>\n",
       "      <th>std</th>\n",
       "      <td>8.965932</td>\n",
       "      <td>5.119872</td>\n",
       "      <td>1.703572</td>\n",
       "      <td>45.944423</td>\n",
       "    </tr>\n",
       "    <tr>\n",
       "      <th>min</th>\n",
       "      <td>-31.609576</td>\n",
       "      <td>-26.358598</td>\n",
       "      <td>-0.018144</td>\n",
       "      <td>0.000000</td>\n",
       "    </tr>\n",
       "    <tr>\n",
       "      <th>25%</th>\n",
       "      <td>-6.298551</td>\n",
       "      <td>-8.267985</td>\n",
       "      <td>1.000021</td>\n",
       "      <td>26.953261</td>\n",
       "    </tr>\n",
       "    <tr>\n",
       "      <th>50%</th>\n",
       "      <td>1.153055</td>\n",
       "      <td>-4.813172</td>\n",
       "      <td>2.011479</td>\n",
       "      <td>57.085625</td>\n",
       "    </tr>\n",
       "    <tr>\n",
       "      <th>75%</th>\n",
       "      <td>8.621015</td>\n",
       "      <td>-1.332816</td>\n",
       "      <td>3.999904</td>\n",
       "      <td>107.813044</td>\n",
       "    </tr>\n",
       "    <tr>\n",
       "      <th>max</th>\n",
       "      <td>29.421755</td>\n",
       "      <td>18.734063</td>\n",
       "      <td>5.019721</td>\n",
       "      <td>137.945408</td>\n",
       "    </tr>\n",
       "  </tbody>\n",
       "</table>\n",
       "</div>"
      ],
      "text/plain": [
       "                  f0             f1             f2        product\n",
       "count  100000.000000  100000.000000  100000.000000  100000.000000\n",
       "mean        1.141296      -4.796579       2.494541      68.825000\n",
       "std         8.965932       5.119872       1.703572      45.944423\n",
       "min       -31.609576     -26.358598      -0.018144       0.000000\n",
       "25%        -6.298551      -8.267985       1.000021      26.953261\n",
       "50%         1.153055      -4.813172       2.011479      57.085625\n",
       "75%         8.621015      -1.332816       3.999904     107.813044\n",
       "max        29.421755      18.734063       5.019721     137.945408"
      ]
     },
     "execution_count": 10,
     "metadata": {},
     "output_type": "execute_result"
    }
   ],
   "source": [
    "df_1.describe()"
   ]
  },
  {
   "cell_type": "code",
   "execution_count": 11,
   "metadata": {},
   "outputs": [
    {
     "data": {
      "text/html": [
       "<div>\n",
       "<style scoped>\n",
       "    .dataframe tbody tr th:only-of-type {\n",
       "        vertical-align: middle;\n",
       "    }\n",
       "\n",
       "    .dataframe tbody tr th {\n",
       "        vertical-align: top;\n",
       "    }\n",
       "\n",
       "    .dataframe thead th {\n",
       "        text-align: right;\n",
       "    }\n",
       "</style>\n",
       "<table border=\"1\" class=\"dataframe\">\n",
       "  <thead>\n",
       "    <tr style=\"text-align: right;\">\n",
       "      <th></th>\n",
       "      <th>f0</th>\n",
       "      <th>f1</th>\n",
       "      <th>f2</th>\n",
       "      <th>product</th>\n",
       "    </tr>\n",
       "  </thead>\n",
       "  <tbody>\n",
       "    <tr>\n",
       "      <th>count</th>\n",
       "      <td>100000.000000</td>\n",
       "      <td>100000.000000</td>\n",
       "      <td>100000.000000</td>\n",
       "      <td>100000.000000</td>\n",
       "    </tr>\n",
       "    <tr>\n",
       "      <th>mean</th>\n",
       "      <td>0.002023</td>\n",
       "      <td>-0.002081</td>\n",
       "      <td>2.495128</td>\n",
       "      <td>95.000000</td>\n",
       "    </tr>\n",
       "    <tr>\n",
       "      <th>std</th>\n",
       "      <td>1.732045</td>\n",
       "      <td>1.730417</td>\n",
       "      <td>3.473445</td>\n",
       "      <td>44.749921</td>\n",
       "    </tr>\n",
       "    <tr>\n",
       "      <th>min</th>\n",
       "      <td>-8.760004</td>\n",
       "      <td>-7.084020</td>\n",
       "      <td>-11.970335</td>\n",
       "      <td>0.000000</td>\n",
       "    </tr>\n",
       "    <tr>\n",
       "      <th>25%</th>\n",
       "      <td>-1.162288</td>\n",
       "      <td>-1.174820</td>\n",
       "      <td>0.130359</td>\n",
       "      <td>59.450441</td>\n",
       "    </tr>\n",
       "    <tr>\n",
       "      <th>50%</th>\n",
       "      <td>0.009424</td>\n",
       "      <td>-0.009482</td>\n",
       "      <td>2.484236</td>\n",
       "      <td>94.925613</td>\n",
       "    </tr>\n",
       "    <tr>\n",
       "      <th>75%</th>\n",
       "      <td>1.158535</td>\n",
       "      <td>1.163678</td>\n",
       "      <td>4.858794</td>\n",
       "      <td>130.595027</td>\n",
       "    </tr>\n",
       "    <tr>\n",
       "      <th>max</th>\n",
       "      <td>7.238262</td>\n",
       "      <td>7.844801</td>\n",
       "      <td>16.739402</td>\n",
       "      <td>190.029838</td>\n",
       "    </tr>\n",
       "  </tbody>\n",
       "</table>\n",
       "</div>"
      ],
      "text/plain": [
       "                  f0             f1             f2        product\n",
       "count  100000.000000  100000.000000  100000.000000  100000.000000\n",
       "mean        0.002023      -0.002081       2.495128      95.000000\n",
       "std         1.732045       1.730417       3.473445      44.749921\n",
       "min        -8.760004      -7.084020     -11.970335       0.000000\n",
       "25%        -1.162288      -1.174820       0.130359      59.450441\n",
       "50%         0.009424      -0.009482       2.484236      94.925613\n",
       "75%         1.158535       1.163678       4.858794     130.595027\n",
       "max         7.238262       7.844801      16.739402     190.029838"
      ]
     },
     "execution_count": 11,
     "metadata": {},
     "output_type": "execute_result"
    }
   ],
   "source": [
    "df_2.describe()"
   ]
  },
  {
   "cell_type": "markdown",
   "metadata": {},
   "source": [
    "Проверим на дубликаты:"
   ]
  },
  {
   "cell_type": "code",
   "execution_count": 12,
   "metadata": {},
   "outputs": [
    {
     "name": "stdout",
     "output_type": "stream",
     "text": [
      "Количество дубликатов в датасете 0: 0\n",
      "Количество дубликатов в датасете 1: 0\n",
      "Количество дубликатов в датасете 2: 0\n"
     ]
    }
   ],
   "source": [
    "print('Количество дубликатов в датасете 0:', df_0.duplicated().sum())\n",
    "print('Количество дубликатов в датасете 1:', df_1.duplicated().sum())\n",
    "print('Количество дубликатов в датасете 2:', df_2.duplicated().sum())"
   ]
  },
  {
   "cell_type": "markdown",
   "metadata": {},
   "source": [
    "Дубликатов нет."
   ]
  },
  {
   "cell_type": "markdown",
   "metadata": {},
   "source": [
    "<div class=\"alert alert-block alert-success\">\n",
    "<b>✔️ Комментарий ревьюера:</b> Хорошо. \n",
    "</div>"
   ]
  },
  {
   "cell_type": "markdown",
   "metadata": {},
   "source": [
    "В каждой таблице присутсвуют 4 столбца, по 10 тыс. записей в каждой таблице. Названия столбцов корректны. Пропусков в данных нет. Поле \"id\" имеет тип данных object. Остальные столбцы  - тип данных float64."
   ]
  },
  {
   "cell_type": "markdown",
   "metadata": {},
   "source": [
    "Так как для обучения модели столбец \"id\" не несет особой значимости, исключим его из обучения. Основные показатели важные для обучения находятся в столбцах \"f0\", \"f1\", \"f2\" и \"product\""
   ]
  },
  {
   "cell_type": "code",
   "execution_count": 13,
   "metadata": {},
   "outputs": [],
   "source": [
    "df_0 = df_0.drop('id', axis=1)\n",
    "df_1 = df_1.drop('id', axis=1)\n",
    "df_2 = df_2.drop('id', axis=1)"
   ]
  },
  {
   "cell_type": "markdown",
   "metadata": {},
   "source": [
    "<div class=\"alert alert-block alert-danger\">\n",
    "<b>❌ Комментарий ревьюера: </b> Теряется точность при дальнейших вычислениях. Тем более линейная регрессия предскажет дробные числа. Поэтому предлагаю оставить как есть\n",
    "</div>"
   ]
  },
  {
   "cell_type": "markdown",
   "metadata": {},
   "source": [
    "<div class=\"alert alert-block alert-info\">\n",
    "<b>Комментарий студента:</b> Вернулась к исходному формату\n",
    "</div>"
   ]
  },
  {
   "cell_type": "markdown",
   "metadata": {},
   "source": [
    "<div class=\"alert alert-block alert-success\">\n",
    "<b>✔️ Комментарий ревьюера v2: </b> 👍\n",
    "</div>"
   ]
  },
  {
   "cell_type": "markdown",
   "metadata": {},
   "source": [
    "Построим графики для отображения столбца \"product\""
   ]
  },
  {
   "cell_type": "code",
   "execution_count": 14,
   "metadata": {},
   "outputs": [],
   "source": [
    "# функция для построения графика по product для 3 регионов\n",
    "def hist(df, i):\n",
    "    df[df.columns.values[i]].hist(bins=50)\n",
    "    plt.xlabel('count')\n",
    "    plt.ylabel('frequency')\n",
    "    plt.title(df.columns.values[i])\n",
    "    plt.title('product')\n",
    "    plt.legend(('product'), loc='upper right')\n",
    "    plt.show()"
   ]
  },
  {
   "cell_type": "code",
   "execution_count": 15,
   "metadata": {},
   "outputs": [
    {
     "data": {
      "image/png": "[encoded data removed]",
      "text/plain": [
       "<Figure size 432x288 with 1 Axes>"
      ]
     },
     "metadata": {
      "needs_background": "light"
     },
     "output_type": "display_data"
    },
    {
     "data": {
      "image/png": "[encoded data removed]",
      "text/plain": [
       "<Figure size 432x288 with 1 Axes>"
      ]
     },
     "metadata": {
      "needs_background": "light"
     },
     "output_type": "display_data"
    },
    {
     "data": {
      "image/png": "[encoded data removed]",
      "text/plain": [
       "<Figure size 432x288 with 1 Axes>"
      ]
     },
     "metadata": {
      "needs_background": "light"
     },
     "output_type": "display_data"
    }
   ],
   "source": [
    "hist(df_0, 3)\n",
    "hist(df_1, 3)\n",
    "hist(df_2, 3)"
   ]
  },
  {
   "cell_type": "markdown",
   "metadata": {},
   "source": [
    "На всех трех графиках нет стандартного «колокола» распределения данных.  С помощью Bootstrap приведем его нормальному виду. По описанию видно, что график для первого и третьего месторождения значения среднего и медианы практически равны между собой: 2,50 и 2,51 для первого месторождения. И 2,49 и 2,48 для третьего месторождения. Во втором месторождении среднее и медиана отличаются друг от  друга: 2,49 и 2,01 соответственно. Это говорит о том, что во втором наборе данных есть больший диапазон между значениями. Стандартное отклонение во втором наборе 45,94. В первом и третьем наборе данные более равномерные (это видно и по графику и по описанию). Стандартное отклонение: 44,3 и 44,7 соответственно. По количеству запасов – третье месторождение самое большое. "
   ]
  },
  {
   "cell_type": "markdown",
   "metadata": {},
   "source": [
    "<div class=\"alert alert-block alert-success\">\n",
    "<b>✔️ Комментарий ревьюера: </b> Спасибо за вывод. Движемся дальше\n",
    "</div>"
   ]
  },
  {
   "cell_type": "markdown",
   "metadata": {},
   "source": [
    "## Обучение и проверка модели"
   ]
  },
  {
   "cell_type": "markdown",
   "metadata": {},
   "source": [
    "Разобем каждый набор данных на целевой признак и признаки:"
   ]
  },
  {
   "cell_type": "code",
   "execution_count": 16,
   "metadata": {},
   "outputs": [],
   "source": [
    "features_0 = df_0.drop(['product'],axis=1)\n",
    "target_0 = df_0['product']\n",
    "\n",
    "features_1 = df_1.drop(['product'],axis=1)\n",
    "target_1 = df_1['product']\n",
    "\n",
    "features_2 = df_2.drop(['product'],axis=1)\n",
    "target_2 = df_2['product']"
   ]
  },
  {
   "cell_type": "markdown",
   "metadata": {},
   "source": [
    "Чтобы не прописывать каждый раз параметр \"random_state\", зафиксируем его:"
   ]
  },
  {
   "cell_type": "code",
   "execution_count": 17,
   "metadata": {},
   "outputs": [],
   "source": [
    "rnd = np.random.RandomState(12345)"
   ]
  },
  {
   "cell_type": "markdown",
   "metadata": {},
   "source": [
    "Подготовим обучающую и валидную выборки в соотношении 75:25"
   ]
  },
  {
   "cell_type": "code",
   "execution_count": 18,
   "metadata": {},
   "outputs": [],
   "source": [
    "train_features_0, valid_features_0, train_target_0, valid_target_0 = train_test_split(features_0, \n",
    "                                                                                      target_0, \n",
    "                                                                                      test_size=.25, \n",
    "                                                                                      random_state = rnd)"
   ]
  },
  {
   "cell_type": "code",
   "execution_count": 19,
   "metadata": {},
   "outputs": [],
   "source": [
    "train_features_1, valid_features_1, train_target_1, valid_target_1 = train_test_split(features_1, \n",
    "                                                                                      target_1, \n",
    "                                                                                      test_size=.25, \n",
    "                                                                                      random_state = rnd)"
   ]
  },
  {
   "cell_type": "code",
   "execution_count": 20,
   "metadata": {},
   "outputs": [],
   "source": [
    "train_features_2, valid_features_2, train_target_2, valid_target_2 = train_test_split(features_2, \n",
    "                                                                                      target_2, \n",
    "                                                                                      test_size=.25, \n",
    "                                                                                      random_state =  rnd)"
   ]
  },
  {
   "cell_type": "markdown",
   "metadata": {},
   "source": [
    "Обучим с помощью модели Линейной регрессии на каждом наборе тренировочных выборок. В итоге получим три предсказания. Также расчитаем среднеквадратичную ошибку (RSME) и среднюю абсолютную ошибку (MAE) по каждому предсказанию модели:"
   ]
  },
  {
   "cell_type": "markdown",
   "metadata": {},
   "source": [
    "Обучаем модель на первой тестовой выборке. Также считаем RSME и MAE: "
   ]
  },
  {
   "cell_type": "code",
   "execution_count": 21,
   "metadata": {},
   "outputs": [],
   "source": [
    "model_reg_0=LinearRegression().fit(train_features_0,train_target_0)\n",
    "prediction_0=model_reg_0.predict(valid_features_0)\n",
    "prod_mean_0 = round(prediction_0.mean(), 4).astype('float')\n",
    "RMSE_0 = round(np.sqrt(mean_squared_error(prediction_0,valid_target_0)), 4).astype('float')\n",
    "MAE_0 = round(mean_absolute_error(prediction_0,valid_target_0), 4).astype('float')"
   ]
  },
  {
   "cell_type": "markdown",
   "metadata": {},
   "source": [
    "Результаты обучения на первой тестовой выборке:"
   ]
  },
  {
   "cell_type": "code",
   "execution_count": 22,
   "metadata": {},
   "outputs": [
    {
     "name": "stdout",
     "output_type": "stream",
     "text": [
      "Результат обучения на первой тестовой выборке:\n",
      "\n",
      "Средний запас сырья: 92.5926\n",
      "RMSE: 37.5794\n",
      "MAE: 30.9196\n"
     ]
    }
   ],
   "source": [
    "print('Результат обучения на первой тестовой выборке:')\n",
    "print()\n",
    "print('Средний запас сырья:', prod_mean_0)\n",
    "print('RMSE:', RMSE_0)\n",
    "print('MAE:', MAE_0)"
   ]
  },
  {
   "cell_type": "markdown",
   "metadata": {},
   "source": [
    "Обучаем модель на второй тестовой выборке. Также считаем RSME и MAE: "
   ]
  },
  {
   "cell_type": "code",
   "execution_count": 23,
   "metadata": {},
   "outputs": [],
   "source": [
    "model_reg_1=LinearRegression().fit(train_features_1,train_target_1)\n",
    "prediction_1=model_reg_1.predict(valid_features_1)\n",
    "prod_mean_1 = round(prediction_1.mean(), 4).astype('float')\n",
    "RMSE_1 = round(np.sqrt(mean_squared_error(prediction_1,valid_target_1)), 4).astype('float')\n",
    "MAE_1 = round(mean_absolute_error(prediction_1,valid_target_1), 4).astype('float')"
   ]
  },
  {
   "cell_type": "markdown",
   "metadata": {},
   "source": [
    "Результаты обучения на второй тестовой выборке:"
   ]
  },
  {
   "cell_type": "code",
   "execution_count": 24,
   "metadata": {},
   "outputs": [
    {
     "name": "stdout",
     "output_type": "stream",
     "text": [
      "Результат обучения на второй тестовой выборке:\n",
      "\n",
      "Средний запас сырья: 68.77\n",
      "RMSE: 0.8897\n",
      "MAE: 0.7173\n"
     ]
    }
   ],
   "source": [
    "print('Результат обучения на второй тестовой выборке:')\n",
    "print()\n",
    "print('Средний запас сырья:', prod_mean_1)\n",
    "print('RMSE:', RMSE_1)\n",
    "print('MAE:', MAE_1)"
   ]
  },
  {
   "cell_type": "markdown",
   "metadata": {},
   "source": [
    "Обучаем модель на третьей тестовой выборке. Также считаем RSME и MAE:"
   ]
  },
  {
   "cell_type": "code",
   "execution_count": 25,
   "metadata": {},
   "outputs": [],
   "source": [
    "model_reg_2=LinearRegression().fit(train_features_2,train_target_2)\n",
    "prediction_2=model_reg_2.predict(valid_features_2)\n",
    "prod_mean_2 = round(prediction_2.mean(), 4).astype('float')\n",
    "RMSE_2 = round(np.sqrt(mean_squared_error(prediction_2,valid_target_2)), 4).astype('float')\n",
    "MAE_2 = round(mean_absolute_error(prediction_2,valid_target_2), 4).astype('float')"
   ]
  },
  {
   "cell_type": "markdown",
   "metadata": {},
   "source": [
    "Результаты обучения на третьей тестовой выборке:"
   ]
  },
  {
   "cell_type": "code",
   "execution_count": 26,
   "metadata": {},
   "outputs": [
    {
     "name": "stdout",
     "output_type": "stream",
     "text": [
      "Результат обучения на третьей тестовой выборке:\n",
      "\n",
      "Средний запас сырья: 95.0875\n",
      "RMSE: 39.958\n",
      "MAE: 32.7961\n"
     ]
    }
   ],
   "source": [
    "print('Результат обучения на третьей тестовой выборке:')\n",
    "print()\n",
    "print('Средний запас сырья:', prod_mean_2)\n",
    "print('RMSE:', RMSE_2)\n",
    "print('MAE:', MAE_2)"
   ]
  },
  {
   "cell_type": "markdown",
   "metadata": {},
   "source": [
    "Сведем результаты в общую таблицу:"
   ]
  },
  {
   "cell_type": "code",
   "execution_count": 27,
   "metadata": {},
   "outputs": [],
   "source": [
    "data_result={'df_0':np.array([prod_mean_0, RMSE_0, MAE_0]),\n",
    "          'df_1':np.array([prod_mean_1, RMSE_1, MAE_1]),\n",
    "          'df_2':np.array([prod_mean_2, RMSE_2, MAE_2])}"
   ]
  },
  {
   "cell_type": "code",
   "execution_count": 28,
   "metadata": {},
   "outputs": [
    {
     "data": {
      "text/html": [
       "<div>\n",
       "<style scoped>\n",
       "    .dataframe tbody tr th:only-of-type {\n",
       "        vertical-align: middle;\n",
       "    }\n",
       "\n",
       "    .dataframe tbody tr th {\n",
       "        vertical-align: top;\n",
       "    }\n",
       "\n",
       "    .dataframe thead th {\n",
       "        text-align: right;\n",
       "    }\n",
       "</style>\n",
       "<table border=\"1\" class=\"dataframe\">\n",
       "  <thead>\n",
       "    <tr style=\"text-align: right;\">\n",
       "      <th></th>\n",
       "      <th>df_0</th>\n",
       "      <th>df_1</th>\n",
       "      <th>df_2</th>\n",
       "    </tr>\n",
       "  </thead>\n",
       "  <tbody>\n",
       "    <tr>\n",
       "      <th>Средний запас сырья, тыс.бареллей</th>\n",
       "      <td>92.5926</td>\n",
       "      <td>68.7700</td>\n",
       "      <td>95.0875</td>\n",
       "    </tr>\n",
       "    <tr>\n",
       "      <th>RMSE</th>\n",
       "      <td>37.5794</td>\n",
       "      <td>0.8897</td>\n",
       "      <td>39.9580</td>\n",
       "    </tr>\n",
       "    <tr>\n",
       "      <th>MAE</th>\n",
       "      <td>30.9196</td>\n",
       "      <td>0.7173</td>\n",
       "      <td>32.7961</td>\n",
       "    </tr>\n",
       "  </tbody>\n",
       "</table>\n",
       "</div>"
      ],
      "text/plain": [
       "                                      df_0     df_1     df_2\n",
       "Средний запас сырья, тыс.бареллей  92.5926  68.7700  95.0875\n",
       "RMSE                               37.5794   0.8897  39.9580\n",
       "MAE                                30.9196   0.7173  32.7961"
      ]
     },
     "metadata": {},
     "output_type": "display_data"
    }
   ],
   "source": [
    "data_result=pd.DataFrame(data_result,index=['Средний запас сырья, тыс.бареллей','RMSE','MAE'])\n",
    "display(data_result)"
   ]
  },
  {
   "cell_type": "markdown",
   "metadata": {},
   "source": [
    "<div class=\"alert alert-block alert-success\">\n",
    "<b>✔️ Комментарий ревьюера: </b> Согласен с результатами\n",
    "</div>"
   ]
  },
  {
   "cell_type": "markdown",
   "metadata": {},
   "source": [
    "Средний запас предсказанного сырья практически соответствует средним значениям запасов первоначальных данных:<br>\n",
    "Первоначальные данные/Предсказанные данные:<br>"
   ]
  },
  {
   "cell_type": "code",
   "execution_count": 29,
   "metadata": {},
   "outputs": [
    {
     "name": "stdout",
     "output_type": "stream",
     "text": [
      "1 месторождение: 92.5/92.5926\n",
      "2 месторождение: 68.825/68.77\n",
      "3 месторождение: 95.0/95.0875\n"
     ]
    }
   ],
   "source": [
    "print(f\"1 месторождение: {round(df_0['product'].mean(), 4)}/{prod_mean_0}\")\n",
    "print(f\"2 месторождение: {round(df_1['product'].mean(), 4)}/{prod_mean_1}\")\n",
    "print(f\"3 месторождение: {round(df_2['product'].mean(), 4)}/{prod_mean_2}\")"
   ]
  },
  {
   "cell_type": "markdown",
   "metadata": {},
   "source": [
    "Самое низкое значение метрик RMSE/MAE  - 0,8897/0,7173 достигнуто во втором месторождении. Определим для этого месторождения коэффициент корреляции: "
   ]
  },
  {
   "cell_type": "code",
   "execution_count": 30,
   "metadata": {},
   "outputs": [
    {
     "data": {
      "text/html": [
       "<div>\n",
       "<style scoped>\n",
       "    .dataframe tbody tr th:only-of-type {\n",
       "        vertical-align: middle;\n",
       "    }\n",
       "\n",
       "    .dataframe tbody tr th {\n",
       "        vertical-align: top;\n",
       "    }\n",
       "\n",
       "    .dataframe thead th {\n",
       "        text-align: right;\n",
       "    }\n",
       "</style>\n",
       "<table border=\"1\" class=\"dataframe\">\n",
       "  <thead>\n",
       "    <tr style=\"text-align: right;\">\n",
       "      <th></th>\n",
       "      <th>f0</th>\n",
       "      <th>f1</th>\n",
       "      <th>f2</th>\n",
       "      <th>product</th>\n",
       "    </tr>\n",
       "  </thead>\n",
       "  <tbody>\n",
       "    <tr>\n",
       "      <th>f0</th>\n",
       "      <td>1.000000</td>\n",
       "      <td>0.182287</td>\n",
       "      <td>-0.001777</td>\n",
       "      <td>-0.030491</td>\n",
       "    </tr>\n",
       "    <tr>\n",
       "      <th>f1</th>\n",
       "      <td>0.182287</td>\n",
       "      <td>1.000000</td>\n",
       "      <td>-0.002595</td>\n",
       "      <td>-0.010155</td>\n",
       "    </tr>\n",
       "    <tr>\n",
       "      <th>f2</th>\n",
       "      <td>-0.001777</td>\n",
       "      <td>-0.002595</td>\n",
       "      <td>1.000000</td>\n",
       "      <td>0.999397</td>\n",
       "    </tr>\n",
       "    <tr>\n",
       "      <th>product</th>\n",
       "      <td>-0.030491</td>\n",
       "      <td>-0.010155</td>\n",
       "      <td>0.999397</td>\n",
       "      <td>1.000000</td>\n",
       "    </tr>\n",
       "  </tbody>\n",
       "</table>\n",
       "</div>"
      ],
      "text/plain": [
       "               f0        f1        f2   product\n",
       "f0       1.000000  0.182287 -0.001777 -0.030491\n",
       "f1       0.182287  1.000000 -0.002595 -0.010155\n",
       "f2      -0.001777 -0.002595  1.000000  0.999397\n",
       "product -0.030491 -0.010155  0.999397  1.000000"
      ]
     },
     "metadata": {},
     "output_type": "display_data"
    }
   ],
   "source": [
    "display(df_1.corr()) "
   ]
  },
  {
   "cell_type": "markdown",
   "metadata": {},
   "source": [
    "По результатам коэффициента корреляции видно, что в данных между показателем f2 и целевым признаком есть линейная зависимость (коэффициент 0,999397). Для других показателей такой явной связи нет, кроме того, что уменьшение одного показателя, ведет к увеличению другого (отрицательный коэффициент)."
   ]
  },
  {
   "cell_type": "markdown",
   "metadata": {},
   "source": [
    "Самый высокие показатели метрик RMSE/MAE  - 37,5794/30,9196 по данным первого месторождения. Третье месторождение имеет небольшое отставание от первого месторожения. Изучим их коэффициенты корреляции:"
   ]
  },
  {
   "cell_type": "code",
   "execution_count": 31,
   "metadata": {},
   "outputs": [
    {
     "data": {
      "text/html": [
       "<div>\n",
       "<style scoped>\n",
       "    .dataframe tbody tr th:only-of-type {\n",
       "        vertical-align: middle;\n",
       "    }\n",
       "\n",
       "    .dataframe tbody tr th {\n",
       "        vertical-align: top;\n",
       "    }\n",
       "\n",
       "    .dataframe thead th {\n",
       "        text-align: right;\n",
       "    }\n",
       "</style>\n",
       "<table border=\"1\" class=\"dataframe\">\n",
       "  <thead>\n",
       "    <tr style=\"text-align: right;\">\n",
       "      <th></th>\n",
       "      <th>f0</th>\n",
       "      <th>f1</th>\n",
       "      <th>f2</th>\n",
       "      <th>product</th>\n",
       "    </tr>\n",
       "  </thead>\n",
       "  <tbody>\n",
       "    <tr>\n",
       "      <th>f0</th>\n",
       "      <td>1.000000</td>\n",
       "      <td>-0.440723</td>\n",
       "      <td>-0.003153</td>\n",
       "      <td>0.143536</td>\n",
       "    </tr>\n",
       "    <tr>\n",
       "      <th>f1</th>\n",
       "      <td>-0.440723</td>\n",
       "      <td>1.000000</td>\n",
       "      <td>0.001724</td>\n",
       "      <td>-0.192356</td>\n",
       "    </tr>\n",
       "    <tr>\n",
       "      <th>f2</th>\n",
       "      <td>-0.003153</td>\n",
       "      <td>0.001724</td>\n",
       "      <td>1.000000</td>\n",
       "      <td>0.483663</td>\n",
       "    </tr>\n",
       "    <tr>\n",
       "      <th>product</th>\n",
       "      <td>0.143536</td>\n",
       "      <td>-0.192356</td>\n",
       "      <td>0.483663</td>\n",
       "      <td>1.000000</td>\n",
       "    </tr>\n",
       "  </tbody>\n",
       "</table>\n",
       "</div>"
      ],
      "text/plain": [
       "               f0        f1        f2   product\n",
       "f0       1.000000 -0.440723 -0.003153  0.143536\n",
       "f1      -0.440723  1.000000  0.001724 -0.192356\n",
       "f2      -0.003153  0.001724  1.000000  0.483663\n",
       "product  0.143536 -0.192356  0.483663  1.000000"
      ]
     },
     "metadata": {},
     "output_type": "display_data"
    }
   ],
   "source": [
    "display(df_0.corr())"
   ]
  },
  {
   "cell_type": "code",
   "execution_count": 32,
   "metadata": {},
   "outputs": [
    {
     "data": {
      "text/html": [
       "<div>\n",
       "<style scoped>\n",
       "    .dataframe tbody tr th:only-of-type {\n",
       "        vertical-align: middle;\n",
       "    }\n",
       "\n",
       "    .dataframe tbody tr th {\n",
       "        vertical-align: top;\n",
       "    }\n",
       "\n",
       "    .dataframe thead th {\n",
       "        text-align: right;\n",
       "    }\n",
       "</style>\n",
       "<table border=\"1\" class=\"dataframe\">\n",
       "  <thead>\n",
       "    <tr style=\"text-align: right;\">\n",
       "      <th></th>\n",
       "      <th>f0</th>\n",
       "      <th>f1</th>\n",
       "      <th>f2</th>\n",
       "      <th>product</th>\n",
       "    </tr>\n",
       "  </thead>\n",
       "  <tbody>\n",
       "    <tr>\n",
       "      <th>f0</th>\n",
       "      <td>1.000000</td>\n",
       "      <td>0.000528</td>\n",
       "      <td>-0.000448</td>\n",
       "      <td>-0.001987</td>\n",
       "    </tr>\n",
       "    <tr>\n",
       "      <th>f1</th>\n",
       "      <td>0.000528</td>\n",
       "      <td>1.000000</td>\n",
       "      <td>0.000779</td>\n",
       "      <td>-0.001012</td>\n",
       "    </tr>\n",
       "    <tr>\n",
       "      <th>f2</th>\n",
       "      <td>-0.000448</td>\n",
       "      <td>0.000779</td>\n",
       "      <td>1.000000</td>\n",
       "      <td>0.445871</td>\n",
       "    </tr>\n",
       "    <tr>\n",
       "      <th>product</th>\n",
       "      <td>-0.001987</td>\n",
       "      <td>-0.001012</td>\n",
       "      <td>0.445871</td>\n",
       "      <td>1.000000</td>\n",
       "    </tr>\n",
       "  </tbody>\n",
       "</table>\n",
       "</div>"
      ],
      "text/plain": [
       "               f0        f1        f2   product\n",
       "f0       1.000000  0.000528 -0.000448 -0.001987\n",
       "f1       0.000528  1.000000  0.000779 -0.001012\n",
       "f2      -0.000448  0.000779  1.000000  0.445871\n",
       "product -0.001987 -0.001012  0.445871  1.000000"
      ]
     },
     "metadata": {},
     "output_type": "display_data"
    }
   ],
   "source": [
    "display(df_2.corr())"
   ]
  },
  {
   "cell_type": "markdown",
   "metadata": {},
   "source": [
    "Исходя из результатов коэффициента корреляции видно, что для обоих месторождений нет прямой зависимости между показателями и целевым признаком (модули близки к нулю). Связь между f2 и целевым признаком (которая явно линейная у второго месторождения) не такая очевидная. "
   ]
  },
  {
   "cell_type": "markdown",
   "metadata": {},
   "source": [
    "Исходя из результатов среднеквадратичной ошибки предсказания и целевого признака можно сделать вывод, что лучше всего предсказано месторождение df_1. При этом у этого месторождения меньше всего средний запас сырья. Остальные месторождения (df_0, df_2) предсказаны с большой ошибкой. Можно преподположить, что из-за того, что данные не соответсвуют нормальному распределению, значения среднего запаса могут быть другими. Используем технологию Bootstrap, чтобы получить нормальное распределение данных, а также применим статистический функционал."
   ]
  },
  {
   "cell_type": "markdown",
   "metadata": {},
   "source": [
    "<div class=\"alert alert-block alert-warning\">\n",
    "<b>⚠️ Комментарий ревьюера: </b>  Низкий RMSE не из-за распределения целевого признака. Здесь ключевую роль играет сильная линейная зависимость между целевой переменной и одним из признаков. Предлагаю это проверить с помощью коэффициента корреляции.\n",
    "</div>"
   ]
  },
  {
   "cell_type": "markdown",
   "metadata": {},
   "source": [
    "<div class=\"alert alert-block alert-info\">\n",
    "<b>Комментарий студента:</b> Определила и описала коэффициент корреляции для второго месторождения. Также сравнила для двух других месторождений\n",
    "</div>"
   ]
  },
  {
   "cell_type": "markdown",
   "metadata": {},
   "source": [
    "<div class=\"alert alert-block alert-success\">\n",
    "<b>✔️ Комментарий ревьюера v2: </b> 👌🏻\n",
    "</div>"
   ]
  },
  {
   "cell_type": "markdown",
   "metadata": {},
   "source": [
    "## Подготовка к расчёту прибыли"
   ]
  },
  {
   "cell_type": "markdown",
   "metadata": {},
   "source": [
    "Для расчета прибыли и рисков необходимо ввести константы, согласно требованию задачи:"
   ]
  },
  {
   "cell_type": "markdown",
   "metadata": {},
   "source": [
    "Условия задачи:<br>\n",
    "• При разведке региона исследуют 500 точек, из которых с помощью машинного обучения выбирают 200 лучших для разработки.<br>\n",
    "• Бюджет на разработку скважин в регионе — 10 млрд рублей.<br>\n",
    "• При нынешних ценах один баррель сырья приносит 450 рублей дохода. Доход с каждой единицы продукта составляет 450 тыс. рублей, поскольку объём указан в тысячах баррелей.<br>\n",
    "• После оценки рисков нужно оставить лишь те регионы, в которых вероятность убытков меньше 2.5%. Среди них выбирают регион с наибольшей средней прибылью.<br>"
   ]
  },
  {
   "cell_type": "markdown",
   "metadata": {},
   "source": [
    "n = 500 (исследование в 500 точек региона)<br>\n",
    "N_BEST = 200 (200 лучших точек для разработки)<br>\n",
    "BUDGET = 10*10**9 (бюджет на разработку скважин в регионе — 10 млрд рублей)<br>\n",
    "PRICE_BAR = 450*10**3 (цена за 1000 баррелей сырья)<br>\n",
    "NUM_DIV = 10**9 (делитель числа для упрощения восприятия цифр, равен 1 млрд)<br>"
   ]
  },
  {
   "cell_type": "markdown",
   "metadata": {},
   "source": [
    "Определим минимальный объем сырья, при котором месторождение будет безубыточным. В расчете используем условие, что разработка ведется в 200 лучших точках: "
   ]
  },
  {
   "cell_type": "code",
   "execution_count": 33,
   "metadata": {},
   "outputs": [
    {
     "name": "stdout",
     "output_type": "stream",
     "text": [
      "Минимальный объем сырья для безубыточной разработки: 111.11 тыс. баррелей\n"
     ]
    }
   ],
   "source": [
    "N_BEST = 200\n",
    "BUDGET = 10*10**9\n",
    "PRICE_BAR = 450*10**3\n",
    "profit_0 = BUDGET / N_BEST / PRICE_BAR\n",
    "print('Минимальный объем сырья для безубыточной разработки: {:.2f} тыс. баррелей'.format(profit_0))"
   ]
  },
  {
   "cell_type": "markdown",
   "metadata": {},
   "source": [
    "<div class=\"alert alert-block alert-warning\">\n",
    "<b>⚠️ Комментарий ревьюера: </b> Константы в python принято задавать в верхнем регистре. Например, PI=3.14. Предлагаю это поправить.\n",
    "\n",
    "https://pythonworld.ru/osnovy/pep-8-rukovodstvo-po-napisaniyu-koda-na-python.html\n",
    "\n",
    "https://github.com/earlgreyness/python-code-conventions\n",
    "</div>"
   ]
  },
  {
   "cell_type": "markdown",
   "metadata": {},
   "source": [
    "<div class=\"alert alert-block alert-info\">\n",
    "<b>Комментарий студента:</b> Исправила регистр констант\n",
    "</div>"
   ]
  },
  {
   "cell_type": "markdown",
   "metadata": {},
   "source": [
    "<div class=\"alert alert-block alert-success\">\n",
    "<b>✔️ Комментарий ревьюера v2: </b> Да, спасибо\n",
    "</div>"
   ]
  },
  {
   "cell_type": "code",
   "execution_count": 34,
   "metadata": {},
   "outputs": [
    {
     "data": {
      "text/html": [
       "<div>\n",
       "<style scoped>\n",
       "    .dataframe tbody tr th:only-of-type {\n",
       "        vertical-align: middle;\n",
       "    }\n",
       "\n",
       "    .dataframe tbody tr th {\n",
       "        vertical-align: top;\n",
       "    }\n",
       "\n",
       "    .dataframe thead th {\n",
       "        text-align: right;\n",
       "    }\n",
       "</style>\n",
       "<table border=\"1\" class=\"dataframe\">\n",
       "  <thead>\n",
       "    <tr style=\"text-align: right;\">\n",
       "      <th></th>\n",
       "      <th>df_0</th>\n",
       "      <th>df_1</th>\n",
       "      <th>df_2</th>\n",
       "    </tr>\n",
       "  </thead>\n",
       "  <tbody>\n",
       "    <tr>\n",
       "      <th>Средний запас сырья, тыс.бареллей</th>\n",
       "      <td>92.5926</td>\n",
       "      <td>68.7700</td>\n",
       "      <td>95.0875</td>\n",
       "    </tr>\n",
       "    <tr>\n",
       "      <th>RMSE</th>\n",
       "      <td>37.5794</td>\n",
       "      <td>0.8897</td>\n",
       "      <td>39.9580</td>\n",
       "    </tr>\n",
       "    <tr>\n",
       "      <th>MAE</th>\n",
       "      <td>30.9196</td>\n",
       "      <td>0.7173</td>\n",
       "      <td>32.7961</td>\n",
       "    </tr>\n",
       "  </tbody>\n",
       "</table>\n",
       "</div>"
      ],
      "text/plain": [
       "                                      df_0     df_1     df_2\n",
       "Средний запас сырья, тыс.бареллей  92.5926  68.7700  95.0875\n",
       "RMSE                               37.5794   0.8897  39.9580\n",
       "MAE                                30.9196   0.7173  32.7961"
      ]
     },
     "metadata": {},
     "output_type": "display_data"
    }
   ],
   "source": [
    "display(data_result)"
   ]
  },
  {
   "cell_type": "markdown",
   "metadata": {},
   "source": [
    "Сравнивая значения среднего запаса сырья в трех месторождениях и минимального объема, достаточного для его разработки, можно сделать вывод, что для каждого месторождения среднего объема сырья недостаточно для его разработки. "
   ]
  },
  {
   "cell_type": "markdown",
   "metadata": {},
   "source": [
    "## Расчёт прибыли и рисков "
   ]
  },
  {
   "cell_type": "markdown",
   "metadata": {},
   "source": [
    "Преобразуем полученные предсказания модели для каждого месторождения, а также целевые в Series:"
   ]
  },
  {
   "cell_type": "code",
   "execution_count": 35,
   "metadata": {},
   "outputs": [],
   "source": [
    "target_0 = pd.Series(valid_target_0)\n",
    "prediction_0 = pd.Series(prediction_0)\n",
    "\n",
    "target_1 = pd.Series(valid_target_1)\n",
    "prediction_1 = pd.Series(prediction_1)\n",
    "\n",
    "target_2 = pd.Series(valid_target_2)\n",
    "prediction_2 = pd.Series(prediction_2)"
   ]
  },
  {
   "cell_type": "markdown",
   "metadata": {},
   "source": [
    "Напишем функцию, которая расчитает прибыль по выбранным сважинам и предсказаниям модели. "
   ]
  },
  {
   "cell_type": "code",
   "execution_count": 36,
   "metadata": {},
   "outputs": [],
   "source": [
    "def profit(target, prediction, count):\n",
    "    prediction_top = prediction.sort_values(ascending=False)\n",
    "    selected = target[prediction_top.index][:count]\n",
    "    return PRICE_BAR * selected.sum() - BUDGET"
   ]
  },
  {
   "cell_type": "markdown",
   "metadata": {},
   "source": [
    "<div class=\"alert alert-block alert-success\">\n",
    "<b>✔️ Комментарий ревьюера️: </b> Функция расчёта прибыли написана верно.\n",
    "</div>"
   ]
  },
  {
   "cell_type": "markdown",
   "metadata": {},
   "source": [
    "\"Вложим\" ее в функцию Bootstrap и рассчитаем статистические показатели для скважин. В данном случае у нас будет ТОП-200 скважин:"
   ]
  },
  {
   "cell_type": "code",
   "execution_count": 37,
   "metadata": {},
   "outputs": [],
   "source": [
    "NUM_DIV = 10**9\n",
    "def bootstrap (target, prediction):\n",
    "    values = []\n",
    "    for i in range(1000):\n",
    "        target_subsample = target.reset_index(drop=True).sample(n=500, replace=True, random_state=rnd)\n",
    "        pred_subsample = prediction[target_subsample.index]\n",
    "        values.append(profit(target_subsample, pred_subsample, 200))\n",
    "    risk = 0.025\n",
    "    values = pd.Series(values)\n",
    "    lower = values.quantile(risk)\n",
    "    high = values.quantile(0.975)\n",
    "    confidence_interval = (lower, high)\n",
    "    mean = values.mean()\n",
    "    \n",
    "    data = pd.DataFrame(data=[mean / NUM_DIV, lower / NUM_DIV, high / NUM_DIV, confidence_interval, (values < 0).mean()], \n",
    "                        index=['Средняя прибыль региона, млрд.рублей', \n",
    "                               '2,5%-квантиль, млрд.рублей', \n",
    "                               '97,5%-квантиль, млрд.рублей', \n",
    "                               'Доверительный интервал', \n",
    "                               'Риск убытка'], \n",
    "                        columns=['Результат'], \n",
    "                        dtype=None, \n",
    "                        copy=False)\n",
    "\n",
    "    #print(\"Средняя прибыль региона: {:.2f} млрд.рублей\".format(mean / NUM_DIV))\n",
    "    #print(\"2,5%-квантиль: {:.2f} млрд.рублей\".format(lower / NUM_DIV))\n",
    "    #print(\"97,5%-квантиль: {:.2f} млрд.рублей\".format(high / NUM_DIV))\n",
    "    #print(\"Доверительный интервал: \", confidence_interval)\n",
    "    #print(\"Риск убытка:\", (values < 0).mean())\n",
    "    \n",
    "    display(data)"
   ]
  },
  {
   "cell_type": "markdown",
   "metadata": {},
   "source": [
    "<div class=\"alert alert-block alert-warning\">\n",
    "<b>⚠️ Комментарий ревьюера: </b>  Предлагаю использовать константы, написанные выше\n",
    "</div>"
   ]
  },
  {
   "cell_type": "markdown",
   "metadata": {},
   "source": [
    "<div class=\"alert alert-block alert-info\">\n",
    "<b>Комментарий студента:</b> Исправила регистр констант\n",
    "</div>"
   ]
  },
  {
   "cell_type": "markdown",
   "metadata": {},
   "source": [
    "<div class=\"alert alert-block alert-success\">\n",
    "<b>✔️ Комментарий ревьюера v2: </b> 👌🏻\n",
    "</div>"
   ]
  },
  {
   "cell_type": "markdown",
   "metadata": {},
   "source": [
    "Применим технологию Bootstrap для каждого месторожения:"
   ]
  },
  {
   "cell_type": "code",
   "execution_count": 38,
   "metadata": {},
   "outputs": [
    {
     "name": "stdout",
     "output_type": "stream",
     "text": [
      "Месторождение №1:\n"
     ]
    },
    {
     "data": {
      "text/html": [
       "<div>\n",
       "<style scoped>\n",
       "    .dataframe tbody tr th:only-of-type {\n",
       "        vertical-align: middle;\n",
       "    }\n",
       "\n",
       "    .dataframe tbody tr th {\n",
       "        vertical-align: top;\n",
       "    }\n",
       "\n",
       "    .dataframe thead th {\n",
       "        text-align: right;\n",
       "    }\n",
       "</style>\n",
       "<table border=\"1\" class=\"dataframe\">\n",
       "  <thead>\n",
       "    <tr style=\"text-align: right;\">\n",
       "      <th></th>\n",
       "      <th>Результат</th>\n",
       "    </tr>\n",
       "  </thead>\n",
       "  <tbody>\n",
       "    <tr>\n",
       "      <th>Средняя прибыль региона, млрд.рублей</th>\n",
       "      <td>0.423897</td>\n",
       "    </tr>\n",
       "    <tr>\n",
       "      <th>2,5%-квантиль, млрд.рублей</th>\n",
       "      <td>-0.076188</td>\n",
       "    </tr>\n",
       "    <tr>\n",
       "      <th>97,5%-квантиль, млрд.рублей</th>\n",
       "      <td>0.957847</td>\n",
       "    </tr>\n",
       "    <tr>\n",
       "      <th>Доверительный интервал</th>\n",
       "      <td>(-76187813.89036272, 957846531.951783)</td>\n",
       "    </tr>\n",
       "    <tr>\n",
       "      <th>Риск убытка</th>\n",
       "      <td>0.048</td>\n",
       "    </tr>\n",
       "  </tbody>\n",
       "</table>\n",
       "</div>"
      ],
      "text/plain": [
       "                                                                   Результат\n",
       "Средняя прибыль региона, млрд.рублей                                0.423897\n",
       "2,5%-квантиль, млрд.рублей                                         -0.076188\n",
       "97,5%-квантиль, млрд.рублей                                         0.957847\n",
       "Доверительный интервал                (-76187813.89036272, 957846531.951783)\n",
       "Риск убытка                                                            0.048"
      ]
     },
     "metadata": {},
     "output_type": "display_data"
    }
   ],
   "source": [
    "print(\"Месторождение №1:\")\n",
    "bootstrap(target_0, prediction_0)"
   ]
  },
  {
   "cell_type": "code",
   "execution_count": 39,
   "metadata": {},
   "outputs": [
    {
     "name": "stdout",
     "output_type": "stream",
     "text": [
      "Месторождение №2:\n"
     ]
    },
    {
     "data": {
      "text/html": [
       "<div>\n",
       "<style scoped>\n",
       "    .dataframe tbody tr th:only-of-type {\n",
       "        vertical-align: middle;\n",
       "    }\n",
       "\n",
       "    .dataframe tbody tr th {\n",
       "        vertical-align: top;\n",
       "    }\n",
       "\n",
       "    .dataframe thead th {\n",
       "        text-align: right;\n",
       "    }\n",
       "</style>\n",
       "<table border=\"1\" class=\"dataframe\">\n",
       "  <thead>\n",
       "    <tr style=\"text-align: right;\">\n",
       "      <th></th>\n",
       "      <th>Результат</th>\n",
       "    </tr>\n",
       "  </thead>\n",
       "  <tbody>\n",
       "    <tr>\n",
       "      <th>Средняя прибыль региона, млрд.рублей</th>\n",
       "      <td>0.513257</td>\n",
       "    </tr>\n",
       "    <tr>\n",
       "      <th>2,5%-квантиль, млрд.рублей</th>\n",
       "      <td>0.108067</td>\n",
       "    </tr>\n",
       "    <tr>\n",
       "      <th>97,5%-квантиль, млрд.рублей</th>\n",
       "      <td>0.928574</td>\n",
       "    </tr>\n",
       "    <tr>\n",
       "      <th>Доверительный интервал</th>\n",
       "      <td>(108066895.23396212, 928574439.2324963)</td>\n",
       "    </tr>\n",
       "    <tr>\n",
       "      <th>Риск убытка</th>\n",
       "      <td>0.006</td>\n",
       "    </tr>\n",
       "  </tbody>\n",
       "</table>\n",
       "</div>"
      ],
      "text/plain": [
       "                                                                    Результат\n",
       "Средняя прибыль региона, млрд.рублей                                 0.513257\n",
       "2,5%-квантиль, млрд.рублей                                           0.108067\n",
       "97,5%-квантиль, млрд.рублей                                          0.928574\n",
       "Доверительный интервал                (108066895.23396212, 928574439.2324963)\n",
       "Риск убытка                                                             0.006"
      ]
     },
     "metadata": {},
     "output_type": "display_data"
    }
   ],
   "source": [
    "print(\"Месторождение №2:\")\n",
    "bootstrap(target_1, prediction_1)"
   ]
  },
  {
   "cell_type": "code",
   "execution_count": 40,
   "metadata": {},
   "outputs": [
    {
     "name": "stdout",
     "output_type": "stream",
     "text": [
      "Месторождение №3:\n"
     ]
    },
    {
     "data": {
      "text/html": [
       "<div>\n",
       "<style scoped>\n",
       "    .dataframe tbody tr th:only-of-type {\n",
       "        vertical-align: middle;\n",
       "    }\n",
       "\n",
       "    .dataframe tbody tr th {\n",
       "        vertical-align: top;\n",
       "    }\n",
       "\n",
       "    .dataframe thead th {\n",
       "        text-align: right;\n",
       "    }\n",
       "</style>\n",
       "<table border=\"1\" class=\"dataframe\">\n",
       "  <thead>\n",
       "    <tr style=\"text-align: right;\">\n",
       "      <th></th>\n",
       "      <th>Результат</th>\n",
       "    </tr>\n",
       "  </thead>\n",
       "  <tbody>\n",
       "    <tr>\n",
       "      <th>Средняя прибыль региона, млрд.рублей</th>\n",
       "      <td>0.38112</td>\n",
       "    </tr>\n",
       "    <tr>\n",
       "      <th>2,5%-квантиль, млрд.рублей</th>\n",
       "      <td>-0.142801</td>\n",
       "    </tr>\n",
       "    <tr>\n",
       "      <th>97,5%-квантиль, млрд.рублей</th>\n",
       "      <td>0.893381</td>\n",
       "    </tr>\n",
       "    <tr>\n",
       "      <th>Доверительный интервал</th>\n",
       "      <td>(-142800630.08786878, 893380565.7504003)</td>\n",
       "    </tr>\n",
       "    <tr>\n",
       "      <th>Риск убытка</th>\n",
       "      <td>0.074</td>\n",
       "    </tr>\n",
       "  </tbody>\n",
       "</table>\n",
       "</div>"
      ],
      "text/plain": [
       "                                                                     Результат\n",
       "Средняя прибыль региона, млрд.рублей                                   0.38112\n",
       "2,5%-квантиль, млрд.рублей                                           -0.142801\n",
       "97,5%-квантиль, млрд.рублей                                           0.893381\n",
       "Доверительный интервал                (-142800630.08786878, 893380565.7504003)\n",
       "Риск убытка                                                              0.074"
      ]
     },
     "metadata": {},
     "output_type": "display_data"
    }
   ],
   "source": [
    "print(\"Месторождение №3:\")\n",
    "bootstrap(target_2, prediction_2)"
   ]
  },
  {
   "cell_type": "markdown",
   "metadata": {},
   "source": [
    "В исследовании были использованы три дата сета.<br> \n",
    "Был проведен исследовательский анализ данных:<br>\n",
    "- соответствие типа и формата данных<br>\n",
    "- наличие пропусков и дубликатов<br>\n",
    "Определили, что распределение признаков не соответствуют нормальному распределению.<br>\n",
    "Определены признаки и целевой признак для обучения модели. Для предсказания объёмов нефти в скважинах использована линейная модель.<br> \n",
    "Для расчетов рисков и прибыли по каждому месторождению была применена технология Bootstrap с 1000 выборок.<br> \n",
    "В результате нашли:<br>\n",
    "- среднюю прибыль региона<br>\n",
    "- 95% доверительный интервал для среднего объема нефти в скважинах<br>\n",
    "- 2,5% и 97,5% квантили<br>\n",
    "- риск убытка<br>\n",
    "Основной критерий - вероятность убытков - 2.5 %. Месторождение №2 имеет самую низкую вероятность убытков, всего 0.6%. И более узкий доверительный интервал, и соответственно более высокую среднюю прибыль.<br>\n",
    "Остальные два месторождения не проходят по основному критерию: 4,8% и 7,4% вероятность убытков соответственно. "
   ]
  },
  {
   "cell_type": "markdown",
   "metadata": {},
   "source": [
    "<div class=\"alert alert-block alert-success\">\n",
    "<b>✔️ Комментарий ревьюера: </b> Да, спасибо за вывод. Удобно отслеживать результат выполнения работы\n",
    "</div>"
   ]
  },
  {
   "cell_type": "markdown",
   "metadata": {},
   "source": [
    "<font color='blue'><b>Итоговый комментарий ревьюера</b></font>\n",
    "<div class=\"alert alert-block alert-success\">\n",
    "<b>✔️ Комментарий ревьюера:</b>\n",
    "Мне очень понравилась твоя работа. Спасибо тебе большое, за хорошее оформление проекта и выводы к каждому этапу работы.\n",
    "Чувствуется уверенное знание материала и владение питоном в целом. \n",
    "</div>\n",
    "<font color='blue'><b>Но нужно кое-что поправить:</b></font>\n",
    "<div class=\"alert alert-block alert-danger\">\n",
    "<ul>1) Не округлять значения таргетов</ul>\n",
    "</div>\n",
    "\n",
    "<font color='blue'><b>Осталось совсем немного, буду ждать твою работу на повторное ревью 🙂</b></font>"
   ]
  },
  {
   "cell_type": "markdown",
   "metadata": {},
   "source": [
    "<div class=\"alert alert-block alert-info\">\n",
    "<b>Комментарий студента:</b> Спасибо за проверку проекта! \n",
    "</div>"
   ]
  },
  {
   "cell_type": "markdown",
   "metadata": {},
   "source": [
    "<div class=\"alert alert-block alert-success\">\n",
    "<b>✔️ Комментарий ревьюера v2: </b> Спасибо за интерес к проекту. Исправлены все замечания и рекомендации! \n",
    "Принято. Желаю дальнейших успехов в учёбе и на работе.\n",
    "</div>"
   ]
  },
  {
   "cell_type": "markdown",
   "metadata": {},
   "source": [
    "## Чек-лист готовности проекта"
   ]
  },
  {
   "cell_type": "markdown",
   "metadata": {},
   "source": [
    "Поставьте 'x' в выполненных пунктах. Далее нажмите Shift+Enter."
   ]
  },
  {
   "cell_type": "markdown",
   "metadata": {},
   "source": [
    "- [x]  Jupyter Notebook открыт\n",
    "- [x]  Весь код выполняется без ошибок\n",
    "- [x]  Ячейки с кодом расположены в порядке исполнения\n",
    "- [x]  Выполнен шаг 1: данные подготовлены\n",
    "- [x]  Выполнен шаг 2: модели обучены и проверены\n",
    "    - [x]  Данные корректно разбиты на обучающую и валидационную выборки\n",
    "    - [x]  Модели обучены, предсказания сделаны\n",
    "    - [x]  Предсказания и правильные ответы на валидационной выборке сохранены\n",
    "    - [x]  На экране напечатаны результаты\n",
    "    - [x]  Сделаны выводы\n",
    "- [x]  Выполнен шаг 3: проведена подготовка к расчёту прибыли\n",
    "    - [x]  Для всех ключевых значений созданы константы Python\n",
    "    - [x]  Посчитано минимальное среднее количество продукта в месторождениях региона, достаточное для разработки\n",
    "    - [x]  По предыдущему пункту сделаны выводы\n",
    "    - [x]  Написана функция расчёта прибыли\n",
    "- [x]  Выполнен шаг 4: посчитаны риски и прибыль\n",
    "    - [x]  Проведена процедура *Bootstrap*\n",
    "    - [x]  Все параметры бутстрепа соответствуют условию\n",
    "    - [x]  Найдены все нужные величины\n",
    "    - [x]  Предложен регион для разработки месторождения\n",
    "    - [x]  Выбор региона обоснован"
   ]
  },
  {
   "cell_type": "code",
   "execution_count": null,
   "metadata": {},
   "outputs": [],
   "source": []
  }
 ],
 "metadata": {
  "ExecuteTimeLog": [
   {
    "duration": 1389,
    "start_time": "2022-10-21T04:12:12.055Z"
   },
   {
    "duration": 141,
    "start_time": "2022-10-21T04:12:13.446Z"
   },
   {
    "duration": 0,
    "start_time": "2022-10-21T04:12:13.590Z"
   },
   {
    "duration": 0,
    "start_time": "2022-10-21T04:12:13.591Z"
   },
   {
    "duration": 0,
    "start_time": "2022-10-21T04:12:13.592Z"
   },
   {
    "duration": 0,
    "start_time": "2022-10-21T04:12:13.594Z"
   },
   {
    "duration": 0,
    "start_time": "2022-10-21T04:12:13.600Z"
   },
   {
    "duration": 0,
    "start_time": "2022-10-21T04:12:13.602Z"
   },
   {
    "duration": 0,
    "start_time": "2022-10-21T04:12:13.603Z"
   },
   {
    "duration": 0,
    "start_time": "2022-10-21T04:12:13.604Z"
   },
   {
    "duration": 0,
    "start_time": "2022-10-21T04:12:13.605Z"
   },
   {
    "duration": 0,
    "start_time": "2022-10-21T04:12:13.607Z"
   },
   {
    "duration": 0,
    "start_time": "2022-10-21T04:12:13.608Z"
   },
   {
    "duration": 0,
    "start_time": "2022-10-21T04:12:13.610Z"
   },
   {
    "duration": 0,
    "start_time": "2022-10-21T04:12:13.611Z"
   },
   {
    "duration": 0,
    "start_time": "2022-10-21T04:12:13.612Z"
   },
   {
    "duration": 0,
    "start_time": "2022-10-21T04:12:13.613Z"
   },
   {
    "duration": 0,
    "start_time": "2022-10-21T04:12:13.614Z"
   },
   {
    "duration": 0,
    "start_time": "2022-10-21T04:12:13.614Z"
   },
   {
    "duration": 0,
    "start_time": "2022-10-21T04:12:13.615Z"
   },
   {
    "duration": 0,
    "start_time": "2022-10-21T04:12:13.616Z"
   },
   {
    "duration": 0,
    "start_time": "2022-10-21T04:12:13.617Z"
   },
   {
    "duration": 0,
    "start_time": "2022-10-21T04:12:13.618Z"
   },
   {
    "duration": 0,
    "start_time": "2022-10-21T04:12:13.620Z"
   },
   {
    "duration": 0,
    "start_time": "2022-10-21T04:12:13.621Z"
   },
   {
    "duration": 0,
    "start_time": "2022-10-21T04:12:13.622Z"
   },
   {
    "duration": 0,
    "start_time": "2022-10-21T04:12:13.623Z"
   },
   {
    "duration": 0,
    "start_time": "2022-10-21T04:12:13.624Z"
   },
   {
    "duration": 0,
    "start_time": "2022-10-21T04:12:13.624Z"
   },
   {
    "duration": 0,
    "start_time": "2022-10-21T04:12:13.625Z"
   },
   {
    "duration": 0,
    "start_time": "2022-10-21T04:12:13.626Z"
   },
   {
    "duration": 0,
    "start_time": "2022-10-21T04:12:13.627Z"
   },
   {
    "duration": 1,
    "start_time": "2022-10-21T04:12:13.627Z"
   },
   {
    "duration": 0,
    "start_time": "2022-10-21T04:12:13.628Z"
   },
   {
    "duration": 0,
    "start_time": "2022-10-21T04:12:13.629Z"
   },
   {
    "duration": 0,
    "start_time": "2022-10-21T04:12:13.630Z"
   },
   {
    "duration": 0,
    "start_time": "2022-10-21T04:12:13.632Z"
   },
   {
    "duration": 1275,
    "start_time": "2022-10-21T04:13:00.164Z"
   },
   {
    "duration": 673,
    "start_time": "2022-10-21T04:13:01.441Z"
   },
   {
    "duration": 14,
    "start_time": "2022-10-21T04:13:02.115Z"
   },
   {
    "duration": 18,
    "start_time": "2022-10-21T04:13:02.131Z"
   },
   {
    "duration": 9,
    "start_time": "2022-10-21T04:13:02.150Z"
   },
   {
    "duration": 16,
    "start_time": "2022-10-21T04:13:02.160Z"
   },
   {
    "duration": 28,
    "start_time": "2022-10-21T04:13:02.178Z"
   },
   {
    "duration": 15,
    "start_time": "2022-10-21T04:13:02.208Z"
   },
   {
    "duration": 34,
    "start_time": "2022-10-21T04:13:02.225Z"
   },
   {
    "duration": 58,
    "start_time": "2022-10-21T04:13:02.261Z"
   },
   {
    "duration": 31,
    "start_time": "2022-10-21T04:13:02.320Z"
   },
   {
    "duration": 132,
    "start_time": "2022-10-21T04:13:02.352Z"
   },
   {
    "duration": 22,
    "start_time": "2022-10-21T04:13:02.486Z"
   },
   {
    "duration": 14,
    "start_time": "2022-10-21T04:13:02.510Z"
   },
   {
    "duration": 5,
    "start_time": "2022-10-21T04:13:02.525Z"
   },
   {
    "duration": 650,
    "start_time": "2022-10-21T04:13:02.531Z"
   },
   {
    "duration": 8,
    "start_time": "2022-10-21T04:13:03.183Z"
   },
   {
    "duration": 23,
    "start_time": "2022-10-21T04:13:03.199Z"
   },
   {
    "duration": 21,
    "start_time": "2022-10-21T04:13:03.223Z"
   },
   {
    "duration": 11,
    "start_time": "2022-10-21T04:13:03.246Z"
   },
   {
    "duration": 12,
    "start_time": "2022-10-21T04:13:03.259Z"
   },
   {
    "duration": 128,
    "start_time": "2022-10-21T04:13:03.272Z"
   },
   {
    "duration": 4,
    "start_time": "2022-10-21T04:13:03.403Z"
   },
   {
    "duration": 109,
    "start_time": "2022-10-21T04:13:03.409Z"
   },
   {
    "duration": 83,
    "start_time": "2022-10-21T04:13:03.520Z"
   },
   {
    "duration": 120,
    "start_time": "2022-10-21T04:13:03.604Z"
   },
   {
    "duration": 77,
    "start_time": "2022-10-21T04:13:03.725Z"
   },
   {
    "duration": 102,
    "start_time": "2022-10-21T04:13:03.805Z"
   },
   {
    "duration": 12,
    "start_time": "2022-10-21T04:13:03.908Z"
   },
   {
    "duration": 10,
    "start_time": "2022-10-21T04:13:03.922Z"
   },
   {
    "duration": 13,
    "start_time": "2022-10-21T04:13:03.934Z"
   },
   {
    "duration": 5,
    "start_time": "2022-10-21T04:13:03.948Z"
   },
   {
    "duration": 7,
    "start_time": "2022-10-21T04:13:03.955Z"
   },
   {
    "duration": 23,
    "start_time": "2022-10-21T04:13:03.963Z"
   },
   {
    "duration": 1453,
    "start_time": "2022-10-21T04:13:03.987Z"
   },
   {
    "duration": 1980,
    "start_time": "2022-10-21T04:13:05.442Z"
   },
   {
    "duration": 1589,
    "start_time": "2022-10-21T04:13:07.423Z"
   },
   {
    "duration": 1378,
    "start_time": "2022-10-21T19:49:00.003Z"
   },
   {
    "duration": 348,
    "start_time": "2022-10-21T19:49:01.383Z"
   },
   {
    "duration": 13,
    "start_time": "2022-10-21T19:49:01.732Z"
   },
   {
    "duration": 38,
    "start_time": "2022-10-21T19:49:01.746Z"
   },
   {
    "duration": 35,
    "start_time": "2022-10-21T19:49:01.786Z"
   },
   {
    "duration": 36,
    "start_time": "2022-10-21T19:49:01.822Z"
   },
   {
    "duration": 12,
    "start_time": "2022-10-21T19:49:01.859Z"
   },
   {
    "duration": 47,
    "start_time": "2022-10-21T19:49:01.872Z"
   },
   {
    "duration": 54,
    "start_time": "2022-10-21T19:49:01.920Z"
   },
   {
    "duration": 33,
    "start_time": "2022-10-21T19:49:01.978Z"
   },
   {
    "duration": 28,
    "start_time": "2022-10-21T19:49:02.012Z"
   },
   {
    "duration": 102,
    "start_time": "2022-10-21T19:49:02.042Z"
   },
   {
    "duration": 9,
    "start_time": "2022-10-21T19:49:02.145Z"
   },
   {
    "duration": 39,
    "start_time": "2022-10-21T19:49:02.156Z"
   },
   {
    "duration": 4,
    "start_time": "2022-10-21T19:49:02.196Z"
   },
   {
    "duration": 608,
    "start_time": "2022-10-21T19:49:02.201Z"
   },
   {
    "duration": 12,
    "start_time": "2022-10-21T19:49:02.810Z"
   },
   {
    "duration": 10,
    "start_time": "2022-10-21T19:49:02.824Z"
   },
   {
    "duration": 20,
    "start_time": "2022-10-21T19:49:02.835Z"
   },
   {
    "duration": 12,
    "start_time": "2022-10-21T19:49:02.856Z"
   },
   {
    "duration": 13,
    "start_time": "2022-10-21T19:49:02.870Z"
   },
   {
    "duration": 139,
    "start_time": "2022-10-21T19:49:02.884Z"
   },
   {
    "duration": 102,
    "start_time": "2022-10-21T19:49:03.025Z"
   },
   {
    "duration": 93,
    "start_time": "2022-10-21T19:49:03.128Z"
   },
   {
    "duration": 101,
    "start_time": "2022-10-21T19:49:03.223Z"
   },
   {
    "duration": 26,
    "start_time": "2022-10-21T19:49:03.326Z"
   },
   {
    "duration": 71,
    "start_time": "2022-10-21T19:49:03.354Z"
   },
   {
    "duration": 94,
    "start_time": "2022-10-21T19:49:03.428Z"
   },
   {
    "duration": 7,
    "start_time": "2022-10-21T19:49:03.524Z"
   },
   {
    "duration": 7,
    "start_time": "2022-10-21T19:49:03.533Z"
   },
   {
    "duration": 13,
    "start_time": "2022-10-21T19:49:03.542Z"
   },
   {
    "duration": 16,
    "start_time": "2022-10-21T19:49:03.556Z"
   },
   {
    "duration": 19,
    "start_time": "2022-10-21T19:49:03.573Z"
   },
   {
    "duration": 23,
    "start_time": "2022-10-21T19:49:03.594Z"
   },
   {
    "duration": 1380,
    "start_time": "2022-10-21T19:49:03.618Z"
   },
   {
    "duration": 1406,
    "start_time": "2022-10-21T19:49:05.000Z"
   },
   {
    "duration": 1352,
    "start_time": "2022-10-21T19:49:06.407Z"
   },
   {
    "duration": 86,
    "start_time": "2022-10-21T19:51:45.629Z"
   },
   {
    "duration": 1801,
    "start_time": "2022-10-22T16:13:46.157Z"
   },
   {
    "duration": 2279,
    "start_time": "2022-10-22T16:13:47.960Z"
   },
   {
    "duration": 57,
    "start_time": "2022-10-22T16:13:50.240Z"
   },
   {
    "duration": 18,
    "start_time": "2022-10-22T16:13:50.300Z"
   },
   {
    "duration": 13,
    "start_time": "2022-10-22T16:13:50.320Z"
   },
   {
    "duration": 65,
    "start_time": "2022-10-22T16:13:50.335Z"
   },
   {
    "duration": 12,
    "start_time": "2022-10-22T16:13:50.401Z"
   },
   {
    "duration": 17,
    "start_time": "2022-10-22T16:13:50.415Z"
   },
   {
    "duration": 105,
    "start_time": "2022-10-22T16:13:50.434Z"
   },
   {
    "duration": 49,
    "start_time": "2022-10-22T16:13:50.596Z"
   },
   {
    "duration": 100,
    "start_time": "2022-10-22T16:13:50.695Z"
   },
   {
    "duration": 330,
    "start_time": "2022-10-22T16:13:50.798Z"
   },
   {
    "duration": 10,
    "start_time": "2022-10-22T16:13:51.130Z"
   },
   {
    "duration": 5,
    "start_time": "2022-10-22T16:13:51.195Z"
   },
   {
    "duration": 1120,
    "start_time": "2022-10-22T16:13:51.201Z"
   },
   {
    "duration": 10,
    "start_time": "2022-10-22T16:13:52.322Z"
   },
   {
    "duration": 16,
    "start_time": "2022-10-22T16:13:52.334Z"
   },
   {
    "duration": 27,
    "start_time": "2022-10-22T16:13:52.352Z"
   },
   {
    "duration": 22,
    "start_time": "2022-10-22T16:13:52.380Z"
   },
   {
    "duration": 24,
    "start_time": "2022-10-22T16:13:52.405Z"
   },
   {
    "duration": 109,
    "start_time": "2022-10-22T16:13:52.431Z"
   },
   {
    "duration": 4,
    "start_time": "2022-10-22T16:13:52.596Z"
   },
   {
    "duration": 137,
    "start_time": "2022-10-22T16:13:52.603Z"
   },
   {
    "duration": 174,
    "start_time": "2022-10-22T16:13:52.742Z"
   },
   {
    "duration": 38,
    "start_time": "2022-10-22T16:13:52.919Z"
   },
   {
    "duration": 44,
    "start_time": "2022-10-22T16:13:52.959Z"
   },
   {
    "duration": 123,
    "start_time": "2022-10-22T16:13:53.005Z"
   },
   {
    "duration": 19,
    "start_time": "2022-10-22T16:13:53.133Z"
   },
   {
    "duration": 35,
    "start_time": "2022-10-22T16:13:53.154Z"
   },
   {
    "duration": 59,
    "start_time": "2022-10-22T16:13:53.191Z"
   },
   {
    "duration": 15,
    "start_time": "2022-10-22T16:13:53.252Z"
   },
   {
    "duration": 20,
    "start_time": "2022-10-22T16:13:53.269Z"
   },
   {
    "duration": 22,
    "start_time": "2022-10-22T16:13:53.290Z"
   },
   {
    "duration": 19,
    "start_time": "2022-10-22T16:13:53.314Z"
   },
   {
    "duration": 17,
    "start_time": "2022-10-22T16:13:53.334Z"
   },
   {
    "duration": 19,
    "start_time": "2022-10-22T16:13:53.353Z"
   },
   {
    "duration": 19,
    "start_time": "2022-10-22T16:13:53.374Z"
   },
   {
    "duration": 1818,
    "start_time": "2022-10-22T16:13:53.395Z"
   },
   {
    "duration": 1755,
    "start_time": "2022-10-22T16:13:55.215Z"
   },
   {
    "duration": 1748,
    "start_time": "2022-10-22T16:13:56.972Z"
   },
   {
    "duration": 1398,
    "start_time": "2022-10-22T16:16:08.933Z"
   },
   {
    "duration": 445,
    "start_time": "2022-10-22T16:16:10.333Z"
   },
   {
    "duration": 21,
    "start_time": "2022-10-22T16:16:10.780Z"
   },
   {
    "duration": 33,
    "start_time": "2022-10-22T16:16:10.804Z"
   },
   {
    "duration": 12,
    "start_time": "2022-10-22T16:16:10.839Z"
   },
   {
    "duration": 25,
    "start_time": "2022-10-22T16:16:10.853Z"
   },
   {
    "duration": 18,
    "start_time": "2022-10-22T16:16:10.880Z"
   },
   {
    "duration": 31,
    "start_time": "2022-10-22T16:16:10.900Z"
   },
   {
    "duration": 38,
    "start_time": "2022-10-22T16:16:10.933Z"
   },
   {
    "duration": 56,
    "start_time": "2022-10-22T16:16:10.974Z"
   },
   {
    "duration": 46,
    "start_time": "2022-10-22T16:16:11.032Z"
   },
   {
    "duration": 170,
    "start_time": "2022-10-22T16:16:11.079Z"
   },
   {
    "duration": 12,
    "start_time": "2022-10-22T16:16:11.251Z"
   },
   {
    "duration": 13,
    "start_time": "2022-10-22T16:16:11.265Z"
   },
   {
    "duration": 819,
    "start_time": "2022-10-22T16:16:11.282Z"
   },
   {
    "duration": 12,
    "start_time": "2022-10-22T16:16:12.103Z"
   },
   {
    "duration": 9,
    "start_time": "2022-10-22T16:16:12.121Z"
   },
   {
    "duration": 21,
    "start_time": "2022-10-22T16:16:12.133Z"
   },
   {
    "duration": 12,
    "start_time": "2022-10-22T16:16:12.156Z"
   },
   {
    "duration": 30,
    "start_time": "2022-10-22T16:16:12.170Z"
   },
   {
    "duration": 112,
    "start_time": "2022-10-22T16:16:12.202Z"
   },
   {
    "duration": 182,
    "start_time": "2022-10-22T16:16:12.316Z"
   },
   {
    "duration": 26,
    "start_time": "2022-10-22T16:16:12.502Z"
   },
   {
    "duration": 66,
    "start_time": "2022-10-22T16:16:12.530Z"
   },
   {
    "duration": 196,
    "start_time": "2022-10-22T16:16:12.599Z"
   },
   {
    "duration": 100,
    "start_time": "2022-10-22T16:16:12.799Z"
   },
   {
    "duration": 19,
    "start_time": "2022-10-22T16:16:12.901Z"
   },
   {
    "duration": 31,
    "start_time": "2022-10-22T16:16:12.923Z"
   },
   {
    "duration": 40,
    "start_time": "2022-10-22T16:16:12.957Z"
   },
   {
    "duration": 26,
    "start_time": "2022-10-22T16:16:12.999Z"
   },
   {
    "duration": 68,
    "start_time": "2022-10-22T16:16:13.027Z"
   },
   {
    "duration": 22,
    "start_time": "2022-10-22T16:16:13.096Z"
   },
   {
    "duration": 10,
    "start_time": "2022-10-22T16:16:13.120Z"
   },
   {
    "duration": 14,
    "start_time": "2022-10-22T16:16:13.132Z"
   },
   {
    "duration": 23,
    "start_time": "2022-10-22T16:16:13.195Z"
   },
   {
    "duration": 5,
    "start_time": "2022-10-22T16:16:13.220Z"
   },
   {
    "duration": 7,
    "start_time": "2022-10-22T16:16:13.227Z"
   },
   {
    "duration": 2734,
    "start_time": "2022-10-22T16:16:13.235Z"
   },
   {
    "duration": 1845,
    "start_time": "2022-10-22T16:16:15.971Z"
   },
   {
    "duration": 1692,
    "start_time": "2022-10-22T16:16:17.818Z"
   }
  ],
  "kernelspec": {
   "display_name": "Python 3 (ipykernel)",
   "language": "python",
   "name": "python3"
  },
  "language_info": {
   "codemirror_mode": {
    "name": "ipython",
    "version": 3
   },
   "file_extension": ".py",
   "mimetype": "text/x-python",
   "name": "python",
   "nbconvert_exporter": "python",
   "pygments_lexer": "ipython3",
   "version": "3.9.5"
  },
  "toc": {
   "base_numbering": 1,
   "nav_menu": {},
   "number_sections": true,
   "sideBar": true,
   "skip_h1_title": true,
   "title_cell": "Table of Contents",
   "title_sidebar": "Contents",
   "toc_cell": false,
   "toc_position": {
    "height": "calc(100% - 180px)",
    "left": "10px",
    "top": "150px",
    "width": "384px"
   },
   "toc_section_display": true,
   "toc_window_display": true
  }
 },
 "nbformat": 4,
 "nbformat_minor": 2
}
