{
 "cells": [
  {
   "cell_type": "markdown",
   "metadata": {},
   "source": [
    "<div class=\"alert alert-info\">\n",
    "<font size=\"5\"><b>Комментарий ревьюера</b></font>\n",
    "\n",
    "Привет Татьяна! Меня зовут Марат, и я буду твоим ревьюером. Спешу сообщить что все ключевые этапы в работе выполнены,  с задачей тебе удалось справиться. По поводу обращения - в IT сфере принято общаться на «ты» :) Но, если привычней на «вы», дай знать. Как ревьюера моя задача помочь тебе в развитии, дав хорошие советы. Я внимательно посмотрю твой код, ознакомлюсь с твоими выводами и оставлю комментарии. Где то могу предложить небольшие исправление в коде, но ненавязчиво. Где потребуются уточнения, я оставлю много наводящих вопросов. Они помогут тебя с поиском верного решения.\n",
    "\n",
    "Все мои комментарии размечены по цветам, для лучшего восприятия. \n",
    "    \n",
    "<div class=\"alert alert-success\">Зеленым цветом и словом «Успех» отмечены особо удачные и элегантные решения, которыми ты можешь гордиться. </div>\n",
    "        \n",
    "<div class=\"alert alert-warning\">Желтым и значком словом «Совет», помечены решения у которых есть альтернативные решения, более оптимальные. Ты можешь найти их сразу и доработать проект, или отложить это на потом, для будущих проектах. Проект будет принят и без их доработки. </div>\n",
    "        \n",
    "<div class=\"alert alert-danger\"> Красным цветом и значком словом «Ошибка» помечу твои решения, на которые стоит обратить внимание прежде всего. После их доработки проект будет принят. </div>\n",
    "        \n",
    "Залог успеха - работа сообща, взаимное уважение и работа в диалоге. Поэтому, помечай свои ответные комментарии на мои реплики заметным цветом или курсивом, так мне будет легче их отслеживать. Пожалуйста, не изменяй и не удаляй мои комментарии. Все это поможет выполнить повторную проверку быстрей.\n",
    "\n",
    "</div>"
   ]
  },
  {
   "cell_type": "markdown",
   "metadata": {},
   "source": [
    "# Рекомендация тарифов"
   ]
  },
  {
   "cell_type": "markdown",
   "metadata": {},
   "source": [
    "В вашем распоряжении данные о поведении клиентов, которые уже перешли на эти тарифы (из проекта курса «Статистический анализ данных»). Нужно построить модель для задачи классификации, которая выберет подходящий тариф. Предобработка данных не понадобится — вы её уже сделали.\n",
    "\n",
    "Постройте модель с максимально большим значением *accuracy*. Чтобы сдать проект успешно, нужно довести долю правильных ответов по крайней мере до 0.75. Проверьте *accuracy* на тестовой выборке самостоятельно."
   ]
  },
  {
   "cell_type": "markdown",
   "metadata": {},
   "source": [
    "<div class=\"alert alert-success\">\n",
    "<font size=\"5\"><b>Комментарий ревьюера</b></font>\n",
    "\n",
    "Успех:\n",
    "\n",
    "\n",
    "Вступление в работу очень важно, так человек, который смотрит твой проект (и на работе в том числе) будет сразу введен в курс дела.\n",
    "\n",
    "\n",
    "\n",
    "\n",
    "\n",
    "</div>"
   ]
  },
  {
   "cell_type": "markdown",
   "metadata": {},
   "source": [
    "## Откройте и изучите файл"
   ]
  },
  {
   "cell_type": "code",
   "execution_count": 1,
   "metadata": {},
   "outputs": [],
   "source": [
    "# импорт библиотек \n",
    "import pandas as pd\n",
    "import matplotlib.pyplot as plt\n",
    "\n",
    "from sklearn.model_selection import train_test_split # разделим на выборки\n",
    "from sklearn.metrics import accuracy_score # метрика качества\n",
    "\n",
    "from sklearn.tree import DecisionTreeClassifier # модель решающего дерева\n",
    "from sklearn.ensemble import RandomForestClassifier # модель случайный лес\n",
    "from sklearn.linear_model import LogisticRegression # логическая регрессия"
   ]
  },
  {
   "cell_type": "markdown",
   "metadata": {},
   "source": [
    "<div class=\"alert alert-success\">\n",
    "<font size=\"5\"><b>Комментарий ревьюера</b></font>\n",
    "\n",
    "Успех:\n",
    "\n",
    "Собираем все импорты в верхней части, чтобы легче было ориентироваться и добавлять новые по необходимости. \n",
    "\n",
    "\n",
    "<div class=\"alert alert-warning\">\n",
    "\n",
    "Совет:     \n",
    "    \n",
    "\n",
    "\n",
    "- кстати есть рекомендации PEP-8 при написании кода, в том числе и для импортов. Если интересно можешь почитать [тут](https://pythonworld.ru/osnovy/pep-8-rukovodstvo-po-napisaniyu-koda-na-python.html) \n"
   ]
  },
  {
   "cell_type": "markdown",
   "metadata": {},
   "source": [
    "<div class=\"alert alert-info\">\n",
    "Сделала такой вариант импорта\n",
    "</div>"
   ]
  },
  {
   "cell_type": "markdown",
   "metadata": {},
   "source": [
    "<div class=\"alert alert-success\">\n",
    "<font size=\"5\"><b>Комментарий ревьюераV2</b></font>\n",
    "\n",
    "Успех:\n",
    "\n",
    "👍\n",
    "</div>\n"
   ]
  },
  {
   "cell_type": "code",
   "execution_count": 2,
   "metadata": {},
   "outputs": [],
   "source": [
    "try:\n",
    "    df_users = pd.read_csv(r'C:\\Users\\tanch\\Desktop\\data science\\проекты\\Машинное обучение\\users_behavior.csv', sep=',') # чтение файлов с данными\n",
    "except:\n",
    "    df_users = pd.read_csv('/datasets/users_behavior.csv', sep=',') # чтение файлов с данными"
   ]
  },
  {
   "cell_type": "markdown",
   "metadata": {},
   "source": [
    "<div class=\"alert alert-success\">\n",
    "<font size=\"5\"><b>Комментарий ревьюера</b></font>\n",
    "\n",
    "Молодец что используешь конструкцию try - except, этим ты проявляешь уважение к тем кто будет работать с твоим кодом.\n",
    "\n",
    "</div>"
   ]
  },
  {
   "cell_type": "markdown",
   "metadata": {},
   "source": [
    "Просмотрим первые пять строк таблицы. "
   ]
  },
  {
   "cell_type": "code",
   "execution_count": 3,
   "metadata": {},
   "outputs": [
    {
     "data": {
      "text/html": [
       "<div>\n",
       "<style scoped>\n",
       "    .dataframe tbody tr th:only-of-type {\n",
       "        vertical-align: middle;\n",
       "    }\n",
       "\n",
       "    .dataframe tbody tr th {\n",
       "        vertical-align: top;\n",
       "    }\n",
       "\n",
       "    .dataframe thead th {\n",
       "        text-align: right;\n",
       "    }\n",
       "</style>\n",
       "<table border=\"1\" class=\"dataframe\">\n",
       "  <thead>\n",
       "    <tr style=\"text-align: right;\">\n",
       "      <th></th>\n",
       "      <th>calls</th>\n",
       "      <th>minutes</th>\n",
       "      <th>messages</th>\n",
       "      <th>mb_used</th>\n",
       "      <th>is_ultra</th>\n",
       "    </tr>\n",
       "  </thead>\n",
       "  <tbody>\n",
       "    <tr>\n",
       "      <th>0</th>\n",
       "      <td>40.0</td>\n",
       "      <td>311.90</td>\n",
       "      <td>83.0</td>\n",
       "      <td>19915.42</td>\n",
       "      <td>0</td>\n",
       "    </tr>\n",
       "    <tr>\n",
       "      <th>1</th>\n",
       "      <td>85.0</td>\n",
       "      <td>516.75</td>\n",
       "      <td>56.0</td>\n",
       "      <td>22696.96</td>\n",
       "      <td>0</td>\n",
       "    </tr>\n",
       "    <tr>\n",
       "      <th>2</th>\n",
       "      <td>77.0</td>\n",
       "      <td>467.66</td>\n",
       "      <td>86.0</td>\n",
       "      <td>21060.45</td>\n",
       "      <td>0</td>\n",
       "    </tr>\n",
       "    <tr>\n",
       "      <th>3</th>\n",
       "      <td>106.0</td>\n",
       "      <td>745.53</td>\n",
       "      <td>81.0</td>\n",
       "      <td>8437.39</td>\n",
       "      <td>1</td>\n",
       "    </tr>\n",
       "    <tr>\n",
       "      <th>4</th>\n",
       "      <td>66.0</td>\n",
       "      <td>418.74</td>\n",
       "      <td>1.0</td>\n",
       "      <td>14502.75</td>\n",
       "      <td>0</td>\n",
       "    </tr>\n",
       "  </tbody>\n",
       "</table>\n",
       "</div>"
      ],
      "text/plain": [
       "   calls  minutes  messages   mb_used  is_ultra\n",
       "0   40.0   311.90      83.0  19915.42         0\n",
       "1   85.0   516.75      56.0  22696.96         0\n",
       "2   77.0   467.66      86.0  21060.45         0\n",
       "3  106.0   745.53      81.0   8437.39         1\n",
       "4   66.0   418.74       1.0  14502.75         0"
      ]
     },
     "execution_count": 3,
     "metadata": {},
     "output_type": "execute_result"
    }
   ],
   "source": [
    "df_users.head() # просмотр первых 5 строк таблицы "
   ]
  },
  {
   "cell_type": "code",
   "execution_count": 4,
   "metadata": {},
   "outputs": [
    {
     "name": "stdout",
     "output_type": "stream",
     "text": [
      "<class 'pandas.core.frame.DataFrame'>\n",
      "RangeIndex: 3214 entries, 0 to 3213\n",
      "Data columns (total 5 columns):\n",
      " #   Column    Non-Null Count  Dtype  \n",
      "---  ------    --------------  -----  \n",
      " 0   calls     3214 non-null   float64\n",
      " 1   minutes   3214 non-null   float64\n",
      " 2   messages  3214 non-null   float64\n",
      " 3   mb_used   3214 non-null   float64\n",
      " 4   is_ultra  3214 non-null   int64  \n",
      "dtypes: float64(4), int64(1)\n",
      "memory usage: 125.7 KB\n"
     ]
    }
   ],
   "source": [
    "df_users.info() # просмотр информации о таблице"
   ]
  },
  {
   "cell_type": "markdown",
   "metadata": {},
   "source": [
    "Изучим информацию по таблице. В таблице 5 столбцов и 3214 записи. Пропусков в данных нет. Типы данных корректны."
   ]
  },
  {
   "cell_type": "markdown",
   "metadata": {},
   "source": [
    "<div class=\"alert alert-success\">\n",
    "<font size=\"5\"><b>Комментарий ревьюера</b></font>\n",
    "\n",
    "Успех:\n",
    "\n",
    "👍 Данные изучены.\n",
    "\n",
    "\n",
    "<div class=\"alert alert-warning\">\n",
    "\n",
    "\n",
    "\n",
    "Совет: \n",
    "\n",
    "Можно еще отдельно проверить датасет на сбалансированность классов в таргете. Это важная информация при моделировании и помогло бы решить бонусное задание сразу.  Тут можно [почитать](https://dyakonov.org/2021/05/27/imbalance/) дополнительно зачем мы обращаем внимание на это\n",
    "\n",
    "\n",
    "\n",
    "\n",
    "</div>\n"
   ]
  },
  {
   "cell_type": "markdown",
   "metadata": {},
   "source": [
    "<div class=\"alert alert-info\">\n",
    "Я внимательно изучила информацию про сбалансированность датасета. Действительно это очень важный этап в моменте предобработки данных для последующего обучения модели. Обязательно учту при работе над следующим проектом.\n",
    "</div>"
   ]
  },
  {
   "cell_type": "markdown",
   "metadata": {},
   "source": [
    "<div class=\"alert alert-success\">\n",
    "<font size=\"5\"><b>Комментарий ревьюераV2</b></font>\n",
    "\n",
    "Успех:\n",
    "\n",
    "Как раз тема следующего проекта )\n",
    "</div>\n"
   ]
  },
  {
   "cell_type": "markdown",
   "metadata": {},
   "source": [
    "## Разбейте данные на выборки"
   ]
  },
  {
   "cell_type": "markdown",
   "metadata": {},
   "source": [
    "Разобъем данные на три выборки: обучающую, тестовую и валидационную в соотношении 3:1:1 (60% + 20% + 20%). Сделаем это в два этапа. Сначала выделим обучающую выборку (60%) и вторую часть (40%), из которой сформируем тестовую и валидационную выборку, поделив набор поровну:"
   ]
  },
  {
   "cell_type": "code",
   "execution_count": 5,
   "metadata": {},
   "outputs": [],
   "source": [
    "#отделяем обучающую выборку из данных (соотношение 60% -обучающая, 40% на сумму тестовой и валидационной выборки)\n",
    "df_train, df_valid_test = train_test_split(df_users, test_size=0.4, random_state=12345)\n",
    "#отделяем тестовeую и валидационную выборку, делим поровну)\n",
    "df_test, df_valid = train_test_split(df_valid_test, test_size=0.5, random_state=12345)"
   ]
  },
  {
   "cell_type": "code",
   "execution_count": 6,
   "metadata": {},
   "outputs": [
    {
     "name": "stdout",
     "output_type": "stream",
     "text": [
      "(1928, 5)\n",
      "(643, 5)\n",
      "(643, 5)\n"
     ]
    }
   ],
   "source": [
    "# Результат деления на выборки:\n",
    "print(df_train.shape)\n",
    "print(df_valid.shape)\n",
    "print(df_test.shape)"
   ]
  },
  {
   "cell_type": "markdown",
   "metadata": {},
   "source": [
    "Таким образом получили три выборки:\n",
    "- df_train - тренировочная выборка\n",
    "- df_valid - валидационная выборка\n",
    "- df_test - тестовая выборка "
   ]
  },
  {
   "cell_type": "markdown",
   "metadata": {},
   "source": [
    "<div class=\"alert alert-success\">\n",
    "<font size=\"5\"><b>Комментарий ревьюера</b></font>\n",
    "\n",
    "Успех:\n",
    "\n",
    "Все правильно!\n",
    "\n",
    "Здорово что проконтролировала разбиение с помощью .shape\n",
    "\n",
    "<div class=\"alert alert-warning\">\n",
    "\n",
    "\n",
    "\n",
    "Совет: \n",
    "\n",
    "\n",
    "- Обрати внимание на аргумент stratify, он позволит сохранить изначальное распределение таргетов во всех новых датасетах.  Существующий дисбаланс никуда не денется, но в каждом датасете он будет одинаковым\n",
    "\n",
    "\n",
    "</div>\n",
    "\n",
    "\n",
    "\n"
   ]
  },
  {
   "cell_type": "markdown",
   "metadata": {},
   "source": [
    "<div class=\"alert alert-info\">\n",
    "Обязательно учту в следующем проекте.\n",
    "</div>"
   ]
  },
  {
   "cell_type": "markdown",
   "metadata": {},
   "source": [
    "<div class=\"alert alert-success\">\n",
    "<font size=\"5\"><b>Комментарий ревьюераV2</b></font>\n",
    "\n",
    "Успех:\n",
    "\n",
    "👍\n",
    "</div>\n"
   ]
  },
  {
   "cell_type": "markdown",
   "metadata": {},
   "source": [
    "## Исследуйте модели"
   ]
  },
  {
   "cell_type": "markdown",
   "metadata": {},
   "source": [
    "Для исследования рассмотрим три модели:\n",
    "- Решающее дерево\n",
    "- Случайный лес\n",
    "- Логическая регрессия"
   ]
  },
  {
   "cell_type": "markdown",
   "metadata": {},
   "source": [
    "Определим целевым признаком - тариф (столбец \"is_ultra\"). Где значение \"1\" - соответсвует тарифу \"Ultra\", а \"0\" - тарифу \"Smart\". Именно этот столбец является категориальным и принимает одно из двух возможных значений. Таким образом, будем решать задачу классификации (бинарной), так как целевых признаков два. "
   ]
  },
  {
   "cell_type": "markdown",
   "metadata": {},
   "source": [
    "Выделим для каждой выборки перечень признаков взаимосвязи для каждого пользователя и целевой признак. Наборы данных для всех моделей одинаковые. Опеределим переменные для каждой выборки:"
   ]
  },
  {
   "cell_type": "code",
   "execution_count": 7,
   "metadata": {},
   "outputs": [],
   "source": [
    "# Тренировочные данные\n",
    "feature_train = df_train.drop('is_ultra', axis=1)\n",
    "target_train = df_train['is_ultra']\n",
    "# Валидационные данные\n",
    "feature_valid = df_valid.drop('is_ultra', axis=1)\n",
    "target_valid = df_valid['is_ultra']\n",
    "# Тестовые данные\n",
    "feature_test = df_test.drop('is_ultra', axis=1)\n",
    "target_test = df_test['is_ultra']"
   ]
  },
  {
   "cell_type": "markdown",
   "metadata": {},
   "source": [
    "### Модель \"Решающее дерево\""
   ]
  },
  {
   "cell_type": "markdown",
   "metadata": {},
   "source": [
    "У модели \"Решающее дерево\" есть гиперпараметр (max_depth) - максимальная глубина дерева. Изменяя этот параметр, можно определить наилучший вариант."
   ]
  },
  {
   "cell_type": "code",
   "execution_count": 8,
   "metadata": {},
   "outputs": [
    {
     "name": "stdout",
     "output_type": "stream",
     "text": [
      "\n",
      "Качество лучшей модели: 0.7994 при глубине дерева 7\n"
     ]
    }
   ],
   "source": [
    "# Исследуем модель \"Решающее дерево\"\n",
    "best_model_tree = None\n",
    "best_result = 0\n",
    "best_depth = 0\n",
    "accuracy_tree = []\n",
    "for depth in range(1, 31): # глубина дерева\n",
    "    tree_model = DecisionTreeClassifier(random_state=12345, max_depth=depth) # модель с заданной глубиной дерева\n",
    "    tree_model.fit(feature_train, target_train) # обучите модель\n",
    "    predictions = tree_model.predict(feature_valid) # получите предсказания модели\n",
    "    result = round(accuracy_score(target_valid, predictions), 4) # посчитайте качество модели, округлим до 4-х знаков\n",
    "    accuracy_tree.append(result)    \n",
    "    if result > best_result:\n",
    "        best_model_tree = tree_model\n",
    "        best_result = result\n",
    "        best_depth = depth\n",
    "accuracy_tree = pd.Series(accuracy_tree)\n",
    "\n",
    "print()        \n",
    "print(\"Качество лучшей модели:\", best_result, \"при глубине дерева\", best_depth)"
   ]
  },
  {
   "cell_type": "markdown",
   "metadata": {},
   "source": [
    "<div class=\"alert alert-success\">\n",
    "<font size=\"5\"><b>Комментарий ревьюера</b></font>\n",
    "\n",
    "Успех:\n",
    " \n",
    "Работа выполнена в соответствии с критериями: \n",
    "\n",
    "\n",
    "\n",
    "\n",
    "\n",
    "\n",
    "<div class=\"alert alert-warning\">\n",
    "\n",
    "\n",
    "Совет: \n",
    "\n",
    "\n",
    "\n",
    "\n",
    "- Можно добавить график, хорошо оформленный график украсит проект. Тут на графике можно посмотреть как при изменении гиперпараметров меняется точность на train и validation датасете (для этого собираем наши метрики на валидации и train в списки, а затем по ним обычный plt.plot()) Такой способ используют чтобы лучше отследить переобучение\n",
    "\n",
    "\n",
    "\n",
    "- tree_plot можно построить, с max_depth равной 3 или 4 (глубже уже будет громоздко) - глянуть как DT сплиты делает, будет понимание как модель принимает решения: какие признаки  использует, на каких значениях делает разбиение вправо - влево \n",
    "\n",
    "\n",
    "</div>\n",
    "\n"
   ]
  },
  {
   "cell_type": "code",
   "execution_count": 9,
   "metadata": {
    "scrolled": true
   },
   "outputs": [
    {
     "data": {
      "image/png": "[encoded data removed]",
      "text/plain": [
       "<Figure size 432x288 with 1 Axes>"
      ]
     },
     "metadata": {
      "needs_background": "light"
     },
     "output_type": "display_data"
    }
   ],
   "source": [
    "fig = plt.figure()\n",
    "ax = fig.add_axes([0,0,1,1])\n",
    "ax.grid()\n",
    "ax.set_xlabel('Глубина')\n",
    "ax.set_ylabel('Точность')\n",
    "ax.plot(accuracy_tree.index, accuracy_tree)\n",
    "plt.show()"
   ]
  },
  {
   "cell_type": "markdown",
   "metadata": {},
   "source": [
    "\n",
    "\n",
    "\n",
    "<div class=\"alert alert-warning\">\n",
    "<font size=\"5\"><b>Комментарий ревьюераV2</b></font>\n",
    "\n",
    "Совет:\n",
    "\n",
    "Здорово!   \n",
    "Но он получился не таким информативным как мог бы быть, стоит сюда добавить метрику и по train (так принято для отслеживания переобучения)\n",
    "    \n",
    "    \n",
    "\n",
    "    \n",
    "    \n",
    "Добавляешь (схема):\n",
    "    \n",
    "    \n",
    "    predictions_train = model.predict(features_train)\n",
    "    result_train = accuracy_score(target_train, predictions_train)\n",
    "\n",
    "    \n",
    "а теперь  строишь по двум спискам график    \n",
    "    \n",
    "  \n",
    "\n",
    "\n",
    "</div>\n",
    "\n",
    "\n",
    "\n",
    "  "
   ]
  },
  {
   "cell_type": "markdown",
   "metadata": {},
   "source": [
    "Модель показывает максимум при глубине дерева 7, что подтверждается вычислениями ранее. Модель переобучилась при глубине 8. При глубине дерева более 20 модель перестала изменяться. "
   ]
  },
  {
   "cell_type": "markdown",
   "metadata": {},
   "source": [
    "<div class=\"alert alert-warning\">\n",
    "<font size=\"5\"><b>Комментарий ревьюераV2</b></font>\n",
    "\n",
    "Совет:\n",
    "\n",
    "\n",
    "А зачем ты это делаешь? Выяснила что при преборе до 10, глубина 7 лучшая, а сейчас пробуешь перебрать до 5\n",
    "</div>\n"
   ]
  },
  {
   "cell_type": "markdown",
   "metadata": {},
   "source": [
    "<div class=\"alert alert-warning\">\n",
    "<font size=\"5\"><b>Комментарий ревьюераV2</b></font>\n",
    "\n",
    "Совет:\n",
    "\n",
    "Лучшее при глубине 7, \"глубине от 1 до 10\" - тут мы ищем\n",
    "</div>\n"
   ]
  },
  {
   "cell_type": "markdown",
   "metadata": {},
   "source": [
    "<div class=\"alert alert-info\">\n",
    "Изменила глубину дерева для лучшего отображения графика. Удалила лишнее по модели \"Решающее дерево\" \n",
    "</div>"
   ]
  },
  {
   "cell_type": "markdown",
   "metadata": {},
   "source": [
    "<div class=\"alert alert-success\">\n",
    "<font size=\"5\"><b>Комментарий ревьюераV2</b></font>\n",
    "\n",
    "Успех:\n",
    "\n",
    "👍 с перебором до 31 видно переобучение\n",
    "</div>\n"
   ]
  },
  {
   "cell_type": "markdown",
   "metadata": {},
   "source": [
    "### Модель \"Случайный лес\""
   ]
  },
  {
   "cell_type": "markdown",
   "metadata": {},
   "source": [
    "В модели \"Случайный лес\" к гиперпараметру глубина дерева, добавляется еще один гиперпараметр - количество деревьев (n_estimators). Исследуем модель с разным количеством и глубины дерева: "
   ]
  },
  {
   "cell_type": "code",
   "execution_count": 10,
   "metadata": {},
   "outputs": [
    {
     "name": "stdout",
     "output_type": "stream",
     "text": [
      "\n",
      "Качество лучшей модели: 0.8134 при глубине дерева 10 и количестве деревьев 7\n"
     ]
    }
   ],
   "source": [
    "# Исследуем модель \"Случайный лес\"\n",
    "best_model_forest = None\n",
    "best_result = 0\n",
    "best_depth = 0\n",
    "best_est = 0\n",
    "rand_forest_res = {}\n",
    "for est in range(1, 11): # количество деревьев\n",
    "    accuracy_forest = []\n",
    "    for depth in range(1, 11): # глубина дерева\n",
    "        forest_model = RandomForestClassifier(random_state=12345, n_estimators=est, max_depth=depth) \n",
    "        forest_model.fit(feature_train, target_train) # обучите модель\n",
    "        predictions = forest_model.predict(feature_valid) # получите предсказания модели\n",
    "        result = round(accuracy_score(target_valid, predictions), 4) # посчитайте качество модели, округлим до 4-х знаков\n",
    "        accuracy_forest.append(result)\n",
    "        \n",
    "    if result > best_result:\n",
    "        best_model_forest = forest_model\n",
    "        best_result = result\n",
    "        best_depth = depth\n",
    "        best_est = est\n",
    "    \n",
    "    rand_forest_res.update({est : accuracy_forest})\n",
    "\n",
    "data_rand_forest = pd.DataFrame(rand_forest_res)    \n",
    "    \n",
    "print()        \n",
    "print(\"Качество лучшей модели:\", data_rand_forest.max().max(), \"при глубине дерева\", best_depth, \"и количестве деревьев\", best_est)"
   ]
  },
  {
   "cell_type": "code",
   "execution_count": 11,
   "metadata": {},
   "outputs": [
    {
     "data": {
      "text/html": [
       "<div>\n",
       "<style scoped>\n",
       "    .dataframe tbody tr th:only-of-type {\n",
       "        vertical-align: middle;\n",
       "    }\n",
       "\n",
       "    .dataframe tbody tr th {\n",
       "        vertical-align: top;\n",
       "    }\n",
       "\n",
       "    .dataframe thead th {\n",
       "        text-align: right;\n",
       "    }\n",
       "</style>\n",
       "<table border=\"1\" class=\"dataframe\">\n",
       "  <thead>\n",
       "    <tr style=\"text-align: right;\">\n",
       "      <th></th>\n",
       "      <th>1</th>\n",
       "      <th>2</th>\n",
       "      <th>3</th>\n",
       "      <th>4</th>\n",
       "      <th>5</th>\n",
       "      <th>6</th>\n",
       "      <th>7</th>\n",
       "      <th>8</th>\n",
       "      <th>9</th>\n",
       "      <th>10</th>\n",
       "    </tr>\n",
       "  </thead>\n",
       "  <tbody>\n",
       "    <tr>\n",
       "      <th>0</th>\n",
       "      <td>0.7481</td>\n",
       "      <td>0.7061</td>\n",
       "      <td>0.7201</td>\n",
       "      <td>0.7527</td>\n",
       "      <td>0.7294</td>\n",
       "      <td>0.7372</td>\n",
       "      <td>0.7403</td>\n",
       "      <td>0.7387</td>\n",
       "      <td>0.7449</td>\n",
       "      <td>0.7403</td>\n",
       "    </tr>\n",
       "    <tr>\n",
       "      <th>1</th>\n",
       "      <td>0.7760</td>\n",
       "      <td>0.7636</td>\n",
       "      <td>0.7714</td>\n",
       "      <td>0.7854</td>\n",
       "      <td>0.7496</td>\n",
       "      <td>0.7605</td>\n",
       "      <td>0.7543</td>\n",
       "      <td>0.7605</td>\n",
       "      <td>0.7621</td>\n",
       "      <td>0.7760</td>\n",
       "    </tr>\n",
       "    <tr>\n",
       "      <th>2</th>\n",
       "      <td>0.7776</td>\n",
       "      <td>0.7776</td>\n",
       "      <td>0.7792</td>\n",
       "      <td>0.7667</td>\n",
       "      <td>0.7683</td>\n",
       "      <td>0.7745</td>\n",
       "      <td>0.7760</td>\n",
       "      <td>0.7745</td>\n",
       "      <td>0.7745</td>\n",
       "      <td>0.7760</td>\n",
       "    </tr>\n",
       "    <tr>\n",
       "      <th>3</th>\n",
       "      <td>0.7807</td>\n",
       "      <td>0.7854</td>\n",
       "      <td>0.7838</td>\n",
       "      <td>0.7947</td>\n",
       "      <td>0.7869</td>\n",
       "      <td>0.7854</td>\n",
       "      <td>0.7838</td>\n",
       "      <td>0.7838</td>\n",
       "      <td>0.7854</td>\n",
       "      <td>0.7854</td>\n",
       "    </tr>\n",
       "    <tr>\n",
       "      <th>4</th>\n",
       "      <td>0.7760</td>\n",
       "      <td>0.7885</td>\n",
       "      <td>0.7947</td>\n",
       "      <td>0.7994</td>\n",
       "      <td>0.7932</td>\n",
       "      <td>0.7963</td>\n",
       "      <td>0.7947</td>\n",
       "      <td>0.7963</td>\n",
       "      <td>0.7963</td>\n",
       "      <td>0.7900</td>\n",
       "    </tr>\n",
       "    <tr>\n",
       "      <th>5</th>\n",
       "      <td>0.7776</td>\n",
       "      <td>0.7932</td>\n",
       "      <td>0.7900</td>\n",
       "      <td>0.7869</td>\n",
       "      <td>0.7885</td>\n",
       "      <td>0.7869</td>\n",
       "      <td>0.7900</td>\n",
       "      <td>0.7885</td>\n",
       "      <td>0.7885</td>\n",
       "      <td>0.7916</td>\n",
       "    </tr>\n",
       "    <tr>\n",
       "      <th>6</th>\n",
       "      <td>0.7667</td>\n",
       "      <td>0.7994</td>\n",
       "      <td>0.8009</td>\n",
       "      <td>0.8009</td>\n",
       "      <td>0.8056</td>\n",
       "      <td>0.7994</td>\n",
       "      <td>0.7947</td>\n",
       "      <td>0.7978</td>\n",
       "      <td>0.8025</td>\n",
       "      <td>0.8009</td>\n",
       "    </tr>\n",
       "    <tr>\n",
       "      <th>7</th>\n",
       "      <td>0.7885</td>\n",
       "      <td>0.7932</td>\n",
       "      <td>0.7978</td>\n",
       "      <td>0.8009</td>\n",
       "      <td>0.8025</td>\n",
       "      <td>0.8056</td>\n",
       "      <td>0.8040</td>\n",
       "      <td>0.7963</td>\n",
       "      <td>0.7994</td>\n",
       "      <td>0.8072</td>\n",
       "    </tr>\n",
       "    <tr>\n",
       "      <th>8</th>\n",
       "      <td>0.7932</td>\n",
       "      <td>0.7869</td>\n",
       "      <td>0.7994</td>\n",
       "      <td>0.8025</td>\n",
       "      <td>0.8072</td>\n",
       "      <td>0.8087</td>\n",
       "      <td>0.8072</td>\n",
       "      <td>0.8134</td>\n",
       "      <td>0.8072</td>\n",
       "      <td>0.8134</td>\n",
       "    </tr>\n",
       "    <tr>\n",
       "      <th>9</th>\n",
       "      <td>0.7698</td>\n",
       "      <td>0.7745</td>\n",
       "      <td>0.7994</td>\n",
       "      <td>0.7994</td>\n",
       "      <td>0.8025</td>\n",
       "      <td>0.7978</td>\n",
       "      <td>0.8056</td>\n",
       "      <td>0.8009</td>\n",
       "      <td>0.7963</td>\n",
       "      <td>0.8009</td>\n",
       "    </tr>\n",
       "  </tbody>\n",
       "</table>\n",
       "</div>"
      ],
      "text/plain": [
       "       1       2       3       4       5       6       7       8       9   \\\n",
       "0  0.7481  0.7061  0.7201  0.7527  0.7294  0.7372  0.7403  0.7387  0.7449   \n",
       "1  0.7760  0.7636  0.7714  0.7854  0.7496  0.7605  0.7543  0.7605  0.7621   \n",
       "2  0.7776  0.7776  0.7792  0.7667  0.7683  0.7745  0.7760  0.7745  0.7745   \n",
       "3  0.7807  0.7854  0.7838  0.7947  0.7869  0.7854  0.7838  0.7838  0.7854   \n",
       "4  0.7760  0.7885  0.7947  0.7994  0.7932  0.7963  0.7947  0.7963  0.7963   \n",
       "5  0.7776  0.7932  0.7900  0.7869  0.7885  0.7869  0.7900  0.7885  0.7885   \n",
       "6  0.7667  0.7994  0.8009  0.8009  0.8056  0.7994  0.7947  0.7978  0.8025   \n",
       "7  0.7885  0.7932  0.7978  0.8009  0.8025  0.8056  0.8040  0.7963  0.7994   \n",
       "8  0.7932  0.7869  0.7994  0.8025  0.8072  0.8087  0.8072  0.8134  0.8072   \n",
       "9  0.7698  0.7745  0.7994  0.7994  0.8025  0.7978  0.8056  0.8009  0.7963   \n",
       "\n",
       "       10  \n",
       "0  0.7403  \n",
       "1  0.7760  \n",
       "2  0.7760  \n",
       "3  0.7854  \n",
       "4  0.7900  \n",
       "5  0.7916  \n",
       "6  0.8009  \n",
       "7  0.8072  \n",
       "8  0.8134  \n",
       "9  0.8009  "
      ]
     },
     "metadata": {},
     "output_type": "display_data"
    }
   ],
   "source": [
    "display(data_rand_forest)"
   ]
  },
  {
   "cell_type": "markdown",
   "metadata": {},
   "source": [
    "Посмотрим результаты модели на графике"
   ]
  },
  {
   "cell_type": "code",
   "execution_count": 12,
   "metadata": {},
   "outputs": [
    {
     "data": {
      "image/png": "[encoded data removed]",
      "text/plain": [
       "<Figure size 432x288 with 1 Axes>"
      ]
     },
     "metadata": {
      "needs_background": "light"
     },
     "output_type": "display_data"
    }
   ],
   "source": [
    "fig = plt.figure()\n",
    "ax = fig.add_axes([0,0,1,1])\n",
    "ax.grid()\n",
    "ax.set_xlabel('Количество деревьев')\n",
    "ax.set_ylabel('Точность')\n",
    "for name_column in range(len(data_rand_forest)):\n",
    "    ax.plot(data_rand_forest.index, data_rand_forest[name_column + 1], label = 'Глубина:' + str(name_column + 1))\n",
    "    \n",
    "ax.legend()\n",
    "plt.show()"
   ]
  },
  {
   "cell_type": "markdown",
   "metadata": {},
   "source": [
    "<div class=\"alert alert-warning\">\n",
    "<font size=\"5\"><b>Комментарий ревьюераV2</b></font>\n",
    "\n",
    "Совет:\n",
    "\n",
    "\n",
    "Еще был вариант с трехмерным графиком или hearmap\n",
    "</div>\n"
   ]
  },
  {
   "cell_type": "markdown",
   "metadata": {},
   "source": [
    "Самый высокий результат наблюдается при количестве деревьев 8 и глубине 10. "
   ]
  },
  {
   "cell_type": "markdown",
   "metadata": {},
   "source": [
    "Рассмотрим другой вариант модели. Увеличим количество деревьев, глубину менять не будем:"
   ]
  },
  {
   "cell_type": "code",
   "execution_count": 13,
   "metadata": {},
   "outputs": [
    {
     "name": "stdout",
     "output_type": "stream",
     "text": [
      "\n",
      "Качество лучшей модели: 0.8149 при глубине дерева 10 и количестве деревьев 14\n"
     ]
    }
   ],
   "source": [
    "best_model_forest = None\n",
    "best_result = 0\n",
    "best_depth = 0\n",
    "best_est = 0\n",
    "rand_forest_res_2 = {}\n",
    "for est in range(5, 21, 3): # количество деревьев\n",
    "    accuracy_forest = []\n",
    "    for depth in range(1, 11): # глубина дерева\n",
    "        forest_model = RandomForestClassifier(random_state=12345, n_estimators=est, max_depth=depth) \n",
    "        forest_model.fit(feature_train, target_train) # обучите модель\n",
    "        predictions = forest_model.predict(feature_valid) # получите предсказания модели\n",
    "        result = round(accuracy_score(target_valid, predictions), 4) # посчитайте качество модели, округлим до 4-х знаков\n",
    "        accuracy_forest.append(result)\n",
    "        \n",
    "    if result > best_result:\n",
    "        best_model_forest = forest_model\n",
    "        best_result = result\n",
    "        best_depth = depth\n",
    "        best_est = est\n",
    "    \n",
    "    rand_forest_res_2.update({est : accuracy_forest})\n",
    "\n",
    "data_rand_forest_2 = pd.DataFrame(rand_forest_res_2)    \n",
    "    \n",
    "print()        \n",
    "print(\"Качество лучшей модели:\", data_rand_forest_2.max().max(), \"при глубине дерева\", best_depth, \"и количестве деревьев\", best_est)"
   ]
  },
  {
   "cell_type": "markdown",
   "metadata": {},
   "source": [
    "Увеличение количества деревьев, при сохранении гиперпараметра глубины дерева не сильно увеличил качество модели."
   ]
  },
  {
   "cell_type": "markdown",
   "metadata": {},
   "source": [
    "\n",
    "\n",
    "\n",
    "\n",
    "<div class=\"alert alert-success\">\n",
    "<font size=\"5\"><b>Комментарий ревьюера</b></font>\n",
    "\n",
    "Успех:\n",
    "    \n",
    "По большему числу гиперпараметров перебор -   тем лучше метрика. Здорово. Но к чему эти дубликаты переборов - непонятно   \n",
    "\n",
    "\n",
    "\n",
    "\n",
    "<div class=\"alert alert-warning\">\n",
    "\n",
    "\n",
    "Совет: \n",
    "\n",
    "- Здорово что использован перебор не по одному гиперпараметру. Поэтому посоветую поизучать sklearn-ий GreedSearchCV. В случаи использования GridSearch, не нужно будет заранее делать валидационную выборку, лучшую метрику автоматом сохранят в best_score_, а лучшую модель (переобученная уже на полном наборе данных) будет хранить в best_estimator_. Это тема будущих теоретических занятий, но если есть время можешь сразу попробовать.\n",
    "\n",
    "- Когда что то долго крутиться, можно использовать  %%time - ставишь на самый вверх ячейки с кодом, время выполнения которого хочешь замерить, может не знаешь.  Быстрее не станет, но все будут видеть стоит ли ждать не отходя от ПК или можно сходить чаек поставить ))  А еще есть tqdm, показывает на каком этапе у нас работа в цикле происходит\n",
    "\n",
    "\n",
    "</div>\n"
   ]
  },
  {
   "cell_type": "markdown",
   "metadata": {},
   "source": [
    "<div class=\"alert alert-info\">\n",
    "Удалила лишние дубликаты :)\n",
    "</div>"
   ]
  },
  {
   "cell_type": "markdown",
   "metadata": {},
   "source": [
    "<div class=\"alert alert-success\">\n",
    "<font size=\"5\"><b>Комментарий ревьюераV2</b></font>\n",
    "\n",
    "Успех:\n",
    "\n",
    "\"Чище будет\" )\n",
    "</div>\n"
   ]
  },
  {
   "cell_type": "markdown",
   "metadata": {},
   "source": [
    "### Модель \"Логистическая регрессия\""
   ]
  },
  {
   "cell_type": "code",
   "execution_count": 14,
   "metadata": {},
   "outputs": [
    {
     "name": "stdout",
     "output_type": "stream",
     "text": [
      "Качество модели: 0.6843\n"
     ]
    }
   ],
   "source": [
    "# Исследуем модель Логистическая Регрессия\n",
    "log_reg_model = LogisticRegression(random_state=12345)\n",
    "log_reg_model.fit(feature_train, target_train)\n",
    "log_predictions = log_reg_model.predict(feature_valid)\n",
    "result = round(accuracy_score( target_valid, log_predictions), 4)\n",
    "print(\"Качество модели:\", result)"
   ]
  },
  {
   "cell_type": "markdown",
   "metadata": {},
   "source": [
    "Самый низкий результат. Возможно, это связано имеено с тем, что использован несбалансированный датасет. Возможно, что сам датасет содержит мало данных для модели. Или в принципе данная модель не подходит. "
   ]
  },
  {
   "cell_type": "markdown",
   "metadata": {},
   "source": [
    "Самый высокий результат показала модель \"Случайный лес\": доля правильных ответов выше, чем у остальных моделей. Именно на этой модели проверим тестовую выборку."
   ]
  },
  {
   "cell_type": "markdown",
   "metadata": {},
   "source": [
    "\n",
    "\n",
    "<div class=\"alert alert-success\">\n",
    "<font size=\"5\"><b>Комментарий ревьюера</b></font>\n",
    "\n",
    "Успех:\n",
    "\n",
    "\n",
    "Все верно, RF лучший. \n",
    "\n",
    "\n",
    "<div class=\"alert alert-warning\">\n",
    "\n",
    "\n",
    "Совет: \n",
    "\n",
    "Если есть желание можешь ответить на вопросики ))    \n",
    "\n",
    "\n",
    "\n",
    "- Как назвать ситуацию, когда на валидации при увеличении глубины дерева (модель DT), метрика качества стала снижаться? Как по твоему в это же время вела себя эта же метрика на train?\n",
    "\n",
    "\n",
    "- Насколько знаю вы еще под капот моделям не заглядывали, но может знаешь почему RF показывает более высокие результаты из выбранных?\n",
    "\n",
    "\n",
    "- Мы решаем задачу классификации (а еще есть задача регрессии), а в названии модели с помощью которой мы решаем задачу \"классификации\" есть слово \"регрессия\".  Нет ли тут парадокса? )\n",
    "    \n",
    "\n",
    "- Почему логистическая регрессия показывать на много более худшие результаты?  \n",
    "\n",
    "\n",
    "</div>\n",
    "\n",
    "\n",
    "\n"
   ]
  },
  {
   "cell_type": "markdown",
   "metadata": {},
   "source": [
    "<div class=\"alert alert-info\">\n",
    "Марат, спасибо за такие пояснения! Честно, я вообще никогда не сталкивалась с машинным обучением. Только на курсе начала с ним знакомится и углублять знания. Поэтому твои комментарии для меня очень важны! Обязательно изучу все моменты, которые ты указал. \n",
    "</div>"
   ]
  },
  {
   "cell_type": "markdown",
   "metadata": {},
   "source": [
    "<div class=\"alert alert-success\">\n",
    "<font size=\"5\"><b>Комментарий ревьюераV2</b></font>\n",
    "\n",
    "\n",
    "Успех:\n",
    "\n",
    "\n",
    "Напишу, может полезно будет.\n",
    "\n",
    "1. Переобучение. На train точность ростет вплоть до 100%. \n",
    "    \n",
    "    \n",
    "2. В RF обучается несколько деревьев, а решение принимается путем голосования. Каждое дерево в RF учится на своем датасете (используется техника бутстрап), таким образом достигается \"независимость\" этих самых деревьев, в итоге ошибка разброса снижается.\n",
    "\n",
    "    \n",
    "3. \"Регрессия\", потому что внутри нее скалярное произведение (как и в линейной регрессии), дающее на выходе вещественное число (от + бесконечности до - бесконечности), на это число вешают сигмойду, логарифм и получают значение от 0 до 1 (вероятность класса).   \n",
    "    \n",
    "    \n",
    "4. Логистическая регрессия плоха (и хороша с другой стороны) тем что это линейный классификатор: обьекты на классы разделяем гиперплоскостью (прямой если на плоскости), а в данном датасете видимо более сложные, нелинейные связи между признаками и таргетом.   А RF с DT с этим справляются. На других данных  LR могла оказаться лучше, например потому что RF не может экстраполировать. \n",
    "\n",
    "\n",
    "</div>"
   ]
  },
  {
   "cell_type": "markdown",
   "metadata": {},
   "source": [
    "## Проверьте модель на тестовой выборке"
   ]
  },
  {
   "cell_type": "markdown",
   "metadata": {},
   "source": [
    "Опеределим, какой результат покажет выбранная нами модель на тестовой выборке:"
   ]
  },
  {
   "cell_type": "code",
   "execution_count": 15,
   "metadata": {},
   "outputs": [
    {
     "name": "stdout",
     "output_type": "stream",
     "text": [
      "0.7916\n"
     ]
    }
   ],
   "source": [
    "predictions_forest_test = best_model_forest.predict(feature_test)\n",
    "accuracy_forest_test = round(accuracy_score(target_test, predictions_forest_test), 4)\n",
    "print(accuracy_forest_test)"
   ]
  },
  {
   "cell_type": "markdown",
   "metadata": {},
   "source": [
    "\n",
    "<div class=\"alert alert-success\">\n",
    "<font size=\"5\"><b>Комментарий ревьюераV2</b></font>\n",
    "\n",
    "Успех:\n",
    "\n",
    "Если студент получил на тесте accuraсy  выше 0,78, это считается отличным результатом. Тобой подбиралась лучшая комбинация не по одному гиперпараметру и вот он результат!\n",
    "\n",
    "\n",
    "\n",
    "\n",
    "</div>"
   ]
  },
  {
   "cell_type": "markdown",
   "metadata": {},
   "source": [
    "На тестовой выборке модель \"Случайный лес\" показала качество модели выше 0,75."
   ]
  },
  {
   "cell_type": "markdown",
   "metadata": {},
   "source": [
    "\n",
    "<div class=\"alert alert-danger\">\n",
    "<font size=\"5\"><b>Комментарий ревьюера</b></font>\n",
    "\n",
    "К данному этапу мы должны подойти с одной выбранной моделью. Татьяна, о логике использования датасетов:\n",
    "    \n",
    "1. На train мы обучаем\n",
    "2. По валидации смотрим на результаты обучения (следим чтобы не было переобучения и/или делаем подбор гиперпараметров).  И выбираем лучшую модель. \n",
    "3. Тестовая (out-of_sample) у нас для финальной проверки, когда определена модель с конкретными гиперпараметрами. Использование тестовой выборки, чтобы еще раз посмотреть на модели - это нарушение логической цепочки моделирования. \n",
    "\n",
    "А как сделано тобой, может сложиться впечатление что мы на тестовой по прежнему что то выбираем, но выбор сделан, и если лучшая на валидации покажет на test результат хуже требуемого, мы начнем процесс моделирования сначала. \n",
    "    \n",
    " [Вот](https://towardsdatascience.com/why-do-we-need-a-validation-set-in-addition-to-training-and-test-sets-5cf4a65550e0   ) тут можно дополнительно почитать.\n",
    "\n",
    "<div class=\"alert alert-warning\">\n",
    "   \n",
    "Совет: \n",
    "\n",
    "- Как попробовать улучшить результат, не мучаясь с кодом?! Смотри - мы сформировали train выборку на которой обучаем модель, а валидационную используем для поиска лучших значений гиперпараметров. Оке, нашли их. Так почему бы теперь модель с выбранными гиперпараметрами не обучить на тренировочной + валидационной выборке (только не нужно делать новые сплиты, используй pd.concat(), к примеру)?! Чем больше данных, тем лучше модель может обучиться. И эту дообученную модель проверим на тесте. Гаранитий что станет лучше нет, но ML это постоянные эксперименты.\n",
    "</div>\n",
    "\n"
   ]
  },
  {
   "cell_type": "markdown",
   "metadata": {},
   "source": [
    "<div class=\"alert alert-info\">\n",
    "Оставила только модель \"Случайный лес\" \n",
    "</div>"
   ]
  },
  {
   "cell_type": "code",
   "execution_count": 16,
   "metadata": {},
   "outputs": [],
   "source": [
    "# Тренировочные данные\n",
    "feature_train = df_train.drop('is_ultra', axis=1)\n",
    "target_train = df_train['is_ultra']\n",
    "# Валидационные данные\n",
    "feature_valid = df_valid.drop('is_ultra', axis=1)\n",
    "target_valid = df_valid['is_ultra']\n",
    "# Тестовые данные\n",
    "feature_test = df_test.drop('is_ultra', axis=1)\n",
    "target_test = df_test['is_ultra']"
   ]
  },
  {
   "cell_type": "code",
   "execution_count": 17,
   "metadata": {},
   "outputs": [],
   "source": [
    "feature_train_new = pd.concat([feature_train, feature_valid])\n",
    "target_train_new = pd.concat([target_train, target_valid])"
   ]
  },
  {
   "cell_type": "code",
   "execution_count": 18,
   "metadata": {},
   "outputs": [
    {
     "name": "stdout",
     "output_type": "stream",
     "text": [
      "\n",
      "Качество лучшей модели: 0.8834 при глубине дерева 10 и количестве деревьев 7\n"
     ]
    }
   ],
   "source": [
    "# Исследуем модель \"Случайный лес\"\n",
    "best_model_forest = None\n",
    "best_result = 0\n",
    "best_depth = 0\n",
    "best_est = 0\n",
    "rand_forest_res = {}\n",
    "for est in range(1, 11): # количество деревьев\n",
    "    accuracy_forest = []\n",
    "    for depth in range(1, 11): # глубина дерева\n",
    "        forest_model = RandomForestClassifier(random_state=12345, n_estimators=est, max_depth=depth) \n",
    "        forest_model.fit(feature_train_new, target_train_new) # обучите модель\n",
    "        predictions = forest_model.predict(feature_valid) # получите предсказания модели\n",
    "        result = round(accuracy_score(target_valid, predictions), 4) # посчитайте качество модели, округлим до 4-х знаков\n",
    "        accuracy_forest.append(result)\n",
    "        \n",
    "    if result > best_result:\n",
    "        best_model_forest = forest_model\n",
    "        best_result = result\n",
    "        best_depth = depth\n",
    "        best_est = est\n",
    "    \n",
    "    rand_forest_res.update({est : accuracy_forest})\n",
    "\n",
    "data_rand_forest = pd.DataFrame(rand_forest_res)    \n",
    "    \n",
    "print()        \n",
    "print(\"Качество лучшей модели:\", data_rand_forest.max().max(), \"при глубине дерева\", best_depth, \"и количестве деревьев\", best_est)"
   ]
  },
  {
   "cell_type": "code",
   "execution_count": 19,
   "metadata": {},
   "outputs": [
    {
     "name": "stdout",
     "output_type": "stream",
     "text": [
      "0.79\n"
     ]
    }
   ],
   "source": [
    "predictions_forest_test = best_model_forest.predict(feature_test)\n",
    "accuracy_forest_test = round(accuracy_score(target_test, predictions_forest_test), 4)\n",
    "print(accuracy_forest_test)"
   ]
  },
  {
   "cell_type": "markdown",
   "metadata": {},
   "source": [
    "<div class=\"alert alert-info\">\n",
    "Решила попробовать то, что ты предложил и объединила тестовую и валидационную выборки. Обучила модель. Результат обучения стал выше. Проверила на тестовой выборке.  На тренировочном тесте результат не изменился. Но опять же, мой датасет не сбалансированн (это я буду более подробно изучать). Поэтому разницы в результатах практически нет.  Надеюсь, что ты именно это имел ввиду? \n",
    "</div>"
   ]
  },
  {
   "cell_type": "markdown",
   "metadata": {},
   "source": [
    "<div class=\"alert alert-warning\">\n",
    "<font size=\"5\"><b>Комментарий ревьюераV2</b></font>\n",
    "\n",
    "Совет:\n",
    "\n",
    "Не совсем. \n",
    "\n",
    "Берем   best_model_forest (это модель depth = 10 и est = 14)  и дообучаем ее на бОльшем датасете:\n",
    "\n",
    "    \n",
    "    best_model_forest.fit(feature_train_new, target_train_new)\n",
    "\n",
    "    \n",
    "    \n",
    "А ты опять начала поиск гиперпараметров, при этом    с ошибкой \n",
    "</div>\n"
   ]
  },
  {
   "cell_type": "markdown",
   "metadata": {},
   "source": [
    "## (бонус) Проверьте модели на адекватность"
   ]
  },
  {
   "cell_type": "markdown",
   "metadata": {},
   "source": [
    " Сравним результаты модели со случайными предсказаниями используя DummyClassifier:"
   ]
  },
  {
   "cell_type": "code",
   "execution_count": 20,
   "metadata": {},
   "outputs": [
    {
     "data": {
      "text/plain": [
       "0.6924273858921162"
      ]
     },
     "execution_count": 20,
     "metadata": {},
     "output_type": "execute_result"
    }
   ],
   "source": [
    "from sklearn.dummy import DummyClassifier\n",
    "dummy_clf = DummyClassifier(strategy=\"most_frequent\", random_state=0)\n",
    "dummy_clf.fit(feature_train, target_train)\n",
    "dummy_clf.score(feature_train, target_train)"
   ]
  },
  {
   "cell_type": "markdown",
   "metadata": {},
   "source": [
    "Результат модели выше. В целом модель рабочая :)"
   ]
  },
  {
   "cell_type": "markdown",
   "metadata": {},
   "source": [
    "<div class=\"alert alert-success\">\n",
    "<font size=\"5\"><b>Комментарий ревьюераV2</b></font>\n",
    "\n",
    "Успех:\n",
    "\n",
    "👍\n",
    "</div>\n"
   ]
  },
  {
   "cell_type": "markdown",
   "metadata": {},
   "source": [
    "\n",
    "\n",
    "<div class=\"alert alert-warning\">\n",
    "<font size=\"5\"><b>Комментарий ревьюера</b></font>\n",
    "\n",
    "Совет:\n",
    "\n",
    "   \n",
    "\n",
    "В чем смысл проверки модели на адекватность  при дисбалансе? Вот смотри - обучили мы какую то модель, которая на test показывает 90% accuraсy. Шикарная модель скажем мы. А если в датасете у нас в метках таргета единичек 99,9% (допустим тренируем на данных где 1 это \"кирпич упал на голову человеку когда он вышел из дома\"), а нулей 0,1% (\"не упал\")?! Все также утверждаем что наша модель шикарная?! Нет, потому что всегда можно предсказывать что не упадает (единички) и accuracy будет равна 99,9%\n",
    "\n",
    "Вот и тут мы сравниваем нашу обученную модель с примитивным прогнозом самого частого таргета. Какой у нас самый частый класс? Нули. Так посмотри accuracy_score target_test и ряда из одних нулей. Сколько будет?. \n",
    "\n",
    "\n",
    "    \n",
    "    \n",
    "\n",
    "При проверке на адекватность модели, рекомендую ознакомиться с [Dummy Models](https://scikit-learn.org/stable/modules/generated/sklearn.dummy.DummyClassifier.html), это удобная обертка для константных моделей и сделает тоже самое что я описал на словах\n",
    "\n",
    "</div>"
   ]
  },
  {
   "cell_type": "markdown",
   "metadata": {},
   "source": [
    "<div class=\"alert alert-info\">\n",
    "Моя версия проверки модели на адекватность :)\n",
    "</div>"
   ]
  },
  {
   "cell_type": "markdown",
   "metadata": {},
   "source": [
    "## Общий вывод"
   ]
  },
  {
   "cell_type": "markdown",
   "metadata": {},
   "source": [
    "Был изучен файл с данными<br>\n",
    "Исходные данные разделили на три выборки: обучающую, валидационную и тестовую.<br>\n",
    "Исследованы три разных модели: \"Решающее дерево\", \"Случайный лес\" и \"Логистическая регрессия\". Менялись гиперпараметры (глубина и количество деревьев).<br> \n",
    "В итоге лучшей себя показала модель \"Случайного леса\", модель \"Решающее дерево\" с небольшим отрывом на втором месте и самый низкий результат у модели \"Логистическая регрессия\".<br> \n",
    "В модели \"Случайный лес\" увеличение количества деревьев слегка повысило долю верных ответов, но замедлило скорость выполнения. При увеличении глубины дерева резко упало качество модели. Был определен оптимальный порог для глубины и количества деревьев, при котором качество модели было максимальным. <br>\n",
    "У модели \"Решающее дерево\" был найден оптимальный гиперпараметр глубины дерева (от 0 до 10), при котором качество модели было максимальным. \n",
    "Проверили качество моделей на тестовой выборке. С небольшим отрывом лучшая модель \"Случайный лес\". "
   ]
  },
  {
   "cell_type": "markdown",
   "metadata": {},
   "source": [
    "<div class=\"alert alert-success\">\n",
    "<font size=\"5\"><b>Комментарий ревьюера</b></font>\n",
    "\n",
    "Успех:\n",
    "\n",
    "\n",
    "Татьяна, здорово что в конце расписала все этапы работы. Это важно потому что когда проект захочет посмотреть будущий работодатель (или начальник), у него может не быть времени на подробный разбор кода. Вероятнее всего он бегло просмотрит код, а из общего вывода захочет получить представление о всей работе.\n",
    "\n",
    "\n",
    "\n",
    "</div>\n"
   ]
  },
  {
   "cell_type": "markdown",
   "metadata": {},
   "source": [
    "## Чек-лист готовности проекта"
   ]
  },
  {
   "cell_type": "markdown",
   "metadata": {},
   "source": [
    "\n",
    "<div class=\"alert alert-info\">\n",
    "<font size=\"5\"><b>Комментарий ревьюера</b></font>\n",
    "\n",
    "\n",
    "Татьяна, ты старательно выполнила работу, все четко, осмысленно. Выводы присутствуют. С комментированием кода тоже никаких проблем нет, твоих объяснений достаточно для понимания коллегами хода твоих мыслей. \n",
    "\n",
    "Я оставил небольшие советы и вопросики (если есть время и желание можешь воспользоваться/ответить): \n",
    "\n",
    "- обрати внимание на проверку сбалансированность классов в таргете в разделе EDA\n",
    "- использовать stratify\n",
    "- добавить график метрики    \n",
    "- посоветовал посмотреть в сторону GridSearchCV\n",
    "- как можно улучшить результаты \n",
    "\n",
    "\n",
    "Обязательное к исправлению:\n",
    "\n",
    "\n",
    "- к моменту проверки качества прогноза на тесте, приходим с уже одной выбранной моделью с лучшими гиперпараметрами выбранными на валидации\n",
    "\n",
    "\n",
    "Жду исправлений, для принятия проекта. Если какие то вопросы, то сразу спрашивай ) \n",
    "\n",
    "\n",
    "</div>\n",
    "\n",
    "\n",
    "\n",
    "\n"
   ]
  },
  {
   "cell_type": "markdown",
   "metadata": {},
   "source": [
    "<div class=\"alert alert-info\">\n",
    "Марат спасибо за все твои комментарии и пояснения к работе! Постаралась учесть и что-то исправить. Это моя первая работа такого плана, много надо узнать и многому научится. Буду стараться!\n",
    "</div>"
   ]
  },
  {
   "cell_type": "markdown",
   "metadata": {},
   "source": [
    "\n",
    "<div class=\"alert alert-info\">\n",
    "<font size=\"5\"><b>Комментарий ревьюераV2</b></font>\n",
    "\n",
    "\n",
    "\n",
    "    \n",
    "Красное исправлено, многие желтые советы использованы, значит стремишься развиваться, а желание и интерес это главное. Надеюсь мои советы и вопросики были полезны и ты узнала что то новое, а проект стал лучше, и симпатичней.\n",
    "\n",
    "\n",
    "\n",
    "Отличная работа Татьяна. Желаю успехов в дальнейшей учебе!\n",
    "\n",
    "\n",
    "\n",
    "\n",
    "    \n",
    "</div>"
   ]
  },
  {
   "cell_type": "markdown",
   "metadata": {},
   "source": [
    "Поставьте 'x' в выполненных пунктах. Далее нажмите Shift+Enter."
   ]
  },
  {
   "cell_type": "markdown",
   "metadata": {},
   "source": [
    "- [x] Jupyter Notebook открыт\n",
    "- [х] Весь код исполняется без ошибок\n",
    "- [х] Ячейки с кодом расположены в порядке исполнения\n",
    "- [х] Выполнено задание 1: данные загружены и изучены\n",
    "- [х] Выполнено задание 2: данные разбиты на три выборки\n",
    "- [х] Выполнено задание 3: проведено исследование моделей\n",
    "    - [х] Рассмотрено больше одной модели\n",
    "    - [х] Рассмотрено хотя бы 3 значения гипепараметров для какой-нибудь модели\n",
    "    - [х] Написаны выводы по результатам исследования\n",
    "- [х] Выполнено задание 3: Проведено тестирование\n",
    "- [х] Удалось достичь accuracy не меньше 0.75\n"
   ]
  }
 ],
 "metadata": {
  "ExecuteTimeLog": [
   {
    "duration": 1083,
    "start_time": "2022-09-06T04:52:49.961Z"
   },
   {
    "duration": 159,
    "start_time": "2022-09-06T04:52:51.046Z"
   },
   {
    "duration": 0,
    "start_time": "2022-09-06T04:52:51.208Z"
   },
   {
    "duration": 0,
    "start_time": "2022-09-06T04:52:51.209Z"
   },
   {
    "duration": 0,
    "start_time": "2022-09-06T04:52:51.211Z"
   },
   {
    "duration": 0,
    "start_time": "2022-09-06T04:52:51.213Z"
   },
   {
    "duration": 0,
    "start_time": "2022-09-06T04:52:51.214Z"
   },
   {
    "duration": 0,
    "start_time": "2022-09-06T04:52:51.215Z"
   },
   {
    "duration": 0,
    "start_time": "2022-09-06T04:52:51.217Z"
   },
   {
    "duration": 0,
    "start_time": "2022-09-06T04:52:51.218Z"
   },
   {
    "duration": 0,
    "start_time": "2022-09-06T04:52:51.219Z"
   },
   {
    "duration": 0,
    "start_time": "2022-09-06T04:52:51.220Z"
   },
   {
    "duration": 0,
    "start_time": "2022-09-06T04:52:51.221Z"
   },
   {
    "duration": 0,
    "start_time": "2022-09-06T04:52:51.222Z"
   },
   {
    "duration": 0,
    "start_time": "2022-09-06T04:52:51.224Z"
   },
   {
    "duration": 0,
    "start_time": "2022-09-06T04:52:51.225Z"
   },
   {
    "duration": 0,
    "start_time": "2022-09-06T04:52:51.227Z"
   },
   {
    "duration": 0,
    "start_time": "2022-09-06T04:52:51.258Z"
   },
   {
    "duration": 0,
    "start_time": "2022-09-06T04:52:51.259Z"
   },
   {
    "duration": 1117,
    "start_time": "2022-09-06T04:54:15.850Z"
   },
   {
    "duration": 142,
    "start_time": "2022-09-06T04:54:16.970Z"
   },
   {
    "duration": 21,
    "start_time": "2022-09-06T04:54:17.114Z"
   },
   {
    "duration": 16,
    "start_time": "2022-09-06T04:54:17.138Z"
   },
   {
    "duration": 8,
    "start_time": "2022-09-06T04:54:17.155Z"
   },
   {
    "duration": 7,
    "start_time": "2022-09-06T04:54:17.165Z"
   },
   {
    "duration": 9,
    "start_time": "2022-09-06T04:54:17.174Z"
   },
   {
    "duration": 97,
    "start_time": "2022-09-06T04:54:17.185Z"
   },
   {
    "duration": 31,
    "start_time": "2022-09-06T04:54:17.283Z"
   },
   {
    "duration": 120,
    "start_time": "2022-09-06T04:54:17.316Z"
   },
   {
    "duration": 1735,
    "start_time": "2022-09-06T04:54:17.438Z"
   },
   {
    "duration": 1638,
    "start_time": "2022-09-06T04:54:19.176Z"
   },
   {
    "duration": 10677,
    "start_time": "2022-09-06T04:54:20.816Z"
   },
   {
    "duration": 19794,
    "start_time": "2022-09-06T04:54:31.495Z"
   },
   {
    "duration": 3114,
    "start_time": "2022-09-06T04:54:51.291Z"
   },
   {
    "duration": 1463,
    "start_time": "2022-09-06T04:54:54.407Z"
   },
   {
    "duration": 25,
    "start_time": "2022-09-06T04:54:55.872Z"
   },
   {
    "duration": 9,
    "start_time": "2022-09-06T04:54:55.899Z"
   },
   {
    "duration": 32,
    "start_time": "2022-09-06T04:54:55.909Z"
   },
   {
    "duration": 1387,
    "start_time": "2022-09-06T05:22:57.131Z"
   },
   {
    "duration": 137,
    "start_time": "2022-09-06T05:22:58.520Z"
   },
   {
    "duration": 15,
    "start_time": "2022-09-06T05:22:58.658Z"
   },
   {
    "duration": 10,
    "start_time": "2022-09-06T05:22:58.675Z"
   },
   {
    "duration": 7,
    "start_time": "2022-09-06T05:22:58.686Z"
   },
   {
    "duration": 4,
    "start_time": "2022-09-06T05:22:58.695Z"
   },
   {
    "duration": 7,
    "start_time": "2022-09-06T05:22:58.700Z"
   },
   {
    "duration": 73,
    "start_time": "2022-09-06T05:22:58.709Z"
   },
   {
    "duration": 27,
    "start_time": "2022-09-06T05:22:58.784Z"
   },
   {
    "duration": 134,
    "start_time": "2022-09-06T05:22:58.813Z"
   },
   {
    "duration": 1571,
    "start_time": "2022-09-06T05:22:58.948Z"
   },
   {
    "duration": 1470,
    "start_time": "2022-09-06T05:23:00.521Z"
   },
   {
    "duration": 10451,
    "start_time": "2022-09-06T05:23:01.992Z"
   },
   {
    "duration": 18507,
    "start_time": "2022-09-06T05:23:12.445Z"
   },
   {
    "duration": 2984,
    "start_time": "2022-09-06T05:23:30.954Z"
   },
   {
    "duration": 1346,
    "start_time": "2022-09-06T05:23:33.940Z"
   },
   {
    "duration": 24,
    "start_time": "2022-09-06T05:23:35.287Z"
   },
   {
    "duration": 7,
    "start_time": "2022-09-06T05:23:35.313Z"
   },
   {
    "duration": 27,
    "start_time": "2022-09-06T05:23:35.322Z"
   },
   {
    "duration": 1546,
    "start_time": "2022-09-07T04:22:16.227Z"
   },
   {
    "duration": 142,
    "start_time": "2022-09-07T04:22:17.775Z"
   },
   {
    "duration": 13,
    "start_time": "2022-09-07T04:22:17.919Z"
   },
   {
    "duration": 13,
    "start_time": "2022-09-07T04:22:17.935Z"
   },
   {
    "duration": 9,
    "start_time": "2022-09-07T04:22:17.950Z"
   },
   {
    "duration": 5,
    "start_time": "2022-09-07T04:22:17.961Z"
   },
   {
    "duration": 7,
    "start_time": "2022-09-07T04:22:17.968Z"
   },
   {
    "duration": 300,
    "start_time": "2022-09-07T04:22:17.977Z"
   },
   {
    "duration": 176,
    "start_time": "2022-09-07T04:22:18.278Z"
   },
   {
    "duration": 1846,
    "start_time": "2022-09-07T04:22:18.457Z"
   },
   {
    "duration": 16,
    "start_time": "2022-09-07T04:22:20.304Z"
   },
   {
    "duration": 270,
    "start_time": "2022-09-07T04:22:20.322Z"
   },
   {
    "duration": 2180,
    "start_time": "2022-09-07T04:22:20.594Z"
   },
   {
    "duration": 33,
    "start_time": "2022-09-07T04:22:22.775Z"
   },
   {
    "duration": 10,
    "start_time": "2022-09-07T04:22:22.810Z"
   },
   {
    "duration": 5,
    "start_time": "2022-09-07T04:22:22.822Z"
   },
   {
    "duration": 10,
    "start_time": "2022-09-07T04:22:22.829Z"
   },
   {
    "duration": 2036,
    "start_time": "2022-09-07T04:22:22.840Z"
   },
   {
    "duration": 9,
    "start_time": "2022-09-07T04:22:24.878Z"
   },
   {
    "duration": 18,
    "start_time": "2022-09-07T04:22:24.888Z"
   },
   {
    "duration": 1687,
    "start_time": "2022-09-07T05:17:15.806Z"
   },
   {
    "duration": 138,
    "start_time": "2022-09-07T05:17:17.495Z"
   },
   {
    "duration": 14,
    "start_time": "2022-09-07T05:17:17.635Z"
   },
   {
    "duration": 24,
    "start_time": "2022-09-07T05:17:17.650Z"
   },
   {
    "duration": 24,
    "start_time": "2022-09-07T05:17:17.676Z"
   },
   {
    "duration": 20,
    "start_time": "2022-09-07T05:17:17.702Z"
   },
   {
    "duration": 30,
    "start_time": "2022-09-07T05:17:17.724Z"
   },
   {
    "duration": 272,
    "start_time": "2022-09-07T05:17:17.756Z"
   },
   {
    "duration": 147,
    "start_time": "2022-09-07T05:17:18.029Z"
   },
   {
    "duration": 1606,
    "start_time": "2022-09-07T05:17:18.178Z"
   },
   {
    "duration": 13,
    "start_time": "2022-09-07T05:17:19.786Z"
   },
   {
    "duration": 220,
    "start_time": "2022-09-07T05:17:19.800Z"
   },
   {
    "duration": 1877,
    "start_time": "2022-09-07T05:17:20.022Z"
   },
   {
    "duration": 22,
    "start_time": "2022-09-07T05:17:21.901Z"
   },
   {
    "duration": 12,
    "start_time": "2022-09-07T05:17:21.925Z"
   },
   {
    "duration": 35,
    "start_time": "2022-09-07T05:17:21.939Z"
   },
   {
    "duration": 31,
    "start_time": "2022-09-07T05:17:21.976Z"
   },
   {
    "duration": 1782,
    "start_time": "2022-09-07T05:17:22.009Z"
   },
   {
    "duration": 7,
    "start_time": "2022-09-07T05:17:23.793Z"
   },
   {
    "duration": 11,
    "start_time": "2022-09-07T05:17:23.802Z"
   }
  ],
  "kernelspec": {
   "display_name": "Python 3 (ipykernel)",
   "language": "python",
   "name": "python3"
  },
  "language_info": {
   "codemirror_mode": {
    "name": "ipython",
    "version": 3
   },
   "file_extension": ".py",
   "mimetype": "text/x-python",
   "name": "python",
   "nbconvert_exporter": "python",
   "pygments_lexer": "ipython3",
   "version": "3.9.5"
  },
  "toc": {
   "base_numbering": 1,
   "nav_menu": {},
   "number_sections": true,
   "sideBar": true,
   "skip_h1_title": true,
   "title_cell": "Table of Contents",
   "title_sidebar": "Contents",
   "toc_cell": false,
   "toc_position": {},
   "toc_section_display": true,
   "toc_window_display": false
  }
 },
 "nbformat": 4,
 "nbformat_minor": 2
}
